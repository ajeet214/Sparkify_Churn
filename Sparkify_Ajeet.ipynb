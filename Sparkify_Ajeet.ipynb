{
 "cells": [
  {
   "cell_type": "markdown",
   "metadata": {
    "pycharm": {
     "name": "#%% md\n"
    }
   },
   "source": [
    "## Capstone Project \n",
    "# Sparkify Churn Prediction: \n",
    "### by Ajeet Kumar Verma    \n",
    "\n",
    "\n",
    "\n",
    "<div>\n",
    "<img src=\"sparkify.jpeg\" width=\"400\"/>\n",
    "</div>\n",
    "\n",
    "## Contents\n",
    "* [Project Overview](#int)\n",
    "* [Problem Statement](#prob)\n",
    "* [Load and Clean Dataset](#load)\n",
    "* [Exploratory Data Analysis](#eda)\n",
    "* [Feature Engineering](#eng)\n",
    "* [Modeling](#model)\n",
    "* [Conclusions](#con)\n",
    "\n",
    "## Project Overview\n",
    "<a class=\"anchor\" id=\"int\"></a>\n",
    "\n",
    "This is one of the parts of the capstone project in Udacity's data science Nanodgeree program. There is a virtual start-up company named Sparkify(similar to Spotify) that offers music streaming services to users in the USA. Many users stream their favorite songs every day either using the basic free tier that places advertisements between the songs or the premium subscription model, where they stream the music for free but pay a monthly flat rate. Users can upgrade, downgrade, or cancel their service at any time. So, it is crucial to make sure the users love the service. Every time a user interacts with the service such as playing songs, logging out, liking a song with a thumps-up, hearing an Ad, or downgrading their service, it generates data. All this data contains key insides for keeping the users happy and helping Sparkify’s business thrive. It is our job on the data team to predict which users are at risk to churn either downgrading from premium to free tier or canceling their service altogether. If we can accurately identify these users before they leave, Sparkify can offer them discounts and incentives, potentially saving the business millions in revenue.\n",
    "\n",
    "Sparkify keeps a Log file with 18 fields for every user interaction (e.g., userId, name of the song played, length of a song played, name of artist). Soon, the log file data volume exceeded the available memory space on standard desktop computers, and the company opted for using the distributed file system Apache Spark™. Udacity™ provides the full dataset with 12GB on AWS™ S3, and you can run a Spark cluster on the cloud using AWS or IBM™ Cloud to analyse the large amount of data.\n"
   ]
  },
  {
   "cell_type": "markdown",
   "metadata": {},
   "source": [
    "## Problem Statement\n",
    "<a class=\"anchor\" id=\"prob\"></a>\n",
    "The problem is to create a machine learning solution that can predict the user's intent to unsubscribe (Called customers' churn) before it happens in order to minimize the churn rate and provide better customer services."
   ]
  },
  {
   "cell_type": "markdown",
   "metadata": {
    "pycharm": {
     "name": "#%% md\n"
    }
   },
   "source": [
    "Import the required libraries."
   ]
  },
  {
   "cell_type": "code",
   "execution_count": 1,
   "metadata": {
    "pycharm": {
     "name": "#%%\n"
    }
   },
   "outputs": [],
   "source": [
    "# import pyspark libraries and its APIs\n",
    "import pyspark\n",
    "from pyspark import SparkConf\n",
    "from pyspark.sql import SparkSession, Row\n",
    "from pyspark.sql.types import StringType, IntegerType\n",
    "from pyspark.sql.functions import isnan, count, when, col, desc, udf, col, sort_array, asc, avg\n",
    "from pyspark.sql.functions import sum as Fsum\n",
    "from pyspark.sql.window import Window\n",
    "from pyspark.sql import functions as F\n",
    "from pyspark.sql.functions import *\n",
    "\n",
    "# import pyspark ML APIs\n",
    "from pyspark.ml import Pipeline\n",
    "from pyspark.ml.feature import CountVectorizer, IDF, PCA, RegexTokenizer, VectorAssembler, Normalizer, StandardScaler\n",
    "from pyspark.ml.classification import LogisticRegression, RandomForestClassifier, GBTClassifier, LinearSVC, NaiveBayes\n",
    "from pyspark.ml.regression import LinearRegression\n",
    "from pyspark.ml.tuning import CrossValidator, ParamGridBuilder\n",
    "from pyspark.ml.evaluation import MulticlassClassificationEvaluator\n",
    "\n",
    "# import other libraries\n",
    "import re\n",
    "import datetime\n",
    "import time\n",
    "from collections import Counter\n",
    "import pandas as pd\n",
    "import numpy as np\n",
    "import matplotlib.pyplot as plt\n",
    "import seaborn as sns\n",
    "\n",
    "%matplotlib inline\n",
    "sns.set()"
   ]
  },
  {
   "cell_type": "markdown",
   "metadata": {
    "pycharm": {
     "name": "#%% md\n"
    }
   },
   "source": [
    "Create Spark Session."
   ]
  },
  {
   "cell_type": "code",
   "execution_count": 2,
   "metadata": {
    "pycharm": {
     "name": "#%%\n"
    }
   },
   "outputs": [],
   "source": [
    "# create a entry point Spark session\n",
    "spark = SparkSession.builder.master(\"local\").appName(\"Sparkify Capstone Project\").getOrCreate()"
   ]
  },
  {
   "cell_type": "code",
   "execution_count": 3,
   "metadata": {},
   "outputs": [
    {
     "data": {
      "text/html": [
       "\n",
       "            <div>\n",
       "                <p><b>SparkSession - in-memory</b></p>\n",
       "                \n",
       "        <div>\n",
       "            <p><b>SparkContext</b></p>\n",
       "\n",
       "            <p><a href=\"http://9d78db897f28:4040\">Spark UI</a></p>\n",
       "\n",
       "            <dl>\n",
       "              <dt>Version</dt>\n",
       "                <dd><code>v2.4.3</code></dd>\n",
       "              <dt>Master</dt>\n",
       "                <dd><code>local</code></dd>\n",
       "              <dt>AppName</dt>\n",
       "                <dd><code>Sparkify Capstone Project</code></dd>\n",
       "            </dl>\n",
       "        </div>\n",
       "        \n",
       "            </div>\n",
       "        "
      ],
      "text/plain": [
       "<pyspark.sql.session.SparkSession at 0x7f9e4c322358>"
      ]
     },
     "execution_count": 3,
     "metadata": {},
     "output_type": "execute_result"
    }
   ],
   "source": [
    "spark"
   ]
  },
  {
   "cell_type": "code",
   "execution_count": 4,
   "metadata": {
    "pycharm": {
     "name": "#%%\n"
    }
   },
   "outputs": [
    {
     "data": {
      "text/plain": [
       "[('spark.master', 'local'),\n",
       " ('spark.app.name', 'Sparkify Capstone Project'),\n",
       " ('spark.rdd.compress', 'True'),\n",
       " ('spark.serializer.objectStreamReset', '100'),\n",
       " ('spark.executor.id', 'driver'),\n",
       " ('spark.submit.deployMode', 'client'),\n",
       " ('spark.ui.showConsoleProgress', 'true'),\n",
       " ('spark.driver.port', '40995'),\n",
       " ('spark.app.id', 'local-1668671076295'),\n",
       " ('spark.driver.host', '9d78db897f28')]"
      ]
     },
     "execution_count": 4,
     "metadata": {},
     "output_type": "execute_result"
    }
   ],
   "source": [
    "spark.sparkContext.getConf().getAll()"
   ]
  },
  {
   "cell_type": "markdown",
   "metadata": {
    "pycharm": {
     "name": "#%% md\n"
    }
   },
   "source": [
    "## Load and Clean Dataset\n",
    "<a class=\"anchor\" id=\"load\"></a>\n",
    "The provided mini-dataset file is `mini_sparkify_event_data.json`. First we need to load the dataset and clean it (check for invalid or missing data - for example, records with missing userids and/or sessionids. ) for further use."
   ]
  },
  {
   "cell_type": "code",
   "execution_count": 5,
   "metadata": {
    "pycharm": {
     "name": "#%%\n"
    }
   },
   "outputs": [],
   "source": [
    "# loading the dataset\n",
    "df = spark.read.json(\"mini_sparkify_event_data.json\")"
   ]
  },
  {
   "cell_type": "code",
   "execution_count": 6,
   "metadata": {},
   "outputs": [
    {
     "data": {
      "text/plain": [
       "Row(artist='Martha Tilston', auth='Logged In', firstName='Colin', gender='M', itemInSession=50, lastName='Freeman', length=277.89016, level='paid', location='Bakersfield, CA', method='PUT', page='NextSong', registration=1538173362000, sessionId=29, song='Rockpools', status=200, ts=1538352117000, userAgent='Mozilla/5.0 (Windows NT 6.1; WOW64; rv:31.0) Gecko/20100101 Firefox/31.0', userId='30')"
      ]
     },
     "execution_count": 6,
     "metadata": {},
     "output_type": "execute_result"
    }
   ],
   "source": [
    "df.head()"
   ]
  },
  {
   "cell_type": "code",
   "execution_count": 7,
   "metadata": {},
   "outputs": [
    {
     "data": {
      "text/plain": [
       "[Row(artist='Martha Tilston', auth='Logged In', firstName='Colin', gender='M', itemInSession=50, lastName='Freeman', length=277.89016, level='paid', location='Bakersfield, CA', method='PUT', page='NextSong', registration=1538173362000, sessionId=29, song='Rockpools', status=200, ts=1538352117000, userAgent='Mozilla/5.0 (Windows NT 6.1; WOW64; rv:31.0) Gecko/20100101 Firefox/31.0', userId='30'),\n",
       " Row(artist='Five Iron Frenzy', auth='Logged In', firstName='Micah', gender='M', itemInSession=79, lastName='Long', length=236.09424, level='free', location='Boston-Cambridge-Newton, MA-NH', method='PUT', page='NextSong', registration=1538331630000, sessionId=8, song='Canada', status=200, ts=1538352180000, userAgent='\"Mozilla/5.0 (Windows NT 6.1; WOW64) AppleWebKit/537.36 (KHTML, like Gecko) Chrome/37.0.2062.103 Safari/537.36\"', userId='9'),\n",
       " Row(artist='Adam Lambert', auth='Logged In', firstName='Colin', gender='M', itemInSession=51, lastName='Freeman', length=282.8273, level='paid', location='Bakersfield, CA', method='PUT', page='NextSong', registration=1538173362000, sessionId=29, song='Time For Miracles', status=200, ts=1538352394000, userAgent='Mozilla/5.0 (Windows NT 6.1; WOW64; rv:31.0) Gecko/20100101 Firefox/31.0', userId='30')]"
      ]
     },
     "execution_count": 7,
     "metadata": {},
     "output_type": "execute_result"
    }
   ],
   "source": [
    "df.take(3)"
   ]
  },
  {
   "cell_type": "code",
   "execution_count": 8,
   "metadata": {
    "pycharm": {
     "name": "#%%\n"
    }
   },
   "outputs": [
    {
     "name": "stdout",
     "output_type": "stream",
     "text": [
      "root\n",
      " |-- artist: string (nullable = true)\n",
      " |-- auth: string (nullable = true)\n",
      " |-- firstName: string (nullable = true)\n",
      " |-- gender: string (nullable = true)\n",
      " |-- itemInSession: long (nullable = true)\n",
      " |-- lastName: string (nullable = true)\n",
      " |-- length: double (nullable = true)\n",
      " |-- level: string (nullable = true)\n",
      " |-- location: string (nullable = true)\n",
      " |-- method: string (nullable = true)\n",
      " |-- page: string (nullable = true)\n",
      " |-- registration: long (nullable = true)\n",
      " |-- sessionId: long (nullable = true)\n",
      " |-- song: string (nullable = true)\n",
      " |-- status: long (nullable = true)\n",
      " |-- ts: long (nullable = true)\n",
      " |-- userAgent: string (nullable = true)\n",
      " |-- userId: string (nullable = true)\n",
      "\n"
     ]
    }
   ],
   "source": [
    "# print the schema\n",
    "df.printSchema()"
   ]
  },
  {
   "cell_type": "code",
   "execution_count": 9,
   "metadata": {
    "pycharm": {
     "name": "#%%\n"
    }
   },
   "outputs": [
    {
     "name": "stdout",
     "output_type": "stream",
     "text": [
      "+-------+------------------+----------+---------+------+------------------+--------+-----------------+------+-----------------+------+-------+--------------------+-----------------+--------------------+------------------+--------------------+--------------------+-----------------+\n",
      "|summary|            artist|      auth|firstName|gender|     itemInSession|lastName|           length| level|         location|method|   page|        registration|        sessionId|                song|            status|                  ts|           userAgent|           userId|\n",
      "+-------+------------------+----------+---------+------+------------------+--------+-----------------+------+-----------------+------+-------+--------------------+-----------------+--------------------+------------------+--------------------+--------------------+-----------------+\n",
      "|  count|            228108|    286500|   278154|278154|            286500|  278154|           228108|286500|           278154|286500| 286500|              278154|           286500|              228108|            286500|              286500|              278154|           286500|\n",
      "|   mean| 551.0852017937219|      null|     null|  null|114.41421291448516|    null|249.1171819778458|  null|             null|  null|   null|1.535358834084427...|1041.526554973822|            Infinity|210.05459685863875|1.540956889810483...|                null|59682.02278593872|\n",
      "| stddev|1217.7693079161374|      null|     null|  null|129.76726201140994|    null|99.23517921058361|  null|             null|  null|   null| 3.291321616327586E9|726.7762634630741|                 NaN| 31.50507848842214|1.5075439608226302E9|                null|109091.9499991047|\n",
      "|    min|               !!!| Cancelled| Adelaida|     F|                 0|   Adams|          0.78322|  free|       Albany, OR|   GET|  About|       1521380675000|                1|\u001c",
      "ÃÂg ÃÂtti Gr...|               200|       1538352117000|\"Mozilla/5.0 (Mac...|                 |\n",
      "|    max| ÃÂlafur Arnalds|Logged Out|   Zyonna|     M|              1321|  Wright|       3024.66567|  paid|Winston-Salem, NC|   PUT|Upgrade|       1543247354000|             2474|ÃÂau hafa slopp...|               404|       1543799476000|Mozilla/5.0 (comp...|               99|\n",
      "+-------+------------------+----------+---------+------+------------------+--------+-----------------+------+-----------------+------+-------+--------------------+-----------------+--------------------+------------------+--------------------+--------------------+-----------------+\n",
      "\n"
     ]
    }
   ],
   "source": [
    "df.describe().show()"
   ]
  },
  {
   "cell_type": "code",
   "execution_count": 10,
   "metadata": {
    "pycharm": {
     "name": "#%%\n"
    }
   },
   "outputs": [
    {
     "data": {
      "text/plain": [
       "286500"
      ]
     },
     "execution_count": 10,
     "metadata": {},
     "output_type": "execute_result"
    }
   ],
   "source": [
    "# get the count of the dataset\n",
    "df.count()"
   ]
  },
  {
   "cell_type": "code",
   "execution_count": 11,
   "metadata": {
    "pycharm": {
     "name": "#%% md\n"
    }
   },
   "outputs": [
    {
     "name": "stdout",
     "output_type": "stream",
     "text": [
      "+-------+------------------+\n",
      "|summary|            artist|\n",
      "+-------+------------------+\n",
      "|  count|            228108|\n",
      "|   mean| 551.0852017937219|\n",
      "| stddev|1217.7693079161374|\n",
      "|    min|               !!!|\n",
      "|    max| ÃÂlafur Arnalds|\n",
      "+-------+------------------+\n",
      "\n"
     ]
    }
   ],
   "source": [
    "# stats for the column \"artist\"\n",
    "df.describe(\"artist\").show()"
   ]
  },
  {
   "cell_type": "code",
   "execution_count": 12,
   "metadata": {},
   "outputs": [
    {
     "name": "stdout",
     "output_type": "stream",
     "text": [
      "+-------+-----------------+\n",
      "|summary|        sessionId|\n",
      "+-------+-----------------+\n",
      "|  count|           286500|\n",
      "|   mean|1041.526554973822|\n",
      "| stddev|726.7762634630741|\n",
      "|    min|                1|\n",
      "|    max|             2474|\n",
      "+-------+-----------------+\n",
      "\n"
     ]
    }
   ],
   "source": [
    "# stats of the column \"sessionId\"\n",
    "df.describe(\"sessionId\").show()"
   ]
  },
  {
   "cell_type": "code",
   "execution_count": 13,
   "metadata": {},
   "outputs": [
    {
     "data": {
      "text/plain": [
       "['artist',\n",
       " 'auth',\n",
       " 'firstName',\n",
       " 'gender',\n",
       " 'itemInSession',\n",
       " 'lastName',\n",
       " 'length',\n",
       " 'level',\n",
       " 'location',\n",
       " 'method',\n",
       " 'page',\n",
       " 'registration',\n",
       " 'sessionId',\n",
       " 'song',\n",
       " 'status',\n",
       " 'ts',\n",
       " 'userAgent',\n",
       " 'userId']"
      ]
     },
     "execution_count": 13,
     "metadata": {},
     "output_type": "execute_result"
    }
   ],
   "source": [
    "# columns in the dataset\n",
    "df.columns"
   ]
  },
  {
   "cell_type": "code",
   "execution_count": 14,
   "metadata": {},
   "outputs": [
    {
     "data": {
      "text/html": [
       "<div>\n",
       "<style scoped>\n",
       "    .dataframe tbody tr th:only-of-type {\n",
       "        vertical-align: middle;\n",
       "    }\n",
       "\n",
       "    .dataframe tbody tr th {\n",
       "        vertical-align: top;\n",
       "    }\n",
       "\n",
       "    .dataframe thead th {\n",
       "        text-align: right;\n",
       "    }\n",
       "</style>\n",
       "<table border=\"1\" class=\"dataframe\">\n",
       "  <thead>\n",
       "    <tr style=\"text-align: right;\">\n",
       "      <th></th>\n",
       "      <th>artist</th>\n",
       "      <th>auth</th>\n",
       "      <th>firstName</th>\n",
       "      <th>gender</th>\n",
       "      <th>itemInSession</th>\n",
       "      <th>lastName</th>\n",
       "      <th>length</th>\n",
       "      <th>level</th>\n",
       "      <th>location</th>\n",
       "      <th>method</th>\n",
       "      <th>page</th>\n",
       "      <th>registration</th>\n",
       "      <th>sessionId</th>\n",
       "      <th>song</th>\n",
       "      <th>status</th>\n",
       "      <th>ts</th>\n",
       "      <th>userAgent</th>\n",
       "      <th>userId</th>\n",
       "    </tr>\n",
       "  </thead>\n",
       "  <tbody>\n",
       "    <tr>\n",
       "      <th>0</th>\n",
       "      <td>Martha Tilston</td>\n",
       "      <td>Logged In</td>\n",
       "      <td>Colin</td>\n",
       "      <td>M</td>\n",
       "      <td>50</td>\n",
       "      <td>Freeman</td>\n",
       "      <td>277.89016</td>\n",
       "      <td>paid</td>\n",
       "      <td>Bakersfield, CA</td>\n",
       "      <td>PUT</td>\n",
       "      <td>NextSong</td>\n",
       "      <td>1.538173e+12</td>\n",
       "      <td>29</td>\n",
       "      <td>Rockpools</td>\n",
       "      <td>200</td>\n",
       "      <td>1538352117000</td>\n",
       "      <td>Mozilla/5.0 (Windows NT 6.1; WOW64; rv:31.0) G...</td>\n",
       "      <td>30</td>\n",
       "    </tr>\n",
       "    <tr>\n",
       "      <th>1</th>\n",
       "      <td>Five Iron Frenzy</td>\n",
       "      <td>Logged In</td>\n",
       "      <td>Micah</td>\n",
       "      <td>M</td>\n",
       "      <td>79</td>\n",
       "      <td>Long</td>\n",
       "      <td>236.09424</td>\n",
       "      <td>free</td>\n",
       "      <td>Boston-Cambridge-Newton, MA-NH</td>\n",
       "      <td>PUT</td>\n",
       "      <td>NextSong</td>\n",
       "      <td>1.538332e+12</td>\n",
       "      <td>8</td>\n",
       "      <td>Canada</td>\n",
       "      <td>200</td>\n",
       "      <td>1538352180000</td>\n",
       "      <td>\"Mozilla/5.0 (Windows NT 6.1; WOW64) AppleWebK...</td>\n",
       "      <td>9</td>\n",
       "    </tr>\n",
       "    <tr>\n",
       "      <th>2</th>\n",
       "      <td>Adam Lambert</td>\n",
       "      <td>Logged In</td>\n",
       "      <td>Colin</td>\n",
       "      <td>M</td>\n",
       "      <td>51</td>\n",
       "      <td>Freeman</td>\n",
       "      <td>282.82730</td>\n",
       "      <td>paid</td>\n",
       "      <td>Bakersfield, CA</td>\n",
       "      <td>PUT</td>\n",
       "      <td>NextSong</td>\n",
       "      <td>1.538173e+12</td>\n",
       "      <td>29</td>\n",
       "      <td>Time For Miracles</td>\n",
       "      <td>200</td>\n",
       "      <td>1538352394000</td>\n",
       "      <td>Mozilla/5.0 (Windows NT 6.1; WOW64; rv:31.0) G...</td>\n",
       "      <td>30</td>\n",
       "    </tr>\n",
       "    <tr>\n",
       "      <th>3</th>\n",
       "      <td>Enigma</td>\n",
       "      <td>Logged In</td>\n",
       "      <td>Micah</td>\n",
       "      <td>M</td>\n",
       "      <td>80</td>\n",
       "      <td>Long</td>\n",
       "      <td>262.71302</td>\n",
       "      <td>free</td>\n",
       "      <td>Boston-Cambridge-Newton, MA-NH</td>\n",
       "      <td>PUT</td>\n",
       "      <td>NextSong</td>\n",
       "      <td>1.538332e+12</td>\n",
       "      <td>8</td>\n",
       "      <td>Knocking On Forbidden Doors</td>\n",
       "      <td>200</td>\n",
       "      <td>1538352416000</td>\n",
       "      <td>\"Mozilla/5.0 (Windows NT 6.1; WOW64) AppleWebK...</td>\n",
       "      <td>9</td>\n",
       "    </tr>\n",
       "    <tr>\n",
       "      <th>4</th>\n",
       "      <td>Daft Punk</td>\n",
       "      <td>Logged In</td>\n",
       "      <td>Colin</td>\n",
       "      <td>M</td>\n",
       "      <td>52</td>\n",
       "      <td>Freeman</td>\n",
       "      <td>223.60771</td>\n",
       "      <td>paid</td>\n",
       "      <td>Bakersfield, CA</td>\n",
       "      <td>PUT</td>\n",
       "      <td>NextSong</td>\n",
       "      <td>1.538173e+12</td>\n",
       "      <td>29</td>\n",
       "      <td>Harder Better Faster Stronger</td>\n",
       "      <td>200</td>\n",
       "      <td>1538352676000</td>\n",
       "      <td>Mozilla/5.0 (Windows NT 6.1; WOW64; rv:31.0) G...</td>\n",
       "      <td>30</td>\n",
       "    </tr>\n",
       "  </tbody>\n",
       "</table>\n",
       "</div>"
      ],
      "text/plain": [
       "             artist       auth firstName gender  itemInSession lastName  \\\n",
       "0    Martha Tilston  Logged In     Colin      M             50  Freeman   \n",
       "1  Five Iron Frenzy  Logged In     Micah      M             79     Long   \n",
       "2      Adam Lambert  Logged In     Colin      M             51  Freeman   \n",
       "3            Enigma  Logged In     Micah      M             80     Long   \n",
       "4         Daft Punk  Logged In     Colin      M             52  Freeman   \n",
       "\n",
       "      length level                        location method      page  \\\n",
       "0  277.89016  paid                 Bakersfield, CA    PUT  NextSong   \n",
       "1  236.09424  free  Boston-Cambridge-Newton, MA-NH    PUT  NextSong   \n",
       "2  282.82730  paid                 Bakersfield, CA    PUT  NextSong   \n",
       "3  262.71302  free  Boston-Cambridge-Newton, MA-NH    PUT  NextSong   \n",
       "4  223.60771  paid                 Bakersfield, CA    PUT  NextSong   \n",
       "\n",
       "   registration  sessionId                           song  status  \\\n",
       "0  1.538173e+12         29                      Rockpools     200   \n",
       "1  1.538332e+12          8                         Canada     200   \n",
       "2  1.538173e+12         29              Time For Miracles     200   \n",
       "3  1.538332e+12          8    Knocking On Forbidden Doors     200   \n",
       "4  1.538173e+12         29  Harder Better Faster Stronger     200   \n",
       "\n",
       "              ts                                          userAgent userId  \n",
       "0  1538352117000  Mozilla/5.0 (Windows NT 6.1; WOW64; rv:31.0) G...     30  \n",
       "1  1538352180000  \"Mozilla/5.0 (Windows NT 6.1; WOW64) AppleWebK...      9  \n",
       "2  1538352394000  Mozilla/5.0 (Windows NT 6.1; WOW64; rv:31.0) G...     30  \n",
       "3  1538352416000  \"Mozilla/5.0 (Windows NT 6.1; WOW64) AppleWebK...      9  \n",
       "4  1538352676000  Mozilla/5.0 (Windows NT 6.1; WOW64; rv:31.0) G...     30  "
      ]
     },
     "execution_count": 14,
     "metadata": {},
     "output_type": "execute_result"
    }
   ],
   "source": [
    "# for better visibility, we convert the dataframe into pandas df\n",
    "pandas_df = df.toPandas()\n",
    "pandas_df.head()"
   ]
  },
  {
   "cell_type": "markdown",
   "metadata": {},
   "source": [
    "The page which the userid with \" \" (empty string) visited"
   ]
  },
  {
   "cell_type": "code",
   "execution_count": 15,
   "metadata": {},
   "outputs": [
    {
     "data": {
      "text/plain": [
       "{Row(userId='', page='About'),\n",
       " Row(userId='', page='Error'),\n",
       " Row(userId='', page='Help'),\n",
       " Row(userId='', page='Home'),\n",
       " Row(userId='', page='Login'),\n",
       " Row(userId='', page='Register'),\n",
       " Row(userId='', page='Submit Registration')}"
      ]
     },
     "execution_count": 15,
     "metadata": {},
     "output_type": "execute_result"
    }
   ],
   "source": [
    "set(df.select(['userId', 'page']).where(df.userId==\"\").collect())"
   ]
  },
  {
   "cell_type": "code",
   "execution_count": 16,
   "metadata": {},
   "outputs": [
    {
     "data": {
      "text/plain": [
       "Counter({Row(userId='', page='Home'): 4375,\n",
       "         Row(userId='', page='Help'): 272,\n",
       "         Row(userId='', page='Login'): 3241,\n",
       "         Row(userId='', page='About'): 429,\n",
       "         Row(userId='', page='Error'): 6,\n",
       "         Row(userId='', page='Register'): 18,\n",
       "         Row(userId='', page='Submit Registration'): 5})"
      ]
     },
     "execution_count": 16,
     "metadata": {},
     "output_type": "execute_result"
    }
   ],
   "source": [
    "Counter(df.select(['userId', 'page']).where(df.userId==\"\").collect())"
   ]
  },
  {
   "cell_type": "markdown",
   "metadata": {},
   "source": [
    "Users who are only visiting the About, Home and Login pages are most probably unregistered visitors."
   ]
  },
  {
   "cell_type": "code",
   "execution_count": 17,
   "metadata": {},
   "outputs": [
    {
     "data": {
      "text/plain": [
       "154578"
      ]
     },
     "execution_count": 17,
     "metadata": {},
     "output_type": "execute_result"
    }
   ],
   "source": [
    "# female users \n",
    "df.select('gender').where(df.gender=='F').count()"
   ]
  },
  {
   "cell_type": "code",
   "execution_count": 18,
   "metadata": {},
   "outputs": [
    {
     "name": "stdout",
     "output_type": "stream",
     "text": [
      "+------+\n",
      "|userId|\n",
      "+------+\n",
      "|      |\n",
      "|    10|\n",
      "|   100|\n",
      "|100001|\n",
      "|100002|\n",
      "|100003|\n",
      "|100004|\n",
      "|100005|\n",
      "|100006|\n",
      "|100007|\n",
      "|100008|\n",
      "|100009|\n",
      "|100010|\n",
      "|100011|\n",
      "|100012|\n",
      "|100013|\n",
      "|100014|\n",
      "|100015|\n",
      "|100016|\n",
      "|100017|\n",
      "+------+\n",
      "only showing top 20 rows\n",
      "\n"
     ]
    }
   ],
   "source": [
    "# drop duplicates in userId\n",
    "df.select(\"userId\").dropDuplicates().sort(\"userId\").show()"
   ]
  },
  {
   "cell_type": "markdown",
   "metadata": {},
   "source": [
    "Looking at the dataframe, we can see that the if a single data point(row) has no value in the userId column then this data point is useless for further analysis. Similarly, if the sessionId is missing in a row then also it doesn't make any sense to process this data point.\n",
    "\n",
    "Therefore, we check for missing or null values in the 'userId' and/or 'sessionId' columns and remove such rows from the dataframe."
   ]
  },
  {
   "cell_type": "code",
   "execution_count": 19,
   "metadata": {},
   "outputs": [
    {
     "name": "stdout",
     "output_type": "stream",
     "text": [
      "+---------+\n",
      "|sessionId|\n",
      "+---------+\n",
      "|        1|\n",
      "|        2|\n",
      "|        3|\n",
      "|        4|\n",
      "|        5|\n",
      "|        6|\n",
      "|        7|\n",
      "|        8|\n",
      "|        9|\n",
      "|       10|\n",
      "|       11|\n",
      "|       12|\n",
      "|       13|\n",
      "|       15|\n",
      "|       16|\n",
      "|       17|\n",
      "|       18|\n",
      "|       19|\n",
      "|       20|\n",
      "|       21|\n",
      "+---------+\n",
      "only showing top 20 rows\n",
      "\n"
     ]
    }
   ],
   "source": [
    "# drop duplicates in sessionId\n",
    "df.select(\"sessionId\").dropDuplicates().sort(\"sessionId\").show()"
   ]
  },
  {
   "cell_type": "code",
   "execution_count": 20,
   "metadata": {},
   "outputs": [],
   "source": [
    "# remove the ones with an empty string userId\n",
    "filtered_df = df.filter(df[\"userId\"]!=\"\")"
   ]
  },
  {
   "cell_type": "code",
   "execution_count": 21,
   "metadata": {},
   "outputs": [
    {
     "data": {
      "text/plain": [
       "278154"
      ]
     },
     "execution_count": 21,
     "metadata": {},
     "output_type": "execute_result"
    }
   ],
   "source": [
    "filtered_df.count()"
   ]
  },
  {
   "cell_type": "markdown",
   "metadata": {},
   "source": [
    "### The new dataframe has 278154 data points which is **8346** (286500-278154) less than the original data size."
   ]
  },
  {
   "cell_type": "markdown",
   "metadata": {
    "pycharm": {
     "name": "#%% md\n"
    }
   },
   "source": [
    "## Exploratory Data Analysis\n",
    "<a class=\"anchor\" id=\"eda\"></a>\n",
    "\n",
    "### Define Churn\n",
    "\n",
    "A column `Churn` will be created to use as the label for our model. `Cancellation Confirmation` events is used to define churn, which happen for both paid and free users. We will assign a 1 where a user has churned and a 0 where they have not yet churned.\n",
    "\n",
    "### Explore Data\n",
    "Exploratory data analysis will  be performed to observe the behavior for users who stayed vs users who churned. Starting by exploring aggregates on these two groups of users, observing how much of a specific action they experienced per a certain time unit or number of songs played."
   ]
  },
  {
   "cell_type": "markdown",
   "metadata": {
    "pycharm": {
     "name": "#%% md\n"
    }
   },
   "source": [
    "### Identification of the churned users"
   ]
  },
  {
   "cell_type": "code",
   "execution_count": 22,
   "metadata": {
    "pycharm": {
     "name": "#%%\n"
    }
   },
   "outputs": [
    {
     "name": "stdout",
     "output_type": "stream",
     "text": [
      "+--------------------+\n",
      "|                page|\n",
      "+--------------------+\n",
      "|              Cancel|\n",
      "|    Submit Downgrade|\n",
      "|         Thumbs Down|\n",
      "|                Home|\n",
      "|           Downgrade|\n",
      "|         Roll Advert|\n",
      "|              Logout|\n",
      "|       Save Settings|\n",
      "|Cancellation Conf...|\n",
      "|               About|\n",
      "|            Settings|\n",
      "|     Add to Playlist|\n",
      "|          Add Friend|\n",
      "|            NextSong|\n",
      "|           Thumbs Up|\n",
      "|                Help|\n",
      "|             Upgrade|\n",
      "|               Error|\n",
      "|      Submit Upgrade|\n",
      "+--------------------+\n",
      "\n"
     ]
    }
   ],
   "source": [
    "filtered_df.select(\"page\").dropDuplicates().show()"
   ]
  },
  {
   "cell_type": "markdown",
   "metadata": {
    "pycharm": {
     "name": "#%% md\n"
    }
   },
   "source": [
    "As can be seen above, there are many different types of pages. And which page leads or indicates that the user is going to churn is \"Cancellation Confirmation\"."
   ]
  },
  {
   "cell_type": "code",
   "execution_count": 23,
   "metadata": {},
   "outputs": [
    {
     "data": {
      "text/plain": [
       "[Row(userId='18', page='Cancellation Confirmation'),\n",
       " Row(userId='32', page='Cancellation Confirmation'),\n",
       " Row(userId='125', page='Cancellation Confirmation'),\n",
       " Row(userId='105', page='Cancellation Confirmation'),\n",
       " Row(userId='17', page='Cancellation Confirmation')]"
      ]
     },
     "execution_count": 23,
     "metadata": {},
     "output_type": "execute_result"
    }
   ],
   "source": [
    "filtered_df.select([\"userId\", \"page\"]).where(filtered_df.page == \"Cancellation Confirmation\").head(5)"
   ]
  },
  {
   "cell_type": "code",
   "execution_count": 24,
   "metadata": {
    "pycharm": {
     "name": "#%%\n"
    }
   },
   "outputs": [
    {
     "data": {
      "text/plain": [
       "52"
      ]
     },
     "execution_count": 24,
     "metadata": {},
     "output_type": "execute_result"
    }
   ],
   "source": [
    "# number of churned users\n",
    "filtered_df.select([\"userId\", \"page\"]).where(filtered_df.page == \"Cancellation Confirmation\").count()"
   ]
  },
  {
   "cell_type": "markdown",
   "metadata": {
    "pycharm": {
     "name": "#%% md\n"
    }
   },
   "source": [
    "As we see that 52 users haved churned in the dataset. let's see those users with their userIds that have churened."
   ]
  },
  {
   "cell_type": "code",
   "execution_count": 25,
   "metadata": {
    "pycharm": {
     "name": "#%%\n"
    }
   },
   "outputs": [
    {
     "name": "stdout",
     "output_type": "stream",
     "text": [
      "+------+--------------------+\n",
      "|userId|                page|\n",
      "+------+--------------------+\n",
      "|    18|Cancellation Conf...|\n",
      "|    32|Cancellation Conf...|\n",
      "|   125|Cancellation Conf...|\n",
      "|   105|Cancellation Conf...|\n",
      "|    17|Cancellation Conf...|\n",
      "|   143|Cancellation Conf...|\n",
      "|   101|Cancellation Conf...|\n",
      "|   129|Cancellation Conf...|\n",
      "|   121|Cancellation Conf...|\n",
      "|    51|Cancellation Conf...|\n",
      "|    87|Cancellation Conf...|\n",
      "|   122|Cancellation Conf...|\n",
      "|    12|Cancellation Conf...|\n",
      "|    58|Cancellation Conf...|\n",
      "|    73|Cancellation Conf...|\n",
      "|     3|Cancellation Conf...|\n",
      "|   106|Cancellation Conf...|\n",
      "|   103|Cancellation Conf...|\n",
      "|    28|Cancellation Conf...|\n",
      "|    54|Cancellation Conf...|\n",
      "+------+--------------------+\n",
      "only showing top 20 rows\n",
      "\n"
     ]
    }
   ],
   "source": [
    "df.select([\"userId\", \"page\"]).where(df.page == \"Cancellation Confirmation\").show()"
   ]
  },
  {
   "cell_type": "markdown",
   "metadata": {
    "pycharm": {
     "name": "#%% md\n"
    }
   },
   "source": [
    "We will now create a new column \"Churn\" to use it as the label for the model. The value under this column for a specific row depends on the page they have visited. If the visited page is \"Cancellation Confirmation\" means the user has churned. So the value will be 1 otherwise 0."
   ]
  },
  {
   "cell_type": "code",
   "execution_count": 26,
   "metadata": {
    "pycharm": {
     "name": "#%%\n"
    }
   },
   "outputs": [],
   "source": [
    "churn_func = udf(lambda pg: 1 if pg == \"Cancellation Confirmation\" else 0, IntegerType())"
   ]
  },
  {
   "cell_type": "code",
   "execution_count": 27,
   "metadata": {},
   "outputs": [
    {
     "data": {
      "text/plain": [
       "[Row(artist='Martha Tilston', auth='Logged In', firstName='Colin', gender='M', itemInSession=50, lastName='Freeman', length=277.89016, level='paid', location='Bakersfield, CA', method='PUT', page='NextSong', registration=1538173362000, sessionId=29, song='Rockpools', status=200, ts=1538352117000, userAgent='Mozilla/5.0 (Windows NT 6.1; WOW64; rv:31.0) Gecko/20100101 Firefox/31.0', userId='30')]"
      ]
     },
     "execution_count": 27,
     "metadata": {},
     "output_type": "execute_result"
    }
   ],
   "source": [
    "filtered_df.head(1)"
   ]
  },
  {
   "cell_type": "code",
   "execution_count": 28,
   "metadata": {
    "pycharm": {
     "name": "#%%\n"
    }
   },
   "outputs": [],
   "source": [
    "# create the 'Churn' column\n",
    "filtered_df = filtered_df.withColumn(\"Churn\", churn_func(\"page\"))"
   ]
  },
  {
   "cell_type": "code",
   "execution_count": 29,
   "metadata": {},
   "outputs": [
    {
     "data": {
      "text/plain": [
       "[Row(artist='Martha Tilston', auth='Logged In', firstName='Colin', gender='M', itemInSession=50, lastName='Freeman', length=277.89016, level='paid', location='Bakersfield, CA', method='PUT', page='NextSong', registration=1538173362000, sessionId=29, song='Rockpools', status=200, ts=1538352117000, userAgent='Mozilla/5.0 (Windows NT 6.1; WOW64; rv:31.0) Gecko/20100101 Firefox/31.0', userId='30', Churn=0)]"
      ]
     },
     "execution_count": 29,
     "metadata": {},
     "output_type": "execute_result"
    }
   ],
   "source": [
    "filtered_df.head(1)"
   ]
  },
  {
   "cell_type": "code",
   "execution_count": 30,
   "metadata": {
    "pycharm": {
     "name": "#%%\n"
    }
   },
   "outputs": [
    {
     "data": {
      "text/html": [
       "<div>\n",
       "<style scoped>\n",
       "    .dataframe tbody tr th:only-of-type {\n",
       "        vertical-align: middle;\n",
       "    }\n",
       "\n",
       "    .dataframe tbody tr th {\n",
       "        vertical-align: top;\n",
       "    }\n",
       "\n",
       "    .dataframe thead th {\n",
       "        text-align: right;\n",
       "    }\n",
       "</style>\n",
       "<table border=\"1\" class=\"dataframe\">\n",
       "  <thead>\n",
       "    <tr style=\"text-align: right;\">\n",
       "      <th></th>\n",
       "      <th>artist</th>\n",
       "      <th>auth</th>\n",
       "      <th>firstName</th>\n",
       "      <th>gender</th>\n",
       "      <th>itemInSession</th>\n",
       "      <th>lastName</th>\n",
       "      <th>length</th>\n",
       "      <th>level</th>\n",
       "      <th>location</th>\n",
       "      <th>method</th>\n",
       "      <th>page</th>\n",
       "      <th>registration</th>\n",
       "      <th>sessionId</th>\n",
       "      <th>song</th>\n",
       "      <th>status</th>\n",
       "      <th>ts</th>\n",
       "      <th>userAgent</th>\n",
       "      <th>userId</th>\n",
       "      <th>Churn</th>\n",
       "    </tr>\n",
       "  </thead>\n",
       "  <tbody>\n",
       "    <tr>\n",
       "      <th>0</th>\n",
       "      <td>Martha Tilston</td>\n",
       "      <td>Logged In</td>\n",
       "      <td>Colin</td>\n",
       "      <td>M</td>\n",
       "      <td>50</td>\n",
       "      <td>Freeman</td>\n",
       "      <td>277.89016</td>\n",
       "      <td>paid</td>\n",
       "      <td>Bakersfield, CA</td>\n",
       "      <td>PUT</td>\n",
       "      <td>NextSong</td>\n",
       "      <td>1538173362000</td>\n",
       "      <td>29</td>\n",
       "      <td>Rockpools</td>\n",
       "      <td>200</td>\n",
       "      <td>1538352117000</td>\n",
       "      <td>Mozilla/5.0 (Windows NT 6.1; WOW64; rv:31.0) G...</td>\n",
       "      <td>30</td>\n",
       "      <td>0</td>\n",
       "    </tr>\n",
       "    <tr>\n",
       "      <th>1</th>\n",
       "      <td>Five Iron Frenzy</td>\n",
       "      <td>Logged In</td>\n",
       "      <td>Micah</td>\n",
       "      <td>M</td>\n",
       "      <td>79</td>\n",
       "      <td>Long</td>\n",
       "      <td>236.09424</td>\n",
       "      <td>free</td>\n",
       "      <td>Boston-Cambridge-Newton, MA-NH</td>\n",
       "      <td>PUT</td>\n",
       "      <td>NextSong</td>\n",
       "      <td>1538331630000</td>\n",
       "      <td>8</td>\n",
       "      <td>Canada</td>\n",
       "      <td>200</td>\n",
       "      <td>1538352180000</td>\n",
       "      <td>\"Mozilla/5.0 (Windows NT 6.1; WOW64) AppleWebK...</td>\n",
       "      <td>9</td>\n",
       "      <td>0</td>\n",
       "    </tr>\n",
       "    <tr>\n",
       "      <th>2</th>\n",
       "      <td>Adam Lambert</td>\n",
       "      <td>Logged In</td>\n",
       "      <td>Colin</td>\n",
       "      <td>M</td>\n",
       "      <td>51</td>\n",
       "      <td>Freeman</td>\n",
       "      <td>282.82730</td>\n",
       "      <td>paid</td>\n",
       "      <td>Bakersfield, CA</td>\n",
       "      <td>PUT</td>\n",
       "      <td>NextSong</td>\n",
       "      <td>1538173362000</td>\n",
       "      <td>29</td>\n",
       "      <td>Time For Miracles</td>\n",
       "      <td>200</td>\n",
       "      <td>1538352394000</td>\n",
       "      <td>Mozilla/5.0 (Windows NT 6.1; WOW64; rv:31.0) G...</td>\n",
       "      <td>30</td>\n",
       "      <td>0</td>\n",
       "    </tr>\n",
       "    <tr>\n",
       "      <th>3</th>\n",
       "      <td>Enigma</td>\n",
       "      <td>Logged In</td>\n",
       "      <td>Micah</td>\n",
       "      <td>M</td>\n",
       "      <td>80</td>\n",
       "      <td>Long</td>\n",
       "      <td>262.71302</td>\n",
       "      <td>free</td>\n",
       "      <td>Boston-Cambridge-Newton, MA-NH</td>\n",
       "      <td>PUT</td>\n",
       "      <td>NextSong</td>\n",
       "      <td>1538331630000</td>\n",
       "      <td>8</td>\n",
       "      <td>Knocking On Forbidden Doors</td>\n",
       "      <td>200</td>\n",
       "      <td>1538352416000</td>\n",
       "      <td>\"Mozilla/5.0 (Windows NT 6.1; WOW64) AppleWebK...</td>\n",
       "      <td>9</td>\n",
       "      <td>0</td>\n",
       "    </tr>\n",
       "    <tr>\n",
       "      <th>4</th>\n",
       "      <td>Daft Punk</td>\n",
       "      <td>Logged In</td>\n",
       "      <td>Colin</td>\n",
       "      <td>M</td>\n",
       "      <td>52</td>\n",
       "      <td>Freeman</td>\n",
       "      <td>223.60771</td>\n",
       "      <td>paid</td>\n",
       "      <td>Bakersfield, CA</td>\n",
       "      <td>PUT</td>\n",
       "      <td>NextSong</td>\n",
       "      <td>1538173362000</td>\n",
       "      <td>29</td>\n",
       "      <td>Harder Better Faster Stronger</td>\n",
       "      <td>200</td>\n",
       "      <td>1538352676000</td>\n",
       "      <td>Mozilla/5.0 (Windows NT 6.1; WOW64; rv:31.0) G...</td>\n",
       "      <td>30</td>\n",
       "      <td>0</td>\n",
       "    </tr>\n",
       "    <tr>\n",
       "      <th>5</th>\n",
       "      <td>The All-American Rejects</td>\n",
       "      <td>Logged In</td>\n",
       "      <td>Micah</td>\n",
       "      <td>M</td>\n",
       "      <td>81</td>\n",
       "      <td>Long</td>\n",
       "      <td>208.29995</td>\n",
       "      <td>free</td>\n",
       "      <td>Boston-Cambridge-Newton, MA-NH</td>\n",
       "      <td>PUT</td>\n",
       "      <td>NextSong</td>\n",
       "      <td>1538331630000</td>\n",
       "      <td>8</td>\n",
       "      <td>Don't Leave Me</td>\n",
       "      <td>200</td>\n",
       "      <td>1538352678000</td>\n",
       "      <td>\"Mozilla/5.0 (Windows NT 6.1; WOW64) AppleWebK...</td>\n",
       "      <td>9</td>\n",
       "      <td>0</td>\n",
       "    </tr>\n",
       "    <tr>\n",
       "      <th>6</th>\n",
       "      <td>The Velvet Underground / Nico</td>\n",
       "      <td>Logged In</td>\n",
       "      <td>Micah</td>\n",
       "      <td>M</td>\n",
       "      <td>82</td>\n",
       "      <td>Long</td>\n",
       "      <td>260.46649</td>\n",
       "      <td>free</td>\n",
       "      <td>Boston-Cambridge-Newton, MA-NH</td>\n",
       "      <td>PUT</td>\n",
       "      <td>NextSong</td>\n",
       "      <td>1538331630000</td>\n",
       "      <td>8</td>\n",
       "      <td>Run Run Run</td>\n",
       "      <td>200</td>\n",
       "      <td>1538352886000</td>\n",
       "      <td>\"Mozilla/5.0 (Windows NT 6.1; WOW64) AppleWebK...</td>\n",
       "      <td>9</td>\n",
       "      <td>0</td>\n",
       "    </tr>\n",
       "    <tr>\n",
       "      <th>7</th>\n",
       "      <td>Starflyer 59</td>\n",
       "      <td>Logged In</td>\n",
       "      <td>Colin</td>\n",
       "      <td>M</td>\n",
       "      <td>53</td>\n",
       "      <td>Freeman</td>\n",
       "      <td>185.44281</td>\n",
       "      <td>paid</td>\n",
       "      <td>Bakersfield, CA</td>\n",
       "      <td>PUT</td>\n",
       "      <td>NextSong</td>\n",
       "      <td>1538173362000</td>\n",
       "      <td>29</td>\n",
       "      <td>Passengers (Old Album Version)</td>\n",
       "      <td>200</td>\n",
       "      <td>1538352899000</td>\n",
       "      <td>Mozilla/5.0 (Windows NT 6.1; WOW64; rv:31.0) G...</td>\n",
       "      <td>30</td>\n",
       "      <td>0</td>\n",
       "    </tr>\n",
       "    <tr>\n",
       "      <th>8</th>\n",
       "      <td>None</td>\n",
       "      <td>Logged In</td>\n",
       "      <td>Colin</td>\n",
       "      <td>M</td>\n",
       "      <td>54</td>\n",
       "      <td>Freeman</td>\n",
       "      <td>NaN</td>\n",
       "      <td>paid</td>\n",
       "      <td>Bakersfield, CA</td>\n",
       "      <td>PUT</td>\n",
       "      <td>Add to Playlist</td>\n",
       "      <td>1538173362000</td>\n",
       "      <td>29</td>\n",
       "      <td>None</td>\n",
       "      <td>200</td>\n",
       "      <td>1538352905000</td>\n",
       "      <td>Mozilla/5.0 (Windows NT 6.1; WOW64; rv:31.0) G...</td>\n",
       "      <td>30</td>\n",
       "      <td>0</td>\n",
       "    </tr>\n",
       "    <tr>\n",
       "      <th>9</th>\n",
       "      <td>Frumpies</td>\n",
       "      <td>Logged In</td>\n",
       "      <td>Colin</td>\n",
       "      <td>M</td>\n",
       "      <td>55</td>\n",
       "      <td>Freeman</td>\n",
       "      <td>134.47791</td>\n",
       "      <td>paid</td>\n",
       "      <td>Bakersfield, CA</td>\n",
       "      <td>PUT</td>\n",
       "      <td>NextSong</td>\n",
       "      <td>1538173362000</td>\n",
       "      <td>29</td>\n",
       "      <td>Fuck Kitty</td>\n",
       "      <td>200</td>\n",
       "      <td>1538353084000</td>\n",
       "      <td>Mozilla/5.0 (Windows NT 6.1; WOW64; rv:31.0) G...</td>\n",
       "      <td>30</td>\n",
       "      <td>0</td>\n",
       "    </tr>\n",
       "    <tr>\n",
       "      <th>10</th>\n",
       "      <td>Britt Nicole</td>\n",
       "      <td>Logged In</td>\n",
       "      <td>Micah</td>\n",
       "      <td>M</td>\n",
       "      <td>83</td>\n",
       "      <td>Long</td>\n",
       "      <td>229.87710</td>\n",
       "      <td>free</td>\n",
       "      <td>Boston-Cambridge-Newton, MA-NH</td>\n",
       "      <td>PUT</td>\n",
       "      <td>NextSong</td>\n",
       "      <td>1538331630000</td>\n",
       "      <td>8</td>\n",
       "      <td>Walk On The Water</td>\n",
       "      <td>200</td>\n",
       "      <td>1538353146000</td>\n",
       "      <td>\"Mozilla/5.0 (Windows NT 6.1; WOW64) AppleWebK...</td>\n",
       "      <td>9</td>\n",
       "      <td>0</td>\n",
       "    </tr>\n",
       "    <tr>\n",
       "      <th>11</th>\n",
       "      <td>None</td>\n",
       "      <td>Logged In</td>\n",
       "      <td>Micah</td>\n",
       "      <td>M</td>\n",
       "      <td>84</td>\n",
       "      <td>Long</td>\n",
       "      <td>NaN</td>\n",
       "      <td>free</td>\n",
       "      <td>Boston-Cambridge-Newton, MA-NH</td>\n",
       "      <td>GET</td>\n",
       "      <td>Roll Advert</td>\n",
       "      <td>1538331630000</td>\n",
       "      <td>8</td>\n",
       "      <td>None</td>\n",
       "      <td>200</td>\n",
       "      <td>1538353150000</td>\n",
       "      <td>\"Mozilla/5.0 (Windows NT 6.1; WOW64) AppleWebK...</td>\n",
       "      <td>9</td>\n",
       "      <td>0</td>\n",
       "    </tr>\n",
       "    <tr>\n",
       "      <th>12</th>\n",
       "      <td>Edward Sharpe &amp; The Magnetic Zeros</td>\n",
       "      <td>Logged In</td>\n",
       "      <td>Colin</td>\n",
       "      <td>M</td>\n",
       "      <td>56</td>\n",
       "      <td>Freeman</td>\n",
       "      <td>223.58159</td>\n",
       "      <td>paid</td>\n",
       "      <td>Bakersfield, CA</td>\n",
       "      <td>PUT</td>\n",
       "      <td>NextSong</td>\n",
       "      <td>1538173362000</td>\n",
       "      <td>29</td>\n",
       "      <td>Jade</td>\n",
       "      <td>200</td>\n",
       "      <td>1538353218000</td>\n",
       "      <td>Mozilla/5.0 (Windows NT 6.1; WOW64; rv:31.0) G...</td>\n",
       "      <td>30</td>\n",
       "      <td>0</td>\n",
       "    </tr>\n",
       "    <tr>\n",
       "      <th>13</th>\n",
       "      <td>Tesla</td>\n",
       "      <td>Logged In</td>\n",
       "      <td>Micah</td>\n",
       "      <td>M</td>\n",
       "      <td>85</td>\n",
       "      <td>Long</td>\n",
       "      <td>201.06404</td>\n",
       "      <td>free</td>\n",
       "      <td>Boston-Cambridge-Newton, MA-NH</td>\n",
       "      <td>PUT</td>\n",
       "      <td>NextSong</td>\n",
       "      <td>1538331630000</td>\n",
       "      <td>8</td>\n",
       "      <td>Gettin' Better</td>\n",
       "      <td>200</td>\n",
       "      <td>1538353375000</td>\n",
       "      <td>\"Mozilla/5.0 (Windows NT 6.1; WOW64) AppleWebK...</td>\n",
       "      <td>9</td>\n",
       "      <td>0</td>\n",
       "    </tr>\n",
       "    <tr>\n",
       "      <th>14</th>\n",
       "      <td>None</td>\n",
       "      <td>Logged In</td>\n",
       "      <td>Micah</td>\n",
       "      <td>M</td>\n",
       "      <td>86</td>\n",
       "      <td>Long</td>\n",
       "      <td>NaN</td>\n",
       "      <td>free</td>\n",
       "      <td>Boston-Cambridge-Newton, MA-NH</td>\n",
       "      <td>PUT</td>\n",
       "      <td>Thumbs Up</td>\n",
       "      <td>1538331630000</td>\n",
       "      <td>8</td>\n",
       "      <td>None</td>\n",
       "      <td>307</td>\n",
       "      <td>1538353376000</td>\n",
       "      <td>\"Mozilla/5.0 (Windows NT 6.1; WOW64) AppleWebK...</td>\n",
       "      <td>9</td>\n",
       "      <td>0</td>\n",
       "    </tr>\n",
       "    <tr>\n",
       "      <th>15</th>\n",
       "      <td>Stan Mosley</td>\n",
       "      <td>Logged In</td>\n",
       "      <td>Colin</td>\n",
       "      <td>M</td>\n",
       "      <td>57</td>\n",
       "      <td>Freeman</td>\n",
       "      <td>246.69995</td>\n",
       "      <td>paid</td>\n",
       "      <td>Bakersfield, CA</td>\n",
       "      <td>PUT</td>\n",
       "      <td>NextSong</td>\n",
       "      <td>1538173362000</td>\n",
       "      <td>29</td>\n",
       "      <td>So-Called Friends</td>\n",
       "      <td>200</td>\n",
       "      <td>1538353441000</td>\n",
       "      <td>Mozilla/5.0 (Windows NT 6.1; WOW64; rv:31.0) G...</td>\n",
       "      <td>30</td>\n",
       "      <td>0</td>\n",
       "    </tr>\n",
       "    <tr>\n",
       "      <th>16</th>\n",
       "      <td>Florence + The Machine</td>\n",
       "      <td>Logged In</td>\n",
       "      <td>Micah</td>\n",
       "      <td>M</td>\n",
       "      <td>87</td>\n",
       "      <td>Long</td>\n",
       "      <td>168.64608</td>\n",
       "      <td>free</td>\n",
       "      <td>Boston-Cambridge-Newton, MA-NH</td>\n",
       "      <td>PUT</td>\n",
       "      <td>NextSong</td>\n",
       "      <td>1538331630000</td>\n",
       "      <td>8</td>\n",
       "      <td>You've Got The Love</td>\n",
       "      <td>200</td>\n",
       "      <td>1538353576000</td>\n",
       "      <td>\"Mozilla/5.0 (Windows NT 6.1; WOW64) AppleWebK...</td>\n",
       "      <td>9</td>\n",
       "      <td>0</td>\n",
       "    </tr>\n",
       "    <tr>\n",
       "      <th>17</th>\n",
       "      <td>Tokyo Police Club</td>\n",
       "      <td>Logged In</td>\n",
       "      <td>Ashlynn</td>\n",
       "      <td>F</td>\n",
       "      <td>0</td>\n",
       "      <td>Williams</td>\n",
       "      <td>166.11220</td>\n",
       "      <td>free</td>\n",
       "      <td>Tallahassee, FL</td>\n",
       "      <td>PUT</td>\n",
       "      <td>NextSong</td>\n",
       "      <td>1537365219000</td>\n",
       "      <td>217</td>\n",
       "      <td>Citizens Of Tomorrow</td>\n",
       "      <td>200</td>\n",
       "      <td>1538353668000</td>\n",
       "      <td>\"Mozilla/5.0 (Macintosh; Intel Mac OS X 10_9_4...</td>\n",
       "      <td>74</td>\n",
       "      <td>0</td>\n",
       "    </tr>\n",
       "    <tr>\n",
       "      <th>18</th>\n",
       "      <td>Orishas</td>\n",
       "      <td>Logged In</td>\n",
       "      <td>Colin</td>\n",
       "      <td>M</td>\n",
       "      <td>58</td>\n",
       "      <td>Freeman</td>\n",
       "      <td>222.22322</td>\n",
       "      <td>paid</td>\n",
       "      <td>Bakersfield, CA</td>\n",
       "      <td>PUT</td>\n",
       "      <td>NextSong</td>\n",
       "      <td>1538173362000</td>\n",
       "      <td>29</td>\n",
       "      <td>Represent</td>\n",
       "      <td>200</td>\n",
       "      <td>1538353687000</td>\n",
       "      <td>Mozilla/5.0 (Windows NT 6.1; WOW64; rv:31.0) G...</td>\n",
       "      <td>30</td>\n",
       "      <td>0</td>\n",
       "    </tr>\n",
       "    <tr>\n",
       "      <th>19</th>\n",
       "      <td>Ratatat</td>\n",
       "      <td>Logged In</td>\n",
       "      <td>Micah</td>\n",
       "      <td>M</td>\n",
       "      <td>88</td>\n",
       "      <td>Long</td>\n",
       "      <td>229.77261</td>\n",
       "      <td>free</td>\n",
       "      <td>Boston-Cambridge-Newton, MA-NH</td>\n",
       "      <td>PUT</td>\n",
       "      <td>NextSong</td>\n",
       "      <td>1538331630000</td>\n",
       "      <td>8</td>\n",
       "      <td>Swisha</td>\n",
       "      <td>200</td>\n",
       "      <td>1538353744000</td>\n",
       "      <td>\"Mozilla/5.0 (Windows NT 6.1; WOW64) AppleWebK...</td>\n",
       "      <td>9</td>\n",
       "      <td>0</td>\n",
       "    </tr>\n",
       "    <tr>\n",
       "      <th>20</th>\n",
       "      <td>Manolo Garcia</td>\n",
       "      <td>Logged In</td>\n",
       "      <td>Ashlynn</td>\n",
       "      <td>F</td>\n",
       "      <td>1</td>\n",
       "      <td>Williams</td>\n",
       "      <td>283.74159</td>\n",
       "      <td>free</td>\n",
       "      <td>Tallahassee, FL</td>\n",
       "      <td>PUT</td>\n",
       "      <td>NextSong</td>\n",
       "      <td>1537365219000</td>\n",
       "      <td>217</td>\n",
       "      <td>Carbon Y Ramas Secas</td>\n",
       "      <td>200</td>\n",
       "      <td>1538353834000</td>\n",
       "      <td>\"Mozilla/5.0 (Macintosh; Intel Mac OS X 10_9_4...</td>\n",
       "      <td>74</td>\n",
       "      <td>0</td>\n",
       "    </tr>\n",
       "    <tr>\n",
       "      <th>21</th>\n",
       "      <td>Downhere</td>\n",
       "      <td>Logged In</td>\n",
       "      <td>Colin</td>\n",
       "      <td>M</td>\n",
       "      <td>59</td>\n",
       "      <td>Freeman</td>\n",
       "      <td>223.92118</td>\n",
       "      <td>paid</td>\n",
       "      <td>Bakersfield, CA</td>\n",
       "      <td>PUT</td>\n",
       "      <td>NextSong</td>\n",
       "      <td>1538173362000</td>\n",
       "      <td>29</td>\n",
       "      <td>Here I Am</td>\n",
       "      <td>200</td>\n",
       "      <td>1538353909000</td>\n",
       "      <td>Mozilla/5.0 (Windows NT 6.1; WOW64; rv:31.0) G...</td>\n",
       "      <td>30</td>\n",
       "      <td>0</td>\n",
       "    </tr>\n",
       "    <tr>\n",
       "      <th>22</th>\n",
       "      <td>Modjo</td>\n",
       "      <td>Logged In</td>\n",
       "      <td>Alexi</td>\n",
       "      <td>F</td>\n",
       "      <td>0</td>\n",
       "      <td>Warren</td>\n",
       "      <td>250.93179</td>\n",
       "      <td>paid</td>\n",
       "      <td>Spokane-Spokane Valley, WA</td>\n",
       "      <td>PUT</td>\n",
       "      <td>NextSong</td>\n",
       "      <td>1532482662000</td>\n",
       "      <td>53</td>\n",
       "      <td>What I Mean</td>\n",
       "      <td>200</td>\n",
       "      <td>1538353930000</td>\n",
       "      <td>Mozilla/5.0 (Windows NT 6.1; WOW64; rv:32.0) G...</td>\n",
       "      <td>54</td>\n",
       "      <td>0</td>\n",
       "    </tr>\n",
       "    <tr>\n",
       "      <th>23</th>\n",
       "      <td>MÃÂ¶tley CrÃÂ¼e</td>\n",
       "      <td>Logged In</td>\n",
       "      <td>Micah</td>\n",
       "      <td>M</td>\n",
       "      <td>89</td>\n",
       "      <td>Long</td>\n",
       "      <td>231.26159</td>\n",
       "      <td>free</td>\n",
       "      <td>Boston-Cambridge-Newton, MA-NH</td>\n",
       "      <td>PUT</td>\n",
       "      <td>NextSong</td>\n",
       "      <td>1538331630000</td>\n",
       "      <td>8</td>\n",
       "      <td>Sticky Sweet</td>\n",
       "      <td>200</td>\n",
       "      <td>1538353973000</td>\n",
       "      <td>\"Mozilla/5.0 (Windows NT 6.1; WOW64) AppleWebK...</td>\n",
       "      <td>9</td>\n",
       "      <td>0</td>\n",
       "    </tr>\n",
       "    <tr>\n",
       "      <th>24</th>\n",
       "      <td>David Bowie</td>\n",
       "      <td>Logged In</td>\n",
       "      <td>Ashlynn</td>\n",
       "      <td>F</td>\n",
       "      <td>2</td>\n",
       "      <td>Williams</td>\n",
       "      <td>174.41914</td>\n",
       "      <td>free</td>\n",
       "      <td>Tallahassee, FL</td>\n",
       "      <td>PUT</td>\n",
       "      <td>NextSong</td>\n",
       "      <td>1537365219000</td>\n",
       "      <td>217</td>\n",
       "      <td>Sorrow (1997 Digital Remaster)</td>\n",
       "      <td>200</td>\n",
       "      <td>1538354117000</td>\n",
       "      <td>\"Mozilla/5.0 (Macintosh; Intel Mac OS X 10_9_4...</td>\n",
       "      <td>74</td>\n",
       "      <td>0</td>\n",
       "    </tr>\n",
       "    <tr>\n",
       "      <th>25</th>\n",
       "      <td>Skillet</td>\n",
       "      <td>Logged In</td>\n",
       "      <td>Colin</td>\n",
       "      <td>M</td>\n",
       "      <td>60</td>\n",
       "      <td>Freeman</td>\n",
       "      <td>233.32526</td>\n",
       "      <td>paid</td>\n",
       "      <td>Bakersfield, CA</td>\n",
       "      <td>PUT</td>\n",
       "      <td>NextSong</td>\n",
       "      <td>1538173362000</td>\n",
       "      <td>29</td>\n",
       "      <td>Rebirthing (Album Version)</td>\n",
       "      <td>200</td>\n",
       "      <td>1538354132000</td>\n",
       "      <td>Mozilla/5.0 (Windows NT 6.1; WOW64; rv:31.0) G...</td>\n",
       "      <td>30</td>\n",
       "      <td>0</td>\n",
       "    </tr>\n",
       "    <tr>\n",
       "      <th>26</th>\n",
       "      <td>Edwyn Collins</td>\n",
       "      <td>Logged In</td>\n",
       "      <td>Alexi</td>\n",
       "      <td>F</td>\n",
       "      <td>1</td>\n",
       "      <td>Warren</td>\n",
       "      <td>216.84200</td>\n",
       "      <td>paid</td>\n",
       "      <td>Spokane-Spokane Valley, WA</td>\n",
       "      <td>PUT</td>\n",
       "      <td>NextSong</td>\n",
       "      <td>1532482662000</td>\n",
       "      <td>53</td>\n",
       "      <td>You'll Never Know (My Love) (Bovellian 07 Mix)</td>\n",
       "      <td>200</td>\n",
       "      <td>1538354180000</td>\n",
       "      <td>Mozilla/5.0 (Windows NT 6.1; WOW64; rv:32.0) G...</td>\n",
       "      <td>54</td>\n",
       "      <td>0</td>\n",
       "    </tr>\n",
       "    <tr>\n",
       "      <th>27</th>\n",
       "      <td>Telepopmusik</td>\n",
       "      <td>Logged In</td>\n",
       "      <td>Micah</td>\n",
       "      <td>M</td>\n",
       "      <td>90</td>\n",
       "      <td>Long</td>\n",
       "      <td>241.60608</td>\n",
       "      <td>free</td>\n",
       "      <td>Boston-Cambridge-Newton, MA-NH</td>\n",
       "      <td>PUT</td>\n",
       "      <td>NextSong</td>\n",
       "      <td>1538331630000</td>\n",
       "      <td>8</td>\n",
       "      <td>Smile</td>\n",
       "      <td>200</td>\n",
       "      <td>1538354204000</td>\n",
       "      <td>\"Mozilla/5.0 (Windows NT 6.1; WOW64) AppleWebK...</td>\n",
       "      <td>9</td>\n",
       "      <td>0</td>\n",
       "    </tr>\n",
       "    <tr>\n",
       "      <th>28</th>\n",
       "      <td>Kings Of Leon</td>\n",
       "      <td>Logged In</td>\n",
       "      <td>Ashlynn</td>\n",
       "      <td>F</td>\n",
       "      <td>3</td>\n",
       "      <td>Williams</td>\n",
       "      <td>307.46077</td>\n",
       "      <td>free</td>\n",
       "      <td>Tallahassee, FL</td>\n",
       "      <td>PUT</td>\n",
       "      <td>NextSong</td>\n",
       "      <td>1537365219000</td>\n",
       "      <td>217</td>\n",
       "      <td>I Want You</td>\n",
       "      <td>200</td>\n",
       "      <td>1538354291000</td>\n",
       "      <td>\"Mozilla/5.0 (Macintosh; Intel Mac OS X 10_9_4...</td>\n",
       "      <td>74</td>\n",
       "      <td>0</td>\n",
       "    </tr>\n",
       "    <tr>\n",
       "      <th>29</th>\n",
       "      <td>Florence + The Machine</td>\n",
       "      <td>Logged In</td>\n",
       "      <td>Colin</td>\n",
       "      <td>M</td>\n",
       "      <td>61</td>\n",
       "      <td>Freeman</td>\n",
       "      <td>219.66322</td>\n",
       "      <td>paid</td>\n",
       "      <td>Bakersfield, CA</td>\n",
       "      <td>PUT</td>\n",
       "      <td>NextSong</td>\n",
       "      <td>1538173362000</td>\n",
       "      <td>29</td>\n",
       "      <td>Dog Days Are Over (Radio Edit)</td>\n",
       "      <td>200</td>\n",
       "      <td>1538354365000</td>\n",
       "      <td>Mozilla/5.0 (Windows NT 6.1; WOW64; rv:31.0) G...</td>\n",
       "      <td>30</td>\n",
       "      <td>0</td>\n",
       "    </tr>\n",
       "    <tr>\n",
       "      <th>...</th>\n",
       "      <td>...</td>\n",
       "      <td>...</td>\n",
       "      <td>...</td>\n",
       "      <td>...</td>\n",
       "      <td>...</td>\n",
       "      <td>...</td>\n",
       "      <td>...</td>\n",
       "      <td>...</td>\n",
       "      <td>...</td>\n",
       "      <td>...</td>\n",
       "      <td>...</td>\n",
       "      <td>...</td>\n",
       "      <td>...</td>\n",
       "      <td>...</td>\n",
       "      <td>...</td>\n",
       "      <td>...</td>\n",
       "      <td>...</td>\n",
       "      <td>...</td>\n",
       "      <td>...</td>\n",
       "    </tr>\n",
       "    <tr>\n",
       "      <th>278124</th>\n",
       "      <td>Muse</td>\n",
       "      <td>Logged In</td>\n",
       "      <td>Emilia</td>\n",
       "      <td>F</td>\n",
       "      <td>13</td>\n",
       "      <td>House</td>\n",
       "      <td>228.93669</td>\n",
       "      <td>paid</td>\n",
       "      <td>New York-Newark-Jersey City, NY-NJ-PA</td>\n",
       "      <td>PUT</td>\n",
       "      <td>NextSong</td>\n",
       "      <td>1538336771000</td>\n",
       "      <td>500</td>\n",
       "      <td>Endlessly</td>\n",
       "      <td>200</td>\n",
       "      <td>1543616883000</td>\n",
       "      <td>Mozilla/5.0 (compatible; MSIE 9.0; Windows NT ...</td>\n",
       "      <td>300011</td>\n",
       "      <td>0</td>\n",
       "    </tr>\n",
       "    <tr>\n",
       "      <th>278125</th>\n",
       "      <td>Natural Born Deejays</td>\n",
       "      <td>Logged In</td>\n",
       "      <td>Emilia</td>\n",
       "      <td>F</td>\n",
       "      <td>14</td>\n",
       "      <td>House</td>\n",
       "      <td>203.85914</td>\n",
       "      <td>paid</td>\n",
       "      <td>New York-Newark-Jersey City, NY-NJ-PA</td>\n",
       "      <td>PUT</td>\n",
       "      <td>NextSong</td>\n",
       "      <td>1538336771000</td>\n",
       "      <td>500</td>\n",
       "      <td>Breathe</td>\n",
       "      <td>200</td>\n",
       "      <td>1543617111000</td>\n",
       "      <td>Mozilla/5.0 (compatible; MSIE 9.0; Windows NT ...</td>\n",
       "      <td>300011</td>\n",
       "      <td>0</td>\n",
       "    </tr>\n",
       "    <tr>\n",
       "      <th>278126</th>\n",
       "      <td>None</td>\n",
       "      <td>Logged In</td>\n",
       "      <td>Emilia</td>\n",
       "      <td>F</td>\n",
       "      <td>15</td>\n",
       "      <td>House</td>\n",
       "      <td>NaN</td>\n",
       "      <td>paid</td>\n",
       "      <td>New York-Newark-Jersey City, NY-NJ-PA</td>\n",
       "      <td>GET</td>\n",
       "      <td>Home</td>\n",
       "      <td>1538336771000</td>\n",
       "      <td>500</td>\n",
       "      <td>None</td>\n",
       "      <td>200</td>\n",
       "      <td>1543617317000</td>\n",
       "      <td>Mozilla/5.0 (compatible; MSIE 9.0; Windows NT ...</td>\n",
       "      <td>300011</td>\n",
       "      <td>0</td>\n",
       "    </tr>\n",
       "    <tr>\n",
       "      <th>278127</th>\n",
       "      <td>Shaggy</td>\n",
       "      <td>Logged In</td>\n",
       "      <td>Emilia</td>\n",
       "      <td>F</td>\n",
       "      <td>16</td>\n",
       "      <td>House</td>\n",
       "      <td>201.37751</td>\n",
       "      <td>paid</td>\n",
       "      <td>New York-Newark-Jersey City, NY-NJ-PA</td>\n",
       "      <td>PUT</td>\n",
       "      <td>NextSong</td>\n",
       "      <td>1538336771000</td>\n",
       "      <td>500</td>\n",
       "      <td>Lucky Day</td>\n",
       "      <td>200</td>\n",
       "      <td>1543617391000</td>\n",
       "      <td>Mozilla/5.0 (compatible; MSIE 9.0; Windows NT ...</td>\n",
       "      <td>300011</td>\n",
       "      <td>0</td>\n",
       "    </tr>\n",
       "    <tr>\n",
       "      <th>278128</th>\n",
       "      <td>Natiruts</td>\n",
       "      <td>Logged In</td>\n",
       "      <td>Emilia</td>\n",
       "      <td>F</td>\n",
       "      <td>17</td>\n",
       "      <td>House</td>\n",
       "      <td>210.88608</td>\n",
       "      <td>paid</td>\n",
       "      <td>New York-Newark-Jersey City, NY-NJ-PA</td>\n",
       "      <td>PUT</td>\n",
       "      <td>NextSong</td>\n",
       "      <td>1538336771000</td>\n",
       "      <td>500</td>\n",
       "      <td>Jamaica Roots II(Agora E Sempre)</td>\n",
       "      <td>200</td>\n",
       "      <td>1543617592000</td>\n",
       "      <td>Mozilla/5.0 (compatible; MSIE 9.0; Windows NT ...</td>\n",
       "      <td>300011</td>\n",
       "      <td>0</td>\n",
       "    </tr>\n",
       "    <tr>\n",
       "      <th>278129</th>\n",
       "      <td>In Flames</td>\n",
       "      <td>Logged In</td>\n",
       "      <td>Emilia</td>\n",
       "      <td>F</td>\n",
       "      <td>18</td>\n",
       "      <td>House</td>\n",
       "      <td>217.65179</td>\n",
       "      <td>paid</td>\n",
       "      <td>New York-Newark-Jersey City, NY-NJ-PA</td>\n",
       "      <td>PUT</td>\n",
       "      <td>NextSong</td>\n",
       "      <td>1538336771000</td>\n",
       "      <td>500</td>\n",
       "      <td>Embody the invisible</td>\n",
       "      <td>200</td>\n",
       "      <td>1543617802000</td>\n",
       "      <td>Mozilla/5.0 (compatible; MSIE 9.0; Windows NT ...</td>\n",
       "      <td>300011</td>\n",
       "      <td>0</td>\n",
       "    </tr>\n",
       "    <tr>\n",
       "      <th>278130</th>\n",
       "      <td>Eminem</td>\n",
       "      <td>Logged In</td>\n",
       "      <td>Emilia</td>\n",
       "      <td>F</td>\n",
       "      <td>19</td>\n",
       "      <td>House</td>\n",
       "      <td>250.82730</td>\n",
       "      <td>paid</td>\n",
       "      <td>New York-Newark-Jersey City, NY-NJ-PA</td>\n",
       "      <td>PUT</td>\n",
       "      <td>NextSong</td>\n",
       "      <td>1538336771000</td>\n",
       "      <td>500</td>\n",
       "      <td>Mockingbird</td>\n",
       "      <td>200</td>\n",
       "      <td>1543618019000</td>\n",
       "      <td>Mozilla/5.0 (compatible; MSIE 9.0; Windows NT ...</td>\n",
       "      <td>300011</td>\n",
       "      <td>0</td>\n",
       "    </tr>\n",
       "    <tr>\n",
       "      <th>278131</th>\n",
       "      <td>Blink-182</td>\n",
       "      <td>Logged In</td>\n",
       "      <td>Emilia</td>\n",
       "      <td>F</td>\n",
       "      <td>20</td>\n",
       "      <td>House</td>\n",
       "      <td>173.76608</td>\n",
       "      <td>paid</td>\n",
       "      <td>New York-Newark-Jersey City, NY-NJ-PA</td>\n",
       "      <td>PUT</td>\n",
       "      <td>NextSong</td>\n",
       "      <td>1538336771000</td>\n",
       "      <td>500</td>\n",
       "      <td>Feeling This</td>\n",
       "      <td>200</td>\n",
       "      <td>1543618269000</td>\n",
       "      <td>Mozilla/5.0 (compatible; MSIE 9.0; Windows NT ...</td>\n",
       "      <td>300011</td>\n",
       "      <td>0</td>\n",
       "    </tr>\n",
       "    <tr>\n",
       "      <th>278132</th>\n",
       "      <td>None</td>\n",
       "      <td>Logged In</td>\n",
       "      <td>Emilia</td>\n",
       "      <td>F</td>\n",
       "      <td>21</td>\n",
       "      <td>House</td>\n",
       "      <td>NaN</td>\n",
       "      <td>paid</td>\n",
       "      <td>New York-Newark-Jersey City, NY-NJ-PA</td>\n",
       "      <td>PUT</td>\n",
       "      <td>Thumbs Up</td>\n",
       "      <td>1538336771000</td>\n",
       "      <td>500</td>\n",
       "      <td>None</td>\n",
       "      <td>307</td>\n",
       "      <td>1543618270000</td>\n",
       "      <td>Mozilla/5.0 (compatible; MSIE 9.0; Windows NT ...</td>\n",
       "      <td>300011</td>\n",
       "      <td>0</td>\n",
       "    </tr>\n",
       "    <tr>\n",
       "      <th>278133</th>\n",
       "      <td>Jason Mraz</td>\n",
       "      <td>Logged In</td>\n",
       "      <td>Emilia</td>\n",
       "      <td>F</td>\n",
       "      <td>22</td>\n",
       "      <td>House</td>\n",
       "      <td>218.40934</td>\n",
       "      <td>paid</td>\n",
       "      <td>New York-Newark-Jersey City, NY-NJ-PA</td>\n",
       "      <td>PUT</td>\n",
       "      <td>NextSong</td>\n",
       "      <td>1538336771000</td>\n",
       "      <td>500</td>\n",
       "      <td>Geek In The Pink [Phil Tan Remix]</td>\n",
       "      <td>200</td>\n",
       "      <td>1543618442000</td>\n",
       "      <td>Mozilla/5.0 (compatible; MSIE 9.0; Windows NT ...</td>\n",
       "      <td>300011</td>\n",
       "      <td>0</td>\n",
       "    </tr>\n",
       "    <tr>\n",
       "      <th>278134</th>\n",
       "      <td>Jessica Lea Mayfield</td>\n",
       "      <td>Logged In</td>\n",
       "      <td>Emilia</td>\n",
       "      <td>F</td>\n",
       "      <td>23</td>\n",
       "      <td>House</td>\n",
       "      <td>180.74077</td>\n",
       "      <td>paid</td>\n",
       "      <td>New York-Newark-Jersey City, NY-NJ-PA</td>\n",
       "      <td>PUT</td>\n",
       "      <td>NextSong</td>\n",
       "      <td>1538336771000</td>\n",
       "      <td>500</td>\n",
       "      <td>Greater Heights</td>\n",
       "      <td>200</td>\n",
       "      <td>1543618660000</td>\n",
       "      <td>Mozilla/5.0 (compatible; MSIE 9.0; Windows NT ...</td>\n",
       "      <td>300011</td>\n",
       "      <td>0</td>\n",
       "    </tr>\n",
       "    <tr>\n",
       "      <th>278135</th>\n",
       "      <td>Jimi Hendrix</td>\n",
       "      <td>Logged In</td>\n",
       "      <td>Emilia</td>\n",
       "      <td>F</td>\n",
       "      <td>24</td>\n",
       "      <td>House</td>\n",
       "      <td>380.68200</td>\n",
       "      <td>paid</td>\n",
       "      <td>New York-Newark-Jersey City, NY-NJ-PA</td>\n",
       "      <td>PUT</td>\n",
       "      <td>NextSong</td>\n",
       "      <td>1538336771000</td>\n",
       "      <td>500</td>\n",
       "      <td>Bleeding Heart</td>\n",
       "      <td>200</td>\n",
       "      <td>1543618840000</td>\n",
       "      <td>Mozilla/5.0 (compatible; MSIE 9.0; Windows NT ...</td>\n",
       "      <td>300011</td>\n",
       "      <td>0</td>\n",
       "    </tr>\n",
       "    <tr>\n",
       "      <th>278136</th>\n",
       "      <td>None</td>\n",
       "      <td>Logged In</td>\n",
       "      <td>Emilia</td>\n",
       "      <td>F</td>\n",
       "      <td>25</td>\n",
       "      <td>House</td>\n",
       "      <td>NaN</td>\n",
       "      <td>paid</td>\n",
       "      <td>New York-Newark-Jersey City, NY-NJ-PA</td>\n",
       "      <td>PUT</td>\n",
       "      <td>Add Friend</td>\n",
       "      <td>1538336771000</td>\n",
       "      <td>500</td>\n",
       "      <td>None</td>\n",
       "      <td>307</td>\n",
       "      <td>1543618841000</td>\n",
       "      <td>Mozilla/5.0 (compatible; MSIE 9.0; Windows NT ...</td>\n",
       "      <td>300011</td>\n",
       "      <td>0</td>\n",
       "    </tr>\n",
       "    <tr>\n",
       "      <th>278137</th>\n",
       "      <td>Jamie Foxx featuring Twista</td>\n",
       "      <td>Logged In</td>\n",
       "      <td>Emilia</td>\n",
       "      <td>F</td>\n",
       "      <td>26</td>\n",
       "      <td>House</td>\n",
       "      <td>258.79465</td>\n",
       "      <td>paid</td>\n",
       "      <td>New York-Newark-Jersey City, NY-NJ-PA</td>\n",
       "      <td>PUT</td>\n",
       "      <td>NextSong</td>\n",
       "      <td>1538336771000</td>\n",
       "      <td>500</td>\n",
       "      <td>DJ Play A Love Song</td>\n",
       "      <td>200</td>\n",
       "      <td>1543619220000</td>\n",
       "      <td>Mozilla/5.0 (compatible; MSIE 9.0; Windows NT ...</td>\n",
       "      <td>300011</td>\n",
       "      <td>0</td>\n",
       "    </tr>\n",
       "    <tr>\n",
       "      <th>278138</th>\n",
       "      <td>Aaliyah</td>\n",
       "      <td>Logged In</td>\n",
       "      <td>Emilia</td>\n",
       "      <td>F</td>\n",
       "      <td>27</td>\n",
       "      <td>House</td>\n",
       "      <td>228.28363</td>\n",
       "      <td>paid</td>\n",
       "      <td>New York-Newark-Jersey City, NY-NJ-PA</td>\n",
       "      <td>PUT</td>\n",
       "      <td>NextSong</td>\n",
       "      <td>1538336771000</td>\n",
       "      <td>500</td>\n",
       "      <td>More Than A Woman</td>\n",
       "      <td>200</td>\n",
       "      <td>1543619478000</td>\n",
       "      <td>Mozilla/5.0 (compatible; MSIE 9.0; Windows NT ...</td>\n",
       "      <td>300011</td>\n",
       "      <td>0</td>\n",
       "    </tr>\n",
       "    <tr>\n",
       "      <th>278139</th>\n",
       "      <td>None</td>\n",
       "      <td>Logged In</td>\n",
       "      <td>Emilia</td>\n",
       "      <td>F</td>\n",
       "      <td>28</td>\n",
       "      <td>House</td>\n",
       "      <td>NaN</td>\n",
       "      <td>paid</td>\n",
       "      <td>New York-Newark-Jersey City, NY-NJ-PA</td>\n",
       "      <td>GET</td>\n",
       "      <td>Home</td>\n",
       "      <td>1538336771000</td>\n",
       "      <td>500</td>\n",
       "      <td>None</td>\n",
       "      <td>200</td>\n",
       "      <td>1543619556000</td>\n",
       "      <td>Mozilla/5.0 (compatible; MSIE 9.0; Windows NT ...</td>\n",
       "      <td>300011</td>\n",
       "      <td>0</td>\n",
       "    </tr>\n",
       "    <tr>\n",
       "      <th>278140</th>\n",
       "      <td>Hermano</td>\n",
       "      <td>Logged In</td>\n",
       "      <td>Emilia</td>\n",
       "      <td>F</td>\n",
       "      <td>29</td>\n",
       "      <td>House</td>\n",
       "      <td>115.90485</td>\n",
       "      <td>paid</td>\n",
       "      <td>New York-Newark-Jersey City, NY-NJ-PA</td>\n",
       "      <td>PUT</td>\n",
       "      <td>NextSong</td>\n",
       "      <td>1538336771000</td>\n",
       "      <td>500</td>\n",
       "      <td>Letters From Madrid</td>\n",
       "      <td>200</td>\n",
       "      <td>1543619706000</td>\n",
       "      <td>Mozilla/5.0 (compatible; MSIE 9.0; Windows NT ...</td>\n",
       "      <td>300011</td>\n",
       "      <td>0</td>\n",
       "    </tr>\n",
       "    <tr>\n",
       "      <th>278141</th>\n",
       "      <td>Saliva</td>\n",
       "      <td>Logged In</td>\n",
       "      <td>Emilia</td>\n",
       "      <td>F</td>\n",
       "      <td>30</td>\n",
       "      <td>House</td>\n",
       "      <td>222.56281</td>\n",
       "      <td>paid</td>\n",
       "      <td>New York-Newark-Jersey City, NY-NJ-PA</td>\n",
       "      <td>PUT</td>\n",
       "      <td>NextSong</td>\n",
       "      <td>1538336771000</td>\n",
       "      <td>500</td>\n",
       "      <td>King Of The Stereo</td>\n",
       "      <td>200</td>\n",
       "      <td>1543619821000</td>\n",
       "      <td>Mozilla/5.0 (compatible; MSIE 9.0; Windows NT ...</td>\n",
       "      <td>300011</td>\n",
       "      <td>0</td>\n",
       "    </tr>\n",
       "    <tr>\n",
       "      <th>278142</th>\n",
       "      <td>Lupe Fiasco</td>\n",
       "      <td>Logged In</td>\n",
       "      <td>Emilia</td>\n",
       "      <td>F</td>\n",
       "      <td>31</td>\n",
       "      <td>House</td>\n",
       "      <td>273.94567</td>\n",
       "      <td>paid</td>\n",
       "      <td>New York-Newark-Jersey City, NY-NJ-PA</td>\n",
       "      <td>PUT</td>\n",
       "      <td>NextSong</td>\n",
       "      <td>1538336771000</td>\n",
       "      <td>500</td>\n",
       "      <td>Shining Down [feat. Matthew Santos] (Amended A...</td>\n",
       "      <td>200</td>\n",
       "      <td>1543620043000</td>\n",
       "      <td>Mozilla/5.0 (compatible; MSIE 9.0; Windows NT ...</td>\n",
       "      <td>300011</td>\n",
       "      <td>0</td>\n",
       "    </tr>\n",
       "    <tr>\n",
       "      <th>278143</th>\n",
       "      <td>Harmonia</td>\n",
       "      <td>Logged In</td>\n",
       "      <td>Emilia</td>\n",
       "      <td>F</td>\n",
       "      <td>32</td>\n",
       "      <td>House</td>\n",
       "      <td>655.77751</td>\n",
       "      <td>paid</td>\n",
       "      <td>New York-Newark-Jersey City, NY-NJ-PA</td>\n",
       "      <td>PUT</td>\n",
       "      <td>NextSong</td>\n",
       "      <td>1538336771000</td>\n",
       "      <td>500</td>\n",
       "      <td>Sehr kosmisch</td>\n",
       "      <td>200</td>\n",
       "      <td>1543620316000</td>\n",
       "      <td>Mozilla/5.0 (compatible; MSIE 9.0; Windows NT ...</td>\n",
       "      <td>300011</td>\n",
       "      <td>0</td>\n",
       "    </tr>\n",
       "    <tr>\n",
       "      <th>278144</th>\n",
       "      <td>The Rolling Stones</td>\n",
       "      <td>Logged In</td>\n",
       "      <td>Emilia</td>\n",
       "      <td>F</td>\n",
       "      <td>33</td>\n",
       "      <td>House</td>\n",
       "      <td>225.30567</td>\n",
       "      <td>paid</td>\n",
       "      <td>New York-Newark-Jersey City, NY-NJ-PA</td>\n",
       "      <td>PUT</td>\n",
       "      <td>NextSong</td>\n",
       "      <td>1538336771000</td>\n",
       "      <td>500</td>\n",
       "      <td>Tops</td>\n",
       "      <td>200</td>\n",
       "      <td>1543620971000</td>\n",
       "      <td>Mozilla/5.0 (compatible; MSIE 9.0; Windows NT ...</td>\n",
       "      <td>300011</td>\n",
       "      <td>0</td>\n",
       "    </tr>\n",
       "    <tr>\n",
       "      <th>278145</th>\n",
       "      <td>Alejandro Sanz</td>\n",
       "      <td>Logged In</td>\n",
       "      <td>Emilia</td>\n",
       "      <td>F</td>\n",
       "      <td>34</td>\n",
       "      <td>House</td>\n",
       "      <td>241.52771</td>\n",
       "      <td>paid</td>\n",
       "      <td>New York-Newark-Jersey City, NY-NJ-PA</td>\n",
       "      <td>PUT</td>\n",
       "      <td>NextSong</td>\n",
       "      <td>1538336771000</td>\n",
       "      <td>500</td>\n",
       "      <td>Tu no tienes alma</td>\n",
       "      <td>200</td>\n",
       "      <td>1543621196000</td>\n",
       "      <td>Mozilla/5.0 (compatible; MSIE 9.0; Windows NT ...</td>\n",
       "      <td>300011</td>\n",
       "      <td>0</td>\n",
       "    </tr>\n",
       "    <tr>\n",
       "      <th>278146</th>\n",
       "      <td>Valley of the Giants</td>\n",
       "      <td>Logged In</td>\n",
       "      <td>Emilia</td>\n",
       "      <td>F</td>\n",
       "      <td>35</td>\n",
       "      <td>House</td>\n",
       "      <td>420.46649</td>\n",
       "      <td>paid</td>\n",
       "      <td>New York-Newark-Jersey City, NY-NJ-PA</td>\n",
       "      <td>PUT</td>\n",
       "      <td>NextSong</td>\n",
       "      <td>1538336771000</td>\n",
       "      <td>500</td>\n",
       "      <td>Bala Bay Inn</td>\n",
       "      <td>200</td>\n",
       "      <td>1543621437000</td>\n",
       "      <td>Mozilla/5.0 (compatible; MSIE 9.0; Windows NT ...</td>\n",
       "      <td>300011</td>\n",
       "      <td>0</td>\n",
       "    </tr>\n",
       "    <tr>\n",
       "      <th>278147</th>\n",
       "      <td>None</td>\n",
       "      <td>Logged In</td>\n",
       "      <td>Emilia</td>\n",
       "      <td>F</td>\n",
       "      <td>36</td>\n",
       "      <td>House</td>\n",
       "      <td>NaN</td>\n",
       "      <td>paid</td>\n",
       "      <td>New York-Newark-Jersey City, NY-NJ-PA</td>\n",
       "      <td>GET</td>\n",
       "      <td>Home</td>\n",
       "      <td>1538336771000</td>\n",
       "      <td>500</td>\n",
       "      <td>None</td>\n",
       "      <td>200</td>\n",
       "      <td>1543621485000</td>\n",
       "      <td>Mozilla/5.0 (compatible; MSIE 9.0; Windows NT ...</td>\n",
       "      <td>300011</td>\n",
       "      <td>0</td>\n",
       "    </tr>\n",
       "    <tr>\n",
       "      <th>278148</th>\n",
       "      <td>Olive</td>\n",
       "      <td>Logged In</td>\n",
       "      <td>Emilia</td>\n",
       "      <td>F</td>\n",
       "      <td>37</td>\n",
       "      <td>House</td>\n",
       "      <td>264.12363</td>\n",
       "      <td>paid</td>\n",
       "      <td>New York-Newark-Jersey City, NY-NJ-PA</td>\n",
       "      <td>PUT</td>\n",
       "      <td>NextSong</td>\n",
       "      <td>1538336771000</td>\n",
       "      <td>500</td>\n",
       "      <td>You're Not Alone</td>\n",
       "      <td>200</td>\n",
       "      <td>1543621857000</td>\n",
       "      <td>Mozilla/5.0 (compatible; MSIE 9.0; Windows NT ...</td>\n",
       "      <td>300011</td>\n",
       "      <td>0</td>\n",
       "    </tr>\n",
       "    <tr>\n",
       "      <th>278149</th>\n",
       "      <td>Iron Maiden</td>\n",
       "      <td>Logged In</td>\n",
       "      <td>Emilia</td>\n",
       "      <td>F</td>\n",
       "      <td>38</td>\n",
       "      <td>House</td>\n",
       "      <td>258.66404</td>\n",
       "      <td>paid</td>\n",
       "      <td>New York-Newark-Jersey City, NY-NJ-PA</td>\n",
       "      <td>PUT</td>\n",
       "      <td>NextSong</td>\n",
       "      <td>1538336771000</td>\n",
       "      <td>500</td>\n",
       "      <td>Murders In The Rue Morgue (1998 Digital Remaster)</td>\n",
       "      <td>200</td>\n",
       "      <td>1543622121000</td>\n",
       "      <td>Mozilla/5.0 (compatible; MSIE 9.0; Windows NT ...</td>\n",
       "      <td>300011</td>\n",
       "      <td>0</td>\n",
       "    </tr>\n",
       "    <tr>\n",
       "      <th>278150</th>\n",
       "      <td>None</td>\n",
       "      <td>Logged In</td>\n",
       "      <td>Emilia</td>\n",
       "      <td>F</td>\n",
       "      <td>39</td>\n",
       "      <td>House</td>\n",
       "      <td>NaN</td>\n",
       "      <td>paid</td>\n",
       "      <td>New York-Newark-Jersey City, NY-NJ-PA</td>\n",
       "      <td>PUT</td>\n",
       "      <td>Logout</td>\n",
       "      <td>1538336771000</td>\n",
       "      <td>500</td>\n",
       "      <td>None</td>\n",
       "      <td>307</td>\n",
       "      <td>1543622122000</td>\n",
       "      <td>Mozilla/5.0 (compatible; MSIE 9.0; Windows NT ...</td>\n",
       "      <td>300011</td>\n",
       "      <td>0</td>\n",
       "    </tr>\n",
       "    <tr>\n",
       "      <th>278151</th>\n",
       "      <td>None</td>\n",
       "      <td>Logged In</td>\n",
       "      <td>Emilia</td>\n",
       "      <td>F</td>\n",
       "      <td>43</td>\n",
       "      <td>House</td>\n",
       "      <td>NaN</td>\n",
       "      <td>paid</td>\n",
       "      <td>New York-Newark-Jersey City, NY-NJ-PA</td>\n",
       "      <td>GET</td>\n",
       "      <td>Home</td>\n",
       "      <td>1538336771000</td>\n",
       "      <td>500</td>\n",
       "      <td>None</td>\n",
       "      <td>200</td>\n",
       "      <td>1543622248000</td>\n",
       "      <td>Mozilla/5.0 (compatible; MSIE 9.0; Windows NT ...</td>\n",
       "      <td>300011</td>\n",
       "      <td>0</td>\n",
       "    </tr>\n",
       "    <tr>\n",
       "      <th>278152</th>\n",
       "      <td>None</td>\n",
       "      <td>Logged In</td>\n",
       "      <td>Emilia</td>\n",
       "      <td>F</td>\n",
       "      <td>44</td>\n",
       "      <td>House</td>\n",
       "      <td>NaN</td>\n",
       "      <td>paid</td>\n",
       "      <td>New York-Newark-Jersey City, NY-NJ-PA</td>\n",
       "      <td>GET</td>\n",
       "      <td>About</td>\n",
       "      <td>1538336771000</td>\n",
       "      <td>500</td>\n",
       "      <td>None</td>\n",
       "      <td>200</td>\n",
       "      <td>1543622398000</td>\n",
       "      <td>Mozilla/5.0 (compatible; MSIE 9.0; Windows NT ...</td>\n",
       "      <td>300011</td>\n",
       "      <td>0</td>\n",
       "    </tr>\n",
       "    <tr>\n",
       "      <th>278153</th>\n",
       "      <td>Camera Obscura</td>\n",
       "      <td>Logged In</td>\n",
       "      <td>Emilia</td>\n",
       "      <td>F</td>\n",
       "      <td>45</td>\n",
       "      <td>House</td>\n",
       "      <td>170.89261</td>\n",
       "      <td>paid</td>\n",
       "      <td>New York-Newark-Jersey City, NY-NJ-PA</td>\n",
       "      <td>PUT</td>\n",
       "      <td>NextSong</td>\n",
       "      <td>1538336771000</td>\n",
       "      <td>500</td>\n",
       "      <td>The Sun On His Back</td>\n",
       "      <td>200</td>\n",
       "      <td>1543622411000</td>\n",
       "      <td>Mozilla/5.0 (compatible; MSIE 9.0; Windows NT ...</td>\n",
       "      <td>300011</td>\n",
       "      <td>0</td>\n",
       "    </tr>\n",
       "  </tbody>\n",
       "</table>\n",
       "<p>278154 rows × 19 columns</p>\n",
       "</div>"
      ],
      "text/plain": [
       "                                    artist       auth firstName gender  \\\n",
       "0                           Martha Tilston  Logged In     Colin      M   \n",
       "1                         Five Iron Frenzy  Logged In     Micah      M   \n",
       "2                             Adam Lambert  Logged In     Colin      M   \n",
       "3                                   Enigma  Logged In     Micah      M   \n",
       "4                                Daft Punk  Logged In     Colin      M   \n",
       "5                 The All-American Rejects  Logged In     Micah      M   \n",
       "6            The Velvet Underground / Nico  Logged In     Micah      M   \n",
       "7                             Starflyer 59  Logged In     Colin      M   \n",
       "8                                     None  Logged In     Colin      M   \n",
       "9                                 Frumpies  Logged In     Colin      M   \n",
       "10                            Britt Nicole  Logged In     Micah      M   \n",
       "11                                    None  Logged In     Micah      M   \n",
       "12      Edward Sharpe & The Magnetic Zeros  Logged In     Colin      M   \n",
       "13                                   Tesla  Logged In     Micah      M   \n",
       "14                                    None  Logged In     Micah      M   \n",
       "15                             Stan Mosley  Logged In     Colin      M   \n",
       "16                  Florence + The Machine  Logged In     Micah      M   \n",
       "17                       Tokyo Police Club  Logged In   Ashlynn      F   \n",
       "18                                 Orishas  Logged In     Colin      M   \n",
       "19                                 Ratatat  Logged In     Micah      M   \n",
       "20                           Manolo Garcia  Logged In   Ashlynn      F   \n",
       "21                                Downhere  Logged In     Colin      M   \n",
       "22                                   Modjo  Logged In     Alexi      F   \n",
       "23                       MÃÂ¶tley CrÃÂ¼e  Logged In     Micah      M   \n",
       "24                             David Bowie  Logged In   Ashlynn      F   \n",
       "25                                 Skillet  Logged In     Colin      M   \n",
       "26                           Edwyn Collins  Logged In     Alexi      F   \n",
       "27                            Telepopmusik  Logged In     Micah      M   \n",
       "28                           Kings Of Leon  Logged In   Ashlynn      F   \n",
       "29                  Florence + The Machine  Logged In     Colin      M   \n",
       "...                                    ...        ...       ...    ...   \n",
       "278124                                Muse  Logged In    Emilia      F   \n",
       "278125                Natural Born Deejays  Logged In    Emilia      F   \n",
       "278126                                None  Logged In    Emilia      F   \n",
       "278127                              Shaggy  Logged In    Emilia      F   \n",
       "278128                            Natiruts  Logged In    Emilia      F   \n",
       "278129                           In Flames  Logged In    Emilia      F   \n",
       "278130                              Eminem  Logged In    Emilia      F   \n",
       "278131                           Blink-182  Logged In    Emilia      F   \n",
       "278132                                None  Logged In    Emilia      F   \n",
       "278133                          Jason Mraz  Logged In    Emilia      F   \n",
       "278134                Jessica Lea Mayfield  Logged In    Emilia      F   \n",
       "278135                        Jimi Hendrix  Logged In    Emilia      F   \n",
       "278136                                None  Logged In    Emilia      F   \n",
       "278137         Jamie Foxx featuring Twista  Logged In    Emilia      F   \n",
       "278138                             Aaliyah  Logged In    Emilia      F   \n",
       "278139                                None  Logged In    Emilia      F   \n",
       "278140                             Hermano  Logged In    Emilia      F   \n",
       "278141                              Saliva  Logged In    Emilia      F   \n",
       "278142                         Lupe Fiasco  Logged In    Emilia      F   \n",
       "278143                            Harmonia  Logged In    Emilia      F   \n",
       "278144                  The Rolling Stones  Logged In    Emilia      F   \n",
       "278145                      Alejandro Sanz  Logged In    Emilia      F   \n",
       "278146                Valley of the Giants  Logged In    Emilia      F   \n",
       "278147                                None  Logged In    Emilia      F   \n",
       "278148                               Olive  Logged In    Emilia      F   \n",
       "278149                         Iron Maiden  Logged In    Emilia      F   \n",
       "278150                                None  Logged In    Emilia      F   \n",
       "278151                                None  Logged In    Emilia      F   \n",
       "278152                                None  Logged In    Emilia      F   \n",
       "278153                      Camera Obscura  Logged In    Emilia      F   \n",
       "\n",
       "        itemInSession  lastName     length level  \\\n",
       "0                  50   Freeman  277.89016  paid   \n",
       "1                  79      Long  236.09424  free   \n",
       "2                  51   Freeman  282.82730  paid   \n",
       "3                  80      Long  262.71302  free   \n",
       "4                  52   Freeman  223.60771  paid   \n",
       "5                  81      Long  208.29995  free   \n",
       "6                  82      Long  260.46649  free   \n",
       "7                  53   Freeman  185.44281  paid   \n",
       "8                  54   Freeman        NaN  paid   \n",
       "9                  55   Freeman  134.47791  paid   \n",
       "10                 83      Long  229.87710  free   \n",
       "11                 84      Long        NaN  free   \n",
       "12                 56   Freeman  223.58159  paid   \n",
       "13                 85      Long  201.06404  free   \n",
       "14                 86      Long        NaN  free   \n",
       "15                 57   Freeman  246.69995  paid   \n",
       "16                 87      Long  168.64608  free   \n",
       "17                  0  Williams  166.11220  free   \n",
       "18                 58   Freeman  222.22322  paid   \n",
       "19                 88      Long  229.77261  free   \n",
       "20                  1  Williams  283.74159  free   \n",
       "21                 59   Freeman  223.92118  paid   \n",
       "22                  0    Warren  250.93179  paid   \n",
       "23                 89      Long  231.26159  free   \n",
       "24                  2  Williams  174.41914  free   \n",
       "25                 60   Freeman  233.32526  paid   \n",
       "26                  1    Warren  216.84200  paid   \n",
       "27                 90      Long  241.60608  free   \n",
       "28                  3  Williams  307.46077  free   \n",
       "29                 61   Freeman  219.66322  paid   \n",
       "...               ...       ...        ...   ...   \n",
       "278124             13     House  228.93669  paid   \n",
       "278125             14     House  203.85914  paid   \n",
       "278126             15     House        NaN  paid   \n",
       "278127             16     House  201.37751  paid   \n",
       "278128             17     House  210.88608  paid   \n",
       "278129             18     House  217.65179  paid   \n",
       "278130             19     House  250.82730  paid   \n",
       "278131             20     House  173.76608  paid   \n",
       "278132             21     House        NaN  paid   \n",
       "278133             22     House  218.40934  paid   \n",
       "278134             23     House  180.74077  paid   \n",
       "278135             24     House  380.68200  paid   \n",
       "278136             25     House        NaN  paid   \n",
       "278137             26     House  258.79465  paid   \n",
       "278138             27     House  228.28363  paid   \n",
       "278139             28     House        NaN  paid   \n",
       "278140             29     House  115.90485  paid   \n",
       "278141             30     House  222.56281  paid   \n",
       "278142             31     House  273.94567  paid   \n",
       "278143             32     House  655.77751  paid   \n",
       "278144             33     House  225.30567  paid   \n",
       "278145             34     House  241.52771  paid   \n",
       "278146             35     House  420.46649  paid   \n",
       "278147             36     House        NaN  paid   \n",
       "278148             37     House  264.12363  paid   \n",
       "278149             38     House  258.66404  paid   \n",
       "278150             39     House        NaN  paid   \n",
       "278151             43     House        NaN  paid   \n",
       "278152             44     House        NaN  paid   \n",
       "278153             45     House  170.89261  paid   \n",
       "\n",
       "                                     location method             page  \\\n",
       "0                             Bakersfield, CA    PUT         NextSong   \n",
       "1              Boston-Cambridge-Newton, MA-NH    PUT         NextSong   \n",
       "2                             Bakersfield, CA    PUT         NextSong   \n",
       "3              Boston-Cambridge-Newton, MA-NH    PUT         NextSong   \n",
       "4                             Bakersfield, CA    PUT         NextSong   \n",
       "5              Boston-Cambridge-Newton, MA-NH    PUT         NextSong   \n",
       "6              Boston-Cambridge-Newton, MA-NH    PUT         NextSong   \n",
       "7                             Bakersfield, CA    PUT         NextSong   \n",
       "8                             Bakersfield, CA    PUT  Add to Playlist   \n",
       "9                             Bakersfield, CA    PUT         NextSong   \n",
       "10             Boston-Cambridge-Newton, MA-NH    PUT         NextSong   \n",
       "11             Boston-Cambridge-Newton, MA-NH    GET      Roll Advert   \n",
       "12                            Bakersfield, CA    PUT         NextSong   \n",
       "13             Boston-Cambridge-Newton, MA-NH    PUT         NextSong   \n",
       "14             Boston-Cambridge-Newton, MA-NH    PUT        Thumbs Up   \n",
       "15                            Bakersfield, CA    PUT         NextSong   \n",
       "16             Boston-Cambridge-Newton, MA-NH    PUT         NextSong   \n",
       "17                            Tallahassee, FL    PUT         NextSong   \n",
       "18                            Bakersfield, CA    PUT         NextSong   \n",
       "19             Boston-Cambridge-Newton, MA-NH    PUT         NextSong   \n",
       "20                            Tallahassee, FL    PUT         NextSong   \n",
       "21                            Bakersfield, CA    PUT         NextSong   \n",
       "22                 Spokane-Spokane Valley, WA    PUT         NextSong   \n",
       "23             Boston-Cambridge-Newton, MA-NH    PUT         NextSong   \n",
       "24                            Tallahassee, FL    PUT         NextSong   \n",
       "25                            Bakersfield, CA    PUT         NextSong   \n",
       "26                 Spokane-Spokane Valley, WA    PUT         NextSong   \n",
       "27             Boston-Cambridge-Newton, MA-NH    PUT         NextSong   \n",
       "28                            Tallahassee, FL    PUT         NextSong   \n",
       "29                            Bakersfield, CA    PUT         NextSong   \n",
       "...                                       ...    ...              ...   \n",
       "278124  New York-Newark-Jersey City, NY-NJ-PA    PUT         NextSong   \n",
       "278125  New York-Newark-Jersey City, NY-NJ-PA    PUT         NextSong   \n",
       "278126  New York-Newark-Jersey City, NY-NJ-PA    GET             Home   \n",
       "278127  New York-Newark-Jersey City, NY-NJ-PA    PUT         NextSong   \n",
       "278128  New York-Newark-Jersey City, NY-NJ-PA    PUT         NextSong   \n",
       "278129  New York-Newark-Jersey City, NY-NJ-PA    PUT         NextSong   \n",
       "278130  New York-Newark-Jersey City, NY-NJ-PA    PUT         NextSong   \n",
       "278131  New York-Newark-Jersey City, NY-NJ-PA    PUT         NextSong   \n",
       "278132  New York-Newark-Jersey City, NY-NJ-PA    PUT        Thumbs Up   \n",
       "278133  New York-Newark-Jersey City, NY-NJ-PA    PUT         NextSong   \n",
       "278134  New York-Newark-Jersey City, NY-NJ-PA    PUT         NextSong   \n",
       "278135  New York-Newark-Jersey City, NY-NJ-PA    PUT         NextSong   \n",
       "278136  New York-Newark-Jersey City, NY-NJ-PA    PUT       Add Friend   \n",
       "278137  New York-Newark-Jersey City, NY-NJ-PA    PUT         NextSong   \n",
       "278138  New York-Newark-Jersey City, NY-NJ-PA    PUT         NextSong   \n",
       "278139  New York-Newark-Jersey City, NY-NJ-PA    GET             Home   \n",
       "278140  New York-Newark-Jersey City, NY-NJ-PA    PUT         NextSong   \n",
       "278141  New York-Newark-Jersey City, NY-NJ-PA    PUT         NextSong   \n",
       "278142  New York-Newark-Jersey City, NY-NJ-PA    PUT         NextSong   \n",
       "278143  New York-Newark-Jersey City, NY-NJ-PA    PUT         NextSong   \n",
       "278144  New York-Newark-Jersey City, NY-NJ-PA    PUT         NextSong   \n",
       "278145  New York-Newark-Jersey City, NY-NJ-PA    PUT         NextSong   \n",
       "278146  New York-Newark-Jersey City, NY-NJ-PA    PUT         NextSong   \n",
       "278147  New York-Newark-Jersey City, NY-NJ-PA    GET             Home   \n",
       "278148  New York-Newark-Jersey City, NY-NJ-PA    PUT         NextSong   \n",
       "278149  New York-Newark-Jersey City, NY-NJ-PA    PUT         NextSong   \n",
       "278150  New York-Newark-Jersey City, NY-NJ-PA    PUT           Logout   \n",
       "278151  New York-Newark-Jersey City, NY-NJ-PA    GET             Home   \n",
       "278152  New York-Newark-Jersey City, NY-NJ-PA    GET            About   \n",
       "278153  New York-Newark-Jersey City, NY-NJ-PA    PUT         NextSong   \n",
       "\n",
       "         registration  sessionId  \\\n",
       "0       1538173362000         29   \n",
       "1       1538331630000          8   \n",
       "2       1538173362000         29   \n",
       "3       1538331630000          8   \n",
       "4       1538173362000         29   \n",
       "5       1538331630000          8   \n",
       "6       1538331630000          8   \n",
       "7       1538173362000         29   \n",
       "8       1538173362000         29   \n",
       "9       1538173362000         29   \n",
       "10      1538331630000          8   \n",
       "11      1538331630000          8   \n",
       "12      1538173362000         29   \n",
       "13      1538331630000          8   \n",
       "14      1538331630000          8   \n",
       "15      1538173362000         29   \n",
       "16      1538331630000          8   \n",
       "17      1537365219000        217   \n",
       "18      1538173362000         29   \n",
       "19      1538331630000          8   \n",
       "20      1537365219000        217   \n",
       "21      1538173362000         29   \n",
       "22      1532482662000         53   \n",
       "23      1538331630000          8   \n",
       "24      1537365219000        217   \n",
       "25      1538173362000         29   \n",
       "26      1532482662000         53   \n",
       "27      1538331630000          8   \n",
       "28      1537365219000        217   \n",
       "29      1538173362000         29   \n",
       "...               ...        ...   \n",
       "278124  1538336771000        500   \n",
       "278125  1538336771000        500   \n",
       "278126  1538336771000        500   \n",
       "278127  1538336771000        500   \n",
       "278128  1538336771000        500   \n",
       "278129  1538336771000        500   \n",
       "278130  1538336771000        500   \n",
       "278131  1538336771000        500   \n",
       "278132  1538336771000        500   \n",
       "278133  1538336771000        500   \n",
       "278134  1538336771000        500   \n",
       "278135  1538336771000        500   \n",
       "278136  1538336771000        500   \n",
       "278137  1538336771000        500   \n",
       "278138  1538336771000        500   \n",
       "278139  1538336771000        500   \n",
       "278140  1538336771000        500   \n",
       "278141  1538336771000        500   \n",
       "278142  1538336771000        500   \n",
       "278143  1538336771000        500   \n",
       "278144  1538336771000        500   \n",
       "278145  1538336771000        500   \n",
       "278146  1538336771000        500   \n",
       "278147  1538336771000        500   \n",
       "278148  1538336771000        500   \n",
       "278149  1538336771000        500   \n",
       "278150  1538336771000        500   \n",
       "278151  1538336771000        500   \n",
       "278152  1538336771000        500   \n",
       "278153  1538336771000        500   \n",
       "\n",
       "                                                     song  status  \\\n",
       "0                                               Rockpools     200   \n",
       "1                                                  Canada     200   \n",
       "2                                       Time For Miracles     200   \n",
       "3                             Knocking On Forbidden Doors     200   \n",
       "4                           Harder Better Faster Stronger     200   \n",
       "5                                          Don't Leave Me     200   \n",
       "6                                             Run Run Run     200   \n",
       "7                          Passengers (Old Album Version)     200   \n",
       "8                                                    None     200   \n",
       "9                                              Fuck Kitty     200   \n",
       "10                                      Walk On The Water     200   \n",
       "11                                                   None     200   \n",
       "12                                                   Jade     200   \n",
       "13                                         Gettin' Better     200   \n",
       "14                                                   None     307   \n",
       "15                                      So-Called Friends     200   \n",
       "16                                    You've Got The Love     200   \n",
       "17                                   Citizens Of Tomorrow     200   \n",
       "18                                              Represent     200   \n",
       "19                                                 Swisha     200   \n",
       "20                                   Carbon Y Ramas Secas     200   \n",
       "21                                              Here I Am     200   \n",
       "22                                            What I Mean     200   \n",
       "23                                           Sticky Sweet     200   \n",
       "24                         Sorrow (1997 Digital Remaster)     200   \n",
       "25                             Rebirthing (Album Version)     200   \n",
       "26         You'll Never Know (My Love) (Bovellian 07 Mix)     200   \n",
       "27                                                  Smile     200   \n",
       "28                                             I Want You     200   \n",
       "29                         Dog Days Are Over (Radio Edit)     200   \n",
       "...                                                   ...     ...   \n",
       "278124                                          Endlessly     200   \n",
       "278125                                            Breathe     200   \n",
       "278126                                               None     200   \n",
       "278127                                          Lucky Day     200   \n",
       "278128                   Jamaica Roots II(Agora E Sempre)     200   \n",
       "278129                               Embody the invisible     200   \n",
       "278130                                        Mockingbird     200   \n",
       "278131                                       Feeling This     200   \n",
       "278132                                               None     307   \n",
       "278133                  Geek In The Pink [Phil Tan Remix]     200   \n",
       "278134                                    Greater Heights     200   \n",
       "278135                                     Bleeding Heart     200   \n",
       "278136                                               None     307   \n",
       "278137                                DJ Play A Love Song     200   \n",
       "278138                                  More Than A Woman     200   \n",
       "278139                                               None     200   \n",
       "278140                                Letters From Madrid     200   \n",
       "278141                                 King Of The Stereo     200   \n",
       "278142  Shining Down [feat. Matthew Santos] (Amended A...     200   \n",
       "278143                                      Sehr kosmisch     200   \n",
       "278144                                               Tops     200   \n",
       "278145                                  Tu no tienes alma     200   \n",
       "278146                                       Bala Bay Inn     200   \n",
       "278147                                               None     200   \n",
       "278148                                   You're Not Alone     200   \n",
       "278149  Murders In The Rue Morgue (1998 Digital Remaster)     200   \n",
       "278150                                               None     307   \n",
       "278151                                               None     200   \n",
       "278152                                               None     200   \n",
       "278153                                The Sun On His Back     200   \n",
       "\n",
       "                   ts                                          userAgent  \\\n",
       "0       1538352117000  Mozilla/5.0 (Windows NT 6.1; WOW64; rv:31.0) G...   \n",
       "1       1538352180000  \"Mozilla/5.0 (Windows NT 6.1; WOW64) AppleWebK...   \n",
       "2       1538352394000  Mozilla/5.0 (Windows NT 6.1; WOW64; rv:31.0) G...   \n",
       "3       1538352416000  \"Mozilla/5.0 (Windows NT 6.1; WOW64) AppleWebK...   \n",
       "4       1538352676000  Mozilla/5.0 (Windows NT 6.1; WOW64; rv:31.0) G...   \n",
       "5       1538352678000  \"Mozilla/5.0 (Windows NT 6.1; WOW64) AppleWebK...   \n",
       "6       1538352886000  \"Mozilla/5.0 (Windows NT 6.1; WOW64) AppleWebK...   \n",
       "7       1538352899000  Mozilla/5.0 (Windows NT 6.1; WOW64; rv:31.0) G...   \n",
       "8       1538352905000  Mozilla/5.0 (Windows NT 6.1; WOW64; rv:31.0) G...   \n",
       "9       1538353084000  Mozilla/5.0 (Windows NT 6.1; WOW64; rv:31.0) G...   \n",
       "10      1538353146000  \"Mozilla/5.0 (Windows NT 6.1; WOW64) AppleWebK...   \n",
       "11      1538353150000  \"Mozilla/5.0 (Windows NT 6.1; WOW64) AppleWebK...   \n",
       "12      1538353218000  Mozilla/5.0 (Windows NT 6.1; WOW64; rv:31.0) G...   \n",
       "13      1538353375000  \"Mozilla/5.0 (Windows NT 6.1; WOW64) AppleWebK...   \n",
       "14      1538353376000  \"Mozilla/5.0 (Windows NT 6.1; WOW64) AppleWebK...   \n",
       "15      1538353441000  Mozilla/5.0 (Windows NT 6.1; WOW64; rv:31.0) G...   \n",
       "16      1538353576000  \"Mozilla/5.0 (Windows NT 6.1; WOW64) AppleWebK...   \n",
       "17      1538353668000  \"Mozilla/5.0 (Macintosh; Intel Mac OS X 10_9_4...   \n",
       "18      1538353687000  Mozilla/5.0 (Windows NT 6.1; WOW64; rv:31.0) G...   \n",
       "19      1538353744000  \"Mozilla/5.0 (Windows NT 6.1; WOW64) AppleWebK...   \n",
       "20      1538353834000  \"Mozilla/5.0 (Macintosh; Intel Mac OS X 10_9_4...   \n",
       "21      1538353909000  Mozilla/5.0 (Windows NT 6.1; WOW64; rv:31.0) G...   \n",
       "22      1538353930000  Mozilla/5.0 (Windows NT 6.1; WOW64; rv:32.0) G...   \n",
       "23      1538353973000  \"Mozilla/5.0 (Windows NT 6.1; WOW64) AppleWebK...   \n",
       "24      1538354117000  \"Mozilla/5.0 (Macintosh; Intel Mac OS X 10_9_4...   \n",
       "25      1538354132000  Mozilla/5.0 (Windows NT 6.1; WOW64; rv:31.0) G...   \n",
       "26      1538354180000  Mozilla/5.0 (Windows NT 6.1; WOW64; rv:32.0) G...   \n",
       "27      1538354204000  \"Mozilla/5.0 (Windows NT 6.1; WOW64) AppleWebK...   \n",
       "28      1538354291000  \"Mozilla/5.0 (Macintosh; Intel Mac OS X 10_9_4...   \n",
       "29      1538354365000  Mozilla/5.0 (Windows NT 6.1; WOW64; rv:31.0) G...   \n",
       "...               ...                                                ...   \n",
       "278124  1543616883000  Mozilla/5.0 (compatible; MSIE 9.0; Windows NT ...   \n",
       "278125  1543617111000  Mozilla/5.0 (compatible; MSIE 9.0; Windows NT ...   \n",
       "278126  1543617317000  Mozilla/5.0 (compatible; MSIE 9.0; Windows NT ...   \n",
       "278127  1543617391000  Mozilla/5.0 (compatible; MSIE 9.0; Windows NT ...   \n",
       "278128  1543617592000  Mozilla/5.0 (compatible; MSIE 9.0; Windows NT ...   \n",
       "278129  1543617802000  Mozilla/5.0 (compatible; MSIE 9.0; Windows NT ...   \n",
       "278130  1543618019000  Mozilla/5.0 (compatible; MSIE 9.0; Windows NT ...   \n",
       "278131  1543618269000  Mozilla/5.0 (compatible; MSIE 9.0; Windows NT ...   \n",
       "278132  1543618270000  Mozilla/5.0 (compatible; MSIE 9.0; Windows NT ...   \n",
       "278133  1543618442000  Mozilla/5.0 (compatible; MSIE 9.0; Windows NT ...   \n",
       "278134  1543618660000  Mozilla/5.0 (compatible; MSIE 9.0; Windows NT ...   \n",
       "278135  1543618840000  Mozilla/5.0 (compatible; MSIE 9.0; Windows NT ...   \n",
       "278136  1543618841000  Mozilla/5.0 (compatible; MSIE 9.0; Windows NT ...   \n",
       "278137  1543619220000  Mozilla/5.0 (compatible; MSIE 9.0; Windows NT ...   \n",
       "278138  1543619478000  Mozilla/5.0 (compatible; MSIE 9.0; Windows NT ...   \n",
       "278139  1543619556000  Mozilla/5.0 (compatible; MSIE 9.0; Windows NT ...   \n",
       "278140  1543619706000  Mozilla/5.0 (compatible; MSIE 9.0; Windows NT ...   \n",
       "278141  1543619821000  Mozilla/5.0 (compatible; MSIE 9.0; Windows NT ...   \n",
       "278142  1543620043000  Mozilla/5.0 (compatible; MSIE 9.0; Windows NT ...   \n",
       "278143  1543620316000  Mozilla/5.0 (compatible; MSIE 9.0; Windows NT ...   \n",
       "278144  1543620971000  Mozilla/5.0 (compatible; MSIE 9.0; Windows NT ...   \n",
       "278145  1543621196000  Mozilla/5.0 (compatible; MSIE 9.0; Windows NT ...   \n",
       "278146  1543621437000  Mozilla/5.0 (compatible; MSIE 9.0; Windows NT ...   \n",
       "278147  1543621485000  Mozilla/5.0 (compatible; MSIE 9.0; Windows NT ...   \n",
       "278148  1543621857000  Mozilla/5.0 (compatible; MSIE 9.0; Windows NT ...   \n",
       "278149  1543622121000  Mozilla/5.0 (compatible; MSIE 9.0; Windows NT ...   \n",
       "278150  1543622122000  Mozilla/5.0 (compatible; MSIE 9.0; Windows NT ...   \n",
       "278151  1543622248000  Mozilla/5.0 (compatible; MSIE 9.0; Windows NT ...   \n",
       "278152  1543622398000  Mozilla/5.0 (compatible; MSIE 9.0; Windows NT ...   \n",
       "278153  1543622411000  Mozilla/5.0 (compatible; MSIE 9.0; Windows NT ...   \n",
       "\n",
       "        userId  Churn  \n",
       "0           30      0  \n",
       "1            9      0  \n",
       "2           30      0  \n",
       "3            9      0  \n",
       "4           30      0  \n",
       "5            9      0  \n",
       "6            9      0  \n",
       "7           30      0  \n",
       "8           30      0  \n",
       "9           30      0  \n",
       "10           9      0  \n",
       "11           9      0  \n",
       "12          30      0  \n",
       "13           9      0  \n",
       "14           9      0  \n",
       "15          30      0  \n",
       "16           9      0  \n",
       "17          74      0  \n",
       "18          30      0  \n",
       "19           9      0  \n",
       "20          74      0  \n",
       "21          30      0  \n",
       "22          54      0  \n",
       "23           9      0  \n",
       "24          74      0  \n",
       "25          30      0  \n",
       "26          54      0  \n",
       "27           9      0  \n",
       "28          74      0  \n",
       "29          30      0  \n",
       "...        ...    ...  \n",
       "278124  300011      0  \n",
       "278125  300011      0  \n",
       "278126  300011      0  \n",
       "278127  300011      0  \n",
       "278128  300011      0  \n",
       "278129  300011      0  \n",
       "278130  300011      0  \n",
       "278131  300011      0  \n",
       "278132  300011      0  \n",
       "278133  300011      0  \n",
       "278134  300011      0  \n",
       "278135  300011      0  \n",
       "278136  300011      0  \n",
       "278137  300011      0  \n",
       "278138  300011      0  \n",
       "278139  300011      0  \n",
       "278140  300011      0  \n",
       "278141  300011      0  \n",
       "278142  300011      0  \n",
       "278143  300011      0  \n",
       "278144  300011      0  \n",
       "278145  300011      0  \n",
       "278146  300011      0  \n",
       "278147  300011      0  \n",
       "278148  300011      0  \n",
       "278149  300011      0  \n",
       "278150  300011      0  \n",
       "278151  300011      0  \n",
       "278152  300011      0  \n",
       "278153  300011      0  \n",
       "\n",
       "[278154 rows x 19 columns]"
      ]
     },
     "execution_count": 30,
     "metadata": {},
     "output_type": "execute_result"
    }
   ],
   "source": [
    "filtered_df.toPandas()"
   ]
  },
  {
   "cell_type": "markdown",
   "metadata": {
    "pycharm": {
     "name": "#%% md\n"
    }
   },
   "source": [
    "Now we can see that the new column \"Churn\" has been added to the dataframe based on the implemented logic."
   ]
  },
  {
   "cell_type": "code",
   "execution_count": 31,
   "metadata": {
    "pycharm": {
     "name": "#%%\n"
    }
   },
   "outputs": [],
   "source": [
    "# sort the data-points for a user in reverse time order \n",
    "window_val = Window.partitionBy(\"userId\").orderBy(desc(\"ts\")).rangeBetween(Window.unboundedPreceding, 0)"
   ]
  },
  {
   "cell_type": "code",
   "execution_count": 32,
   "metadata": {
    "pycharm": {
     "name": "#%%\n"
    }
   },
   "outputs": [],
   "source": [
    "# create the column 'Churn' containing the sum of churn 1s over records\n",
    "filtered_df = filtered_df.withColumn(\"Churn\", Fsum(\"Churn\").over(window_val))"
   ]
  },
  {
   "cell_type": "code",
   "execution_count": 33,
   "metadata": {
    "pycharm": {
     "name": "#%%\n"
    }
   },
   "outputs": [],
   "source": [
    "churned_df = filtered_df.select(['userId', 'Churn']).dropDuplicates().groupBy('Churn').count()"
   ]
  },
  {
   "cell_type": "code",
   "execution_count": 34,
   "metadata": {
    "pycharm": {
     "name": "#%%\n"
    }
   },
   "outputs": [
    {
     "name": "stdout",
     "output_type": "stream",
     "text": [
      "+-----+-----+\n",
      "|Churn|count|\n",
      "+-----+-----+\n",
      "|    0|  173|\n",
      "|    1|   52|\n",
      "+-----+-----+\n",
      "\n"
     ]
    }
   ],
   "source": [
    "churned_df.show()"
   ]
  },
  {
   "cell_type": "markdown",
   "metadata": {
    "pycharm": {
     "name": "#%% md\n"
    }
   },
   "source": [
    "### Exploratory Data Analysis(EDA) for Churned vs Non-churned users"
   ]
  },
  {
   "cell_type": "markdown",
   "metadata": {
    "pycharm": {
     "name": "#%% md\n"
    }
   },
   "source": [
    "Now we have successfully added the column Churn to our dataset based on the page they've visited. So let's now analyse the data for the users who opted out vs the users who stayed in."
   ]
  },
  {
   "cell_type": "markdown",
   "metadata": {},
   "source": [
    "### Number of Non-churned and churned users "
   ]
  },
  {
   "cell_type": "code",
   "execution_count": 35,
   "metadata": {
    "pycharm": {
     "name": "#%%\n"
    }
   },
   "outputs": [],
   "source": [
    "churned_df = churned_df.toPandas()"
   ]
  },
  {
   "cell_type": "code",
   "execution_count": 36,
   "metadata": {
    "pycharm": {
     "name": "#%%\n"
    }
   },
   "outputs": [
    {
     "data": {
      "image/png": "[encoded data removed]",
      "text/plain": [
       "<matplotlib.figure.Figure at 0x7f9e36e3ff28>"
      ]
     },
     "metadata": {
      "needs_background": "light"
     },
     "output_type": "display_data"
    }
   ],
   "source": [
    "# # number of churned users\n",
    "fig, ax = plt.subplots()\n",
    "ax.bar(['0', '1'], churned_df['count'], color=['r', 'b'])\n",
    "ax.set_xlabel('churn')\n",
    "ax.set_ylabel('count')\n",
    "plt.title('number of churned users')\n",
    "plt.show()"
   ]
  },
  {
   "cell_type": "markdown",
   "metadata": {},
   "source": [
    "### churn rate"
   ]
  },
  {
   "cell_type": "code",
   "execution_count": 37,
   "metadata": {
    "pycharm": {
     "name": "#%%\n"
    }
   },
   "outputs": [
    {
     "data": {
      "text/plain": [
       "23.111111111111111"
      ]
     },
     "execution_count": 37,
     "metadata": {},
     "output_type": "execute_result"
    }
   ],
   "source": [
    "churn_rate = (churned_df['count'][1]/(churned_df['count'][1]+churned_df['count'][0]))*100\n",
    "churn_rate"
   ]
  },
  {
   "cell_type": "markdown",
   "metadata": {
    "pycharm": {
     "name": "#%% md\n"
    }
   },
   "source": [
    "it can be seen that 52 users have churned while the remaining 173 users didn't. Which means that 23% of our users churned.The important thing to note here is that the dataset is imbalanced."
   ]
  },
  {
   "cell_type": "markdown",
   "metadata": {
    "pycharm": {
     "name": "#%% md\n"
    }
   },
   "source": [
    "### Length of stay of Churned and Non-churned users"
   ]
  },
  {
   "cell_type": "markdown",
   "metadata": {
    "pycharm": {
     "name": "#%% md\n"
    }
   },
   "source": [
    "We can now visualiz the length distribution for users who stayed and those which churned. "
   ]
  },
  {
   "cell_type": "code",
   "execution_count": 38,
   "metadata": {
    "pycharm": {
     "name": "#%%\n"
    }
   },
   "outputs": [
    {
     "data": {
      "text/html": [
       "<div>\n",
       "<style scoped>\n",
       "    .dataframe tbody tr th:only-of-type {\n",
       "        vertical-align: middle;\n",
       "    }\n",
       "\n",
       "    .dataframe tbody tr th {\n",
       "        vertical-align: top;\n",
       "    }\n",
       "\n",
       "    .dataframe thead th {\n",
       "        text-align: right;\n",
       "    }\n",
       "</style>\n",
       "<table border=\"1\" class=\"dataframe\">\n",
       "  <thead>\n",
       "    <tr style=\"text-align: right;\">\n",
       "      <th></th>\n",
       "      <th>artist</th>\n",
       "      <th>auth</th>\n",
       "      <th>firstName</th>\n",
       "      <th>gender</th>\n",
       "      <th>itemInSession</th>\n",
       "      <th>lastName</th>\n",
       "      <th>length</th>\n",
       "      <th>level</th>\n",
       "      <th>location</th>\n",
       "      <th>method</th>\n",
       "      <th>page</th>\n",
       "      <th>registration</th>\n",
       "      <th>sessionId</th>\n",
       "      <th>song</th>\n",
       "      <th>status</th>\n",
       "      <th>ts</th>\n",
       "      <th>userAgent</th>\n",
       "      <th>userId</th>\n",
       "      <th>Churn</th>\n",
       "    </tr>\n",
       "  </thead>\n",
       "  <tbody>\n",
       "    <tr>\n",
       "      <th>0</th>\n",
       "      <td>None</td>\n",
       "      <td>Logged In</td>\n",
       "      <td>Mason</td>\n",
       "      <td>M</td>\n",
       "      <td>9</td>\n",
       "      <td>Hart</td>\n",
       "      <td>NaN</td>\n",
       "      <td>free</td>\n",
       "      <td>Corpus Christi, TX</td>\n",
       "      <td>PUT</td>\n",
       "      <td>Cancel</td>\n",
       "      <td>1533157139000</td>\n",
       "      <td>174</td>\n",
       "      <td>None</td>\n",
       "      <td>307</td>\n",
       "      <td>1539318918000</td>\n",
       "      <td>\"Mozilla/5.0 (Macintosh; Intel Mac OS X 10_9_4...</td>\n",
       "      <td>125</td>\n",
       "      <td>1</td>\n",
       "    </tr>\n",
       "    <tr>\n",
       "      <th>1</th>\n",
       "      <td>None</td>\n",
       "      <td>Cancelled</td>\n",
       "      <td>Mason</td>\n",
       "      <td>M</td>\n",
       "      <td>10</td>\n",
       "      <td>Hart</td>\n",
       "      <td>NaN</td>\n",
       "      <td>free</td>\n",
       "      <td>Corpus Christi, TX</td>\n",
       "      <td>GET</td>\n",
       "      <td>Cancellation Confirmation</td>\n",
       "      <td>1533157139000</td>\n",
       "      <td>174</td>\n",
       "      <td>None</td>\n",
       "      <td>200</td>\n",
       "      <td>1539318918000</td>\n",
       "      <td>\"Mozilla/5.0 (Macintosh; Intel Mac OS X 10_9_4...</td>\n",
       "      <td>125</td>\n",
       "      <td>1</td>\n",
       "    </tr>\n",
       "    <tr>\n",
       "      <th>2</th>\n",
       "      <td>None</td>\n",
       "      <td>Logged In</td>\n",
       "      <td>Mason</td>\n",
       "      <td>M</td>\n",
       "      <td>8</td>\n",
       "      <td>Hart</td>\n",
       "      <td>NaN</td>\n",
       "      <td>free</td>\n",
       "      <td>Corpus Christi, TX</td>\n",
       "      <td>GET</td>\n",
       "      <td>Roll Advert</td>\n",
       "      <td>1533157139000</td>\n",
       "      <td>174</td>\n",
       "      <td>None</td>\n",
       "      <td>200</td>\n",
       "      <td>1539318917000</td>\n",
       "      <td>\"Mozilla/5.0 (Macintosh; Intel Mac OS X 10_9_4...</td>\n",
       "      <td>125</td>\n",
       "      <td>1</td>\n",
       "    </tr>\n",
       "    <tr>\n",
       "      <th>3</th>\n",
       "      <td>Bonobo</td>\n",
       "      <td>Logged In</td>\n",
       "      <td>Mason</td>\n",
       "      <td>M</td>\n",
       "      <td>7</td>\n",
       "      <td>Hart</td>\n",
       "      <td>323.81342</td>\n",
       "      <td>free</td>\n",
       "      <td>Corpus Christi, TX</td>\n",
       "      <td>PUT</td>\n",
       "      <td>NextSong</td>\n",
       "      <td>1533157139000</td>\n",
       "      <td>174</td>\n",
       "      <td>Kota</td>\n",
       "      <td>200</td>\n",
       "      <td>1539318906000</td>\n",
       "      <td>\"Mozilla/5.0 (Macintosh; Intel Mac OS X 10_9_4...</td>\n",
       "      <td>125</td>\n",
       "      <td>1</td>\n",
       "    </tr>\n",
       "    <tr>\n",
       "      <th>4</th>\n",
       "      <td>Robert Johnson</td>\n",
       "      <td>Logged In</td>\n",
       "      <td>Mason</td>\n",
       "      <td>M</td>\n",
       "      <td>6</td>\n",
       "      <td>Hart</td>\n",
       "      <td>178.41587</td>\n",
       "      <td>free</td>\n",
       "      <td>Corpus Christi, TX</td>\n",
       "      <td>PUT</td>\n",
       "      <td>NextSong</td>\n",
       "      <td>1533157139000</td>\n",
       "      <td>174</td>\n",
       "      <td>They're Red Hot</td>\n",
       "      <td>200</td>\n",
       "      <td>1539318728000</td>\n",
       "      <td>\"Mozilla/5.0 (Macintosh; Intel Mac OS X 10_9_4...</td>\n",
       "      <td>125</td>\n",
       "      <td>1</td>\n",
       "    </tr>\n",
       "    <tr>\n",
       "      <th>5</th>\n",
       "      <td>We Are The Fallen</td>\n",
       "      <td>Logged In</td>\n",
       "      <td>Mason</td>\n",
       "      <td>M</td>\n",
       "      <td>5</td>\n",
       "      <td>Hart</td>\n",
       "      <td>213.60281</td>\n",
       "      <td>free</td>\n",
       "      <td>Corpus Christi, TX</td>\n",
       "      <td>PUT</td>\n",
       "      <td>NextSong</td>\n",
       "      <td>1533157139000</td>\n",
       "      <td>174</td>\n",
       "      <td>Don't Leave Me Behind</td>\n",
       "      <td>200</td>\n",
       "      <td>1539318515000</td>\n",
       "      <td>\"Mozilla/5.0 (Macintosh; Intel Mac OS X 10_9_4...</td>\n",
       "      <td>125</td>\n",
       "      <td>1</td>\n",
       "    </tr>\n",
       "    <tr>\n",
       "      <th>6</th>\n",
       "      <td>Ready For The World</td>\n",
       "      <td>Logged In</td>\n",
       "      <td>Mason</td>\n",
       "      <td>M</td>\n",
       "      <td>4</td>\n",
       "      <td>Hart</td>\n",
       "      <td>391.26159</td>\n",
       "      <td>free</td>\n",
       "      <td>Corpus Christi, TX</td>\n",
       "      <td>PUT</td>\n",
       "      <td>NextSong</td>\n",
       "      <td>1533157139000</td>\n",
       "      <td>174</td>\n",
       "      <td>Love You Down</td>\n",
       "      <td>200</td>\n",
       "      <td>1539318124000</td>\n",
       "      <td>\"Mozilla/5.0 (Macintosh; Intel Mac OS X 10_9_4...</td>\n",
       "      <td>125</td>\n",
       "      <td>1</td>\n",
       "    </tr>\n",
       "    <tr>\n",
       "      <th>7</th>\n",
       "      <td>Nickelback</td>\n",
       "      <td>Logged In</td>\n",
       "      <td>Mason</td>\n",
       "      <td>M</td>\n",
       "      <td>3</td>\n",
       "      <td>Hart</td>\n",
       "      <td>210.83383</td>\n",
       "      <td>free</td>\n",
       "      <td>Corpus Christi, TX</td>\n",
       "      <td>PUT</td>\n",
       "      <td>NextSong</td>\n",
       "      <td>1533157139000</td>\n",
       "      <td>174</td>\n",
       "      <td>Leader Of Men (Album Version)</td>\n",
       "      <td>200</td>\n",
       "      <td>1539317914000</td>\n",
       "      <td>\"Mozilla/5.0 (Macintosh; Intel Mac OS X 10_9_4...</td>\n",
       "      <td>125</td>\n",
       "      <td>1</td>\n",
       "    </tr>\n",
       "    <tr>\n",
       "      <th>8</th>\n",
       "      <td>Betty Boo</td>\n",
       "      <td>Logged In</td>\n",
       "      <td>Mason</td>\n",
       "      <td>M</td>\n",
       "      <td>2</td>\n",
       "      <td>Hart</td>\n",
       "      <td>203.23220</td>\n",
       "      <td>free</td>\n",
       "      <td>Corpus Christi, TX</td>\n",
       "      <td>PUT</td>\n",
       "      <td>NextSong</td>\n",
       "      <td>1533157139000</td>\n",
       "      <td>174</td>\n",
       "      <td>I'm On My Way</td>\n",
       "      <td>200</td>\n",
       "      <td>1539317711000</td>\n",
       "      <td>\"Mozilla/5.0 (Macintosh; Intel Mac OS X 10_9_4...</td>\n",
       "      <td>125</td>\n",
       "      <td>1</td>\n",
       "    </tr>\n",
       "    <tr>\n",
       "      <th>9</th>\n",
       "      <td>The Notorious B.I.G.</td>\n",
       "      <td>Logged In</td>\n",
       "      <td>Mason</td>\n",
       "      <td>M</td>\n",
       "      <td>1</td>\n",
       "      <td>Hart</td>\n",
       "      <td>230.03383</td>\n",
       "      <td>free</td>\n",
       "      <td>Corpus Christi, TX</td>\n",
       "      <td>PUT</td>\n",
       "      <td>NextSong</td>\n",
       "      <td>1533157139000</td>\n",
       "      <td>174</td>\n",
       "      <td>Hypnotize(Album Version)</td>\n",
       "      <td>200</td>\n",
       "      <td>1539317481000</td>\n",
       "      <td>\"Mozilla/5.0 (Macintosh; Intel Mac OS X 10_9_4...</td>\n",
       "      <td>125</td>\n",
       "      <td>1</td>\n",
       "    </tr>\n",
       "    <tr>\n",
       "      <th>10</th>\n",
       "      <td>Christopher O'Riley</td>\n",
       "      <td>Logged In</td>\n",
       "      <td>Mason</td>\n",
       "      <td>M</td>\n",
       "      <td>0</td>\n",
       "      <td>Hart</td>\n",
       "      <td>337.91955</td>\n",
       "      <td>free</td>\n",
       "      <td>Corpus Christi, TX</td>\n",
       "      <td>PUT</td>\n",
       "      <td>NextSong</td>\n",
       "      <td>1533157139000</td>\n",
       "      <td>174</td>\n",
       "      <td>paranoid android</td>\n",
       "      <td>200</td>\n",
       "      <td>1539317144000</td>\n",
       "      <td>\"Mozilla/5.0 (Macintosh; Intel Mac OS X 10_9_4...</td>\n",
       "      <td>125</td>\n",
       "      <td>1</td>\n",
       "    </tr>\n",
       "    <tr>\n",
       "      <th>11</th>\n",
       "      <td>None</td>\n",
       "      <td>Cancelled</td>\n",
       "      <td>Ethan</td>\n",
       "      <td>M</td>\n",
       "      <td>176</td>\n",
       "      <td>Johnson</td>\n",
       "      <td>NaN</td>\n",
       "      <td>paid</td>\n",
       "      <td>Lexington-Fayette, KY</td>\n",
       "      <td>GET</td>\n",
       "      <td>Cancellation Confirmation</td>\n",
       "      <td>1538080987000</td>\n",
       "      <td>934</td>\n",
       "      <td>None</td>\n",
       "      <td>200</td>\n",
       "      <td>1539761972000</td>\n",
       "      <td>\"Mozilla/5.0 (Windows NT 6.1; WOW64) AppleWebK...</td>\n",
       "      <td>51</td>\n",
       "      <td>1</td>\n",
       "    </tr>\n",
       "    <tr>\n",
       "      <th>12</th>\n",
       "      <td>None</td>\n",
       "      <td>Logged In</td>\n",
       "      <td>Ethan</td>\n",
       "      <td>M</td>\n",
       "      <td>175</td>\n",
       "      <td>Johnson</td>\n",
       "      <td>NaN</td>\n",
       "      <td>paid</td>\n",
       "      <td>Lexington-Fayette, KY</td>\n",
       "      <td>PUT</td>\n",
       "      <td>Cancel</td>\n",
       "      <td>1538080987000</td>\n",
       "      <td>934</td>\n",
       "      <td>None</td>\n",
       "      <td>307</td>\n",
       "      <td>1539761830000</td>\n",
       "      <td>\"Mozilla/5.0 (Windows NT 6.1; WOW64) AppleWebK...</td>\n",
       "      <td>51</td>\n",
       "      <td>1</td>\n",
       "    </tr>\n",
       "    <tr>\n",
       "      <th>13</th>\n",
       "      <td>None</td>\n",
       "      <td>Logged In</td>\n",
       "      <td>Ethan</td>\n",
       "      <td>M</td>\n",
       "      <td>174</td>\n",
       "      <td>Johnson</td>\n",
       "      <td>NaN</td>\n",
       "      <td>paid</td>\n",
       "      <td>Lexington-Fayette, KY</td>\n",
       "      <td>GET</td>\n",
       "      <td>Settings</td>\n",
       "      <td>1538080987000</td>\n",
       "      <td>934</td>\n",
       "      <td>None</td>\n",
       "      <td>200</td>\n",
       "      <td>1539761829000</td>\n",
       "      <td>\"Mozilla/5.0 (Windows NT 6.1; WOW64) AppleWebK...</td>\n",
       "      <td>51</td>\n",
       "      <td>1</td>\n",
       "    </tr>\n",
       "    <tr>\n",
       "      <th>14</th>\n",
       "      <td>Zox</td>\n",
       "      <td>Logged In</td>\n",
       "      <td>Ethan</td>\n",
       "      <td>M</td>\n",
       "      <td>173</td>\n",
       "      <td>Johnson</td>\n",
       "      <td>212.34893</td>\n",
       "      <td>paid</td>\n",
       "      <td>Lexington-Fayette, KY</td>\n",
       "      <td>PUT</td>\n",
       "      <td>NextSong</td>\n",
       "      <td>1538080987000</td>\n",
       "      <td>934</td>\n",
       "      <td>Can't Look Down</td>\n",
       "      <td>200</td>\n",
       "      <td>1539761726000</td>\n",
       "      <td>\"Mozilla/5.0 (Windows NT 6.1; WOW64) AppleWebK...</td>\n",
       "      <td>51</td>\n",
       "      <td>1</td>\n",
       "    </tr>\n",
       "    <tr>\n",
       "      <th>15</th>\n",
       "      <td>Ismo Alanko SÃÂ¤ÃÂ¤tiÃÂ¶</td>\n",
       "      <td>Logged In</td>\n",
       "      <td>Ethan</td>\n",
       "      <td>M</td>\n",
       "      <td>172</td>\n",
       "      <td>Johnson</td>\n",
       "      <td>218.93179</td>\n",
       "      <td>paid</td>\n",
       "      <td>Lexington-Fayette, KY</td>\n",
       "      <td>PUT</td>\n",
       "      <td>NextSong</td>\n",
       "      <td>1538080987000</td>\n",
       "      <td>934</td>\n",
       "      <td>Nokian Takana</td>\n",
       "      <td>200</td>\n",
       "      <td>1539761508000</td>\n",
       "      <td>\"Mozilla/5.0 (Windows NT 6.1; WOW64) AppleWebK...</td>\n",
       "      <td>51</td>\n",
       "      <td>1</td>\n",
       "    </tr>\n",
       "    <tr>\n",
       "      <th>16</th>\n",
       "      <td>The Smiths</td>\n",
       "      <td>Logged In</td>\n",
       "      <td>Ethan</td>\n",
       "      <td>M</td>\n",
       "      <td>171</td>\n",
       "      <td>Johnson</td>\n",
       "      <td>239.85587</td>\n",
       "      <td>paid</td>\n",
       "      <td>Lexington-Fayette, KY</td>\n",
       "      <td>PUT</td>\n",
       "      <td>NextSong</td>\n",
       "      <td>1538080987000</td>\n",
       "      <td>934</td>\n",
       "      <td>You've Got Everything Now</td>\n",
       "      <td>200</td>\n",
       "      <td>1539761269000</td>\n",
       "      <td>\"Mozilla/5.0 (Windows NT 6.1; WOW64) AppleWebK...</td>\n",
       "      <td>51</td>\n",
       "      <td>1</td>\n",
       "    </tr>\n",
       "    <tr>\n",
       "      <th>17</th>\n",
       "      <td>Youth Group</td>\n",
       "      <td>Logged In</td>\n",
       "      <td>Ethan</td>\n",
       "      <td>M</td>\n",
       "      <td>170</td>\n",
       "      <td>Johnson</td>\n",
       "      <td>239.17669</td>\n",
       "      <td>paid</td>\n",
       "      <td>Lexington-Fayette, KY</td>\n",
       "      <td>PUT</td>\n",
       "      <td>NextSong</td>\n",
       "      <td>1538080987000</td>\n",
       "      <td>934</td>\n",
       "      <td>Forever Young</td>\n",
       "      <td>200</td>\n",
       "      <td>1539761030000</td>\n",
       "      <td>\"Mozilla/5.0 (Windows NT 6.1; WOW64) AppleWebK...</td>\n",
       "      <td>51</td>\n",
       "      <td>1</td>\n",
       "    </tr>\n",
       "    <tr>\n",
       "      <th>18</th>\n",
       "      <td>Lonnie Gordon</td>\n",
       "      <td>Logged In</td>\n",
       "      <td>Ethan</td>\n",
       "      <td>M</td>\n",
       "      <td>169</td>\n",
       "      <td>Johnson</td>\n",
       "      <td>181.21098</td>\n",
       "      <td>paid</td>\n",
       "      <td>Lexington-Fayette, KY</td>\n",
       "      <td>PUT</td>\n",
       "      <td>NextSong</td>\n",
       "      <td>1538080987000</td>\n",
       "      <td>934</td>\n",
       "      <td>Catch You Baby (Steve Pitron &amp; Max Sanna Radio...</td>\n",
       "      <td>200</td>\n",
       "      <td>1539760849000</td>\n",
       "      <td>\"Mozilla/5.0 (Windows NT 6.1; WOW64) AppleWebK...</td>\n",
       "      <td>51</td>\n",
       "      <td>1</td>\n",
       "    </tr>\n",
       "    <tr>\n",
       "      <th>19</th>\n",
       "      <td>Booka Shade</td>\n",
       "      <td>Logged In</td>\n",
       "      <td>Ethan</td>\n",
       "      <td>M</td>\n",
       "      <td>168</td>\n",
       "      <td>Johnson</td>\n",
       "      <td>300.32934</td>\n",
       "      <td>paid</td>\n",
       "      <td>Lexington-Fayette, KY</td>\n",
       "      <td>PUT</td>\n",
       "      <td>NextSong</td>\n",
       "      <td>1538080987000</td>\n",
       "      <td>934</td>\n",
       "      <td>Body Language / interpretation</td>\n",
       "      <td>200</td>\n",
       "      <td>1539760549000</td>\n",
       "      <td>\"Mozilla/5.0 (Windows NT 6.1; WOW64) AppleWebK...</td>\n",
       "      <td>51</td>\n",
       "      <td>1</td>\n",
       "    </tr>\n",
       "    <tr>\n",
       "      <th>20</th>\n",
       "      <td>Ron Carter</td>\n",
       "      <td>Logged In</td>\n",
       "      <td>Ethan</td>\n",
       "      <td>M</td>\n",
       "      <td>167</td>\n",
       "      <td>Johnson</td>\n",
       "      <td>497.13587</td>\n",
       "      <td>paid</td>\n",
       "      <td>Lexington-Fayette, KY</td>\n",
       "      <td>PUT</td>\n",
       "      <td>NextSong</td>\n",
       "      <td>1538080987000</td>\n",
       "      <td>934</td>\n",
       "      <td>I CAN'T GET STARTED</td>\n",
       "      <td>200</td>\n",
       "      <td>1539760052000</td>\n",
       "      <td>\"Mozilla/5.0 (Windows NT 6.1; WOW64) AppleWebK...</td>\n",
       "      <td>51</td>\n",
       "      <td>1</td>\n",
       "    </tr>\n",
       "    <tr>\n",
       "      <th>21</th>\n",
       "      <td>S Club 7</td>\n",
       "      <td>Logged In</td>\n",
       "      <td>Ethan</td>\n",
       "      <td>M</td>\n",
       "      <td>166</td>\n",
       "      <td>Johnson</td>\n",
       "      <td>241.16200</td>\n",
       "      <td>paid</td>\n",
       "      <td>Lexington-Fayette, KY</td>\n",
       "      <td>PUT</td>\n",
       "      <td>NextSong</td>\n",
       "      <td>1538080987000</td>\n",
       "      <td>934</td>\n",
       "      <td>Never Had A Dream Come True</td>\n",
       "      <td>200</td>\n",
       "      <td>1539759811000</td>\n",
       "      <td>\"Mozilla/5.0 (Windows NT 6.1; WOW64) AppleWebK...</td>\n",
       "      <td>51</td>\n",
       "      <td>1</td>\n",
       "    </tr>\n",
       "    <tr>\n",
       "      <th>22</th>\n",
       "      <td>Jimmy Eat World</td>\n",
       "      <td>Logged In</td>\n",
       "      <td>Ethan</td>\n",
       "      <td>M</td>\n",
       "      <td>165</td>\n",
       "      <td>Johnson</td>\n",
       "      <td>166.00771</td>\n",
       "      <td>paid</td>\n",
       "      <td>Lexington-Fayette, KY</td>\n",
       "      <td>PUT</td>\n",
       "      <td>NextSong</td>\n",
       "      <td>1538080987000</td>\n",
       "      <td>934</td>\n",
       "      <td>The Middle</td>\n",
       "      <td>200</td>\n",
       "      <td>1539759645000</td>\n",
       "      <td>\"Mozilla/5.0 (Windows NT 6.1; WOW64) AppleWebK...</td>\n",
       "      <td>51</td>\n",
       "      <td>1</td>\n",
       "    </tr>\n",
       "    <tr>\n",
       "      <th>23</th>\n",
       "      <td>Van Halen</td>\n",
       "      <td>Logged In</td>\n",
       "      <td>Ethan</td>\n",
       "      <td>M</td>\n",
       "      <td>164</td>\n",
       "      <td>Johnson</td>\n",
       "      <td>283.74159</td>\n",
       "      <td>paid</td>\n",
       "      <td>Lexington-Fayette, KY</td>\n",
       "      <td>PUT</td>\n",
       "      <td>NextSong</td>\n",
       "      <td>1538080987000</td>\n",
       "      <td>934</td>\n",
       "      <td>Ain't Talkin' 'Bout Love (Remastered Live Vers...</td>\n",
       "      <td>200</td>\n",
       "      <td>1539759362000</td>\n",
       "      <td>\"Mozilla/5.0 (Windows NT 6.1; WOW64) AppleWebK...</td>\n",
       "      <td>51</td>\n",
       "      <td>1</td>\n",
       "    </tr>\n",
       "    <tr>\n",
       "      <th>24</th>\n",
       "      <td>None</td>\n",
       "      <td>Logged In</td>\n",
       "      <td>Ethan</td>\n",
       "      <td>M</td>\n",
       "      <td>163</td>\n",
       "      <td>Johnson</td>\n",
       "      <td>NaN</td>\n",
       "      <td>paid</td>\n",
       "      <td>Lexington-Fayette, KY</td>\n",
       "      <td>PUT</td>\n",
       "      <td>Thumbs Up</td>\n",
       "      <td>1538080987000</td>\n",
       "      <td>934</td>\n",
       "      <td>None</td>\n",
       "      <td>307</td>\n",
       "      <td>1539759213000</td>\n",
       "      <td>\"Mozilla/5.0 (Windows NT 6.1; WOW64) AppleWebK...</td>\n",
       "      <td>51</td>\n",
       "      <td>1</td>\n",
       "    </tr>\n",
       "    <tr>\n",
       "      <th>25</th>\n",
       "      <td>Bert Kaempfert</td>\n",
       "      <td>Logged In</td>\n",
       "      <td>Ethan</td>\n",
       "      <td>M</td>\n",
       "      <td>162</td>\n",
       "      <td>Johnson</td>\n",
       "      <td>150.69995</td>\n",
       "      <td>paid</td>\n",
       "      <td>Lexington-Fayette, KY</td>\n",
       "      <td>PUT</td>\n",
       "      <td>NextSong</td>\n",
       "      <td>1538080987000</td>\n",
       "      <td>934</td>\n",
       "      <td>Market Day</td>\n",
       "      <td>200</td>\n",
       "      <td>1539759212000</td>\n",
       "      <td>\"Mozilla/5.0 (Windows NT 6.1; WOW64) AppleWebK...</td>\n",
       "      <td>51</td>\n",
       "      <td>1</td>\n",
       "    </tr>\n",
       "    <tr>\n",
       "      <th>26</th>\n",
       "      <td>Fireflight</td>\n",
       "      <td>Logged In</td>\n",
       "      <td>Ethan</td>\n",
       "      <td>M</td>\n",
       "      <td>161</td>\n",
       "      <td>Johnson</td>\n",
       "      <td>212.19220</td>\n",
       "      <td>paid</td>\n",
       "      <td>Lexington-Fayette, KY</td>\n",
       "      <td>PUT</td>\n",
       "      <td>NextSong</td>\n",
       "      <td>1538080987000</td>\n",
       "      <td>934</td>\n",
       "      <td>Stand Up</td>\n",
       "      <td>200</td>\n",
       "      <td>1539759000000</td>\n",
       "      <td>\"Mozilla/5.0 (Windows NT 6.1; WOW64) AppleWebK...</td>\n",
       "      <td>51</td>\n",
       "      <td>1</td>\n",
       "    </tr>\n",
       "    <tr>\n",
       "      <th>27</th>\n",
       "      <td>Wall Of Voodoo</td>\n",
       "      <td>Logged In</td>\n",
       "      <td>Ethan</td>\n",
       "      <td>M</td>\n",
       "      <td>160</td>\n",
       "      <td>Johnson</td>\n",
       "      <td>250.67057</td>\n",
       "      <td>paid</td>\n",
       "      <td>Lexington-Fayette, KY</td>\n",
       "      <td>PUT</td>\n",
       "      <td>NextSong</td>\n",
       "      <td>1538080987000</td>\n",
       "      <td>934</td>\n",
       "      <td>Mexican Radio</td>\n",
       "      <td>200</td>\n",
       "      <td>1539758750000</td>\n",
       "      <td>\"Mozilla/5.0 (Windows NT 6.1; WOW64) AppleWebK...</td>\n",
       "      <td>51</td>\n",
       "      <td>1</td>\n",
       "    </tr>\n",
       "    <tr>\n",
       "      <th>28</th>\n",
       "      <td>Cartola</td>\n",
       "      <td>Logged In</td>\n",
       "      <td>Ethan</td>\n",
       "      <td>M</td>\n",
       "      <td>159</td>\n",
       "      <td>Johnson</td>\n",
       "      <td>177.16200</td>\n",
       "      <td>paid</td>\n",
       "      <td>Lexington-Fayette, KY</td>\n",
       "      <td>PUT</td>\n",
       "      <td>NextSong</td>\n",
       "      <td>1538080987000</td>\n",
       "      <td>934</td>\n",
       "      <td>Preciso Me Encontrar</td>\n",
       "      <td>200</td>\n",
       "      <td>1539758573000</td>\n",
       "      <td>\"Mozilla/5.0 (Windows NT 6.1; WOW64) AppleWebK...</td>\n",
       "      <td>51</td>\n",
       "      <td>1</td>\n",
       "    </tr>\n",
       "    <tr>\n",
       "      <th>29</th>\n",
       "      <td>The Roots / Erykah Badu</td>\n",
       "      <td>Logged In</td>\n",
       "      <td>Ethan</td>\n",
       "      <td>M</td>\n",
       "      <td>158</td>\n",
       "      <td>Johnson</td>\n",
       "      <td>259.26485</td>\n",
       "      <td>paid</td>\n",
       "      <td>Lexington-Fayette, KY</td>\n",
       "      <td>PUT</td>\n",
       "      <td>NextSong</td>\n",
       "      <td>1538080987000</td>\n",
       "      <td>934</td>\n",
       "      <td>You Got Me</td>\n",
       "      <td>200</td>\n",
       "      <td>1539758314000</td>\n",
       "      <td>\"Mozilla/5.0 (Windows NT 6.1; WOW64) AppleWebK...</td>\n",
       "      <td>51</td>\n",
       "      <td>1</td>\n",
       "    </tr>\n",
       "    <tr>\n",
       "      <th>...</th>\n",
       "      <td>...</td>\n",
       "      <td>...</td>\n",
       "      <td>...</td>\n",
       "      <td>...</td>\n",
       "      <td>...</td>\n",
       "      <td>...</td>\n",
       "      <td>...</td>\n",
       "      <td>...</td>\n",
       "      <td>...</td>\n",
       "      <td>...</td>\n",
       "      <td>...</td>\n",
       "      <td>...</td>\n",
       "      <td>...</td>\n",
       "      <td>...</td>\n",
       "      <td>...</td>\n",
       "      <td>...</td>\n",
       "      <td>...</td>\n",
       "      <td>...</td>\n",
       "      <td>...</td>\n",
       "    </tr>\n",
       "    <tr>\n",
       "      <th>44834</th>\n",
       "      <td>Phoenix</td>\n",
       "      <td>Logged In</td>\n",
       "      <td>Delaney</td>\n",
       "      <td>F</td>\n",
       "      <td>31</td>\n",
       "      <td>Perez</td>\n",
       "      <td>198.03383</td>\n",
       "      <td>free</td>\n",
       "      <td>Miami-Fort Lauderdale-West Palm Beach, FL</td>\n",
       "      <td>PUT</td>\n",
       "      <td>NextSong</td>\n",
       "      <td>1534627466000</td>\n",
       "      <td>1</td>\n",
       "      <td>Too Young</td>\n",
       "      <td>200</td>\n",
       "      <td>1538382476000</td>\n",
       "      <td>\"Mozilla/5.0 (Macintosh; Intel Mac OS X 10_6_8...</td>\n",
       "      <td>100001</td>\n",
       "      <td>1</td>\n",
       "    </tr>\n",
       "    <tr>\n",
       "      <th>44835</th>\n",
       "      <td>Amos Lee</td>\n",
       "      <td>Logged In</td>\n",
       "      <td>Delaney</td>\n",
       "      <td>F</td>\n",
       "      <td>30</td>\n",
       "      <td>Perez</td>\n",
       "      <td>259.26485</td>\n",
       "      <td>free</td>\n",
       "      <td>Miami-Fort Lauderdale-West Palm Beach, FL</td>\n",
       "      <td>PUT</td>\n",
       "      <td>NextSong</td>\n",
       "      <td>1534627466000</td>\n",
       "      <td>1</td>\n",
       "      <td>All My Friends</td>\n",
       "      <td>200</td>\n",
       "      <td>1538382217000</td>\n",
       "      <td>\"Mozilla/5.0 (Macintosh; Intel Mac OS X 10_6_8...</td>\n",
       "      <td>100001</td>\n",
       "      <td>1</td>\n",
       "    </tr>\n",
       "    <tr>\n",
       "      <th>44836</th>\n",
       "      <td>Dwight Yoakam</td>\n",
       "      <td>Logged In</td>\n",
       "      <td>Delaney</td>\n",
       "      <td>F</td>\n",
       "      <td>29</td>\n",
       "      <td>Perez</td>\n",
       "      <td>239.30730</td>\n",
       "      <td>free</td>\n",
       "      <td>Miami-Fort Lauderdale-West Palm Beach, FL</td>\n",
       "      <td>PUT</td>\n",
       "      <td>NextSong</td>\n",
       "      <td>1534627466000</td>\n",
       "      <td>1</td>\n",
       "      <td>You're The One</td>\n",
       "      <td>200</td>\n",
       "      <td>1538381978000</td>\n",
       "      <td>\"Mozilla/5.0 (Macintosh; Intel Mac OS X 10_6_8...</td>\n",
       "      <td>100001</td>\n",
       "      <td>1</td>\n",
       "    </tr>\n",
       "    <tr>\n",
       "      <th>44837</th>\n",
       "      <td>Randy Crawford</td>\n",
       "      <td>Logged In</td>\n",
       "      <td>Delaney</td>\n",
       "      <td>F</td>\n",
       "      <td>28</td>\n",
       "      <td>Perez</td>\n",
       "      <td>270.75873</td>\n",
       "      <td>free</td>\n",
       "      <td>Miami-Fort Lauderdale-West Palm Beach, FL</td>\n",
       "      <td>PUT</td>\n",
       "      <td>NextSong</td>\n",
       "      <td>1534627466000</td>\n",
       "      <td>1</td>\n",
       "      <td>Almaz</td>\n",
       "      <td>200</td>\n",
       "      <td>1538381708000</td>\n",
       "      <td>\"Mozilla/5.0 (Macintosh; Intel Mac OS X 10_6_8...</td>\n",
       "      <td>100001</td>\n",
       "      <td>1</td>\n",
       "    </tr>\n",
       "    <tr>\n",
       "      <th>44838</th>\n",
       "      <td>Weird Al Yankovic</td>\n",
       "      <td>Logged In</td>\n",
       "      <td>Delaney</td>\n",
       "      <td>F</td>\n",
       "      <td>27</td>\n",
       "      <td>Perez</td>\n",
       "      <td>259.65669</td>\n",
       "      <td>free</td>\n",
       "      <td>Miami-Fort Lauderdale-West Palm Beach, FL</td>\n",
       "      <td>PUT</td>\n",
       "      <td>NextSong</td>\n",
       "      <td>1534627466000</td>\n",
       "      <td>1</td>\n",
       "      <td>Cavity Search (Paody of \"Hold Me_ Thrill Me_ K...</td>\n",
       "      <td>200</td>\n",
       "      <td>1538381449000</td>\n",
       "      <td>\"Mozilla/5.0 (Macintosh; Intel Mac OS X 10_6_8...</td>\n",
       "      <td>100001</td>\n",
       "      <td>1</td>\n",
       "    </tr>\n",
       "    <tr>\n",
       "      <th>44839</th>\n",
       "      <td>None</td>\n",
       "      <td>Logged In</td>\n",
       "      <td>Delaney</td>\n",
       "      <td>F</td>\n",
       "      <td>26</td>\n",
       "      <td>Perez</td>\n",
       "      <td>NaN</td>\n",
       "      <td>free</td>\n",
       "      <td>Miami-Fort Lauderdale-West Palm Beach, FL</td>\n",
       "      <td>PUT</td>\n",
       "      <td>Thumbs Down</td>\n",
       "      <td>1534627466000</td>\n",
       "      <td>1</td>\n",
       "      <td>None</td>\n",
       "      <td>307</td>\n",
       "      <td>1538381274000</td>\n",
       "      <td>\"Mozilla/5.0 (Macintosh; Intel Mac OS X 10_6_8...</td>\n",
       "      <td>100001</td>\n",
       "      <td>1</td>\n",
       "    </tr>\n",
       "    <tr>\n",
       "      <th>44840</th>\n",
       "      <td>Blood Red Shoes</td>\n",
       "      <td>Logged In</td>\n",
       "      <td>Delaney</td>\n",
       "      <td>F</td>\n",
       "      <td>25</td>\n",
       "      <td>Perez</td>\n",
       "      <td>176.14322</td>\n",
       "      <td>free</td>\n",
       "      <td>Miami-Fort Lauderdale-West Palm Beach, FL</td>\n",
       "      <td>PUT</td>\n",
       "      <td>NextSong</td>\n",
       "      <td>1534627466000</td>\n",
       "      <td>1</td>\n",
       "      <td>It's Getting Boring By The Sea</td>\n",
       "      <td>200</td>\n",
       "      <td>1538381273000</td>\n",
       "      <td>\"Mozilla/5.0 (Macintosh; Intel Mac OS X 10_6_8...</td>\n",
       "      <td>100001</td>\n",
       "      <td>1</td>\n",
       "    </tr>\n",
       "    <tr>\n",
       "      <th>44841</th>\n",
       "      <td>Richard H Kirk</td>\n",
       "      <td>Logged In</td>\n",
       "      <td>Delaney</td>\n",
       "      <td>F</td>\n",
       "      <td>24</td>\n",
       "      <td>Perez</td>\n",
       "      <td>444.00281</td>\n",
       "      <td>free</td>\n",
       "      <td>Miami-Fort Lauderdale-West Palm Beach, FL</td>\n",
       "      <td>PUT</td>\n",
       "      <td>NextSong</td>\n",
       "      <td>1534627466000</td>\n",
       "      <td>1</td>\n",
       "      <td>Frankie Machine (Part Two)</td>\n",
       "      <td>200</td>\n",
       "      <td>1538380829000</td>\n",
       "      <td>\"Mozilla/5.0 (Macintosh; Intel Mac OS X 10_6_8...</td>\n",
       "      <td>100001</td>\n",
       "      <td>1</td>\n",
       "    </tr>\n",
       "    <tr>\n",
       "      <th>44842</th>\n",
       "      <td>BjÃÂ¶rk</td>\n",
       "      <td>Logged In</td>\n",
       "      <td>Delaney</td>\n",
       "      <td>F</td>\n",
       "      <td>23</td>\n",
       "      <td>Perez</td>\n",
       "      <td>348.57751</td>\n",
       "      <td>free</td>\n",
       "      <td>Miami-Fort Lauderdale-West Palm Beach, FL</td>\n",
       "      <td>PUT</td>\n",
       "      <td>NextSong</td>\n",
       "      <td>1534627466000</td>\n",
       "      <td>1</td>\n",
       "      <td>Undo</td>\n",
       "      <td>200</td>\n",
       "      <td>1538380481000</td>\n",
       "      <td>\"Mozilla/5.0 (Macintosh; Intel Mac OS X 10_6_8...</td>\n",
       "      <td>100001</td>\n",
       "      <td>1</td>\n",
       "    </tr>\n",
       "    <tr>\n",
       "      <th>44843</th>\n",
       "      <td>None</td>\n",
       "      <td>Logged In</td>\n",
       "      <td>Delaney</td>\n",
       "      <td>F</td>\n",
       "      <td>22</td>\n",
       "      <td>Perez</td>\n",
       "      <td>NaN</td>\n",
       "      <td>free</td>\n",
       "      <td>Miami-Fort Lauderdale-West Palm Beach, FL</td>\n",
       "      <td>GET</td>\n",
       "      <td>Home</td>\n",
       "      <td>1534627466000</td>\n",
       "      <td>1</td>\n",
       "      <td>None</td>\n",
       "      <td>200</td>\n",
       "      <td>1538380429000</td>\n",
       "      <td>\"Mozilla/5.0 (Macintosh; Intel Mac OS X 10_6_8...</td>\n",
       "      <td>100001</td>\n",
       "      <td>1</td>\n",
       "    </tr>\n",
       "    <tr>\n",
       "      <th>44844</th>\n",
       "      <td>None</td>\n",
       "      <td>Logged In</td>\n",
       "      <td>Delaney</td>\n",
       "      <td>F</td>\n",
       "      <td>19</td>\n",
       "      <td>Perez</td>\n",
       "      <td>NaN</td>\n",
       "      <td>free</td>\n",
       "      <td>Miami-Fort Lauderdale-West Palm Beach, FL</td>\n",
       "      <td>PUT</td>\n",
       "      <td>Logout</td>\n",
       "      <td>1534627466000</td>\n",
       "      <td>1</td>\n",
       "      <td>None</td>\n",
       "      <td>307</td>\n",
       "      <td>1538380180000</td>\n",
       "      <td>\"Mozilla/5.0 (Macintosh; Intel Mac OS X 10_6_8...</td>\n",
       "      <td>100001</td>\n",
       "      <td>1</td>\n",
       "    </tr>\n",
       "    <tr>\n",
       "      <th>44845</th>\n",
       "      <td>DevilDriver</td>\n",
       "      <td>Logged In</td>\n",
       "      <td>Delaney</td>\n",
       "      <td>F</td>\n",
       "      <td>18</td>\n",
       "      <td>Perez</td>\n",
       "      <td>302.31465</td>\n",
       "      <td>free</td>\n",
       "      <td>Miami-Fort Lauderdale-West Palm Beach, FL</td>\n",
       "      <td>PUT</td>\n",
       "      <td>NextSong</td>\n",
       "      <td>1534627466000</td>\n",
       "      <td>1</td>\n",
       "      <td>End Of The Line (Album Version)</td>\n",
       "      <td>200</td>\n",
       "      <td>1538380179000</td>\n",
       "      <td>\"Mozilla/5.0 (Macintosh; Intel Mac OS X 10_6_8...</td>\n",
       "      <td>100001</td>\n",
       "      <td>1</td>\n",
       "    </tr>\n",
       "    <tr>\n",
       "      <th>44846</th>\n",
       "      <td>Mad Caddies</td>\n",
       "      <td>Logged In</td>\n",
       "      <td>Delaney</td>\n",
       "      <td>F</td>\n",
       "      <td>17</td>\n",
       "      <td>Perez</td>\n",
       "      <td>179.80036</td>\n",
       "      <td>free</td>\n",
       "      <td>Miami-Fort Lauderdale-West Palm Beach, FL</td>\n",
       "      <td>PUT</td>\n",
       "      <td>NextSong</td>\n",
       "      <td>1534627466000</td>\n",
       "      <td>1</td>\n",
       "      <td>Leavin</td>\n",
       "      <td>200</td>\n",
       "      <td>1538380000000</td>\n",
       "      <td>\"Mozilla/5.0 (Macintosh; Intel Mac OS X 10_6_8...</td>\n",
       "      <td>100001</td>\n",
       "      <td>1</td>\n",
       "    </tr>\n",
       "    <tr>\n",
       "      <th>44847</th>\n",
       "      <td>Basshunter</td>\n",
       "      <td>Logged In</td>\n",
       "      <td>Delaney</td>\n",
       "      <td>F</td>\n",
       "      <td>16</td>\n",
       "      <td>Perez</td>\n",
       "      <td>332.69506</td>\n",
       "      <td>free</td>\n",
       "      <td>Miami-Fort Lauderdale-West Palm Beach, FL</td>\n",
       "      <td>PUT</td>\n",
       "      <td>NextSong</td>\n",
       "      <td>1534627466000</td>\n",
       "      <td>1</td>\n",
       "      <td>All I Ever Wanted</td>\n",
       "      <td>200</td>\n",
       "      <td>1538379668000</td>\n",
       "      <td>\"Mozilla/5.0 (Macintosh; Intel Mac OS X 10_6_8...</td>\n",
       "      <td>100001</td>\n",
       "      <td>1</td>\n",
       "    </tr>\n",
       "    <tr>\n",
       "      <th>44848</th>\n",
       "      <td>LL Cool J</td>\n",
       "      <td>Logged In</td>\n",
       "      <td>Delaney</td>\n",
       "      <td>F</td>\n",
       "      <td>15</td>\n",
       "      <td>Perez</td>\n",
       "      <td>248.68526</td>\n",
       "      <td>free</td>\n",
       "      <td>Miami-Fort Lauderdale-West Palm Beach, FL</td>\n",
       "      <td>PUT</td>\n",
       "      <td>NextSong</td>\n",
       "      <td>1534627466000</td>\n",
       "      <td>1</td>\n",
       "      <td>Around The Way Girl</td>\n",
       "      <td>200</td>\n",
       "      <td>1538379420000</td>\n",
       "      <td>\"Mozilla/5.0 (Macintosh; Intel Mac OS X 10_6_8...</td>\n",
       "      <td>100001</td>\n",
       "      <td>1</td>\n",
       "    </tr>\n",
       "    <tr>\n",
       "      <th>44849</th>\n",
       "      <td>None</td>\n",
       "      <td>Logged In</td>\n",
       "      <td>Delaney</td>\n",
       "      <td>F</td>\n",
       "      <td>14</td>\n",
       "      <td>Perez</td>\n",
       "      <td>NaN</td>\n",
       "      <td>free</td>\n",
       "      <td>Miami-Fort Lauderdale-West Palm Beach, FL</td>\n",
       "      <td>GET</td>\n",
       "      <td>Roll Advert</td>\n",
       "      <td>1534627466000</td>\n",
       "      <td>1</td>\n",
       "      <td>None</td>\n",
       "      <td>200</td>\n",
       "      <td>1538379230000</td>\n",
       "      <td>\"Mozilla/5.0 (Macintosh; Intel Mac OS X 10_6_8...</td>\n",
       "      <td>100001</td>\n",
       "      <td>1</td>\n",
       "    </tr>\n",
       "    <tr>\n",
       "      <th>44850</th>\n",
       "      <td>Rihanna / Sean Paul</td>\n",
       "      <td>Logged In</td>\n",
       "      <td>Delaney</td>\n",
       "      <td>F</td>\n",
       "      <td>13</td>\n",
       "      <td>Perez</td>\n",
       "      <td>213.34159</td>\n",
       "      <td>free</td>\n",
       "      <td>Miami-Fort Lauderdale-West Palm Beach, FL</td>\n",
       "      <td>PUT</td>\n",
       "      <td>NextSong</td>\n",
       "      <td>1534627466000</td>\n",
       "      <td>1</td>\n",
       "      <td>Break It Off</td>\n",
       "      <td>200</td>\n",
       "      <td>1538379207000</td>\n",
       "      <td>\"Mozilla/5.0 (Macintosh; Intel Mac OS X 10_6_8...</td>\n",
       "      <td>100001</td>\n",
       "      <td>1</td>\n",
       "    </tr>\n",
       "    <tr>\n",
       "      <th>44851</th>\n",
       "      <td>Jimmy Eat World</td>\n",
       "      <td>Logged In</td>\n",
       "      <td>Delaney</td>\n",
       "      <td>F</td>\n",
       "      <td>12</td>\n",
       "      <td>Perez</td>\n",
       "      <td>166.00771</td>\n",
       "      <td>free</td>\n",
       "      <td>Miami-Fort Lauderdale-West Palm Beach, FL</td>\n",
       "      <td>PUT</td>\n",
       "      <td>NextSong</td>\n",
       "      <td>1534627466000</td>\n",
       "      <td>1</td>\n",
       "      <td>The Middle</td>\n",
       "      <td>200</td>\n",
       "      <td>1538379041000</td>\n",
       "      <td>\"Mozilla/5.0 (Macintosh; Intel Mac OS X 10_6_8...</td>\n",
       "      <td>100001</td>\n",
       "      <td>1</td>\n",
       "    </tr>\n",
       "    <tr>\n",
       "      <th>44852</th>\n",
       "      <td>Misfits</td>\n",
       "      <td>Logged In</td>\n",
       "      <td>Delaney</td>\n",
       "      <td>F</td>\n",
       "      <td>11</td>\n",
       "      <td>Perez</td>\n",
       "      <td>164.46649</td>\n",
       "      <td>free</td>\n",
       "      <td>Miami-Fort Lauderdale-West Palm Beach, FL</td>\n",
       "      <td>PUT</td>\n",
       "      <td>NextSong</td>\n",
       "      <td>1534627466000</td>\n",
       "      <td>1</td>\n",
       "      <td>Rise Above (Live) (Album Version)</td>\n",
       "      <td>200</td>\n",
       "      <td>1538378877000</td>\n",
       "      <td>\"Mozilla/5.0 (Macintosh; Intel Mac OS X 10_6_8...</td>\n",
       "      <td>100001</td>\n",
       "      <td>1</td>\n",
       "    </tr>\n",
       "    <tr>\n",
       "      <th>44853</th>\n",
       "      <td>The Afghan Whigs</td>\n",
       "      <td>Logged In</td>\n",
       "      <td>Delaney</td>\n",
       "      <td>F</td>\n",
       "      <td>10</td>\n",
       "      <td>Perez</td>\n",
       "      <td>190.82404</td>\n",
       "      <td>free</td>\n",
       "      <td>Miami-Fort Lauderdale-West Palm Beach, FL</td>\n",
       "      <td>PUT</td>\n",
       "      <td>NextSong</td>\n",
       "      <td>1534627466000</td>\n",
       "      <td>1</td>\n",
       "      <td>My Enemy</td>\n",
       "      <td>200</td>\n",
       "      <td>1538378687000</td>\n",
       "      <td>\"Mozilla/5.0 (Macintosh; Intel Mac OS X 10_6_8...</td>\n",
       "      <td>100001</td>\n",
       "      <td>1</td>\n",
       "    </tr>\n",
       "    <tr>\n",
       "      <th>44854</th>\n",
       "      <td>3 Doors Down</td>\n",
       "      <td>Logged In</td>\n",
       "      <td>Delaney</td>\n",
       "      <td>F</td>\n",
       "      <td>9</td>\n",
       "      <td>Perez</td>\n",
       "      <td>204.32934</td>\n",
       "      <td>free</td>\n",
       "      <td>Miami-Fort Lauderdale-West Palm Beach, FL</td>\n",
       "      <td>PUT</td>\n",
       "      <td>NextSong</td>\n",
       "      <td>1534627466000</td>\n",
       "      <td>1</td>\n",
       "      <td>Runaway</td>\n",
       "      <td>200</td>\n",
       "      <td>1538378483000</td>\n",
       "      <td>\"Mozilla/5.0 (Macintosh; Intel Mac OS X 10_6_8...</td>\n",
       "      <td>100001</td>\n",
       "      <td>1</td>\n",
       "    </tr>\n",
       "    <tr>\n",
       "      <th>44855</th>\n",
       "      <td>Tyrone Wells</td>\n",
       "      <td>Logged In</td>\n",
       "      <td>Delaney</td>\n",
       "      <td>F</td>\n",
       "      <td>8</td>\n",
       "      <td>Perez</td>\n",
       "      <td>238.65424</td>\n",
       "      <td>free</td>\n",
       "      <td>Miami-Fort Lauderdale-West Palm Beach, FL</td>\n",
       "      <td>PUT</td>\n",
       "      <td>NextSong</td>\n",
       "      <td>1534627466000</td>\n",
       "      <td>1</td>\n",
       "      <td>Falling</td>\n",
       "      <td>200</td>\n",
       "      <td>1538378245000</td>\n",
       "      <td>\"Mozilla/5.0 (Macintosh; Intel Mac OS X 10_6_8...</td>\n",
       "      <td>100001</td>\n",
       "      <td>1</td>\n",
       "    </tr>\n",
       "    <tr>\n",
       "      <th>44856</th>\n",
       "      <td>Pendulum</td>\n",
       "      <td>Logged In</td>\n",
       "      <td>Delaney</td>\n",
       "      <td>F</td>\n",
       "      <td>7</td>\n",
       "      <td>Perez</td>\n",
       "      <td>313.86077</td>\n",
       "      <td>free</td>\n",
       "      <td>Miami-Fort Lauderdale-West Palm Beach, FL</td>\n",
       "      <td>PUT</td>\n",
       "      <td>NextSong</td>\n",
       "      <td>1534627466000</td>\n",
       "      <td>1</td>\n",
       "      <td>Propane Nightmares</td>\n",
       "      <td>200</td>\n",
       "      <td>1538377932000</td>\n",
       "      <td>\"Mozilla/5.0 (Macintosh; Intel Mac OS X 10_6_8...</td>\n",
       "      <td>100001</td>\n",
       "      <td>1</td>\n",
       "    </tr>\n",
       "    <tr>\n",
       "      <th>44857</th>\n",
       "      <td>The Replacements</td>\n",
       "      <td>Logged In</td>\n",
       "      <td>Delaney</td>\n",
       "      <td>F</td>\n",
       "      <td>6</td>\n",
       "      <td>Perez</td>\n",
       "      <td>184.60689</td>\n",
       "      <td>free</td>\n",
       "      <td>Miami-Fort Lauderdale-West Palm Beach, FL</td>\n",
       "      <td>PUT</td>\n",
       "      <td>NextSong</td>\n",
       "      <td>1534627466000</td>\n",
       "      <td>1</td>\n",
       "      <td>Can't Hardly Wait (Remastered Version)</td>\n",
       "      <td>200</td>\n",
       "      <td>1538377748000</td>\n",
       "      <td>\"Mozilla/5.0 (Macintosh; Intel Mac OS X 10_6_8...</td>\n",
       "      <td>100001</td>\n",
       "      <td>1</td>\n",
       "    </tr>\n",
       "    <tr>\n",
       "      <th>44858</th>\n",
       "      <td>Far Corner</td>\n",
       "      <td>Logged In</td>\n",
       "      <td>Delaney</td>\n",
       "      <td>F</td>\n",
       "      <td>5</td>\n",
       "      <td>Perez</td>\n",
       "      <td>399.88200</td>\n",
       "      <td>free</td>\n",
       "      <td>Miami-Fort Lauderdale-West Palm Beach, FL</td>\n",
       "      <td>PUT</td>\n",
       "      <td>NextSong</td>\n",
       "      <td>1534627466000</td>\n",
       "      <td>1</td>\n",
       "      <td>Do You Think I'm Spooky?</td>\n",
       "      <td>200</td>\n",
       "      <td>1538377349000</td>\n",
       "      <td>\"Mozilla/5.0 (Macintosh; Intel Mac OS X 10_6_8...</td>\n",
       "      <td>100001</td>\n",
       "      <td>1</td>\n",
       "    </tr>\n",
       "    <tr>\n",
       "      <th>44859</th>\n",
       "      <td>None</td>\n",
       "      <td>Logged In</td>\n",
       "      <td>Delaney</td>\n",
       "      <td>F</td>\n",
       "      <td>4</td>\n",
       "      <td>Perez</td>\n",
       "      <td>NaN</td>\n",
       "      <td>free</td>\n",
       "      <td>Miami-Fort Lauderdale-West Palm Beach, FL</td>\n",
       "      <td>GET</td>\n",
       "      <td>Roll Advert</td>\n",
       "      <td>1534627466000</td>\n",
       "      <td>1</td>\n",
       "      <td>None</td>\n",
       "      <td>200</td>\n",
       "      <td>1538376783000</td>\n",
       "      <td>\"Mozilla/5.0 (Macintosh; Intel Mac OS X 10_6_8...</td>\n",
       "      <td>100001</td>\n",
       "      <td>1</td>\n",
       "    </tr>\n",
       "    <tr>\n",
       "      <th>44860</th>\n",
       "      <td>Gorillaz</td>\n",
       "      <td>Logged In</td>\n",
       "      <td>Delaney</td>\n",
       "      <td>F</td>\n",
       "      <td>3</td>\n",
       "      <td>Perez</td>\n",
       "      <td>602.17424</td>\n",
       "      <td>free</td>\n",
       "      <td>Miami-Fort Lauderdale-West Palm Beach, FL</td>\n",
       "      <td>PUT</td>\n",
       "      <td>NextSong</td>\n",
       "      <td>1534627466000</td>\n",
       "      <td>1</td>\n",
       "      <td>Kids With Guns (Quiet Village Remix)</td>\n",
       "      <td>200</td>\n",
       "      <td>1538376747000</td>\n",
       "      <td>\"Mozilla/5.0 (Macintosh; Intel Mac OS X 10_6_8...</td>\n",
       "      <td>100001</td>\n",
       "      <td>1</td>\n",
       "    </tr>\n",
       "    <tr>\n",
       "      <th>44861</th>\n",
       "      <td>None</td>\n",
       "      <td>Logged In</td>\n",
       "      <td>Delaney</td>\n",
       "      <td>F</td>\n",
       "      <td>2</td>\n",
       "      <td>Perez</td>\n",
       "      <td>NaN</td>\n",
       "      <td>free</td>\n",
       "      <td>Miami-Fort Lauderdale-West Palm Beach, FL</td>\n",
       "      <td>GET</td>\n",
       "      <td>Roll Advert</td>\n",
       "      <td>1534627466000</td>\n",
       "      <td>1</td>\n",
       "      <td>None</td>\n",
       "      <td>200</td>\n",
       "      <td>1538376542000</td>\n",
       "      <td>\"Mozilla/5.0 (Macintosh; Intel Mac OS X 10_6_8...</td>\n",
       "      <td>100001</td>\n",
       "      <td>1</td>\n",
       "    </tr>\n",
       "    <tr>\n",
       "      <th>44862</th>\n",
       "      <td>Lady GaGa / Colby O'Donis</td>\n",
       "      <td>Logged In</td>\n",
       "      <td>Delaney</td>\n",
       "      <td>F</td>\n",
       "      <td>1</td>\n",
       "      <td>Perez</td>\n",
       "      <td>238.54975</td>\n",
       "      <td>free</td>\n",
       "      <td>Miami-Fort Lauderdale-West Palm Beach, FL</td>\n",
       "      <td>PUT</td>\n",
       "      <td>NextSong</td>\n",
       "      <td>1534627466000</td>\n",
       "      <td>1</td>\n",
       "      <td>Just Dance</td>\n",
       "      <td>200</td>\n",
       "      <td>1538376509000</td>\n",
       "      <td>\"Mozilla/5.0 (Macintosh; Intel Mac OS X 10_6_8...</td>\n",
       "      <td>100001</td>\n",
       "      <td>1</td>\n",
       "    </tr>\n",
       "    <tr>\n",
       "      <th>44863</th>\n",
       "      <td>None</td>\n",
       "      <td>Logged In</td>\n",
       "      <td>Delaney</td>\n",
       "      <td>F</td>\n",
       "      <td>0</td>\n",
       "      <td>Perez</td>\n",
       "      <td>NaN</td>\n",
       "      <td>free</td>\n",
       "      <td>Miami-Fort Lauderdale-West Palm Beach, FL</td>\n",
       "      <td>GET</td>\n",
       "      <td>Home</td>\n",
       "      <td>1534627466000</td>\n",
       "      <td>1</td>\n",
       "      <td>None</td>\n",
       "      <td>200</td>\n",
       "      <td>1538376504000</td>\n",
       "      <td>\"Mozilla/5.0 (Macintosh; Intel Mac OS X 10_6_8...</td>\n",
       "      <td>100001</td>\n",
       "      <td>1</td>\n",
       "    </tr>\n",
       "  </tbody>\n",
       "</table>\n",
       "<p>44864 rows × 19 columns</p>\n",
       "</div>"
      ],
      "text/plain": [
       "                            artist       auth firstName gender  itemInSession  \\\n",
       "0                             None  Logged In     Mason      M              9   \n",
       "1                             None  Cancelled     Mason      M             10   \n",
       "2                             None  Logged In     Mason      M              8   \n",
       "3                           Bonobo  Logged In     Mason      M              7   \n",
       "4                   Robert Johnson  Logged In     Mason      M              6   \n",
       "5                We Are The Fallen  Logged In     Mason      M              5   \n",
       "6              Ready For The World  Logged In     Mason      M              4   \n",
       "7                       Nickelback  Logged In     Mason      M              3   \n",
       "8                        Betty Boo  Logged In     Mason      M              2   \n",
       "9             The Notorious B.I.G.  Logged In     Mason      M              1   \n",
       "10             Christopher O'Riley  Logged In     Mason      M              0   \n",
       "11                            None  Cancelled     Ethan      M            176   \n",
       "12                            None  Logged In     Ethan      M            175   \n",
       "13                            None  Logged In     Ethan      M            174   \n",
       "14                             Zox  Logged In     Ethan      M            173   \n",
       "15     Ismo Alanko SÃÂ¤ÃÂ¤tiÃÂ¶  Logged In     Ethan      M            172   \n",
       "16                      The Smiths  Logged In     Ethan      M            171   \n",
       "17                     Youth Group  Logged In     Ethan      M            170   \n",
       "18                   Lonnie Gordon  Logged In     Ethan      M            169   \n",
       "19                     Booka Shade  Logged In     Ethan      M            168   \n",
       "20                      Ron Carter  Logged In     Ethan      M            167   \n",
       "21                        S Club 7  Logged In     Ethan      M            166   \n",
       "22                 Jimmy Eat World  Logged In     Ethan      M            165   \n",
       "23                       Van Halen  Logged In     Ethan      M            164   \n",
       "24                            None  Logged In     Ethan      M            163   \n",
       "25                  Bert Kaempfert  Logged In     Ethan      M            162   \n",
       "26                      Fireflight  Logged In     Ethan      M            161   \n",
       "27                  Wall Of Voodoo  Logged In     Ethan      M            160   \n",
       "28                         Cartola  Logged In     Ethan      M            159   \n",
       "29         The Roots / Erykah Badu  Logged In     Ethan      M            158   \n",
       "...                            ...        ...       ...    ...            ...   \n",
       "44834                      Phoenix  Logged In   Delaney      F             31   \n",
       "44835                     Amos Lee  Logged In   Delaney      F             30   \n",
       "44836                Dwight Yoakam  Logged In   Delaney      F             29   \n",
       "44837               Randy Crawford  Logged In   Delaney      F             28   \n",
       "44838            Weird Al Yankovic  Logged In   Delaney      F             27   \n",
       "44839                         None  Logged In   Delaney      F             26   \n",
       "44840              Blood Red Shoes  Logged In   Delaney      F             25   \n",
       "44841               Richard H Kirk  Logged In   Delaney      F             24   \n",
       "44842                     BjÃÂ¶rk  Logged In   Delaney      F             23   \n",
       "44843                         None  Logged In   Delaney      F             22   \n",
       "44844                         None  Logged In   Delaney      F             19   \n",
       "44845                  DevilDriver  Logged In   Delaney      F             18   \n",
       "44846                  Mad Caddies  Logged In   Delaney      F             17   \n",
       "44847                   Basshunter  Logged In   Delaney      F             16   \n",
       "44848                    LL Cool J  Logged In   Delaney      F             15   \n",
       "44849                         None  Logged In   Delaney      F             14   \n",
       "44850          Rihanna / Sean Paul  Logged In   Delaney      F             13   \n",
       "44851              Jimmy Eat World  Logged In   Delaney      F             12   \n",
       "44852                      Misfits  Logged In   Delaney      F             11   \n",
       "44853             The Afghan Whigs  Logged In   Delaney      F             10   \n",
       "44854                 3 Doors Down  Logged In   Delaney      F              9   \n",
       "44855                 Tyrone Wells  Logged In   Delaney      F              8   \n",
       "44856                     Pendulum  Logged In   Delaney      F              7   \n",
       "44857             The Replacements  Logged In   Delaney      F              6   \n",
       "44858                   Far Corner  Logged In   Delaney      F              5   \n",
       "44859                         None  Logged In   Delaney      F              4   \n",
       "44860                     Gorillaz  Logged In   Delaney      F              3   \n",
       "44861                         None  Logged In   Delaney      F              2   \n",
       "44862    Lady GaGa / Colby O'Donis  Logged In   Delaney      F              1   \n",
       "44863                         None  Logged In   Delaney      F              0   \n",
       "\n",
       "      lastName     length level                                   location  \\\n",
       "0         Hart        NaN  free                         Corpus Christi, TX   \n",
       "1         Hart        NaN  free                         Corpus Christi, TX   \n",
       "2         Hart        NaN  free                         Corpus Christi, TX   \n",
       "3         Hart  323.81342  free                         Corpus Christi, TX   \n",
       "4         Hart  178.41587  free                         Corpus Christi, TX   \n",
       "5         Hart  213.60281  free                         Corpus Christi, TX   \n",
       "6         Hart  391.26159  free                         Corpus Christi, TX   \n",
       "7         Hart  210.83383  free                         Corpus Christi, TX   \n",
       "8         Hart  203.23220  free                         Corpus Christi, TX   \n",
       "9         Hart  230.03383  free                         Corpus Christi, TX   \n",
       "10        Hart  337.91955  free                         Corpus Christi, TX   \n",
       "11     Johnson        NaN  paid                      Lexington-Fayette, KY   \n",
       "12     Johnson        NaN  paid                      Lexington-Fayette, KY   \n",
       "13     Johnson        NaN  paid                      Lexington-Fayette, KY   \n",
       "14     Johnson  212.34893  paid                      Lexington-Fayette, KY   \n",
       "15     Johnson  218.93179  paid                      Lexington-Fayette, KY   \n",
       "16     Johnson  239.85587  paid                      Lexington-Fayette, KY   \n",
       "17     Johnson  239.17669  paid                      Lexington-Fayette, KY   \n",
       "18     Johnson  181.21098  paid                      Lexington-Fayette, KY   \n",
       "19     Johnson  300.32934  paid                      Lexington-Fayette, KY   \n",
       "20     Johnson  497.13587  paid                      Lexington-Fayette, KY   \n",
       "21     Johnson  241.16200  paid                      Lexington-Fayette, KY   \n",
       "22     Johnson  166.00771  paid                      Lexington-Fayette, KY   \n",
       "23     Johnson  283.74159  paid                      Lexington-Fayette, KY   \n",
       "24     Johnson        NaN  paid                      Lexington-Fayette, KY   \n",
       "25     Johnson  150.69995  paid                      Lexington-Fayette, KY   \n",
       "26     Johnson  212.19220  paid                      Lexington-Fayette, KY   \n",
       "27     Johnson  250.67057  paid                      Lexington-Fayette, KY   \n",
       "28     Johnson  177.16200  paid                      Lexington-Fayette, KY   \n",
       "29     Johnson  259.26485  paid                      Lexington-Fayette, KY   \n",
       "...        ...        ...   ...                                        ...   \n",
       "44834    Perez  198.03383  free  Miami-Fort Lauderdale-West Palm Beach, FL   \n",
       "44835    Perez  259.26485  free  Miami-Fort Lauderdale-West Palm Beach, FL   \n",
       "44836    Perez  239.30730  free  Miami-Fort Lauderdale-West Palm Beach, FL   \n",
       "44837    Perez  270.75873  free  Miami-Fort Lauderdale-West Palm Beach, FL   \n",
       "44838    Perez  259.65669  free  Miami-Fort Lauderdale-West Palm Beach, FL   \n",
       "44839    Perez        NaN  free  Miami-Fort Lauderdale-West Palm Beach, FL   \n",
       "44840    Perez  176.14322  free  Miami-Fort Lauderdale-West Palm Beach, FL   \n",
       "44841    Perez  444.00281  free  Miami-Fort Lauderdale-West Palm Beach, FL   \n",
       "44842    Perez  348.57751  free  Miami-Fort Lauderdale-West Palm Beach, FL   \n",
       "44843    Perez        NaN  free  Miami-Fort Lauderdale-West Palm Beach, FL   \n",
       "44844    Perez        NaN  free  Miami-Fort Lauderdale-West Palm Beach, FL   \n",
       "44845    Perez  302.31465  free  Miami-Fort Lauderdale-West Palm Beach, FL   \n",
       "44846    Perez  179.80036  free  Miami-Fort Lauderdale-West Palm Beach, FL   \n",
       "44847    Perez  332.69506  free  Miami-Fort Lauderdale-West Palm Beach, FL   \n",
       "44848    Perez  248.68526  free  Miami-Fort Lauderdale-West Palm Beach, FL   \n",
       "44849    Perez        NaN  free  Miami-Fort Lauderdale-West Palm Beach, FL   \n",
       "44850    Perez  213.34159  free  Miami-Fort Lauderdale-West Palm Beach, FL   \n",
       "44851    Perez  166.00771  free  Miami-Fort Lauderdale-West Palm Beach, FL   \n",
       "44852    Perez  164.46649  free  Miami-Fort Lauderdale-West Palm Beach, FL   \n",
       "44853    Perez  190.82404  free  Miami-Fort Lauderdale-West Palm Beach, FL   \n",
       "44854    Perez  204.32934  free  Miami-Fort Lauderdale-West Palm Beach, FL   \n",
       "44855    Perez  238.65424  free  Miami-Fort Lauderdale-West Palm Beach, FL   \n",
       "44856    Perez  313.86077  free  Miami-Fort Lauderdale-West Palm Beach, FL   \n",
       "44857    Perez  184.60689  free  Miami-Fort Lauderdale-West Palm Beach, FL   \n",
       "44858    Perez  399.88200  free  Miami-Fort Lauderdale-West Palm Beach, FL   \n",
       "44859    Perez        NaN  free  Miami-Fort Lauderdale-West Palm Beach, FL   \n",
       "44860    Perez  602.17424  free  Miami-Fort Lauderdale-West Palm Beach, FL   \n",
       "44861    Perez        NaN  free  Miami-Fort Lauderdale-West Palm Beach, FL   \n",
       "44862    Perez  238.54975  free  Miami-Fort Lauderdale-West Palm Beach, FL   \n",
       "44863    Perez        NaN  free  Miami-Fort Lauderdale-West Palm Beach, FL   \n",
       "\n",
       "      method                       page   registration  sessionId  \\\n",
       "0        PUT                     Cancel  1533157139000        174   \n",
       "1        GET  Cancellation Confirmation  1533157139000        174   \n",
       "2        GET                Roll Advert  1533157139000        174   \n",
       "3        PUT                   NextSong  1533157139000        174   \n",
       "4        PUT                   NextSong  1533157139000        174   \n",
       "5        PUT                   NextSong  1533157139000        174   \n",
       "6        PUT                   NextSong  1533157139000        174   \n",
       "7        PUT                   NextSong  1533157139000        174   \n",
       "8        PUT                   NextSong  1533157139000        174   \n",
       "9        PUT                   NextSong  1533157139000        174   \n",
       "10       PUT                   NextSong  1533157139000        174   \n",
       "11       GET  Cancellation Confirmation  1538080987000        934   \n",
       "12       PUT                     Cancel  1538080987000        934   \n",
       "13       GET                   Settings  1538080987000        934   \n",
       "14       PUT                   NextSong  1538080987000        934   \n",
       "15       PUT                   NextSong  1538080987000        934   \n",
       "16       PUT                   NextSong  1538080987000        934   \n",
       "17       PUT                   NextSong  1538080987000        934   \n",
       "18       PUT                   NextSong  1538080987000        934   \n",
       "19       PUT                   NextSong  1538080987000        934   \n",
       "20       PUT                   NextSong  1538080987000        934   \n",
       "21       PUT                   NextSong  1538080987000        934   \n",
       "22       PUT                   NextSong  1538080987000        934   \n",
       "23       PUT                   NextSong  1538080987000        934   \n",
       "24       PUT                  Thumbs Up  1538080987000        934   \n",
       "25       PUT                   NextSong  1538080987000        934   \n",
       "26       PUT                   NextSong  1538080987000        934   \n",
       "27       PUT                   NextSong  1538080987000        934   \n",
       "28       PUT                   NextSong  1538080987000        934   \n",
       "29       PUT                   NextSong  1538080987000        934   \n",
       "...      ...                        ...            ...        ...   \n",
       "44834    PUT                   NextSong  1534627466000          1   \n",
       "44835    PUT                   NextSong  1534627466000          1   \n",
       "44836    PUT                   NextSong  1534627466000          1   \n",
       "44837    PUT                   NextSong  1534627466000          1   \n",
       "44838    PUT                   NextSong  1534627466000          1   \n",
       "44839    PUT                Thumbs Down  1534627466000          1   \n",
       "44840    PUT                   NextSong  1534627466000          1   \n",
       "44841    PUT                   NextSong  1534627466000          1   \n",
       "44842    PUT                   NextSong  1534627466000          1   \n",
       "44843    GET                       Home  1534627466000          1   \n",
       "44844    PUT                     Logout  1534627466000          1   \n",
       "44845    PUT                   NextSong  1534627466000          1   \n",
       "44846    PUT                   NextSong  1534627466000          1   \n",
       "44847    PUT                   NextSong  1534627466000          1   \n",
       "44848    PUT                   NextSong  1534627466000          1   \n",
       "44849    GET                Roll Advert  1534627466000          1   \n",
       "44850    PUT                   NextSong  1534627466000          1   \n",
       "44851    PUT                   NextSong  1534627466000          1   \n",
       "44852    PUT                   NextSong  1534627466000          1   \n",
       "44853    PUT                   NextSong  1534627466000          1   \n",
       "44854    PUT                   NextSong  1534627466000          1   \n",
       "44855    PUT                   NextSong  1534627466000          1   \n",
       "44856    PUT                   NextSong  1534627466000          1   \n",
       "44857    PUT                   NextSong  1534627466000          1   \n",
       "44858    PUT                   NextSong  1534627466000          1   \n",
       "44859    GET                Roll Advert  1534627466000          1   \n",
       "44860    PUT                   NextSong  1534627466000          1   \n",
       "44861    GET                Roll Advert  1534627466000          1   \n",
       "44862    PUT                   NextSong  1534627466000          1   \n",
       "44863    GET                       Home  1534627466000          1   \n",
       "\n",
       "                                                    song  status  \\\n",
       "0                                                   None     307   \n",
       "1                                                   None     200   \n",
       "2                                                   None     200   \n",
       "3                                                   Kota     200   \n",
       "4                                        They're Red Hot     200   \n",
       "5                                  Don't Leave Me Behind     200   \n",
       "6                                          Love You Down     200   \n",
       "7                          Leader Of Men (Album Version)     200   \n",
       "8                                          I'm On My Way     200   \n",
       "9                               Hypnotize(Album Version)     200   \n",
       "10                                      paranoid android     200   \n",
       "11                                                  None     200   \n",
       "12                                                  None     307   \n",
       "13                                                  None     200   \n",
       "14                                       Can't Look Down     200   \n",
       "15                                         Nokian Takana     200   \n",
       "16                             You've Got Everything Now     200   \n",
       "17                                         Forever Young     200   \n",
       "18     Catch You Baby (Steve Pitron & Max Sanna Radio...     200   \n",
       "19                        Body Language / interpretation     200   \n",
       "20                                   I CAN'T GET STARTED     200   \n",
       "21                           Never Had A Dream Come True     200   \n",
       "22                                            The Middle     200   \n",
       "23     Ain't Talkin' 'Bout Love (Remastered Live Vers...     200   \n",
       "24                                                  None     307   \n",
       "25                                            Market Day     200   \n",
       "26                                              Stand Up     200   \n",
       "27                                         Mexican Radio     200   \n",
       "28                                  Preciso Me Encontrar     200   \n",
       "29                                            You Got Me     200   \n",
       "...                                                  ...     ...   \n",
       "44834                                          Too Young     200   \n",
       "44835                                     All My Friends     200   \n",
       "44836                                     You're The One     200   \n",
       "44837                                              Almaz     200   \n",
       "44838  Cavity Search (Paody of \"Hold Me_ Thrill Me_ K...     200   \n",
       "44839                                               None     307   \n",
       "44840                     It's Getting Boring By The Sea     200   \n",
       "44841                         Frankie Machine (Part Two)     200   \n",
       "44842                                               Undo     200   \n",
       "44843                                               None     200   \n",
       "44844                                               None     307   \n",
       "44845                    End Of The Line (Album Version)     200   \n",
       "44846                                             Leavin     200   \n",
       "44847                                  All I Ever Wanted     200   \n",
       "44848                                Around The Way Girl     200   \n",
       "44849                                               None     200   \n",
       "44850                                       Break It Off     200   \n",
       "44851                                         The Middle     200   \n",
       "44852                  Rise Above (Live) (Album Version)     200   \n",
       "44853                                           My Enemy     200   \n",
       "44854                                            Runaway     200   \n",
       "44855                                            Falling     200   \n",
       "44856                                 Propane Nightmares     200   \n",
       "44857             Can't Hardly Wait (Remastered Version)     200   \n",
       "44858                           Do You Think I'm Spooky?     200   \n",
       "44859                                               None     200   \n",
       "44860               Kids With Guns (Quiet Village Remix)     200   \n",
       "44861                                               None     200   \n",
       "44862                                         Just Dance     200   \n",
       "44863                                               None     200   \n",
       "\n",
       "                  ts                                          userAgent  \\\n",
       "0      1539318918000  \"Mozilla/5.0 (Macintosh; Intel Mac OS X 10_9_4...   \n",
       "1      1539318918000  \"Mozilla/5.0 (Macintosh; Intel Mac OS X 10_9_4...   \n",
       "2      1539318917000  \"Mozilla/5.0 (Macintosh; Intel Mac OS X 10_9_4...   \n",
       "3      1539318906000  \"Mozilla/5.0 (Macintosh; Intel Mac OS X 10_9_4...   \n",
       "4      1539318728000  \"Mozilla/5.0 (Macintosh; Intel Mac OS X 10_9_4...   \n",
       "5      1539318515000  \"Mozilla/5.0 (Macintosh; Intel Mac OS X 10_9_4...   \n",
       "6      1539318124000  \"Mozilla/5.0 (Macintosh; Intel Mac OS X 10_9_4...   \n",
       "7      1539317914000  \"Mozilla/5.0 (Macintosh; Intel Mac OS X 10_9_4...   \n",
       "8      1539317711000  \"Mozilla/5.0 (Macintosh; Intel Mac OS X 10_9_4...   \n",
       "9      1539317481000  \"Mozilla/5.0 (Macintosh; Intel Mac OS X 10_9_4...   \n",
       "10     1539317144000  \"Mozilla/5.0 (Macintosh; Intel Mac OS X 10_9_4...   \n",
       "11     1539761972000  \"Mozilla/5.0 (Windows NT 6.1; WOW64) AppleWebK...   \n",
       "12     1539761830000  \"Mozilla/5.0 (Windows NT 6.1; WOW64) AppleWebK...   \n",
       "13     1539761829000  \"Mozilla/5.0 (Windows NT 6.1; WOW64) AppleWebK...   \n",
       "14     1539761726000  \"Mozilla/5.0 (Windows NT 6.1; WOW64) AppleWebK...   \n",
       "15     1539761508000  \"Mozilla/5.0 (Windows NT 6.1; WOW64) AppleWebK...   \n",
       "16     1539761269000  \"Mozilla/5.0 (Windows NT 6.1; WOW64) AppleWebK...   \n",
       "17     1539761030000  \"Mozilla/5.0 (Windows NT 6.1; WOW64) AppleWebK...   \n",
       "18     1539760849000  \"Mozilla/5.0 (Windows NT 6.1; WOW64) AppleWebK...   \n",
       "19     1539760549000  \"Mozilla/5.0 (Windows NT 6.1; WOW64) AppleWebK...   \n",
       "20     1539760052000  \"Mozilla/5.0 (Windows NT 6.1; WOW64) AppleWebK...   \n",
       "21     1539759811000  \"Mozilla/5.0 (Windows NT 6.1; WOW64) AppleWebK...   \n",
       "22     1539759645000  \"Mozilla/5.0 (Windows NT 6.1; WOW64) AppleWebK...   \n",
       "23     1539759362000  \"Mozilla/5.0 (Windows NT 6.1; WOW64) AppleWebK...   \n",
       "24     1539759213000  \"Mozilla/5.0 (Windows NT 6.1; WOW64) AppleWebK...   \n",
       "25     1539759212000  \"Mozilla/5.0 (Windows NT 6.1; WOW64) AppleWebK...   \n",
       "26     1539759000000  \"Mozilla/5.0 (Windows NT 6.1; WOW64) AppleWebK...   \n",
       "27     1539758750000  \"Mozilla/5.0 (Windows NT 6.1; WOW64) AppleWebK...   \n",
       "28     1539758573000  \"Mozilla/5.0 (Windows NT 6.1; WOW64) AppleWebK...   \n",
       "29     1539758314000  \"Mozilla/5.0 (Windows NT 6.1; WOW64) AppleWebK...   \n",
       "...              ...                                                ...   \n",
       "44834  1538382476000  \"Mozilla/5.0 (Macintosh; Intel Mac OS X 10_6_8...   \n",
       "44835  1538382217000  \"Mozilla/5.0 (Macintosh; Intel Mac OS X 10_6_8...   \n",
       "44836  1538381978000  \"Mozilla/5.0 (Macintosh; Intel Mac OS X 10_6_8...   \n",
       "44837  1538381708000  \"Mozilla/5.0 (Macintosh; Intel Mac OS X 10_6_8...   \n",
       "44838  1538381449000  \"Mozilla/5.0 (Macintosh; Intel Mac OS X 10_6_8...   \n",
       "44839  1538381274000  \"Mozilla/5.0 (Macintosh; Intel Mac OS X 10_6_8...   \n",
       "44840  1538381273000  \"Mozilla/5.0 (Macintosh; Intel Mac OS X 10_6_8...   \n",
       "44841  1538380829000  \"Mozilla/5.0 (Macintosh; Intel Mac OS X 10_6_8...   \n",
       "44842  1538380481000  \"Mozilla/5.0 (Macintosh; Intel Mac OS X 10_6_8...   \n",
       "44843  1538380429000  \"Mozilla/5.0 (Macintosh; Intel Mac OS X 10_6_8...   \n",
       "44844  1538380180000  \"Mozilla/5.0 (Macintosh; Intel Mac OS X 10_6_8...   \n",
       "44845  1538380179000  \"Mozilla/5.0 (Macintosh; Intel Mac OS X 10_6_8...   \n",
       "44846  1538380000000  \"Mozilla/5.0 (Macintosh; Intel Mac OS X 10_6_8...   \n",
       "44847  1538379668000  \"Mozilla/5.0 (Macintosh; Intel Mac OS X 10_6_8...   \n",
       "44848  1538379420000  \"Mozilla/5.0 (Macintosh; Intel Mac OS X 10_6_8...   \n",
       "44849  1538379230000  \"Mozilla/5.0 (Macintosh; Intel Mac OS X 10_6_8...   \n",
       "44850  1538379207000  \"Mozilla/5.0 (Macintosh; Intel Mac OS X 10_6_8...   \n",
       "44851  1538379041000  \"Mozilla/5.0 (Macintosh; Intel Mac OS X 10_6_8...   \n",
       "44852  1538378877000  \"Mozilla/5.0 (Macintosh; Intel Mac OS X 10_6_8...   \n",
       "44853  1538378687000  \"Mozilla/5.0 (Macintosh; Intel Mac OS X 10_6_8...   \n",
       "44854  1538378483000  \"Mozilla/5.0 (Macintosh; Intel Mac OS X 10_6_8...   \n",
       "44855  1538378245000  \"Mozilla/5.0 (Macintosh; Intel Mac OS X 10_6_8...   \n",
       "44856  1538377932000  \"Mozilla/5.0 (Macintosh; Intel Mac OS X 10_6_8...   \n",
       "44857  1538377748000  \"Mozilla/5.0 (Macintosh; Intel Mac OS X 10_6_8...   \n",
       "44858  1538377349000  \"Mozilla/5.0 (Macintosh; Intel Mac OS X 10_6_8...   \n",
       "44859  1538376783000  \"Mozilla/5.0 (Macintosh; Intel Mac OS X 10_6_8...   \n",
       "44860  1538376747000  \"Mozilla/5.0 (Macintosh; Intel Mac OS X 10_6_8...   \n",
       "44861  1538376542000  \"Mozilla/5.0 (Macintosh; Intel Mac OS X 10_6_8...   \n",
       "44862  1538376509000  \"Mozilla/5.0 (Macintosh; Intel Mac OS X 10_6_8...   \n",
       "44863  1538376504000  \"Mozilla/5.0 (Macintosh; Intel Mac OS X 10_6_8...   \n",
       "\n",
       "       userId  Churn  \n",
       "0         125      1  \n",
       "1         125      1  \n",
       "2         125      1  \n",
       "3         125      1  \n",
       "4         125      1  \n",
       "5         125      1  \n",
       "6         125      1  \n",
       "7         125      1  \n",
       "8         125      1  \n",
       "9         125      1  \n",
       "10        125      1  \n",
       "11         51      1  \n",
       "12         51      1  \n",
       "13         51      1  \n",
       "14         51      1  \n",
       "15         51      1  \n",
       "16         51      1  \n",
       "17         51      1  \n",
       "18         51      1  \n",
       "19         51      1  \n",
       "20         51      1  \n",
       "21         51      1  \n",
       "22         51      1  \n",
       "23         51      1  \n",
       "24         51      1  \n",
       "25         51      1  \n",
       "26         51      1  \n",
       "27         51      1  \n",
       "28         51      1  \n",
       "29         51      1  \n",
       "...       ...    ...  \n",
       "44834  100001      1  \n",
       "44835  100001      1  \n",
       "44836  100001      1  \n",
       "44837  100001      1  \n",
       "44838  100001      1  \n",
       "44839  100001      1  \n",
       "44840  100001      1  \n",
       "44841  100001      1  \n",
       "44842  100001      1  \n",
       "44843  100001      1  \n",
       "44844  100001      1  \n",
       "44845  100001      1  \n",
       "44846  100001      1  \n",
       "44847  100001      1  \n",
       "44848  100001      1  \n",
       "44849  100001      1  \n",
       "44850  100001      1  \n",
       "44851  100001      1  \n",
       "44852  100001      1  \n",
       "44853  100001      1  \n",
       "44854  100001      1  \n",
       "44855  100001      1  \n",
       "44856  100001      1  \n",
       "44857  100001      1  \n",
       "44858  100001      1  \n",
       "44859  100001      1  \n",
       "44860  100001      1  \n",
       "44861  100001      1  \n",
       "44862  100001      1  \n",
       "44863  100001      1  \n",
       "\n",
       "[44864 rows x 19 columns]"
      ]
     },
     "execution_count": 38,
     "metadata": {},
     "output_type": "execute_result"
    }
   ],
   "source": [
    "churn_df = filtered_df.filter(filtered_df.Churn==1).toPandas()\n",
    "churn_df"
   ]
  },
  {
   "cell_type": "code",
   "execution_count": 39,
   "metadata": {},
   "outputs": [],
   "source": [
    "churn_df.length.dropna(inplace=True)"
   ]
  },
  {
   "cell_type": "code",
   "execution_count": 40,
   "metadata": {},
   "outputs": [
    {
     "data": {
      "text/html": [
       "<div>\n",
       "<style scoped>\n",
       "    .dataframe tbody tr th:only-of-type {\n",
       "        vertical-align: middle;\n",
       "    }\n",
       "\n",
       "    .dataframe tbody tr th {\n",
       "        vertical-align: top;\n",
       "    }\n",
       "\n",
       "    .dataframe thead th {\n",
       "        text-align: right;\n",
       "    }\n",
       "</style>\n",
       "<table border=\"1\" class=\"dataframe\">\n",
       "  <thead>\n",
       "    <tr style=\"text-align: right;\">\n",
       "      <th></th>\n",
       "      <th>artist</th>\n",
       "      <th>auth</th>\n",
       "      <th>firstName</th>\n",
       "      <th>gender</th>\n",
       "      <th>itemInSession</th>\n",
       "      <th>lastName</th>\n",
       "      <th>length</th>\n",
       "      <th>level</th>\n",
       "      <th>location</th>\n",
       "      <th>method</th>\n",
       "      <th>page</th>\n",
       "      <th>registration</th>\n",
       "      <th>sessionId</th>\n",
       "      <th>song</th>\n",
       "      <th>status</th>\n",
       "      <th>ts</th>\n",
       "      <th>userAgent</th>\n",
       "      <th>userId</th>\n",
       "      <th>Churn</th>\n",
       "    </tr>\n",
       "  </thead>\n",
       "  <tbody>\n",
       "    <tr>\n",
       "      <th>0</th>\n",
       "      <td>None</td>\n",
       "      <td>Logged In</td>\n",
       "      <td>Mason</td>\n",
       "      <td>M</td>\n",
       "      <td>9</td>\n",
       "      <td>Hart</td>\n",
       "      <td>NaN</td>\n",
       "      <td>free</td>\n",
       "      <td>Corpus Christi, TX</td>\n",
       "      <td>PUT</td>\n",
       "      <td>Cancel</td>\n",
       "      <td>1533157139000</td>\n",
       "      <td>174</td>\n",
       "      <td>None</td>\n",
       "      <td>307</td>\n",
       "      <td>1539318918000</td>\n",
       "      <td>\"Mozilla/5.0 (Macintosh; Intel Mac OS X 10_9_4...</td>\n",
       "      <td>125</td>\n",
       "      <td>1</td>\n",
       "    </tr>\n",
       "    <tr>\n",
       "      <th>1</th>\n",
       "      <td>None</td>\n",
       "      <td>Cancelled</td>\n",
       "      <td>Mason</td>\n",
       "      <td>M</td>\n",
       "      <td>10</td>\n",
       "      <td>Hart</td>\n",
       "      <td>NaN</td>\n",
       "      <td>free</td>\n",
       "      <td>Corpus Christi, TX</td>\n",
       "      <td>GET</td>\n",
       "      <td>Cancellation Confirmation</td>\n",
       "      <td>1533157139000</td>\n",
       "      <td>174</td>\n",
       "      <td>None</td>\n",
       "      <td>200</td>\n",
       "      <td>1539318918000</td>\n",
       "      <td>\"Mozilla/5.0 (Macintosh; Intel Mac OS X 10_9_4...</td>\n",
       "      <td>125</td>\n",
       "      <td>1</td>\n",
       "    </tr>\n",
       "    <tr>\n",
       "      <th>2</th>\n",
       "      <td>None</td>\n",
       "      <td>Logged In</td>\n",
       "      <td>Mason</td>\n",
       "      <td>M</td>\n",
       "      <td>8</td>\n",
       "      <td>Hart</td>\n",
       "      <td>NaN</td>\n",
       "      <td>free</td>\n",
       "      <td>Corpus Christi, TX</td>\n",
       "      <td>GET</td>\n",
       "      <td>Roll Advert</td>\n",
       "      <td>1533157139000</td>\n",
       "      <td>174</td>\n",
       "      <td>None</td>\n",
       "      <td>200</td>\n",
       "      <td>1539318917000</td>\n",
       "      <td>\"Mozilla/5.0 (Macintosh; Intel Mac OS X 10_9_4...</td>\n",
       "      <td>125</td>\n",
       "      <td>1</td>\n",
       "    </tr>\n",
       "    <tr>\n",
       "      <th>3</th>\n",
       "      <td>Bonobo</td>\n",
       "      <td>Logged In</td>\n",
       "      <td>Mason</td>\n",
       "      <td>M</td>\n",
       "      <td>7</td>\n",
       "      <td>Hart</td>\n",
       "      <td>323.81342</td>\n",
       "      <td>free</td>\n",
       "      <td>Corpus Christi, TX</td>\n",
       "      <td>PUT</td>\n",
       "      <td>NextSong</td>\n",
       "      <td>1533157139000</td>\n",
       "      <td>174</td>\n",
       "      <td>Kota</td>\n",
       "      <td>200</td>\n",
       "      <td>1539318906000</td>\n",
       "      <td>\"Mozilla/5.0 (Macintosh; Intel Mac OS X 10_9_4...</td>\n",
       "      <td>125</td>\n",
       "      <td>1</td>\n",
       "    </tr>\n",
       "    <tr>\n",
       "      <th>4</th>\n",
       "      <td>Robert Johnson</td>\n",
       "      <td>Logged In</td>\n",
       "      <td>Mason</td>\n",
       "      <td>M</td>\n",
       "      <td>6</td>\n",
       "      <td>Hart</td>\n",
       "      <td>178.41587</td>\n",
       "      <td>free</td>\n",
       "      <td>Corpus Christi, TX</td>\n",
       "      <td>PUT</td>\n",
       "      <td>NextSong</td>\n",
       "      <td>1533157139000</td>\n",
       "      <td>174</td>\n",
       "      <td>They're Red Hot</td>\n",
       "      <td>200</td>\n",
       "      <td>1539318728000</td>\n",
       "      <td>\"Mozilla/5.0 (Macintosh; Intel Mac OS X 10_9_4...</td>\n",
       "      <td>125</td>\n",
       "      <td>1</td>\n",
       "    </tr>\n",
       "    <tr>\n",
       "      <th>5</th>\n",
       "      <td>We Are The Fallen</td>\n",
       "      <td>Logged In</td>\n",
       "      <td>Mason</td>\n",
       "      <td>M</td>\n",
       "      <td>5</td>\n",
       "      <td>Hart</td>\n",
       "      <td>213.60281</td>\n",
       "      <td>free</td>\n",
       "      <td>Corpus Christi, TX</td>\n",
       "      <td>PUT</td>\n",
       "      <td>NextSong</td>\n",
       "      <td>1533157139000</td>\n",
       "      <td>174</td>\n",
       "      <td>Don't Leave Me Behind</td>\n",
       "      <td>200</td>\n",
       "      <td>1539318515000</td>\n",
       "      <td>\"Mozilla/5.0 (Macintosh; Intel Mac OS X 10_9_4...</td>\n",
       "      <td>125</td>\n",
       "      <td>1</td>\n",
       "    </tr>\n",
       "    <tr>\n",
       "      <th>6</th>\n",
       "      <td>Ready For The World</td>\n",
       "      <td>Logged In</td>\n",
       "      <td>Mason</td>\n",
       "      <td>M</td>\n",
       "      <td>4</td>\n",
       "      <td>Hart</td>\n",
       "      <td>391.26159</td>\n",
       "      <td>free</td>\n",
       "      <td>Corpus Christi, TX</td>\n",
       "      <td>PUT</td>\n",
       "      <td>NextSong</td>\n",
       "      <td>1533157139000</td>\n",
       "      <td>174</td>\n",
       "      <td>Love You Down</td>\n",
       "      <td>200</td>\n",
       "      <td>1539318124000</td>\n",
       "      <td>\"Mozilla/5.0 (Macintosh; Intel Mac OS X 10_9_4...</td>\n",
       "      <td>125</td>\n",
       "      <td>1</td>\n",
       "    </tr>\n",
       "    <tr>\n",
       "      <th>7</th>\n",
       "      <td>Nickelback</td>\n",
       "      <td>Logged In</td>\n",
       "      <td>Mason</td>\n",
       "      <td>M</td>\n",
       "      <td>3</td>\n",
       "      <td>Hart</td>\n",
       "      <td>210.83383</td>\n",
       "      <td>free</td>\n",
       "      <td>Corpus Christi, TX</td>\n",
       "      <td>PUT</td>\n",
       "      <td>NextSong</td>\n",
       "      <td>1533157139000</td>\n",
       "      <td>174</td>\n",
       "      <td>Leader Of Men (Album Version)</td>\n",
       "      <td>200</td>\n",
       "      <td>1539317914000</td>\n",
       "      <td>\"Mozilla/5.0 (Macintosh; Intel Mac OS X 10_9_4...</td>\n",
       "      <td>125</td>\n",
       "      <td>1</td>\n",
       "    </tr>\n",
       "    <tr>\n",
       "      <th>8</th>\n",
       "      <td>Betty Boo</td>\n",
       "      <td>Logged In</td>\n",
       "      <td>Mason</td>\n",
       "      <td>M</td>\n",
       "      <td>2</td>\n",
       "      <td>Hart</td>\n",
       "      <td>203.23220</td>\n",
       "      <td>free</td>\n",
       "      <td>Corpus Christi, TX</td>\n",
       "      <td>PUT</td>\n",
       "      <td>NextSong</td>\n",
       "      <td>1533157139000</td>\n",
       "      <td>174</td>\n",
       "      <td>I'm On My Way</td>\n",
       "      <td>200</td>\n",
       "      <td>1539317711000</td>\n",
       "      <td>\"Mozilla/5.0 (Macintosh; Intel Mac OS X 10_9_4...</td>\n",
       "      <td>125</td>\n",
       "      <td>1</td>\n",
       "    </tr>\n",
       "    <tr>\n",
       "      <th>9</th>\n",
       "      <td>The Notorious B.I.G.</td>\n",
       "      <td>Logged In</td>\n",
       "      <td>Mason</td>\n",
       "      <td>M</td>\n",
       "      <td>1</td>\n",
       "      <td>Hart</td>\n",
       "      <td>230.03383</td>\n",
       "      <td>free</td>\n",
       "      <td>Corpus Christi, TX</td>\n",
       "      <td>PUT</td>\n",
       "      <td>NextSong</td>\n",
       "      <td>1533157139000</td>\n",
       "      <td>174</td>\n",
       "      <td>Hypnotize(Album Version)</td>\n",
       "      <td>200</td>\n",
       "      <td>1539317481000</td>\n",
       "      <td>\"Mozilla/5.0 (Macintosh; Intel Mac OS X 10_9_4...</td>\n",
       "      <td>125</td>\n",
       "      <td>1</td>\n",
       "    </tr>\n",
       "    <tr>\n",
       "      <th>10</th>\n",
       "      <td>Christopher O'Riley</td>\n",
       "      <td>Logged In</td>\n",
       "      <td>Mason</td>\n",
       "      <td>M</td>\n",
       "      <td>0</td>\n",
       "      <td>Hart</td>\n",
       "      <td>337.91955</td>\n",
       "      <td>free</td>\n",
       "      <td>Corpus Christi, TX</td>\n",
       "      <td>PUT</td>\n",
       "      <td>NextSong</td>\n",
       "      <td>1533157139000</td>\n",
       "      <td>174</td>\n",
       "      <td>paranoid android</td>\n",
       "      <td>200</td>\n",
       "      <td>1539317144000</td>\n",
       "      <td>\"Mozilla/5.0 (Macintosh; Intel Mac OS X 10_9_4...</td>\n",
       "      <td>125</td>\n",
       "      <td>1</td>\n",
       "    </tr>\n",
       "    <tr>\n",
       "      <th>11</th>\n",
       "      <td>None</td>\n",
       "      <td>Cancelled</td>\n",
       "      <td>Ethan</td>\n",
       "      <td>M</td>\n",
       "      <td>176</td>\n",
       "      <td>Johnson</td>\n",
       "      <td>NaN</td>\n",
       "      <td>paid</td>\n",
       "      <td>Lexington-Fayette, KY</td>\n",
       "      <td>GET</td>\n",
       "      <td>Cancellation Confirmation</td>\n",
       "      <td>1538080987000</td>\n",
       "      <td>934</td>\n",
       "      <td>None</td>\n",
       "      <td>200</td>\n",
       "      <td>1539761972000</td>\n",
       "      <td>\"Mozilla/5.0 (Windows NT 6.1; WOW64) AppleWebK...</td>\n",
       "      <td>51</td>\n",
       "      <td>1</td>\n",
       "    </tr>\n",
       "    <tr>\n",
       "      <th>12</th>\n",
       "      <td>None</td>\n",
       "      <td>Logged In</td>\n",
       "      <td>Ethan</td>\n",
       "      <td>M</td>\n",
       "      <td>175</td>\n",
       "      <td>Johnson</td>\n",
       "      <td>NaN</td>\n",
       "      <td>paid</td>\n",
       "      <td>Lexington-Fayette, KY</td>\n",
       "      <td>PUT</td>\n",
       "      <td>Cancel</td>\n",
       "      <td>1538080987000</td>\n",
       "      <td>934</td>\n",
       "      <td>None</td>\n",
       "      <td>307</td>\n",
       "      <td>1539761830000</td>\n",
       "      <td>\"Mozilla/5.0 (Windows NT 6.1; WOW64) AppleWebK...</td>\n",
       "      <td>51</td>\n",
       "      <td>1</td>\n",
       "    </tr>\n",
       "    <tr>\n",
       "      <th>13</th>\n",
       "      <td>None</td>\n",
       "      <td>Logged In</td>\n",
       "      <td>Ethan</td>\n",
       "      <td>M</td>\n",
       "      <td>174</td>\n",
       "      <td>Johnson</td>\n",
       "      <td>NaN</td>\n",
       "      <td>paid</td>\n",
       "      <td>Lexington-Fayette, KY</td>\n",
       "      <td>GET</td>\n",
       "      <td>Settings</td>\n",
       "      <td>1538080987000</td>\n",
       "      <td>934</td>\n",
       "      <td>None</td>\n",
       "      <td>200</td>\n",
       "      <td>1539761829000</td>\n",
       "      <td>\"Mozilla/5.0 (Windows NT 6.1; WOW64) AppleWebK...</td>\n",
       "      <td>51</td>\n",
       "      <td>1</td>\n",
       "    </tr>\n",
       "    <tr>\n",
       "      <th>14</th>\n",
       "      <td>Zox</td>\n",
       "      <td>Logged In</td>\n",
       "      <td>Ethan</td>\n",
       "      <td>M</td>\n",
       "      <td>173</td>\n",
       "      <td>Johnson</td>\n",
       "      <td>212.34893</td>\n",
       "      <td>paid</td>\n",
       "      <td>Lexington-Fayette, KY</td>\n",
       "      <td>PUT</td>\n",
       "      <td>NextSong</td>\n",
       "      <td>1538080987000</td>\n",
       "      <td>934</td>\n",
       "      <td>Can't Look Down</td>\n",
       "      <td>200</td>\n",
       "      <td>1539761726000</td>\n",
       "      <td>\"Mozilla/5.0 (Windows NT 6.1; WOW64) AppleWebK...</td>\n",
       "      <td>51</td>\n",
       "      <td>1</td>\n",
       "    </tr>\n",
       "    <tr>\n",
       "      <th>15</th>\n",
       "      <td>Ismo Alanko SÃÂ¤ÃÂ¤tiÃÂ¶</td>\n",
       "      <td>Logged In</td>\n",
       "      <td>Ethan</td>\n",
       "      <td>M</td>\n",
       "      <td>172</td>\n",
       "      <td>Johnson</td>\n",
       "      <td>218.93179</td>\n",
       "      <td>paid</td>\n",
       "      <td>Lexington-Fayette, KY</td>\n",
       "      <td>PUT</td>\n",
       "      <td>NextSong</td>\n",
       "      <td>1538080987000</td>\n",
       "      <td>934</td>\n",
       "      <td>Nokian Takana</td>\n",
       "      <td>200</td>\n",
       "      <td>1539761508000</td>\n",
       "      <td>\"Mozilla/5.0 (Windows NT 6.1; WOW64) AppleWebK...</td>\n",
       "      <td>51</td>\n",
       "      <td>1</td>\n",
       "    </tr>\n",
       "    <tr>\n",
       "      <th>16</th>\n",
       "      <td>The Smiths</td>\n",
       "      <td>Logged In</td>\n",
       "      <td>Ethan</td>\n",
       "      <td>M</td>\n",
       "      <td>171</td>\n",
       "      <td>Johnson</td>\n",
       "      <td>239.85587</td>\n",
       "      <td>paid</td>\n",
       "      <td>Lexington-Fayette, KY</td>\n",
       "      <td>PUT</td>\n",
       "      <td>NextSong</td>\n",
       "      <td>1538080987000</td>\n",
       "      <td>934</td>\n",
       "      <td>You've Got Everything Now</td>\n",
       "      <td>200</td>\n",
       "      <td>1539761269000</td>\n",
       "      <td>\"Mozilla/5.0 (Windows NT 6.1; WOW64) AppleWebK...</td>\n",
       "      <td>51</td>\n",
       "      <td>1</td>\n",
       "    </tr>\n",
       "    <tr>\n",
       "      <th>17</th>\n",
       "      <td>Youth Group</td>\n",
       "      <td>Logged In</td>\n",
       "      <td>Ethan</td>\n",
       "      <td>M</td>\n",
       "      <td>170</td>\n",
       "      <td>Johnson</td>\n",
       "      <td>239.17669</td>\n",
       "      <td>paid</td>\n",
       "      <td>Lexington-Fayette, KY</td>\n",
       "      <td>PUT</td>\n",
       "      <td>NextSong</td>\n",
       "      <td>1538080987000</td>\n",
       "      <td>934</td>\n",
       "      <td>Forever Young</td>\n",
       "      <td>200</td>\n",
       "      <td>1539761030000</td>\n",
       "      <td>\"Mozilla/5.0 (Windows NT 6.1; WOW64) AppleWebK...</td>\n",
       "      <td>51</td>\n",
       "      <td>1</td>\n",
       "    </tr>\n",
       "    <tr>\n",
       "      <th>18</th>\n",
       "      <td>Lonnie Gordon</td>\n",
       "      <td>Logged In</td>\n",
       "      <td>Ethan</td>\n",
       "      <td>M</td>\n",
       "      <td>169</td>\n",
       "      <td>Johnson</td>\n",
       "      <td>181.21098</td>\n",
       "      <td>paid</td>\n",
       "      <td>Lexington-Fayette, KY</td>\n",
       "      <td>PUT</td>\n",
       "      <td>NextSong</td>\n",
       "      <td>1538080987000</td>\n",
       "      <td>934</td>\n",
       "      <td>Catch You Baby (Steve Pitron &amp; Max Sanna Radio...</td>\n",
       "      <td>200</td>\n",
       "      <td>1539760849000</td>\n",
       "      <td>\"Mozilla/5.0 (Windows NT 6.1; WOW64) AppleWebK...</td>\n",
       "      <td>51</td>\n",
       "      <td>1</td>\n",
       "    </tr>\n",
       "    <tr>\n",
       "      <th>19</th>\n",
       "      <td>Booka Shade</td>\n",
       "      <td>Logged In</td>\n",
       "      <td>Ethan</td>\n",
       "      <td>M</td>\n",
       "      <td>168</td>\n",
       "      <td>Johnson</td>\n",
       "      <td>300.32934</td>\n",
       "      <td>paid</td>\n",
       "      <td>Lexington-Fayette, KY</td>\n",
       "      <td>PUT</td>\n",
       "      <td>NextSong</td>\n",
       "      <td>1538080987000</td>\n",
       "      <td>934</td>\n",
       "      <td>Body Language / interpretation</td>\n",
       "      <td>200</td>\n",
       "      <td>1539760549000</td>\n",
       "      <td>\"Mozilla/5.0 (Windows NT 6.1; WOW64) AppleWebK...</td>\n",
       "      <td>51</td>\n",
       "      <td>1</td>\n",
       "    </tr>\n",
       "    <tr>\n",
       "      <th>20</th>\n",
       "      <td>Ron Carter</td>\n",
       "      <td>Logged In</td>\n",
       "      <td>Ethan</td>\n",
       "      <td>M</td>\n",
       "      <td>167</td>\n",
       "      <td>Johnson</td>\n",
       "      <td>497.13587</td>\n",
       "      <td>paid</td>\n",
       "      <td>Lexington-Fayette, KY</td>\n",
       "      <td>PUT</td>\n",
       "      <td>NextSong</td>\n",
       "      <td>1538080987000</td>\n",
       "      <td>934</td>\n",
       "      <td>I CAN'T GET STARTED</td>\n",
       "      <td>200</td>\n",
       "      <td>1539760052000</td>\n",
       "      <td>\"Mozilla/5.0 (Windows NT 6.1; WOW64) AppleWebK...</td>\n",
       "      <td>51</td>\n",
       "      <td>1</td>\n",
       "    </tr>\n",
       "    <tr>\n",
       "      <th>21</th>\n",
       "      <td>S Club 7</td>\n",
       "      <td>Logged In</td>\n",
       "      <td>Ethan</td>\n",
       "      <td>M</td>\n",
       "      <td>166</td>\n",
       "      <td>Johnson</td>\n",
       "      <td>241.16200</td>\n",
       "      <td>paid</td>\n",
       "      <td>Lexington-Fayette, KY</td>\n",
       "      <td>PUT</td>\n",
       "      <td>NextSong</td>\n",
       "      <td>1538080987000</td>\n",
       "      <td>934</td>\n",
       "      <td>Never Had A Dream Come True</td>\n",
       "      <td>200</td>\n",
       "      <td>1539759811000</td>\n",
       "      <td>\"Mozilla/5.0 (Windows NT 6.1; WOW64) AppleWebK...</td>\n",
       "      <td>51</td>\n",
       "      <td>1</td>\n",
       "    </tr>\n",
       "    <tr>\n",
       "      <th>22</th>\n",
       "      <td>Jimmy Eat World</td>\n",
       "      <td>Logged In</td>\n",
       "      <td>Ethan</td>\n",
       "      <td>M</td>\n",
       "      <td>165</td>\n",
       "      <td>Johnson</td>\n",
       "      <td>166.00771</td>\n",
       "      <td>paid</td>\n",
       "      <td>Lexington-Fayette, KY</td>\n",
       "      <td>PUT</td>\n",
       "      <td>NextSong</td>\n",
       "      <td>1538080987000</td>\n",
       "      <td>934</td>\n",
       "      <td>The Middle</td>\n",
       "      <td>200</td>\n",
       "      <td>1539759645000</td>\n",
       "      <td>\"Mozilla/5.0 (Windows NT 6.1; WOW64) AppleWebK...</td>\n",
       "      <td>51</td>\n",
       "      <td>1</td>\n",
       "    </tr>\n",
       "    <tr>\n",
       "      <th>23</th>\n",
       "      <td>Van Halen</td>\n",
       "      <td>Logged In</td>\n",
       "      <td>Ethan</td>\n",
       "      <td>M</td>\n",
       "      <td>164</td>\n",
       "      <td>Johnson</td>\n",
       "      <td>283.74159</td>\n",
       "      <td>paid</td>\n",
       "      <td>Lexington-Fayette, KY</td>\n",
       "      <td>PUT</td>\n",
       "      <td>NextSong</td>\n",
       "      <td>1538080987000</td>\n",
       "      <td>934</td>\n",
       "      <td>Ain't Talkin' 'Bout Love (Remastered Live Vers...</td>\n",
       "      <td>200</td>\n",
       "      <td>1539759362000</td>\n",
       "      <td>\"Mozilla/5.0 (Windows NT 6.1; WOW64) AppleWebK...</td>\n",
       "      <td>51</td>\n",
       "      <td>1</td>\n",
       "    </tr>\n",
       "    <tr>\n",
       "      <th>24</th>\n",
       "      <td>None</td>\n",
       "      <td>Logged In</td>\n",
       "      <td>Ethan</td>\n",
       "      <td>M</td>\n",
       "      <td>163</td>\n",
       "      <td>Johnson</td>\n",
       "      <td>NaN</td>\n",
       "      <td>paid</td>\n",
       "      <td>Lexington-Fayette, KY</td>\n",
       "      <td>PUT</td>\n",
       "      <td>Thumbs Up</td>\n",
       "      <td>1538080987000</td>\n",
       "      <td>934</td>\n",
       "      <td>None</td>\n",
       "      <td>307</td>\n",
       "      <td>1539759213000</td>\n",
       "      <td>\"Mozilla/5.0 (Windows NT 6.1; WOW64) AppleWebK...</td>\n",
       "      <td>51</td>\n",
       "      <td>1</td>\n",
       "    </tr>\n",
       "    <tr>\n",
       "      <th>25</th>\n",
       "      <td>Bert Kaempfert</td>\n",
       "      <td>Logged In</td>\n",
       "      <td>Ethan</td>\n",
       "      <td>M</td>\n",
       "      <td>162</td>\n",
       "      <td>Johnson</td>\n",
       "      <td>150.69995</td>\n",
       "      <td>paid</td>\n",
       "      <td>Lexington-Fayette, KY</td>\n",
       "      <td>PUT</td>\n",
       "      <td>NextSong</td>\n",
       "      <td>1538080987000</td>\n",
       "      <td>934</td>\n",
       "      <td>Market Day</td>\n",
       "      <td>200</td>\n",
       "      <td>1539759212000</td>\n",
       "      <td>\"Mozilla/5.0 (Windows NT 6.1; WOW64) AppleWebK...</td>\n",
       "      <td>51</td>\n",
       "      <td>1</td>\n",
       "    </tr>\n",
       "    <tr>\n",
       "      <th>26</th>\n",
       "      <td>Fireflight</td>\n",
       "      <td>Logged In</td>\n",
       "      <td>Ethan</td>\n",
       "      <td>M</td>\n",
       "      <td>161</td>\n",
       "      <td>Johnson</td>\n",
       "      <td>212.19220</td>\n",
       "      <td>paid</td>\n",
       "      <td>Lexington-Fayette, KY</td>\n",
       "      <td>PUT</td>\n",
       "      <td>NextSong</td>\n",
       "      <td>1538080987000</td>\n",
       "      <td>934</td>\n",
       "      <td>Stand Up</td>\n",
       "      <td>200</td>\n",
       "      <td>1539759000000</td>\n",
       "      <td>\"Mozilla/5.0 (Windows NT 6.1; WOW64) AppleWebK...</td>\n",
       "      <td>51</td>\n",
       "      <td>1</td>\n",
       "    </tr>\n",
       "    <tr>\n",
       "      <th>27</th>\n",
       "      <td>Wall Of Voodoo</td>\n",
       "      <td>Logged In</td>\n",
       "      <td>Ethan</td>\n",
       "      <td>M</td>\n",
       "      <td>160</td>\n",
       "      <td>Johnson</td>\n",
       "      <td>250.67057</td>\n",
       "      <td>paid</td>\n",
       "      <td>Lexington-Fayette, KY</td>\n",
       "      <td>PUT</td>\n",
       "      <td>NextSong</td>\n",
       "      <td>1538080987000</td>\n",
       "      <td>934</td>\n",
       "      <td>Mexican Radio</td>\n",
       "      <td>200</td>\n",
       "      <td>1539758750000</td>\n",
       "      <td>\"Mozilla/5.0 (Windows NT 6.1; WOW64) AppleWebK...</td>\n",
       "      <td>51</td>\n",
       "      <td>1</td>\n",
       "    </tr>\n",
       "    <tr>\n",
       "      <th>28</th>\n",
       "      <td>Cartola</td>\n",
       "      <td>Logged In</td>\n",
       "      <td>Ethan</td>\n",
       "      <td>M</td>\n",
       "      <td>159</td>\n",
       "      <td>Johnson</td>\n",
       "      <td>177.16200</td>\n",
       "      <td>paid</td>\n",
       "      <td>Lexington-Fayette, KY</td>\n",
       "      <td>PUT</td>\n",
       "      <td>NextSong</td>\n",
       "      <td>1538080987000</td>\n",
       "      <td>934</td>\n",
       "      <td>Preciso Me Encontrar</td>\n",
       "      <td>200</td>\n",
       "      <td>1539758573000</td>\n",
       "      <td>\"Mozilla/5.0 (Windows NT 6.1; WOW64) AppleWebK...</td>\n",
       "      <td>51</td>\n",
       "      <td>1</td>\n",
       "    </tr>\n",
       "    <tr>\n",
       "      <th>29</th>\n",
       "      <td>The Roots / Erykah Badu</td>\n",
       "      <td>Logged In</td>\n",
       "      <td>Ethan</td>\n",
       "      <td>M</td>\n",
       "      <td>158</td>\n",
       "      <td>Johnson</td>\n",
       "      <td>259.26485</td>\n",
       "      <td>paid</td>\n",
       "      <td>Lexington-Fayette, KY</td>\n",
       "      <td>PUT</td>\n",
       "      <td>NextSong</td>\n",
       "      <td>1538080987000</td>\n",
       "      <td>934</td>\n",
       "      <td>You Got Me</td>\n",
       "      <td>200</td>\n",
       "      <td>1539758314000</td>\n",
       "      <td>\"Mozilla/5.0 (Windows NT 6.1; WOW64) AppleWebK...</td>\n",
       "      <td>51</td>\n",
       "      <td>1</td>\n",
       "    </tr>\n",
       "    <tr>\n",
       "      <th>...</th>\n",
       "      <td>...</td>\n",
       "      <td>...</td>\n",
       "      <td>...</td>\n",
       "      <td>...</td>\n",
       "      <td>...</td>\n",
       "      <td>...</td>\n",
       "      <td>...</td>\n",
       "      <td>...</td>\n",
       "      <td>...</td>\n",
       "      <td>...</td>\n",
       "      <td>...</td>\n",
       "      <td>...</td>\n",
       "      <td>...</td>\n",
       "      <td>...</td>\n",
       "      <td>...</td>\n",
       "      <td>...</td>\n",
       "      <td>...</td>\n",
       "      <td>...</td>\n",
       "      <td>...</td>\n",
       "    </tr>\n",
       "    <tr>\n",
       "      <th>44834</th>\n",
       "      <td>Phoenix</td>\n",
       "      <td>Logged In</td>\n",
       "      <td>Delaney</td>\n",
       "      <td>F</td>\n",
       "      <td>31</td>\n",
       "      <td>Perez</td>\n",
       "      <td>198.03383</td>\n",
       "      <td>free</td>\n",
       "      <td>Miami-Fort Lauderdale-West Palm Beach, FL</td>\n",
       "      <td>PUT</td>\n",
       "      <td>NextSong</td>\n",
       "      <td>1534627466000</td>\n",
       "      <td>1</td>\n",
       "      <td>Too Young</td>\n",
       "      <td>200</td>\n",
       "      <td>1538382476000</td>\n",
       "      <td>\"Mozilla/5.0 (Macintosh; Intel Mac OS X 10_6_8...</td>\n",
       "      <td>100001</td>\n",
       "      <td>1</td>\n",
       "    </tr>\n",
       "    <tr>\n",
       "      <th>44835</th>\n",
       "      <td>Amos Lee</td>\n",
       "      <td>Logged In</td>\n",
       "      <td>Delaney</td>\n",
       "      <td>F</td>\n",
       "      <td>30</td>\n",
       "      <td>Perez</td>\n",
       "      <td>259.26485</td>\n",
       "      <td>free</td>\n",
       "      <td>Miami-Fort Lauderdale-West Palm Beach, FL</td>\n",
       "      <td>PUT</td>\n",
       "      <td>NextSong</td>\n",
       "      <td>1534627466000</td>\n",
       "      <td>1</td>\n",
       "      <td>All My Friends</td>\n",
       "      <td>200</td>\n",
       "      <td>1538382217000</td>\n",
       "      <td>\"Mozilla/5.0 (Macintosh; Intel Mac OS X 10_6_8...</td>\n",
       "      <td>100001</td>\n",
       "      <td>1</td>\n",
       "    </tr>\n",
       "    <tr>\n",
       "      <th>44836</th>\n",
       "      <td>Dwight Yoakam</td>\n",
       "      <td>Logged In</td>\n",
       "      <td>Delaney</td>\n",
       "      <td>F</td>\n",
       "      <td>29</td>\n",
       "      <td>Perez</td>\n",
       "      <td>239.30730</td>\n",
       "      <td>free</td>\n",
       "      <td>Miami-Fort Lauderdale-West Palm Beach, FL</td>\n",
       "      <td>PUT</td>\n",
       "      <td>NextSong</td>\n",
       "      <td>1534627466000</td>\n",
       "      <td>1</td>\n",
       "      <td>You're The One</td>\n",
       "      <td>200</td>\n",
       "      <td>1538381978000</td>\n",
       "      <td>\"Mozilla/5.0 (Macintosh; Intel Mac OS X 10_6_8...</td>\n",
       "      <td>100001</td>\n",
       "      <td>1</td>\n",
       "    </tr>\n",
       "    <tr>\n",
       "      <th>44837</th>\n",
       "      <td>Randy Crawford</td>\n",
       "      <td>Logged In</td>\n",
       "      <td>Delaney</td>\n",
       "      <td>F</td>\n",
       "      <td>28</td>\n",
       "      <td>Perez</td>\n",
       "      <td>270.75873</td>\n",
       "      <td>free</td>\n",
       "      <td>Miami-Fort Lauderdale-West Palm Beach, FL</td>\n",
       "      <td>PUT</td>\n",
       "      <td>NextSong</td>\n",
       "      <td>1534627466000</td>\n",
       "      <td>1</td>\n",
       "      <td>Almaz</td>\n",
       "      <td>200</td>\n",
       "      <td>1538381708000</td>\n",
       "      <td>\"Mozilla/5.0 (Macintosh; Intel Mac OS X 10_6_8...</td>\n",
       "      <td>100001</td>\n",
       "      <td>1</td>\n",
       "    </tr>\n",
       "    <tr>\n",
       "      <th>44838</th>\n",
       "      <td>Weird Al Yankovic</td>\n",
       "      <td>Logged In</td>\n",
       "      <td>Delaney</td>\n",
       "      <td>F</td>\n",
       "      <td>27</td>\n",
       "      <td>Perez</td>\n",
       "      <td>259.65669</td>\n",
       "      <td>free</td>\n",
       "      <td>Miami-Fort Lauderdale-West Palm Beach, FL</td>\n",
       "      <td>PUT</td>\n",
       "      <td>NextSong</td>\n",
       "      <td>1534627466000</td>\n",
       "      <td>1</td>\n",
       "      <td>Cavity Search (Paody of \"Hold Me_ Thrill Me_ K...</td>\n",
       "      <td>200</td>\n",
       "      <td>1538381449000</td>\n",
       "      <td>\"Mozilla/5.0 (Macintosh; Intel Mac OS X 10_6_8...</td>\n",
       "      <td>100001</td>\n",
       "      <td>1</td>\n",
       "    </tr>\n",
       "    <tr>\n",
       "      <th>44839</th>\n",
       "      <td>None</td>\n",
       "      <td>Logged In</td>\n",
       "      <td>Delaney</td>\n",
       "      <td>F</td>\n",
       "      <td>26</td>\n",
       "      <td>Perez</td>\n",
       "      <td>NaN</td>\n",
       "      <td>free</td>\n",
       "      <td>Miami-Fort Lauderdale-West Palm Beach, FL</td>\n",
       "      <td>PUT</td>\n",
       "      <td>Thumbs Down</td>\n",
       "      <td>1534627466000</td>\n",
       "      <td>1</td>\n",
       "      <td>None</td>\n",
       "      <td>307</td>\n",
       "      <td>1538381274000</td>\n",
       "      <td>\"Mozilla/5.0 (Macintosh; Intel Mac OS X 10_6_8...</td>\n",
       "      <td>100001</td>\n",
       "      <td>1</td>\n",
       "    </tr>\n",
       "    <tr>\n",
       "      <th>44840</th>\n",
       "      <td>Blood Red Shoes</td>\n",
       "      <td>Logged In</td>\n",
       "      <td>Delaney</td>\n",
       "      <td>F</td>\n",
       "      <td>25</td>\n",
       "      <td>Perez</td>\n",
       "      <td>176.14322</td>\n",
       "      <td>free</td>\n",
       "      <td>Miami-Fort Lauderdale-West Palm Beach, FL</td>\n",
       "      <td>PUT</td>\n",
       "      <td>NextSong</td>\n",
       "      <td>1534627466000</td>\n",
       "      <td>1</td>\n",
       "      <td>It's Getting Boring By The Sea</td>\n",
       "      <td>200</td>\n",
       "      <td>1538381273000</td>\n",
       "      <td>\"Mozilla/5.0 (Macintosh; Intel Mac OS X 10_6_8...</td>\n",
       "      <td>100001</td>\n",
       "      <td>1</td>\n",
       "    </tr>\n",
       "    <tr>\n",
       "      <th>44841</th>\n",
       "      <td>Richard H Kirk</td>\n",
       "      <td>Logged In</td>\n",
       "      <td>Delaney</td>\n",
       "      <td>F</td>\n",
       "      <td>24</td>\n",
       "      <td>Perez</td>\n",
       "      <td>444.00281</td>\n",
       "      <td>free</td>\n",
       "      <td>Miami-Fort Lauderdale-West Palm Beach, FL</td>\n",
       "      <td>PUT</td>\n",
       "      <td>NextSong</td>\n",
       "      <td>1534627466000</td>\n",
       "      <td>1</td>\n",
       "      <td>Frankie Machine (Part Two)</td>\n",
       "      <td>200</td>\n",
       "      <td>1538380829000</td>\n",
       "      <td>\"Mozilla/5.0 (Macintosh; Intel Mac OS X 10_6_8...</td>\n",
       "      <td>100001</td>\n",
       "      <td>1</td>\n",
       "    </tr>\n",
       "    <tr>\n",
       "      <th>44842</th>\n",
       "      <td>BjÃÂ¶rk</td>\n",
       "      <td>Logged In</td>\n",
       "      <td>Delaney</td>\n",
       "      <td>F</td>\n",
       "      <td>23</td>\n",
       "      <td>Perez</td>\n",
       "      <td>348.57751</td>\n",
       "      <td>free</td>\n",
       "      <td>Miami-Fort Lauderdale-West Palm Beach, FL</td>\n",
       "      <td>PUT</td>\n",
       "      <td>NextSong</td>\n",
       "      <td>1534627466000</td>\n",
       "      <td>1</td>\n",
       "      <td>Undo</td>\n",
       "      <td>200</td>\n",
       "      <td>1538380481000</td>\n",
       "      <td>\"Mozilla/5.0 (Macintosh; Intel Mac OS X 10_6_8...</td>\n",
       "      <td>100001</td>\n",
       "      <td>1</td>\n",
       "    </tr>\n",
       "    <tr>\n",
       "      <th>44843</th>\n",
       "      <td>None</td>\n",
       "      <td>Logged In</td>\n",
       "      <td>Delaney</td>\n",
       "      <td>F</td>\n",
       "      <td>22</td>\n",
       "      <td>Perez</td>\n",
       "      <td>NaN</td>\n",
       "      <td>free</td>\n",
       "      <td>Miami-Fort Lauderdale-West Palm Beach, FL</td>\n",
       "      <td>GET</td>\n",
       "      <td>Home</td>\n",
       "      <td>1534627466000</td>\n",
       "      <td>1</td>\n",
       "      <td>None</td>\n",
       "      <td>200</td>\n",
       "      <td>1538380429000</td>\n",
       "      <td>\"Mozilla/5.0 (Macintosh; Intel Mac OS X 10_6_8...</td>\n",
       "      <td>100001</td>\n",
       "      <td>1</td>\n",
       "    </tr>\n",
       "    <tr>\n",
       "      <th>44844</th>\n",
       "      <td>None</td>\n",
       "      <td>Logged In</td>\n",
       "      <td>Delaney</td>\n",
       "      <td>F</td>\n",
       "      <td>19</td>\n",
       "      <td>Perez</td>\n",
       "      <td>NaN</td>\n",
       "      <td>free</td>\n",
       "      <td>Miami-Fort Lauderdale-West Palm Beach, FL</td>\n",
       "      <td>PUT</td>\n",
       "      <td>Logout</td>\n",
       "      <td>1534627466000</td>\n",
       "      <td>1</td>\n",
       "      <td>None</td>\n",
       "      <td>307</td>\n",
       "      <td>1538380180000</td>\n",
       "      <td>\"Mozilla/5.0 (Macintosh; Intel Mac OS X 10_6_8...</td>\n",
       "      <td>100001</td>\n",
       "      <td>1</td>\n",
       "    </tr>\n",
       "    <tr>\n",
       "      <th>44845</th>\n",
       "      <td>DevilDriver</td>\n",
       "      <td>Logged In</td>\n",
       "      <td>Delaney</td>\n",
       "      <td>F</td>\n",
       "      <td>18</td>\n",
       "      <td>Perez</td>\n",
       "      <td>302.31465</td>\n",
       "      <td>free</td>\n",
       "      <td>Miami-Fort Lauderdale-West Palm Beach, FL</td>\n",
       "      <td>PUT</td>\n",
       "      <td>NextSong</td>\n",
       "      <td>1534627466000</td>\n",
       "      <td>1</td>\n",
       "      <td>End Of The Line (Album Version)</td>\n",
       "      <td>200</td>\n",
       "      <td>1538380179000</td>\n",
       "      <td>\"Mozilla/5.0 (Macintosh; Intel Mac OS X 10_6_8...</td>\n",
       "      <td>100001</td>\n",
       "      <td>1</td>\n",
       "    </tr>\n",
       "    <tr>\n",
       "      <th>44846</th>\n",
       "      <td>Mad Caddies</td>\n",
       "      <td>Logged In</td>\n",
       "      <td>Delaney</td>\n",
       "      <td>F</td>\n",
       "      <td>17</td>\n",
       "      <td>Perez</td>\n",
       "      <td>179.80036</td>\n",
       "      <td>free</td>\n",
       "      <td>Miami-Fort Lauderdale-West Palm Beach, FL</td>\n",
       "      <td>PUT</td>\n",
       "      <td>NextSong</td>\n",
       "      <td>1534627466000</td>\n",
       "      <td>1</td>\n",
       "      <td>Leavin</td>\n",
       "      <td>200</td>\n",
       "      <td>1538380000000</td>\n",
       "      <td>\"Mozilla/5.0 (Macintosh; Intel Mac OS X 10_6_8...</td>\n",
       "      <td>100001</td>\n",
       "      <td>1</td>\n",
       "    </tr>\n",
       "    <tr>\n",
       "      <th>44847</th>\n",
       "      <td>Basshunter</td>\n",
       "      <td>Logged In</td>\n",
       "      <td>Delaney</td>\n",
       "      <td>F</td>\n",
       "      <td>16</td>\n",
       "      <td>Perez</td>\n",
       "      <td>332.69506</td>\n",
       "      <td>free</td>\n",
       "      <td>Miami-Fort Lauderdale-West Palm Beach, FL</td>\n",
       "      <td>PUT</td>\n",
       "      <td>NextSong</td>\n",
       "      <td>1534627466000</td>\n",
       "      <td>1</td>\n",
       "      <td>All I Ever Wanted</td>\n",
       "      <td>200</td>\n",
       "      <td>1538379668000</td>\n",
       "      <td>\"Mozilla/5.0 (Macintosh; Intel Mac OS X 10_6_8...</td>\n",
       "      <td>100001</td>\n",
       "      <td>1</td>\n",
       "    </tr>\n",
       "    <tr>\n",
       "      <th>44848</th>\n",
       "      <td>LL Cool J</td>\n",
       "      <td>Logged In</td>\n",
       "      <td>Delaney</td>\n",
       "      <td>F</td>\n",
       "      <td>15</td>\n",
       "      <td>Perez</td>\n",
       "      <td>248.68526</td>\n",
       "      <td>free</td>\n",
       "      <td>Miami-Fort Lauderdale-West Palm Beach, FL</td>\n",
       "      <td>PUT</td>\n",
       "      <td>NextSong</td>\n",
       "      <td>1534627466000</td>\n",
       "      <td>1</td>\n",
       "      <td>Around The Way Girl</td>\n",
       "      <td>200</td>\n",
       "      <td>1538379420000</td>\n",
       "      <td>\"Mozilla/5.0 (Macintosh; Intel Mac OS X 10_6_8...</td>\n",
       "      <td>100001</td>\n",
       "      <td>1</td>\n",
       "    </tr>\n",
       "    <tr>\n",
       "      <th>44849</th>\n",
       "      <td>None</td>\n",
       "      <td>Logged In</td>\n",
       "      <td>Delaney</td>\n",
       "      <td>F</td>\n",
       "      <td>14</td>\n",
       "      <td>Perez</td>\n",
       "      <td>NaN</td>\n",
       "      <td>free</td>\n",
       "      <td>Miami-Fort Lauderdale-West Palm Beach, FL</td>\n",
       "      <td>GET</td>\n",
       "      <td>Roll Advert</td>\n",
       "      <td>1534627466000</td>\n",
       "      <td>1</td>\n",
       "      <td>None</td>\n",
       "      <td>200</td>\n",
       "      <td>1538379230000</td>\n",
       "      <td>\"Mozilla/5.0 (Macintosh; Intel Mac OS X 10_6_8...</td>\n",
       "      <td>100001</td>\n",
       "      <td>1</td>\n",
       "    </tr>\n",
       "    <tr>\n",
       "      <th>44850</th>\n",
       "      <td>Rihanna / Sean Paul</td>\n",
       "      <td>Logged In</td>\n",
       "      <td>Delaney</td>\n",
       "      <td>F</td>\n",
       "      <td>13</td>\n",
       "      <td>Perez</td>\n",
       "      <td>213.34159</td>\n",
       "      <td>free</td>\n",
       "      <td>Miami-Fort Lauderdale-West Palm Beach, FL</td>\n",
       "      <td>PUT</td>\n",
       "      <td>NextSong</td>\n",
       "      <td>1534627466000</td>\n",
       "      <td>1</td>\n",
       "      <td>Break It Off</td>\n",
       "      <td>200</td>\n",
       "      <td>1538379207000</td>\n",
       "      <td>\"Mozilla/5.0 (Macintosh; Intel Mac OS X 10_6_8...</td>\n",
       "      <td>100001</td>\n",
       "      <td>1</td>\n",
       "    </tr>\n",
       "    <tr>\n",
       "      <th>44851</th>\n",
       "      <td>Jimmy Eat World</td>\n",
       "      <td>Logged In</td>\n",
       "      <td>Delaney</td>\n",
       "      <td>F</td>\n",
       "      <td>12</td>\n",
       "      <td>Perez</td>\n",
       "      <td>166.00771</td>\n",
       "      <td>free</td>\n",
       "      <td>Miami-Fort Lauderdale-West Palm Beach, FL</td>\n",
       "      <td>PUT</td>\n",
       "      <td>NextSong</td>\n",
       "      <td>1534627466000</td>\n",
       "      <td>1</td>\n",
       "      <td>The Middle</td>\n",
       "      <td>200</td>\n",
       "      <td>1538379041000</td>\n",
       "      <td>\"Mozilla/5.0 (Macintosh; Intel Mac OS X 10_6_8...</td>\n",
       "      <td>100001</td>\n",
       "      <td>1</td>\n",
       "    </tr>\n",
       "    <tr>\n",
       "      <th>44852</th>\n",
       "      <td>Misfits</td>\n",
       "      <td>Logged In</td>\n",
       "      <td>Delaney</td>\n",
       "      <td>F</td>\n",
       "      <td>11</td>\n",
       "      <td>Perez</td>\n",
       "      <td>164.46649</td>\n",
       "      <td>free</td>\n",
       "      <td>Miami-Fort Lauderdale-West Palm Beach, FL</td>\n",
       "      <td>PUT</td>\n",
       "      <td>NextSong</td>\n",
       "      <td>1534627466000</td>\n",
       "      <td>1</td>\n",
       "      <td>Rise Above (Live) (Album Version)</td>\n",
       "      <td>200</td>\n",
       "      <td>1538378877000</td>\n",
       "      <td>\"Mozilla/5.0 (Macintosh; Intel Mac OS X 10_6_8...</td>\n",
       "      <td>100001</td>\n",
       "      <td>1</td>\n",
       "    </tr>\n",
       "    <tr>\n",
       "      <th>44853</th>\n",
       "      <td>The Afghan Whigs</td>\n",
       "      <td>Logged In</td>\n",
       "      <td>Delaney</td>\n",
       "      <td>F</td>\n",
       "      <td>10</td>\n",
       "      <td>Perez</td>\n",
       "      <td>190.82404</td>\n",
       "      <td>free</td>\n",
       "      <td>Miami-Fort Lauderdale-West Palm Beach, FL</td>\n",
       "      <td>PUT</td>\n",
       "      <td>NextSong</td>\n",
       "      <td>1534627466000</td>\n",
       "      <td>1</td>\n",
       "      <td>My Enemy</td>\n",
       "      <td>200</td>\n",
       "      <td>1538378687000</td>\n",
       "      <td>\"Mozilla/5.0 (Macintosh; Intel Mac OS X 10_6_8...</td>\n",
       "      <td>100001</td>\n",
       "      <td>1</td>\n",
       "    </tr>\n",
       "    <tr>\n",
       "      <th>44854</th>\n",
       "      <td>3 Doors Down</td>\n",
       "      <td>Logged In</td>\n",
       "      <td>Delaney</td>\n",
       "      <td>F</td>\n",
       "      <td>9</td>\n",
       "      <td>Perez</td>\n",
       "      <td>204.32934</td>\n",
       "      <td>free</td>\n",
       "      <td>Miami-Fort Lauderdale-West Palm Beach, FL</td>\n",
       "      <td>PUT</td>\n",
       "      <td>NextSong</td>\n",
       "      <td>1534627466000</td>\n",
       "      <td>1</td>\n",
       "      <td>Runaway</td>\n",
       "      <td>200</td>\n",
       "      <td>1538378483000</td>\n",
       "      <td>\"Mozilla/5.0 (Macintosh; Intel Mac OS X 10_6_8...</td>\n",
       "      <td>100001</td>\n",
       "      <td>1</td>\n",
       "    </tr>\n",
       "    <tr>\n",
       "      <th>44855</th>\n",
       "      <td>Tyrone Wells</td>\n",
       "      <td>Logged In</td>\n",
       "      <td>Delaney</td>\n",
       "      <td>F</td>\n",
       "      <td>8</td>\n",
       "      <td>Perez</td>\n",
       "      <td>238.65424</td>\n",
       "      <td>free</td>\n",
       "      <td>Miami-Fort Lauderdale-West Palm Beach, FL</td>\n",
       "      <td>PUT</td>\n",
       "      <td>NextSong</td>\n",
       "      <td>1534627466000</td>\n",
       "      <td>1</td>\n",
       "      <td>Falling</td>\n",
       "      <td>200</td>\n",
       "      <td>1538378245000</td>\n",
       "      <td>\"Mozilla/5.0 (Macintosh; Intel Mac OS X 10_6_8...</td>\n",
       "      <td>100001</td>\n",
       "      <td>1</td>\n",
       "    </tr>\n",
       "    <tr>\n",
       "      <th>44856</th>\n",
       "      <td>Pendulum</td>\n",
       "      <td>Logged In</td>\n",
       "      <td>Delaney</td>\n",
       "      <td>F</td>\n",
       "      <td>7</td>\n",
       "      <td>Perez</td>\n",
       "      <td>313.86077</td>\n",
       "      <td>free</td>\n",
       "      <td>Miami-Fort Lauderdale-West Palm Beach, FL</td>\n",
       "      <td>PUT</td>\n",
       "      <td>NextSong</td>\n",
       "      <td>1534627466000</td>\n",
       "      <td>1</td>\n",
       "      <td>Propane Nightmares</td>\n",
       "      <td>200</td>\n",
       "      <td>1538377932000</td>\n",
       "      <td>\"Mozilla/5.0 (Macintosh; Intel Mac OS X 10_6_8...</td>\n",
       "      <td>100001</td>\n",
       "      <td>1</td>\n",
       "    </tr>\n",
       "    <tr>\n",
       "      <th>44857</th>\n",
       "      <td>The Replacements</td>\n",
       "      <td>Logged In</td>\n",
       "      <td>Delaney</td>\n",
       "      <td>F</td>\n",
       "      <td>6</td>\n",
       "      <td>Perez</td>\n",
       "      <td>184.60689</td>\n",
       "      <td>free</td>\n",
       "      <td>Miami-Fort Lauderdale-West Palm Beach, FL</td>\n",
       "      <td>PUT</td>\n",
       "      <td>NextSong</td>\n",
       "      <td>1534627466000</td>\n",
       "      <td>1</td>\n",
       "      <td>Can't Hardly Wait (Remastered Version)</td>\n",
       "      <td>200</td>\n",
       "      <td>1538377748000</td>\n",
       "      <td>\"Mozilla/5.0 (Macintosh; Intel Mac OS X 10_6_8...</td>\n",
       "      <td>100001</td>\n",
       "      <td>1</td>\n",
       "    </tr>\n",
       "    <tr>\n",
       "      <th>44858</th>\n",
       "      <td>Far Corner</td>\n",
       "      <td>Logged In</td>\n",
       "      <td>Delaney</td>\n",
       "      <td>F</td>\n",
       "      <td>5</td>\n",
       "      <td>Perez</td>\n",
       "      <td>399.88200</td>\n",
       "      <td>free</td>\n",
       "      <td>Miami-Fort Lauderdale-West Palm Beach, FL</td>\n",
       "      <td>PUT</td>\n",
       "      <td>NextSong</td>\n",
       "      <td>1534627466000</td>\n",
       "      <td>1</td>\n",
       "      <td>Do You Think I'm Spooky?</td>\n",
       "      <td>200</td>\n",
       "      <td>1538377349000</td>\n",
       "      <td>\"Mozilla/5.0 (Macintosh; Intel Mac OS X 10_6_8...</td>\n",
       "      <td>100001</td>\n",
       "      <td>1</td>\n",
       "    </tr>\n",
       "    <tr>\n",
       "      <th>44859</th>\n",
       "      <td>None</td>\n",
       "      <td>Logged In</td>\n",
       "      <td>Delaney</td>\n",
       "      <td>F</td>\n",
       "      <td>4</td>\n",
       "      <td>Perez</td>\n",
       "      <td>NaN</td>\n",
       "      <td>free</td>\n",
       "      <td>Miami-Fort Lauderdale-West Palm Beach, FL</td>\n",
       "      <td>GET</td>\n",
       "      <td>Roll Advert</td>\n",
       "      <td>1534627466000</td>\n",
       "      <td>1</td>\n",
       "      <td>None</td>\n",
       "      <td>200</td>\n",
       "      <td>1538376783000</td>\n",
       "      <td>\"Mozilla/5.0 (Macintosh; Intel Mac OS X 10_6_8...</td>\n",
       "      <td>100001</td>\n",
       "      <td>1</td>\n",
       "    </tr>\n",
       "    <tr>\n",
       "      <th>44860</th>\n",
       "      <td>Gorillaz</td>\n",
       "      <td>Logged In</td>\n",
       "      <td>Delaney</td>\n",
       "      <td>F</td>\n",
       "      <td>3</td>\n",
       "      <td>Perez</td>\n",
       "      <td>602.17424</td>\n",
       "      <td>free</td>\n",
       "      <td>Miami-Fort Lauderdale-West Palm Beach, FL</td>\n",
       "      <td>PUT</td>\n",
       "      <td>NextSong</td>\n",
       "      <td>1534627466000</td>\n",
       "      <td>1</td>\n",
       "      <td>Kids With Guns (Quiet Village Remix)</td>\n",
       "      <td>200</td>\n",
       "      <td>1538376747000</td>\n",
       "      <td>\"Mozilla/5.0 (Macintosh; Intel Mac OS X 10_6_8...</td>\n",
       "      <td>100001</td>\n",
       "      <td>1</td>\n",
       "    </tr>\n",
       "    <tr>\n",
       "      <th>44861</th>\n",
       "      <td>None</td>\n",
       "      <td>Logged In</td>\n",
       "      <td>Delaney</td>\n",
       "      <td>F</td>\n",
       "      <td>2</td>\n",
       "      <td>Perez</td>\n",
       "      <td>NaN</td>\n",
       "      <td>free</td>\n",
       "      <td>Miami-Fort Lauderdale-West Palm Beach, FL</td>\n",
       "      <td>GET</td>\n",
       "      <td>Roll Advert</td>\n",
       "      <td>1534627466000</td>\n",
       "      <td>1</td>\n",
       "      <td>None</td>\n",
       "      <td>200</td>\n",
       "      <td>1538376542000</td>\n",
       "      <td>\"Mozilla/5.0 (Macintosh; Intel Mac OS X 10_6_8...</td>\n",
       "      <td>100001</td>\n",
       "      <td>1</td>\n",
       "    </tr>\n",
       "    <tr>\n",
       "      <th>44862</th>\n",
       "      <td>Lady GaGa / Colby O'Donis</td>\n",
       "      <td>Logged In</td>\n",
       "      <td>Delaney</td>\n",
       "      <td>F</td>\n",
       "      <td>1</td>\n",
       "      <td>Perez</td>\n",
       "      <td>238.54975</td>\n",
       "      <td>free</td>\n",
       "      <td>Miami-Fort Lauderdale-West Palm Beach, FL</td>\n",
       "      <td>PUT</td>\n",
       "      <td>NextSong</td>\n",
       "      <td>1534627466000</td>\n",
       "      <td>1</td>\n",
       "      <td>Just Dance</td>\n",
       "      <td>200</td>\n",
       "      <td>1538376509000</td>\n",
       "      <td>\"Mozilla/5.0 (Macintosh; Intel Mac OS X 10_6_8...</td>\n",
       "      <td>100001</td>\n",
       "      <td>1</td>\n",
       "    </tr>\n",
       "    <tr>\n",
       "      <th>44863</th>\n",
       "      <td>None</td>\n",
       "      <td>Logged In</td>\n",
       "      <td>Delaney</td>\n",
       "      <td>F</td>\n",
       "      <td>0</td>\n",
       "      <td>Perez</td>\n",
       "      <td>NaN</td>\n",
       "      <td>free</td>\n",
       "      <td>Miami-Fort Lauderdale-West Palm Beach, FL</td>\n",
       "      <td>GET</td>\n",
       "      <td>Home</td>\n",
       "      <td>1534627466000</td>\n",
       "      <td>1</td>\n",
       "      <td>None</td>\n",
       "      <td>200</td>\n",
       "      <td>1538376504000</td>\n",
       "      <td>\"Mozilla/5.0 (Macintosh; Intel Mac OS X 10_6_8...</td>\n",
       "      <td>100001</td>\n",
       "      <td>1</td>\n",
       "    </tr>\n",
       "  </tbody>\n",
       "</table>\n",
       "<p>44864 rows × 19 columns</p>\n",
       "</div>"
      ],
      "text/plain": [
       "                            artist       auth firstName gender  itemInSession  \\\n",
       "0                             None  Logged In     Mason      M              9   \n",
       "1                             None  Cancelled     Mason      M             10   \n",
       "2                             None  Logged In     Mason      M              8   \n",
       "3                           Bonobo  Logged In     Mason      M              7   \n",
       "4                   Robert Johnson  Logged In     Mason      M              6   \n",
       "5                We Are The Fallen  Logged In     Mason      M              5   \n",
       "6              Ready For The World  Logged In     Mason      M              4   \n",
       "7                       Nickelback  Logged In     Mason      M              3   \n",
       "8                        Betty Boo  Logged In     Mason      M              2   \n",
       "9             The Notorious B.I.G.  Logged In     Mason      M              1   \n",
       "10             Christopher O'Riley  Logged In     Mason      M              0   \n",
       "11                            None  Cancelled     Ethan      M            176   \n",
       "12                            None  Logged In     Ethan      M            175   \n",
       "13                            None  Logged In     Ethan      M            174   \n",
       "14                             Zox  Logged In     Ethan      M            173   \n",
       "15     Ismo Alanko SÃÂ¤ÃÂ¤tiÃÂ¶  Logged In     Ethan      M            172   \n",
       "16                      The Smiths  Logged In     Ethan      M            171   \n",
       "17                     Youth Group  Logged In     Ethan      M            170   \n",
       "18                   Lonnie Gordon  Logged In     Ethan      M            169   \n",
       "19                     Booka Shade  Logged In     Ethan      M            168   \n",
       "20                      Ron Carter  Logged In     Ethan      M            167   \n",
       "21                        S Club 7  Logged In     Ethan      M            166   \n",
       "22                 Jimmy Eat World  Logged In     Ethan      M            165   \n",
       "23                       Van Halen  Logged In     Ethan      M            164   \n",
       "24                            None  Logged In     Ethan      M            163   \n",
       "25                  Bert Kaempfert  Logged In     Ethan      M            162   \n",
       "26                      Fireflight  Logged In     Ethan      M            161   \n",
       "27                  Wall Of Voodoo  Logged In     Ethan      M            160   \n",
       "28                         Cartola  Logged In     Ethan      M            159   \n",
       "29         The Roots / Erykah Badu  Logged In     Ethan      M            158   \n",
       "...                            ...        ...       ...    ...            ...   \n",
       "44834                      Phoenix  Logged In   Delaney      F             31   \n",
       "44835                     Amos Lee  Logged In   Delaney      F             30   \n",
       "44836                Dwight Yoakam  Logged In   Delaney      F             29   \n",
       "44837               Randy Crawford  Logged In   Delaney      F             28   \n",
       "44838            Weird Al Yankovic  Logged In   Delaney      F             27   \n",
       "44839                         None  Logged In   Delaney      F             26   \n",
       "44840              Blood Red Shoes  Logged In   Delaney      F             25   \n",
       "44841               Richard H Kirk  Logged In   Delaney      F             24   \n",
       "44842                     BjÃÂ¶rk  Logged In   Delaney      F             23   \n",
       "44843                         None  Logged In   Delaney      F             22   \n",
       "44844                         None  Logged In   Delaney      F             19   \n",
       "44845                  DevilDriver  Logged In   Delaney      F             18   \n",
       "44846                  Mad Caddies  Logged In   Delaney      F             17   \n",
       "44847                   Basshunter  Logged In   Delaney      F             16   \n",
       "44848                    LL Cool J  Logged In   Delaney      F             15   \n",
       "44849                         None  Logged In   Delaney      F             14   \n",
       "44850          Rihanna / Sean Paul  Logged In   Delaney      F             13   \n",
       "44851              Jimmy Eat World  Logged In   Delaney      F             12   \n",
       "44852                      Misfits  Logged In   Delaney      F             11   \n",
       "44853             The Afghan Whigs  Logged In   Delaney      F             10   \n",
       "44854                 3 Doors Down  Logged In   Delaney      F              9   \n",
       "44855                 Tyrone Wells  Logged In   Delaney      F              8   \n",
       "44856                     Pendulum  Logged In   Delaney      F              7   \n",
       "44857             The Replacements  Logged In   Delaney      F              6   \n",
       "44858                   Far Corner  Logged In   Delaney      F              5   \n",
       "44859                         None  Logged In   Delaney      F              4   \n",
       "44860                     Gorillaz  Logged In   Delaney      F              3   \n",
       "44861                         None  Logged In   Delaney      F              2   \n",
       "44862    Lady GaGa / Colby O'Donis  Logged In   Delaney      F              1   \n",
       "44863                         None  Logged In   Delaney      F              0   \n",
       "\n",
       "      lastName     length level                                   location  \\\n",
       "0         Hart        NaN  free                         Corpus Christi, TX   \n",
       "1         Hart        NaN  free                         Corpus Christi, TX   \n",
       "2         Hart        NaN  free                         Corpus Christi, TX   \n",
       "3         Hart  323.81342  free                         Corpus Christi, TX   \n",
       "4         Hart  178.41587  free                         Corpus Christi, TX   \n",
       "5         Hart  213.60281  free                         Corpus Christi, TX   \n",
       "6         Hart  391.26159  free                         Corpus Christi, TX   \n",
       "7         Hart  210.83383  free                         Corpus Christi, TX   \n",
       "8         Hart  203.23220  free                         Corpus Christi, TX   \n",
       "9         Hart  230.03383  free                         Corpus Christi, TX   \n",
       "10        Hart  337.91955  free                         Corpus Christi, TX   \n",
       "11     Johnson        NaN  paid                      Lexington-Fayette, KY   \n",
       "12     Johnson        NaN  paid                      Lexington-Fayette, KY   \n",
       "13     Johnson        NaN  paid                      Lexington-Fayette, KY   \n",
       "14     Johnson  212.34893  paid                      Lexington-Fayette, KY   \n",
       "15     Johnson  218.93179  paid                      Lexington-Fayette, KY   \n",
       "16     Johnson  239.85587  paid                      Lexington-Fayette, KY   \n",
       "17     Johnson  239.17669  paid                      Lexington-Fayette, KY   \n",
       "18     Johnson  181.21098  paid                      Lexington-Fayette, KY   \n",
       "19     Johnson  300.32934  paid                      Lexington-Fayette, KY   \n",
       "20     Johnson  497.13587  paid                      Lexington-Fayette, KY   \n",
       "21     Johnson  241.16200  paid                      Lexington-Fayette, KY   \n",
       "22     Johnson  166.00771  paid                      Lexington-Fayette, KY   \n",
       "23     Johnson  283.74159  paid                      Lexington-Fayette, KY   \n",
       "24     Johnson        NaN  paid                      Lexington-Fayette, KY   \n",
       "25     Johnson  150.69995  paid                      Lexington-Fayette, KY   \n",
       "26     Johnson  212.19220  paid                      Lexington-Fayette, KY   \n",
       "27     Johnson  250.67057  paid                      Lexington-Fayette, KY   \n",
       "28     Johnson  177.16200  paid                      Lexington-Fayette, KY   \n",
       "29     Johnson  259.26485  paid                      Lexington-Fayette, KY   \n",
       "...        ...        ...   ...                                        ...   \n",
       "44834    Perez  198.03383  free  Miami-Fort Lauderdale-West Palm Beach, FL   \n",
       "44835    Perez  259.26485  free  Miami-Fort Lauderdale-West Palm Beach, FL   \n",
       "44836    Perez  239.30730  free  Miami-Fort Lauderdale-West Palm Beach, FL   \n",
       "44837    Perez  270.75873  free  Miami-Fort Lauderdale-West Palm Beach, FL   \n",
       "44838    Perez  259.65669  free  Miami-Fort Lauderdale-West Palm Beach, FL   \n",
       "44839    Perez        NaN  free  Miami-Fort Lauderdale-West Palm Beach, FL   \n",
       "44840    Perez  176.14322  free  Miami-Fort Lauderdale-West Palm Beach, FL   \n",
       "44841    Perez  444.00281  free  Miami-Fort Lauderdale-West Palm Beach, FL   \n",
       "44842    Perez  348.57751  free  Miami-Fort Lauderdale-West Palm Beach, FL   \n",
       "44843    Perez        NaN  free  Miami-Fort Lauderdale-West Palm Beach, FL   \n",
       "44844    Perez        NaN  free  Miami-Fort Lauderdale-West Palm Beach, FL   \n",
       "44845    Perez  302.31465  free  Miami-Fort Lauderdale-West Palm Beach, FL   \n",
       "44846    Perez  179.80036  free  Miami-Fort Lauderdale-West Palm Beach, FL   \n",
       "44847    Perez  332.69506  free  Miami-Fort Lauderdale-West Palm Beach, FL   \n",
       "44848    Perez  248.68526  free  Miami-Fort Lauderdale-West Palm Beach, FL   \n",
       "44849    Perez        NaN  free  Miami-Fort Lauderdale-West Palm Beach, FL   \n",
       "44850    Perez  213.34159  free  Miami-Fort Lauderdale-West Palm Beach, FL   \n",
       "44851    Perez  166.00771  free  Miami-Fort Lauderdale-West Palm Beach, FL   \n",
       "44852    Perez  164.46649  free  Miami-Fort Lauderdale-West Palm Beach, FL   \n",
       "44853    Perez  190.82404  free  Miami-Fort Lauderdale-West Palm Beach, FL   \n",
       "44854    Perez  204.32934  free  Miami-Fort Lauderdale-West Palm Beach, FL   \n",
       "44855    Perez  238.65424  free  Miami-Fort Lauderdale-West Palm Beach, FL   \n",
       "44856    Perez  313.86077  free  Miami-Fort Lauderdale-West Palm Beach, FL   \n",
       "44857    Perez  184.60689  free  Miami-Fort Lauderdale-West Palm Beach, FL   \n",
       "44858    Perez  399.88200  free  Miami-Fort Lauderdale-West Palm Beach, FL   \n",
       "44859    Perez        NaN  free  Miami-Fort Lauderdale-West Palm Beach, FL   \n",
       "44860    Perez  602.17424  free  Miami-Fort Lauderdale-West Palm Beach, FL   \n",
       "44861    Perez        NaN  free  Miami-Fort Lauderdale-West Palm Beach, FL   \n",
       "44862    Perez  238.54975  free  Miami-Fort Lauderdale-West Palm Beach, FL   \n",
       "44863    Perez        NaN  free  Miami-Fort Lauderdale-West Palm Beach, FL   \n",
       "\n",
       "      method                       page   registration  sessionId  \\\n",
       "0        PUT                     Cancel  1533157139000        174   \n",
       "1        GET  Cancellation Confirmation  1533157139000        174   \n",
       "2        GET                Roll Advert  1533157139000        174   \n",
       "3        PUT                   NextSong  1533157139000        174   \n",
       "4        PUT                   NextSong  1533157139000        174   \n",
       "5        PUT                   NextSong  1533157139000        174   \n",
       "6        PUT                   NextSong  1533157139000        174   \n",
       "7        PUT                   NextSong  1533157139000        174   \n",
       "8        PUT                   NextSong  1533157139000        174   \n",
       "9        PUT                   NextSong  1533157139000        174   \n",
       "10       PUT                   NextSong  1533157139000        174   \n",
       "11       GET  Cancellation Confirmation  1538080987000        934   \n",
       "12       PUT                     Cancel  1538080987000        934   \n",
       "13       GET                   Settings  1538080987000        934   \n",
       "14       PUT                   NextSong  1538080987000        934   \n",
       "15       PUT                   NextSong  1538080987000        934   \n",
       "16       PUT                   NextSong  1538080987000        934   \n",
       "17       PUT                   NextSong  1538080987000        934   \n",
       "18       PUT                   NextSong  1538080987000        934   \n",
       "19       PUT                   NextSong  1538080987000        934   \n",
       "20       PUT                   NextSong  1538080987000        934   \n",
       "21       PUT                   NextSong  1538080987000        934   \n",
       "22       PUT                   NextSong  1538080987000        934   \n",
       "23       PUT                   NextSong  1538080987000        934   \n",
       "24       PUT                  Thumbs Up  1538080987000        934   \n",
       "25       PUT                   NextSong  1538080987000        934   \n",
       "26       PUT                   NextSong  1538080987000        934   \n",
       "27       PUT                   NextSong  1538080987000        934   \n",
       "28       PUT                   NextSong  1538080987000        934   \n",
       "29       PUT                   NextSong  1538080987000        934   \n",
       "...      ...                        ...            ...        ...   \n",
       "44834    PUT                   NextSong  1534627466000          1   \n",
       "44835    PUT                   NextSong  1534627466000          1   \n",
       "44836    PUT                   NextSong  1534627466000          1   \n",
       "44837    PUT                   NextSong  1534627466000          1   \n",
       "44838    PUT                   NextSong  1534627466000          1   \n",
       "44839    PUT                Thumbs Down  1534627466000          1   \n",
       "44840    PUT                   NextSong  1534627466000          1   \n",
       "44841    PUT                   NextSong  1534627466000          1   \n",
       "44842    PUT                   NextSong  1534627466000          1   \n",
       "44843    GET                       Home  1534627466000          1   \n",
       "44844    PUT                     Logout  1534627466000          1   \n",
       "44845    PUT                   NextSong  1534627466000          1   \n",
       "44846    PUT                   NextSong  1534627466000          1   \n",
       "44847    PUT                   NextSong  1534627466000          1   \n",
       "44848    PUT                   NextSong  1534627466000          1   \n",
       "44849    GET                Roll Advert  1534627466000          1   \n",
       "44850    PUT                   NextSong  1534627466000          1   \n",
       "44851    PUT                   NextSong  1534627466000          1   \n",
       "44852    PUT                   NextSong  1534627466000          1   \n",
       "44853    PUT                   NextSong  1534627466000          1   \n",
       "44854    PUT                   NextSong  1534627466000          1   \n",
       "44855    PUT                   NextSong  1534627466000          1   \n",
       "44856    PUT                   NextSong  1534627466000          1   \n",
       "44857    PUT                   NextSong  1534627466000          1   \n",
       "44858    PUT                   NextSong  1534627466000          1   \n",
       "44859    GET                Roll Advert  1534627466000          1   \n",
       "44860    PUT                   NextSong  1534627466000          1   \n",
       "44861    GET                Roll Advert  1534627466000          1   \n",
       "44862    PUT                   NextSong  1534627466000          1   \n",
       "44863    GET                       Home  1534627466000          1   \n",
       "\n",
       "                                                    song  status  \\\n",
       "0                                                   None     307   \n",
       "1                                                   None     200   \n",
       "2                                                   None     200   \n",
       "3                                                   Kota     200   \n",
       "4                                        They're Red Hot     200   \n",
       "5                                  Don't Leave Me Behind     200   \n",
       "6                                          Love You Down     200   \n",
       "7                          Leader Of Men (Album Version)     200   \n",
       "8                                          I'm On My Way     200   \n",
       "9                               Hypnotize(Album Version)     200   \n",
       "10                                      paranoid android     200   \n",
       "11                                                  None     200   \n",
       "12                                                  None     307   \n",
       "13                                                  None     200   \n",
       "14                                       Can't Look Down     200   \n",
       "15                                         Nokian Takana     200   \n",
       "16                             You've Got Everything Now     200   \n",
       "17                                         Forever Young     200   \n",
       "18     Catch You Baby (Steve Pitron & Max Sanna Radio...     200   \n",
       "19                        Body Language / interpretation     200   \n",
       "20                                   I CAN'T GET STARTED     200   \n",
       "21                           Never Had A Dream Come True     200   \n",
       "22                                            The Middle     200   \n",
       "23     Ain't Talkin' 'Bout Love (Remastered Live Vers...     200   \n",
       "24                                                  None     307   \n",
       "25                                            Market Day     200   \n",
       "26                                              Stand Up     200   \n",
       "27                                         Mexican Radio     200   \n",
       "28                                  Preciso Me Encontrar     200   \n",
       "29                                            You Got Me     200   \n",
       "...                                                  ...     ...   \n",
       "44834                                          Too Young     200   \n",
       "44835                                     All My Friends     200   \n",
       "44836                                     You're The One     200   \n",
       "44837                                              Almaz     200   \n",
       "44838  Cavity Search (Paody of \"Hold Me_ Thrill Me_ K...     200   \n",
       "44839                                               None     307   \n",
       "44840                     It's Getting Boring By The Sea     200   \n",
       "44841                         Frankie Machine (Part Two)     200   \n",
       "44842                                               Undo     200   \n",
       "44843                                               None     200   \n",
       "44844                                               None     307   \n",
       "44845                    End Of The Line (Album Version)     200   \n",
       "44846                                             Leavin     200   \n",
       "44847                                  All I Ever Wanted     200   \n",
       "44848                                Around The Way Girl     200   \n",
       "44849                                               None     200   \n",
       "44850                                       Break It Off     200   \n",
       "44851                                         The Middle     200   \n",
       "44852                  Rise Above (Live) (Album Version)     200   \n",
       "44853                                           My Enemy     200   \n",
       "44854                                            Runaway     200   \n",
       "44855                                            Falling     200   \n",
       "44856                                 Propane Nightmares     200   \n",
       "44857             Can't Hardly Wait (Remastered Version)     200   \n",
       "44858                           Do You Think I'm Spooky?     200   \n",
       "44859                                               None     200   \n",
       "44860               Kids With Guns (Quiet Village Remix)     200   \n",
       "44861                                               None     200   \n",
       "44862                                         Just Dance     200   \n",
       "44863                                               None     200   \n",
       "\n",
       "                  ts                                          userAgent  \\\n",
       "0      1539318918000  \"Mozilla/5.0 (Macintosh; Intel Mac OS X 10_9_4...   \n",
       "1      1539318918000  \"Mozilla/5.0 (Macintosh; Intel Mac OS X 10_9_4...   \n",
       "2      1539318917000  \"Mozilla/5.0 (Macintosh; Intel Mac OS X 10_9_4...   \n",
       "3      1539318906000  \"Mozilla/5.0 (Macintosh; Intel Mac OS X 10_9_4...   \n",
       "4      1539318728000  \"Mozilla/5.0 (Macintosh; Intel Mac OS X 10_9_4...   \n",
       "5      1539318515000  \"Mozilla/5.0 (Macintosh; Intel Mac OS X 10_9_4...   \n",
       "6      1539318124000  \"Mozilla/5.0 (Macintosh; Intel Mac OS X 10_9_4...   \n",
       "7      1539317914000  \"Mozilla/5.0 (Macintosh; Intel Mac OS X 10_9_4...   \n",
       "8      1539317711000  \"Mozilla/5.0 (Macintosh; Intel Mac OS X 10_9_4...   \n",
       "9      1539317481000  \"Mozilla/5.0 (Macintosh; Intel Mac OS X 10_9_4...   \n",
       "10     1539317144000  \"Mozilla/5.0 (Macintosh; Intel Mac OS X 10_9_4...   \n",
       "11     1539761972000  \"Mozilla/5.0 (Windows NT 6.1; WOW64) AppleWebK...   \n",
       "12     1539761830000  \"Mozilla/5.0 (Windows NT 6.1; WOW64) AppleWebK...   \n",
       "13     1539761829000  \"Mozilla/5.0 (Windows NT 6.1; WOW64) AppleWebK...   \n",
       "14     1539761726000  \"Mozilla/5.0 (Windows NT 6.1; WOW64) AppleWebK...   \n",
       "15     1539761508000  \"Mozilla/5.0 (Windows NT 6.1; WOW64) AppleWebK...   \n",
       "16     1539761269000  \"Mozilla/5.0 (Windows NT 6.1; WOW64) AppleWebK...   \n",
       "17     1539761030000  \"Mozilla/5.0 (Windows NT 6.1; WOW64) AppleWebK...   \n",
       "18     1539760849000  \"Mozilla/5.0 (Windows NT 6.1; WOW64) AppleWebK...   \n",
       "19     1539760549000  \"Mozilla/5.0 (Windows NT 6.1; WOW64) AppleWebK...   \n",
       "20     1539760052000  \"Mozilla/5.0 (Windows NT 6.1; WOW64) AppleWebK...   \n",
       "21     1539759811000  \"Mozilla/5.0 (Windows NT 6.1; WOW64) AppleWebK...   \n",
       "22     1539759645000  \"Mozilla/5.0 (Windows NT 6.1; WOW64) AppleWebK...   \n",
       "23     1539759362000  \"Mozilla/5.0 (Windows NT 6.1; WOW64) AppleWebK...   \n",
       "24     1539759213000  \"Mozilla/5.0 (Windows NT 6.1; WOW64) AppleWebK...   \n",
       "25     1539759212000  \"Mozilla/5.0 (Windows NT 6.1; WOW64) AppleWebK...   \n",
       "26     1539759000000  \"Mozilla/5.0 (Windows NT 6.1; WOW64) AppleWebK...   \n",
       "27     1539758750000  \"Mozilla/5.0 (Windows NT 6.1; WOW64) AppleWebK...   \n",
       "28     1539758573000  \"Mozilla/5.0 (Windows NT 6.1; WOW64) AppleWebK...   \n",
       "29     1539758314000  \"Mozilla/5.0 (Windows NT 6.1; WOW64) AppleWebK...   \n",
       "...              ...                                                ...   \n",
       "44834  1538382476000  \"Mozilla/5.0 (Macintosh; Intel Mac OS X 10_6_8...   \n",
       "44835  1538382217000  \"Mozilla/5.0 (Macintosh; Intel Mac OS X 10_6_8...   \n",
       "44836  1538381978000  \"Mozilla/5.0 (Macintosh; Intel Mac OS X 10_6_8...   \n",
       "44837  1538381708000  \"Mozilla/5.0 (Macintosh; Intel Mac OS X 10_6_8...   \n",
       "44838  1538381449000  \"Mozilla/5.0 (Macintosh; Intel Mac OS X 10_6_8...   \n",
       "44839  1538381274000  \"Mozilla/5.0 (Macintosh; Intel Mac OS X 10_6_8...   \n",
       "44840  1538381273000  \"Mozilla/5.0 (Macintosh; Intel Mac OS X 10_6_8...   \n",
       "44841  1538380829000  \"Mozilla/5.0 (Macintosh; Intel Mac OS X 10_6_8...   \n",
       "44842  1538380481000  \"Mozilla/5.0 (Macintosh; Intel Mac OS X 10_6_8...   \n",
       "44843  1538380429000  \"Mozilla/5.0 (Macintosh; Intel Mac OS X 10_6_8...   \n",
       "44844  1538380180000  \"Mozilla/5.0 (Macintosh; Intel Mac OS X 10_6_8...   \n",
       "44845  1538380179000  \"Mozilla/5.0 (Macintosh; Intel Mac OS X 10_6_8...   \n",
       "44846  1538380000000  \"Mozilla/5.0 (Macintosh; Intel Mac OS X 10_6_8...   \n",
       "44847  1538379668000  \"Mozilla/5.0 (Macintosh; Intel Mac OS X 10_6_8...   \n",
       "44848  1538379420000  \"Mozilla/5.0 (Macintosh; Intel Mac OS X 10_6_8...   \n",
       "44849  1538379230000  \"Mozilla/5.0 (Macintosh; Intel Mac OS X 10_6_8...   \n",
       "44850  1538379207000  \"Mozilla/5.0 (Macintosh; Intel Mac OS X 10_6_8...   \n",
       "44851  1538379041000  \"Mozilla/5.0 (Macintosh; Intel Mac OS X 10_6_8...   \n",
       "44852  1538378877000  \"Mozilla/5.0 (Macintosh; Intel Mac OS X 10_6_8...   \n",
       "44853  1538378687000  \"Mozilla/5.0 (Macintosh; Intel Mac OS X 10_6_8...   \n",
       "44854  1538378483000  \"Mozilla/5.0 (Macintosh; Intel Mac OS X 10_6_8...   \n",
       "44855  1538378245000  \"Mozilla/5.0 (Macintosh; Intel Mac OS X 10_6_8...   \n",
       "44856  1538377932000  \"Mozilla/5.0 (Macintosh; Intel Mac OS X 10_6_8...   \n",
       "44857  1538377748000  \"Mozilla/5.0 (Macintosh; Intel Mac OS X 10_6_8...   \n",
       "44858  1538377349000  \"Mozilla/5.0 (Macintosh; Intel Mac OS X 10_6_8...   \n",
       "44859  1538376783000  \"Mozilla/5.0 (Macintosh; Intel Mac OS X 10_6_8...   \n",
       "44860  1538376747000  \"Mozilla/5.0 (Macintosh; Intel Mac OS X 10_6_8...   \n",
       "44861  1538376542000  \"Mozilla/5.0 (Macintosh; Intel Mac OS X 10_6_8...   \n",
       "44862  1538376509000  \"Mozilla/5.0 (Macintosh; Intel Mac OS X 10_6_8...   \n",
       "44863  1538376504000  \"Mozilla/5.0 (Macintosh; Intel Mac OS X 10_6_8...   \n",
       "\n",
       "       userId  Churn  \n",
       "0         125      1  \n",
       "1         125      1  \n",
       "2         125      1  \n",
       "3         125      1  \n",
       "4         125      1  \n",
       "5         125      1  \n",
       "6         125      1  \n",
       "7         125      1  \n",
       "8         125      1  \n",
       "9         125      1  \n",
       "10        125      1  \n",
       "11         51      1  \n",
       "12         51      1  \n",
       "13         51      1  \n",
       "14         51      1  \n",
       "15         51      1  \n",
       "16         51      1  \n",
       "17         51      1  \n",
       "18         51      1  \n",
       "19         51      1  \n",
       "20         51      1  \n",
       "21         51      1  \n",
       "22         51      1  \n",
       "23         51      1  \n",
       "24         51      1  \n",
       "25         51      1  \n",
       "26         51      1  \n",
       "27         51      1  \n",
       "28         51      1  \n",
       "29         51      1  \n",
       "...       ...    ...  \n",
       "44834  100001      1  \n",
       "44835  100001      1  \n",
       "44836  100001      1  \n",
       "44837  100001      1  \n",
       "44838  100001      1  \n",
       "44839  100001      1  \n",
       "44840  100001      1  \n",
       "44841  100001      1  \n",
       "44842  100001      1  \n",
       "44843  100001      1  \n",
       "44844  100001      1  \n",
       "44845  100001      1  \n",
       "44846  100001      1  \n",
       "44847  100001      1  \n",
       "44848  100001      1  \n",
       "44849  100001      1  \n",
       "44850  100001      1  \n",
       "44851  100001      1  \n",
       "44852  100001      1  \n",
       "44853  100001      1  \n",
       "44854  100001      1  \n",
       "44855  100001      1  \n",
       "44856  100001      1  \n",
       "44857  100001      1  \n",
       "44858  100001      1  \n",
       "44859  100001      1  \n",
       "44860  100001      1  \n",
       "44861  100001      1  \n",
       "44862  100001      1  \n",
       "44863  100001      1  \n",
       "\n",
       "[44864 rows x 19 columns]"
      ]
     },
     "execution_count": 40,
     "metadata": {},
     "output_type": "execute_result"
    }
   ],
   "source": [
    "churn_df"
   ]
  },
  {
   "cell_type": "code",
   "execution_count": 41,
   "metadata": {
    "pycharm": {
     "name": "#%%\n"
    }
   },
   "outputs": [
    {
     "data": {
      "image/png": "[encoded data removed]",
      "text/plain": [
       "<matplotlib.figure.Figure at 0x7f9e242243c8>"
      ]
     },
     "metadata": {
      "needs_background": "light"
     },
     "output_type": "display_data"
    }
   ],
   "source": [
    "# distribution plot\n",
    "bins = np.arange (10, churn_df['length'].max()+30, 30)\n",
    "plt.hist(data = churn_df, x = 'length', bins = bins, color='g')\n",
    "plt.xlim(0,700)\n",
    "plt.xlabel('Length')\n",
    "plt.ylabel('Frequency');"
   ]
  },
  {
   "cell_type": "markdown",
   "metadata": {
    "pycharm": {
     "name": "#%% md\n"
    }
   },
   "source": [
    "Now we can do the same process for customers who didn't churn."
   ]
  },
  {
   "cell_type": "code",
   "execution_count": 42,
   "metadata": {
    "pycharm": {
     "name": "#%%\n"
    }
   },
   "outputs": [],
   "source": [
    "# users who did not churn\n",
    "non_churn_df = filtered_df.filter(filtered_df.Churn ==0).toPandas()"
   ]
  },
  {
   "cell_type": "code",
   "execution_count": 43,
   "metadata": {
    "pycharm": {
     "name": "#%%\n"
    }
   },
   "outputs": [],
   "source": [
    "\n",
    "non_churn_df.length.dropna(inplace=True)"
   ]
  },
  {
   "cell_type": "code",
   "execution_count": 44,
   "metadata": {
    "pycharm": {
     "name": "#%%\n"
    }
   },
   "outputs": [
    {
     "data": {
      "image/png": "[encoded data removed]",
      "text/plain": [
       "<matplotlib.figure.Figure at 0x7f9e43fc4c18>"
      ]
     },
     "metadata": {
      "needs_background": "light"
     },
     "output_type": "display_data"
    }
   ],
   "source": [
    "# plot distribution\n",
    "bins = np.arange (10, non_churn_df['length'].max()+30, 30)\n",
    "plt.hist(data = non_churn_df, x = 'length', bins = bins)\n",
    "plt.xlim(0,800)\n",
    "plt.xlabel('Length')\n",
    "plt.ylabel('Frequency');"
   ]
  },
  {
   "cell_type": "markdown",
   "metadata": {
    "pycharm": {
     "name": "#%% md\n"
    }
   },
   "source": [
    "As we can see that both(churned users and non-churned users) have very similar length distributions."
   ]
  },
  {
   "cell_type": "markdown",
   "metadata": {
    "pycharm": {
     "name": "#%% md\n"
    }
   },
   "source": [
    "###  Gender wise analysis -  Churned vs Non-Churned Users"
   ]
  },
  {
   "cell_type": "markdown",
   "metadata": {
    "pycharm": {
     "name": "#%% md\n"
    }
   },
   "source": [
    "Now we can examine if gender had an effect on users that churned vs. those that stayed."
   ]
  },
  {
   "cell_type": "code",
   "execution_count": 45,
   "metadata": {
    "pycharm": {
     "name": "#%%\n"
    }
   },
   "outputs": [],
   "source": [
    "# dataframe grouped by churn and gender\n",
    "gender_df = filtered_df.select(['userId', 'Churn', 'gender']).dropDuplicates().groupBy('gender', 'Churn').count()"
   ]
  },
  {
   "cell_type": "code",
   "execution_count": 46,
   "metadata": {
    "pycharm": {
     "name": "#%%\n"
    }
   },
   "outputs": [
    {
     "data": {
      "text/plain": [
       "[Row(gender='F', Churn=0, count=84),\n",
       " Row(gender='F', Churn=1, count=20),\n",
       " Row(gender='M', Churn=0, count=89),\n",
       " Row(gender='M', Churn=1, count=32)]"
      ]
     },
     "execution_count": 46,
     "metadata": {},
     "output_type": "execute_result"
    }
   ],
   "source": [
    "gender_df.collect()"
   ]
  },
  {
   "cell_type": "code",
   "execution_count": 47,
   "metadata": {
    "pycharm": {
     "name": "#%%\n"
    }
   },
   "outputs": [],
   "source": [
    "gender_df = gender_df.toPandas()"
   ]
  },
  {
   "cell_type": "code",
   "execution_count": 48,
   "metadata": {
    "pycharm": {
     "name": "#%%\n"
    }
   },
   "outputs": [],
   "source": [
    "# visualisation\n",
    "gender_df = gender_df.sort_values('count', ascending = False)"
   ]
  },
  {
   "cell_type": "code",
   "execution_count": 49,
   "metadata": {
    "pycharm": {
     "name": "#%%\n"
    }
   },
   "outputs": [
    {
     "data": {
      "image/png": "[encoded data removed]",
      "text/plain": [
       "<matplotlib.figure.Figure at 0x7f9e34fd1ac8>"
      ]
     },
     "metadata": {
      "needs_background": "light"
     },
     "output_type": "display_data"
    }
   ],
   "source": [
    "# barplot\n",
    "plt.figure(figsize = [10,7])\n",
    "ax = sns.barplot(data = gender_df, x = 'Churn', y='count', hue = 'gender', capsize=1)\n",
    "ax.legend(loc = 1, ncol = 2, framealpha =1, title = 'gender')\n",
    "plt.title(\"Churned vs Non-churned users gender-wise\");"
   ]
  },
  {
   "cell_type": "code",
   "execution_count": 50,
   "metadata": {},
   "outputs": [],
   "source": [
    "churned_male = gender_df.query('gender==\"M\" & Churn==1')['count'].values[0]\n",
    "non_churned_male = gender_df.query('gender==\"M\" & Churn==0')['count'].values[0]"
   ]
  },
  {
   "cell_type": "markdown",
   "metadata": {},
   "source": [
    "### Male churn rate"
   ]
  },
  {
   "cell_type": "code",
   "execution_count": 51,
   "metadata": {
    "pycharm": {
     "name": "#%%\n"
    }
   },
   "outputs": [
    {
     "data": {
      "text/plain": [
       "26.446280991735538"
      ]
     },
     "execution_count": 51,
     "metadata": {},
     "output_type": "execute_result"
    }
   ],
   "source": [
    "male_churn_rate = churned_male/(non_churned_male+churned_male)*100\n",
    "male_churn_rate"
   ]
  },
  {
   "cell_type": "markdown",
   "metadata": {},
   "source": [
    "### Female churn rate"
   ]
  },
  {
   "cell_type": "code",
   "execution_count": 52,
   "metadata": {},
   "outputs": [],
   "source": [
    "churned_female = gender_df.query('gender==\"F\" & Churn==1')['count'].values[0]\n",
    "non_churned_female = gender_df.query('gender==\"F\" & Churn==0')['count'].values[0]"
   ]
  },
  {
   "cell_type": "code",
   "execution_count": 53,
   "metadata": {
    "pycharm": {
     "name": "#%%\n"
    }
   },
   "outputs": [
    {
     "data": {
      "text/plain": [
       "19.230769230769234"
      ]
     },
     "execution_count": 53,
     "metadata": {},
     "output_type": "execute_result"
    }
   ],
   "source": [
    "female_churn_rate = churned_female/(non_churned_female+churned_female)*100\n",
    "female_churn_rate"
   ]
  },
  {
   "cell_type": "markdown",
   "metadata": {
    "pycharm": {
     "name": "#%% md\n"
    }
   },
   "source": [
    "As we can see the male churn rate is higher than the female churn rate."
   ]
  },
  {
   "cell_type": "markdown",
   "metadata": {
    "pycharm": {
     "name": "#%% md\n"
    }
   },
   "source": [
    "### Churned vs Non-Churned users based on plan"
   ]
  },
  {
   "cell_type": "markdown",
   "metadata": {
    "pycharm": {
     "name": "#%% md\n"
    }
   },
   "source": [
    "here we are going to analyse if subscription/free plan has an effect on whether a user will churn or not. The difference between subscription and free plan is that with subscription,the user can stream unlimited with any Ads and under free plan, the user gets Ads in between while streaming."
   ]
  },
  {
   "cell_type": "code",
   "execution_count": 54,
   "metadata": {
    "pycharm": {
     "name": "#%%\n"
    }
   },
   "outputs": [],
   "source": [
    "# dataframe based on choosen level\n",
    "plan_df = filtered_df.select(['userId', 'Churn', 'level']).dropDuplicates().groupBy('level','Churn').count()"
   ]
  },
  {
   "cell_type": "code",
   "execution_count": 55,
   "metadata": {},
   "outputs": [
    {
     "data": {
      "text/html": [
       "<div>\n",
       "<style scoped>\n",
       "    .dataframe tbody tr th:only-of-type {\n",
       "        vertical-align: middle;\n",
       "    }\n",
       "\n",
       "    .dataframe tbody tr th {\n",
       "        vertical-align: top;\n",
       "    }\n",
       "\n",
       "    .dataframe thead th {\n",
       "        text-align: right;\n",
       "    }\n",
       "</style>\n",
       "<table border=\"1\" class=\"dataframe\">\n",
       "  <thead>\n",
       "    <tr style=\"text-align: right;\">\n",
       "      <th></th>\n",
       "      <th>level</th>\n",
       "      <th>Churn</th>\n",
       "      <th>count</th>\n",
       "    </tr>\n",
       "  </thead>\n",
       "  <tbody>\n",
       "    <tr>\n",
       "      <th>0</th>\n",
       "      <td>free</td>\n",
       "      <td>0</td>\n",
       "      <td>149</td>\n",
       "    </tr>\n",
       "    <tr>\n",
       "      <th>1</th>\n",
       "      <td>paid</td>\n",
       "      <td>0</td>\n",
       "      <td>129</td>\n",
       "    </tr>\n",
       "    <tr>\n",
       "      <th>2</th>\n",
       "      <td>free</td>\n",
       "      <td>1</td>\n",
       "      <td>46</td>\n",
       "    </tr>\n",
       "    <tr>\n",
       "      <th>3</th>\n",
       "      <td>paid</td>\n",
       "      <td>1</td>\n",
       "      <td>36</td>\n",
       "    </tr>\n",
       "  </tbody>\n",
       "</table>\n",
       "</div>"
      ],
      "text/plain": [
       "  level  Churn  count\n",
       "0  free      0    149\n",
       "1  paid      0    129\n",
       "2  free      1     46\n",
       "3  paid      1     36"
      ]
     },
     "execution_count": 55,
     "metadata": {},
     "output_type": "execute_result"
    }
   ],
   "source": [
    "plan_df.toPandas()"
   ]
  },
  {
   "cell_type": "code",
   "execution_count": 56,
   "metadata": {
    "pycharm": {
     "name": "#%%\n"
    }
   },
   "outputs": [],
   "source": [
    "plan_df = plan_df.toPandas()"
   ]
  },
  {
   "cell_type": "code",
   "execution_count": 57,
   "metadata": {
    "pycharm": {
     "name": "#%%\n"
    }
   },
   "outputs": [
    {
     "data": {
      "image/png": "[encoded data removed]",
      "text/plain": [
       "<matplotlib.figure.Figure at 0x7f9e4213fb00>"
      ]
     },
     "metadata": {
      "needs_background": "light"
     },
     "output_type": "display_data"
    }
   ],
   "source": [
    "# barplot between churn vs non-churn users based on choosed plan\n",
    "plt.figure(figsize = [10,7])\n",
    "ax = sns.barplot(data = plan_df, x = 'Churn', y='count', hue = 'level', capsize=1, palette=['y','g'])\n",
    "ax.legend(loc = 1, ncol = 2, framealpha =1, title = 'level')\n",
    "plt.title(\"churn vs non-churn users based on plan level\");"
   ]
  },
  {
   "cell_type": "markdown",
   "metadata": {},
   "source": [
    "### Churn rate under free plan"
   ]
  },
  {
   "cell_type": "code",
   "execution_count": 58,
   "metadata": {},
   "outputs": [],
   "source": [
    "churned_free = plan_df.query('level==\"free\" & Churn==1')['count'].values[0]\n",
    "non_churned_free = plan_df.query('level==\"free\" & Churn==0')['count'].values[0]"
   ]
  },
  {
   "cell_type": "code",
   "execution_count": 59,
   "metadata": {
    "pycharm": {
     "name": "#%%\n"
    }
   },
   "outputs": [
    {
     "name": "stdout",
     "output_type": "stream",
     "text": [
      "free plan churn rate: 23.59 %\n"
     ]
    }
   ],
   "source": [
    "churn_rate_free = churned_free/(churned_free+non_churned_free)*100\n",
    "print(f\"free plan churn rate: {churn_rate_free.round(2)} %\")"
   ]
  },
  {
   "cell_type": "markdown",
   "metadata": {},
   "source": [
    "### Churn rate under subscription plan"
   ]
  },
  {
   "cell_type": "code",
   "execution_count": 60,
   "metadata": {},
   "outputs": [],
   "source": [
    "churned_paid = plan_df.query('level==\"paid\" & Churn==1')['count'].values[0]\n",
    "non_churned_paid = plan_df.query('level==\"paid\" & Churn==0')['count'].values[0]"
   ]
  },
  {
   "cell_type": "code",
   "execution_count": 61,
   "metadata": {
    "pycharm": {
     "name": "#%%\n"
    }
   },
   "outputs": [
    {
     "name": "stdout",
     "output_type": "stream",
     "text": [
      "subscription churn rate: 21.82 %\n"
     ]
    }
   ],
   "source": [
    "churn_rate_paid = churned_paid/(churned_paid+non_churned_paid)*100\n",
    "print(f\"subscription churn rate: {churn_rate_paid.round(2)} %\")"
   ]
  },
  {
   "cell_type": "markdown",
   "metadata": {
    "pycharm": {
     "name": "#%% md\n"
    }
   },
   "source": [
    "From the above figures, we can conclude that the free plan users have more probability to churn compared to the users who have taken the paid plan. Although this the difference in churn rate between free and paid users is less(~1.5%)."
   ]
  },
  {
   "cell_type": "markdown",
   "metadata": {
    "pycharm": {
     "name": "#%% md\n"
    }
   },
   "source": [
    "### Churned vs Non-Churned users based their Page Visit"
   ]
  },
  {
   "cell_type": "markdown",
   "metadata": {
    "pycharm": {
     "name": "#%% md\n"
    }
   },
   "source": [
    "Now we gonna analyse if there is any pattern of the pages visited by the churned users and non-churned ones."
   ]
  },
  {
   "cell_type": "code",
   "execution_count": 62,
   "metadata": {
    "pycharm": {
     "name": "#%%\n"
    }
   },
   "outputs": [],
   "source": [
    "page_df = filtered_df.select(['userId', 'Churn', 'page']).groupBy('page','Churn').count()"
   ]
  },
  {
   "cell_type": "code",
   "execution_count": 63,
   "metadata": {
    "pycharm": {
     "name": "#%%\n"
    }
   },
   "outputs": [
    {
     "data": {
      "text/html": [
       "<div>\n",
       "<style scoped>\n",
       "    .dataframe tbody tr th:only-of-type {\n",
       "        vertical-align: middle;\n",
       "    }\n",
       "\n",
       "    .dataframe tbody tr th {\n",
       "        vertical-align: top;\n",
       "    }\n",
       "\n",
       "    .dataframe thead th {\n",
       "        text-align: right;\n",
       "    }\n",
       "</style>\n",
       "<table border=\"1\" class=\"dataframe\">\n",
       "  <thead>\n",
       "    <tr style=\"text-align: right;\">\n",
       "      <th></th>\n",
       "      <th>page</th>\n",
       "      <th>Churn</th>\n",
       "      <th>count</th>\n",
       "    </tr>\n",
       "  </thead>\n",
       "  <tbody>\n",
       "    <tr>\n",
       "      <th>0</th>\n",
       "      <td>Settings</td>\n",
       "      <td>0</td>\n",
       "      <td>1244</td>\n",
       "    </tr>\n",
       "    <tr>\n",
       "      <th>1</th>\n",
       "      <td>Thumbs Down</td>\n",
       "      <td>1</td>\n",
       "      <td>496</td>\n",
       "    </tr>\n",
       "    <tr>\n",
       "      <th>2</th>\n",
       "      <td>Thumbs Up</td>\n",
       "      <td>1</td>\n",
       "      <td>1859</td>\n",
       "    </tr>\n",
       "    <tr>\n",
       "      <th>3</th>\n",
       "      <td>Add to Playlist</td>\n",
       "      <td>1</td>\n",
       "      <td>1038</td>\n",
       "    </tr>\n",
       "    <tr>\n",
       "      <th>4</th>\n",
       "      <td>Error</td>\n",
       "      <td>1</td>\n",
       "      <td>32</td>\n",
       "    </tr>\n",
       "    <tr>\n",
       "      <th>5</th>\n",
       "      <td>About</td>\n",
       "      <td>1</td>\n",
       "      <td>56</td>\n",
       "    </tr>\n",
       "    <tr>\n",
       "      <th>6</th>\n",
       "      <td>Thumbs Down</td>\n",
       "      <td>0</td>\n",
       "      <td>2050</td>\n",
       "    </tr>\n",
       "    <tr>\n",
       "      <th>7</th>\n",
       "      <td>Roll Advert</td>\n",
       "      <td>1</td>\n",
       "      <td>967</td>\n",
       "    </tr>\n",
       "    <tr>\n",
       "      <th>8</th>\n",
       "      <td>Home</td>\n",
       "      <td>0</td>\n",
       "      <td>8410</td>\n",
       "    </tr>\n",
       "    <tr>\n",
       "      <th>9</th>\n",
       "      <td>Cancellation Confirmation</td>\n",
       "      <td>1</td>\n",
       "      <td>52</td>\n",
       "    </tr>\n",
       "    <tr>\n",
       "      <th>10</th>\n",
       "      <td>Error</td>\n",
       "      <td>0</td>\n",
       "      <td>220</td>\n",
       "    </tr>\n",
       "    <tr>\n",
       "      <th>11</th>\n",
       "      <td>Cancel</td>\n",
       "      <td>1</td>\n",
       "      <td>52</td>\n",
       "    </tr>\n",
       "    <tr>\n",
       "      <th>12</th>\n",
       "      <td>Settings</td>\n",
       "      <td>1</td>\n",
       "      <td>270</td>\n",
       "    </tr>\n",
       "    <tr>\n",
       "      <th>13</th>\n",
       "      <td>Add Friend</td>\n",
       "      <td>1</td>\n",
       "      <td>636</td>\n",
       "    </tr>\n",
       "    <tr>\n",
       "      <th>14</th>\n",
       "      <td>Upgrade</td>\n",
       "      <td>0</td>\n",
       "      <td>387</td>\n",
       "    </tr>\n",
       "    <tr>\n",
       "      <th>15</th>\n",
       "      <td>Downgrade</td>\n",
       "      <td>1</td>\n",
       "      <td>337</td>\n",
       "    </tr>\n",
       "    <tr>\n",
       "      <th>16</th>\n",
       "      <td>Logout</td>\n",
       "      <td>1</td>\n",
       "      <td>553</td>\n",
       "    </tr>\n",
       "    <tr>\n",
       "      <th>17</th>\n",
       "      <td>Submit Downgrade</td>\n",
       "      <td>1</td>\n",
       "      <td>9</td>\n",
       "    </tr>\n",
       "    <tr>\n",
       "      <th>18</th>\n",
       "      <td>Save Settings</td>\n",
       "      <td>0</td>\n",
       "      <td>252</td>\n",
       "    </tr>\n",
       "    <tr>\n",
       "      <th>19</th>\n",
       "      <td>Thumbs Up</td>\n",
       "      <td>0</td>\n",
       "      <td>10692</td>\n",
       "    </tr>\n",
       "    <tr>\n",
       "      <th>20</th>\n",
       "      <td>Downgrade</td>\n",
       "      <td>0</td>\n",
       "      <td>1718</td>\n",
       "    </tr>\n",
       "    <tr>\n",
       "      <th>21</th>\n",
       "      <td>Submit Upgrade</td>\n",
       "      <td>0</td>\n",
       "      <td>127</td>\n",
       "    </tr>\n",
       "    <tr>\n",
       "      <th>22</th>\n",
       "      <td>Roll Advert</td>\n",
       "      <td>0</td>\n",
       "      <td>2966</td>\n",
       "    </tr>\n",
       "    <tr>\n",
       "      <th>23</th>\n",
       "      <td>Submit Downgrade</td>\n",
       "      <td>0</td>\n",
       "      <td>54</td>\n",
       "    </tr>\n",
       "    <tr>\n",
       "      <th>24</th>\n",
       "      <td>Logout</td>\n",
       "      <td>0</td>\n",
       "      <td>2673</td>\n",
       "    </tr>\n",
       "    <tr>\n",
       "      <th>25</th>\n",
       "      <td>Home</td>\n",
       "      <td>1</td>\n",
       "      <td>1672</td>\n",
       "    </tr>\n",
       "    <tr>\n",
       "      <th>26</th>\n",
       "      <td>Add Friend</td>\n",
       "      <td>0</td>\n",
       "      <td>3641</td>\n",
       "    </tr>\n",
       "    <tr>\n",
       "      <th>27</th>\n",
       "      <td>Upgrade</td>\n",
       "      <td>1</td>\n",
       "      <td>112</td>\n",
       "    </tr>\n",
       "    <tr>\n",
       "      <th>28</th>\n",
       "      <td>Submit Upgrade</td>\n",
       "      <td>1</td>\n",
       "      <td>32</td>\n",
       "    </tr>\n",
       "    <tr>\n",
       "      <th>29</th>\n",
       "      <td>About</td>\n",
       "      <td>0</td>\n",
       "      <td>439</td>\n",
       "    </tr>\n",
       "    <tr>\n",
       "      <th>30</th>\n",
       "      <td>Add to Playlist</td>\n",
       "      <td>0</td>\n",
       "      <td>5488</td>\n",
       "    </tr>\n",
       "    <tr>\n",
       "      <th>31</th>\n",
       "      <td>Save Settings</td>\n",
       "      <td>1</td>\n",
       "      <td>58</td>\n",
       "    </tr>\n",
       "    <tr>\n",
       "      <th>32</th>\n",
       "      <td>Help</td>\n",
       "      <td>1</td>\n",
       "      <td>239</td>\n",
       "    </tr>\n",
       "    <tr>\n",
       "      <th>33</th>\n",
       "      <td>NextSong</td>\n",
       "      <td>1</td>\n",
       "      <td>36394</td>\n",
       "    </tr>\n",
       "    <tr>\n",
       "      <th>34</th>\n",
       "      <td>NextSong</td>\n",
       "      <td>0</td>\n",
       "      <td>191714</td>\n",
       "    </tr>\n",
       "    <tr>\n",
       "      <th>35</th>\n",
       "      <td>Help</td>\n",
       "      <td>0</td>\n",
       "      <td>1215</td>\n",
       "    </tr>\n",
       "  </tbody>\n",
       "</table>\n",
       "</div>"
      ],
      "text/plain": [
       "                         page  Churn   count\n",
       "0                    Settings      0    1244\n",
       "1                 Thumbs Down      1     496\n",
       "2                   Thumbs Up      1    1859\n",
       "3             Add to Playlist      1    1038\n",
       "4                       Error      1      32\n",
       "5                       About      1      56\n",
       "6                 Thumbs Down      0    2050\n",
       "7                 Roll Advert      1     967\n",
       "8                        Home      0    8410\n",
       "9   Cancellation Confirmation      1      52\n",
       "10                      Error      0     220\n",
       "11                     Cancel      1      52\n",
       "12                   Settings      1     270\n",
       "13                 Add Friend      1     636\n",
       "14                    Upgrade      0     387\n",
       "15                  Downgrade      1     337\n",
       "16                     Logout      1     553\n",
       "17           Submit Downgrade      1       9\n",
       "18              Save Settings      0     252\n",
       "19                  Thumbs Up      0   10692\n",
       "20                  Downgrade      0    1718\n",
       "21             Submit Upgrade      0     127\n",
       "22                Roll Advert      0    2966\n",
       "23           Submit Downgrade      0      54\n",
       "24                     Logout      0    2673\n",
       "25                       Home      1    1672\n",
       "26                 Add Friend      0    3641\n",
       "27                    Upgrade      1     112\n",
       "28             Submit Upgrade      1      32\n",
       "29                      About      0     439\n",
       "30            Add to Playlist      0    5488\n",
       "31              Save Settings      1      58\n",
       "32                       Help      1     239\n",
       "33                   NextSong      1   36394\n",
       "34                   NextSong      0  191714\n",
       "35                       Help      0    1215"
      ]
     },
     "execution_count": 63,
     "metadata": {},
     "output_type": "execute_result"
    }
   ],
   "source": [
    "page_df.toPandas()"
   ]
  },
  {
   "cell_type": "code",
   "execution_count": 64,
   "metadata": {
    "pycharm": {
     "name": "#%%\n"
    }
   },
   "outputs": [],
   "source": [
    "page_df = page_df.toPandas()"
   ]
  },
  {
   "cell_type": "code",
   "execution_count": 65,
   "metadata": {
    "pycharm": {
     "name": "#%%\n"
    }
   },
   "outputs": [],
   "source": [
    "churn_count =  page_df.query('Churn==1').sum()\n",
    "non_churn_count =  page_df.query('Churn==0').sum()"
   ]
  },
  {
   "cell_type": "code",
   "execution_count": 66,
   "metadata": {},
   "outputs": [
    {
     "data": {
      "text/plain": [
       "44864"
      ]
     },
     "execution_count": 66,
     "metadata": {},
     "output_type": "execute_result"
    }
   ],
   "source": [
    "churn_count['count']"
   ]
  },
  {
   "cell_type": "code",
   "execution_count": 67,
   "metadata": {},
   "outputs": [
    {
     "data": {
      "text/plain": [
       "233290"
      ]
     },
     "execution_count": 67,
     "metadata": {},
     "output_type": "execute_result"
    }
   ],
   "source": [
    "non_churn_count['count']"
   ]
  },
  {
   "cell_type": "code",
   "execution_count": 68,
   "metadata": {},
   "outputs": [],
   "source": [
    "### add a new column 'rate' which is the rate of churn/non-churn by that page \n",
    "page_df['rate'] = np.where(\n",
    "                          page_df['Churn']==0, \n",
    "                          page_df['count']/non_churn_count['count'], \n",
    "                          page_df['count']/churn_count['count']\n",
    "                          )"
   ]
  },
  {
   "cell_type": "code",
   "execution_count": 69,
   "metadata": {
    "pycharm": {
     "name": "#%%\n"
    }
   },
   "outputs": [
    {
     "data": {
      "text/html": [
       "<div>\n",
       "<style scoped>\n",
       "    .dataframe tbody tr th:only-of-type {\n",
       "        vertical-align: middle;\n",
       "    }\n",
       "\n",
       "    .dataframe tbody tr th {\n",
       "        vertical-align: top;\n",
       "    }\n",
       "\n",
       "    .dataframe thead th {\n",
       "        text-align: right;\n",
       "    }\n",
       "</style>\n",
       "<table border=\"1\" class=\"dataframe\">\n",
       "  <thead>\n",
       "    <tr style=\"text-align: right;\">\n",
       "      <th></th>\n",
       "      <th>page</th>\n",
       "      <th>Churn</th>\n",
       "      <th>count</th>\n",
       "      <th>rate</th>\n",
       "    </tr>\n",
       "  </thead>\n",
       "  <tbody>\n",
       "    <tr>\n",
       "      <th>0</th>\n",
       "      <td>Settings</td>\n",
       "      <td>0</td>\n",
       "      <td>1244</td>\n",
       "      <td>0.005332</td>\n",
       "    </tr>\n",
       "    <tr>\n",
       "      <th>1</th>\n",
       "      <td>Thumbs Down</td>\n",
       "      <td>1</td>\n",
       "      <td>496</td>\n",
       "      <td>0.011056</td>\n",
       "    </tr>\n",
       "    <tr>\n",
       "      <th>2</th>\n",
       "      <td>Thumbs Up</td>\n",
       "      <td>1</td>\n",
       "      <td>1859</td>\n",
       "      <td>0.041436</td>\n",
       "    </tr>\n",
       "    <tr>\n",
       "      <th>3</th>\n",
       "      <td>Add to Playlist</td>\n",
       "      <td>1</td>\n",
       "      <td>1038</td>\n",
       "      <td>0.023137</td>\n",
       "    </tr>\n",
       "    <tr>\n",
       "      <th>4</th>\n",
       "      <td>Error</td>\n",
       "      <td>1</td>\n",
       "      <td>32</td>\n",
       "      <td>0.000713</td>\n",
       "    </tr>\n",
       "    <tr>\n",
       "      <th>5</th>\n",
       "      <td>About</td>\n",
       "      <td>1</td>\n",
       "      <td>56</td>\n",
       "      <td>0.001248</td>\n",
       "    </tr>\n",
       "    <tr>\n",
       "      <th>6</th>\n",
       "      <td>Thumbs Down</td>\n",
       "      <td>0</td>\n",
       "      <td>2050</td>\n",
       "      <td>0.008787</td>\n",
       "    </tr>\n",
       "    <tr>\n",
       "      <th>7</th>\n",
       "      <td>Roll Advert</td>\n",
       "      <td>1</td>\n",
       "      <td>967</td>\n",
       "      <td>0.021554</td>\n",
       "    </tr>\n",
       "    <tr>\n",
       "      <th>8</th>\n",
       "      <td>Home</td>\n",
       "      <td>0</td>\n",
       "      <td>8410</td>\n",
       "      <td>0.036050</td>\n",
       "    </tr>\n",
       "    <tr>\n",
       "      <th>9</th>\n",
       "      <td>Cancellation Confirmation</td>\n",
       "      <td>1</td>\n",
       "      <td>52</td>\n",
       "      <td>0.001159</td>\n",
       "    </tr>\n",
       "    <tr>\n",
       "      <th>10</th>\n",
       "      <td>Error</td>\n",
       "      <td>0</td>\n",
       "      <td>220</td>\n",
       "      <td>0.000943</td>\n",
       "    </tr>\n",
       "    <tr>\n",
       "      <th>11</th>\n",
       "      <td>Cancel</td>\n",
       "      <td>1</td>\n",
       "      <td>52</td>\n",
       "      <td>0.001159</td>\n",
       "    </tr>\n",
       "    <tr>\n",
       "      <th>12</th>\n",
       "      <td>Settings</td>\n",
       "      <td>1</td>\n",
       "      <td>270</td>\n",
       "      <td>0.006018</td>\n",
       "    </tr>\n",
       "    <tr>\n",
       "      <th>13</th>\n",
       "      <td>Add Friend</td>\n",
       "      <td>1</td>\n",
       "      <td>636</td>\n",
       "      <td>0.014176</td>\n",
       "    </tr>\n",
       "    <tr>\n",
       "      <th>14</th>\n",
       "      <td>Upgrade</td>\n",
       "      <td>0</td>\n",
       "      <td>387</td>\n",
       "      <td>0.001659</td>\n",
       "    </tr>\n",
       "    <tr>\n",
       "      <th>15</th>\n",
       "      <td>Downgrade</td>\n",
       "      <td>1</td>\n",
       "      <td>337</td>\n",
       "      <td>0.007512</td>\n",
       "    </tr>\n",
       "    <tr>\n",
       "      <th>16</th>\n",
       "      <td>Logout</td>\n",
       "      <td>1</td>\n",
       "      <td>553</td>\n",
       "      <td>0.012326</td>\n",
       "    </tr>\n",
       "    <tr>\n",
       "      <th>17</th>\n",
       "      <td>Submit Downgrade</td>\n",
       "      <td>1</td>\n",
       "      <td>9</td>\n",
       "      <td>0.000201</td>\n",
       "    </tr>\n",
       "    <tr>\n",
       "      <th>18</th>\n",
       "      <td>Save Settings</td>\n",
       "      <td>0</td>\n",
       "      <td>252</td>\n",
       "      <td>0.001080</td>\n",
       "    </tr>\n",
       "    <tr>\n",
       "      <th>19</th>\n",
       "      <td>Thumbs Up</td>\n",
       "      <td>0</td>\n",
       "      <td>10692</td>\n",
       "      <td>0.045831</td>\n",
       "    </tr>\n",
       "    <tr>\n",
       "      <th>20</th>\n",
       "      <td>Downgrade</td>\n",
       "      <td>0</td>\n",
       "      <td>1718</td>\n",
       "      <td>0.007364</td>\n",
       "    </tr>\n",
       "    <tr>\n",
       "      <th>21</th>\n",
       "      <td>Submit Upgrade</td>\n",
       "      <td>0</td>\n",
       "      <td>127</td>\n",
       "      <td>0.000544</td>\n",
       "    </tr>\n",
       "    <tr>\n",
       "      <th>22</th>\n",
       "      <td>Roll Advert</td>\n",
       "      <td>0</td>\n",
       "      <td>2966</td>\n",
       "      <td>0.012714</td>\n",
       "    </tr>\n",
       "    <tr>\n",
       "      <th>23</th>\n",
       "      <td>Submit Downgrade</td>\n",
       "      <td>0</td>\n",
       "      <td>54</td>\n",
       "      <td>0.000231</td>\n",
       "    </tr>\n",
       "    <tr>\n",
       "      <th>24</th>\n",
       "      <td>Logout</td>\n",
       "      <td>0</td>\n",
       "      <td>2673</td>\n",
       "      <td>0.011458</td>\n",
       "    </tr>\n",
       "    <tr>\n",
       "      <th>25</th>\n",
       "      <td>Home</td>\n",
       "      <td>1</td>\n",
       "      <td>1672</td>\n",
       "      <td>0.037268</td>\n",
       "    </tr>\n",
       "    <tr>\n",
       "      <th>26</th>\n",
       "      <td>Add Friend</td>\n",
       "      <td>0</td>\n",
       "      <td>3641</td>\n",
       "      <td>0.015607</td>\n",
       "    </tr>\n",
       "    <tr>\n",
       "      <th>27</th>\n",
       "      <td>Upgrade</td>\n",
       "      <td>1</td>\n",
       "      <td>112</td>\n",
       "      <td>0.002496</td>\n",
       "    </tr>\n",
       "    <tr>\n",
       "      <th>28</th>\n",
       "      <td>Submit Upgrade</td>\n",
       "      <td>1</td>\n",
       "      <td>32</td>\n",
       "      <td>0.000713</td>\n",
       "    </tr>\n",
       "    <tr>\n",
       "      <th>29</th>\n",
       "      <td>About</td>\n",
       "      <td>0</td>\n",
       "      <td>439</td>\n",
       "      <td>0.001882</td>\n",
       "    </tr>\n",
       "    <tr>\n",
       "      <th>30</th>\n",
       "      <td>Add to Playlist</td>\n",
       "      <td>0</td>\n",
       "      <td>5488</td>\n",
       "      <td>0.023524</td>\n",
       "    </tr>\n",
       "    <tr>\n",
       "      <th>31</th>\n",
       "      <td>Save Settings</td>\n",
       "      <td>1</td>\n",
       "      <td>58</td>\n",
       "      <td>0.001293</td>\n",
       "    </tr>\n",
       "    <tr>\n",
       "      <th>32</th>\n",
       "      <td>Help</td>\n",
       "      <td>1</td>\n",
       "      <td>239</td>\n",
       "      <td>0.005327</td>\n",
       "    </tr>\n",
       "    <tr>\n",
       "      <th>33</th>\n",
       "      <td>NextSong</td>\n",
       "      <td>1</td>\n",
       "      <td>36394</td>\n",
       "      <td>0.811207</td>\n",
       "    </tr>\n",
       "    <tr>\n",
       "      <th>34</th>\n",
       "      <td>NextSong</td>\n",
       "      <td>0</td>\n",
       "      <td>191714</td>\n",
       "      <td>0.821784</td>\n",
       "    </tr>\n",
       "    <tr>\n",
       "      <th>35</th>\n",
       "      <td>Help</td>\n",
       "      <td>0</td>\n",
       "      <td>1215</td>\n",
       "      <td>0.005208</td>\n",
       "    </tr>\n",
       "  </tbody>\n",
       "</table>\n",
       "</div>"
      ],
      "text/plain": [
       "                         page  Churn   count      rate\n",
       "0                    Settings      0    1244  0.005332\n",
       "1                 Thumbs Down      1     496  0.011056\n",
       "2                   Thumbs Up      1    1859  0.041436\n",
       "3             Add to Playlist      1    1038  0.023137\n",
       "4                       Error      1      32  0.000713\n",
       "5                       About      1      56  0.001248\n",
       "6                 Thumbs Down      0    2050  0.008787\n",
       "7                 Roll Advert      1     967  0.021554\n",
       "8                        Home      0    8410  0.036050\n",
       "9   Cancellation Confirmation      1      52  0.001159\n",
       "10                      Error      0     220  0.000943\n",
       "11                     Cancel      1      52  0.001159\n",
       "12                   Settings      1     270  0.006018\n",
       "13                 Add Friend      1     636  0.014176\n",
       "14                    Upgrade      0     387  0.001659\n",
       "15                  Downgrade      1     337  0.007512\n",
       "16                     Logout      1     553  0.012326\n",
       "17           Submit Downgrade      1       9  0.000201\n",
       "18              Save Settings      0     252  0.001080\n",
       "19                  Thumbs Up      0   10692  0.045831\n",
       "20                  Downgrade      0    1718  0.007364\n",
       "21             Submit Upgrade      0     127  0.000544\n",
       "22                Roll Advert      0    2966  0.012714\n",
       "23           Submit Downgrade      0      54  0.000231\n",
       "24                     Logout      0    2673  0.011458\n",
       "25                       Home      1    1672  0.037268\n",
       "26                 Add Friend      0    3641  0.015607\n",
       "27                    Upgrade      1     112  0.002496\n",
       "28             Submit Upgrade      1      32  0.000713\n",
       "29                      About      0     439  0.001882\n",
       "30            Add to Playlist      0    5488  0.023524\n",
       "31              Save Settings      1      58  0.001293\n",
       "32                       Help      1     239  0.005327\n",
       "33                   NextSong      1   36394  0.811207\n",
       "34                   NextSong      0  191714  0.821784\n",
       "35                       Help      0    1215  0.005208"
      ]
     },
     "execution_count": 69,
     "metadata": {},
     "output_type": "execute_result"
    }
   ],
   "source": [
    "page_df.head(50)"
   ]
  },
  {
   "cell_type": "code",
   "execution_count": 70,
   "metadata": {
    "pycharm": {
     "name": "#%%\n"
    }
   },
   "outputs": [
    {
     "data": {
      "image/png": "[encoded data removed]",
      "text/plain": [
       "<matplotlib.figure.Figure at 0x7f9e42ff2358>"
      ]
     },
     "metadata": {
      "needs_background": "light"
     },
     "output_type": "display_data"
    }
   ],
   "source": [
    "# pages by churn\n",
    "plt.figure(figsize=[20,15])\n",
    "sns.barplot(data = page_df, x = 'page', y = 'rate', hue = 'Churn', palette=['c', 'b'], capsize=2, ci=3)\n",
    "plt.title('Rate of Pages visited by the churn and non-churn users');"
   ]
  },
  {
   "cell_type": "markdown",
   "metadata": {
    "pycharm": {
     "name": "#%% md\n"
    }
   },
   "source": [
    "As we see the most popular action for both users churned and non-churned was to skip to the next song. "
   ]
  },
  {
   "cell_type": "markdown",
   "metadata": {
    "pycharm": {
     "name": "#%% md\n"
    }
   },
   "source": [
    "### Songs per Hour"
   ]
  },
  {
   "cell_type": "markdown",
   "metadata": {
    "pycharm": {
     "name": "#%% md\n"
    }
   },
   "source": [
    "Let's now see the taste and the number of songs of the users who churned vs those who did not."
   ]
  },
  {
   "cell_type": "code",
   "execution_count": 71,
   "metadata": {
    "pycharm": {
     "name": "#%%\n"
    }
   },
   "outputs": [],
   "source": [
    "# calculat the hours from 'timestamp'\n",
    "get_hours = udf(lambda i: datetime.datetime.fromtimestamp(i / 1000.0).hour)"
   ]
  },
  {
   "cell_type": "code",
   "execution_count": 72,
   "metadata": {
    "pycharm": {
     "name": "#%%\n"
    }
   },
   "outputs": [],
   "source": [
    "filtered_df = filtered_df.withColumn(\"hour\", get_hours(filtered_df.ts))"
   ]
  },
  {
   "cell_type": "code",
   "execution_count": 73,
   "metadata": {
    "pycharm": {
     "name": "#%%\n"
    }
   },
   "outputs": [
    {
     "data": {
      "text/plain": [
       "Row(artist=None, auth='Logged In', firstName='Darianna', gender='F', itemInSession=34, lastName='Carpenter', length=None, level='free', location='Bridgeport-Stamford-Norwalk, CT', method='PUT', page='Logout', registration=1538016340000, sessionId=187, song=None, status=307, ts=1542823952000, userAgent='\"Mozilla/5.0 (iPhone; CPU iPhone OS 7_1_2 like Mac OS X) AppleWebKit/537.51.2 (KHTML, like Gecko) Version/7.0 Mobile/11D257 Safari/9537.53\"', userId='100010', Churn=0, hour='18')"
      ]
     },
     "execution_count": 73,
     "metadata": {},
     "output_type": "execute_result"
    }
   ],
   "source": [
    "filtered_df.head()"
   ]
  },
  {
   "cell_type": "markdown",
   "metadata": {
    "pycharm": {
     "name": "#%% md\n"
    }
   },
   "source": [
    "Now, we take a look at the non-churn users first."
   ]
  },
  {
   "cell_type": "code",
   "execution_count": 74,
   "metadata": {
    "pycharm": {
     "name": "#%%\n"
    }
   },
   "outputs": [],
   "source": [
    "non_churn_songs_hour = filtered_df.filter((filtered_df.page == \"NextSong\") & (filtered_df.Churn == 0)).groupby(filtered_df.hour).count().orderBy(filtered_df.hour.cast(\"float\"))"
   ]
  },
  {
   "cell_type": "code",
   "execution_count": 75,
   "metadata": {
    "pycharm": {
     "name": "#%%\n"
    }
   },
   "outputs": [
    {
     "name": "stdout",
     "output_type": "stream",
     "text": [
      "+----+-----+\n",
      "|hour|count|\n",
      "+----+-----+\n",
      "|   0| 7527|\n",
      "|   1| 7035|\n",
      "|   2| 7014|\n",
      "|   3| 7063|\n",
      "|   4| 6914|\n",
      "|   5| 6960|\n",
      "|   6| 6836|\n",
      "|   7| 6873|\n",
      "|   8| 7023|\n",
      "|   9| 7268|\n",
      "|  10| 7502|\n",
      "|  11| 7440|\n",
      "|  12| 7918|\n",
      "|  13| 8073|\n",
      "|  14| 8792|\n",
      "|  15| 9462|\n",
      "|  16| 9721|\n",
      "|  17| 9464|\n",
      "|  18| 9146|\n",
      "|  19| 9112|\n",
      "|  20| 9107|\n",
      "|  21| 8853|\n",
      "|  22| 8526|\n",
      "|  23| 8085|\n",
      "+----+-----+\n",
      "\n"
     ]
    }
   ],
   "source": [
    "non_churn_songs_hour.show(50)"
   ]
  },
  {
   "cell_type": "code",
   "execution_count": 76,
   "metadata": {
    "pycharm": {
     "name": "#%%\n"
    }
   },
   "outputs": [],
   "source": [
    "non_churn_songs_hour = non_churn_songs_hour.toPandas()\n",
    "non_churn_songs_hour.hour = pd.to_numeric(non_churn_songs_hour.hour)"
   ]
  },
  {
   "cell_type": "code",
   "execution_count": 77,
   "metadata": {
    "pycharm": {
     "name": "#%%\n"
    }
   },
   "outputs": [
    {
     "data": {
      "text/html": [
       "<div>\n",
       "<style scoped>\n",
       "    .dataframe tbody tr th:only-of-type {\n",
       "        vertical-align: middle;\n",
       "    }\n",
       "\n",
       "    .dataframe tbody tr th {\n",
       "        vertical-align: top;\n",
       "    }\n",
       "\n",
       "    .dataframe thead th {\n",
       "        text-align: right;\n",
       "    }\n",
       "</style>\n",
       "<table border=\"1\" class=\"dataframe\">\n",
       "  <thead>\n",
       "    <tr style=\"text-align: right;\">\n",
       "      <th></th>\n",
       "      <th>hour</th>\n",
       "      <th>count</th>\n",
       "    </tr>\n",
       "  </thead>\n",
       "  <tbody>\n",
       "    <tr>\n",
       "      <th>0</th>\n",
       "      <td>0</td>\n",
       "      <td>7527</td>\n",
       "    </tr>\n",
       "    <tr>\n",
       "      <th>1</th>\n",
       "      <td>1</td>\n",
       "      <td>7035</td>\n",
       "    </tr>\n",
       "    <tr>\n",
       "      <th>2</th>\n",
       "      <td>2</td>\n",
       "      <td>7014</td>\n",
       "    </tr>\n",
       "    <tr>\n",
       "      <th>3</th>\n",
       "      <td>3</td>\n",
       "      <td>7063</td>\n",
       "    </tr>\n",
       "    <tr>\n",
       "      <th>4</th>\n",
       "      <td>4</td>\n",
       "      <td>6914</td>\n",
       "    </tr>\n",
       "    <tr>\n",
       "      <th>5</th>\n",
       "      <td>5</td>\n",
       "      <td>6960</td>\n",
       "    </tr>\n",
       "    <tr>\n",
       "      <th>6</th>\n",
       "      <td>6</td>\n",
       "      <td>6836</td>\n",
       "    </tr>\n",
       "    <tr>\n",
       "      <th>7</th>\n",
       "      <td>7</td>\n",
       "      <td>6873</td>\n",
       "    </tr>\n",
       "    <tr>\n",
       "      <th>8</th>\n",
       "      <td>8</td>\n",
       "      <td>7023</td>\n",
       "    </tr>\n",
       "    <tr>\n",
       "      <th>9</th>\n",
       "      <td>9</td>\n",
       "      <td>7268</td>\n",
       "    </tr>\n",
       "    <tr>\n",
       "      <th>10</th>\n",
       "      <td>10</td>\n",
       "      <td>7502</td>\n",
       "    </tr>\n",
       "    <tr>\n",
       "      <th>11</th>\n",
       "      <td>11</td>\n",
       "      <td>7440</td>\n",
       "    </tr>\n",
       "    <tr>\n",
       "      <th>12</th>\n",
       "      <td>12</td>\n",
       "      <td>7918</td>\n",
       "    </tr>\n",
       "    <tr>\n",
       "      <th>13</th>\n",
       "      <td>13</td>\n",
       "      <td>8073</td>\n",
       "    </tr>\n",
       "    <tr>\n",
       "      <th>14</th>\n",
       "      <td>14</td>\n",
       "      <td>8792</td>\n",
       "    </tr>\n",
       "    <tr>\n",
       "      <th>15</th>\n",
       "      <td>15</td>\n",
       "      <td>9462</td>\n",
       "    </tr>\n",
       "    <tr>\n",
       "      <th>16</th>\n",
       "      <td>16</td>\n",
       "      <td>9721</td>\n",
       "    </tr>\n",
       "    <tr>\n",
       "      <th>17</th>\n",
       "      <td>17</td>\n",
       "      <td>9464</td>\n",
       "    </tr>\n",
       "    <tr>\n",
       "      <th>18</th>\n",
       "      <td>18</td>\n",
       "      <td>9146</td>\n",
       "    </tr>\n",
       "    <tr>\n",
       "      <th>19</th>\n",
       "      <td>19</td>\n",
       "      <td>9112</td>\n",
       "    </tr>\n",
       "    <tr>\n",
       "      <th>20</th>\n",
       "      <td>20</td>\n",
       "      <td>9107</td>\n",
       "    </tr>\n",
       "    <tr>\n",
       "      <th>21</th>\n",
       "      <td>21</td>\n",
       "      <td>8853</td>\n",
       "    </tr>\n",
       "    <tr>\n",
       "      <th>22</th>\n",
       "      <td>22</td>\n",
       "      <td>8526</td>\n",
       "    </tr>\n",
       "    <tr>\n",
       "      <th>23</th>\n",
       "      <td>23</td>\n",
       "      <td>8085</td>\n",
       "    </tr>\n",
       "  </tbody>\n",
       "</table>\n",
       "</div>"
      ],
      "text/plain": [
       "    hour  count\n",
       "0      0   7527\n",
       "1      1   7035\n",
       "2      2   7014\n",
       "3      3   7063\n",
       "4      4   6914\n",
       "5      5   6960\n",
       "6      6   6836\n",
       "7      7   6873\n",
       "8      8   7023\n",
       "9      9   7268\n",
       "10    10   7502\n",
       "11    11   7440\n",
       "12    12   7918\n",
       "13    13   8073\n",
       "14    14   8792\n",
       "15    15   9462\n",
       "16    16   9721\n",
       "17    17   9464\n",
       "18    18   9146\n",
       "19    19   9112\n",
       "20    20   9107\n",
       "21    21   8853\n",
       "22    22   8526\n",
       "23    23   8085"
      ]
     },
     "execution_count": 77,
     "metadata": {},
     "output_type": "execute_result"
    }
   ],
   "source": [
    "non_churn_songs_hour"
   ]
  },
  {
   "cell_type": "code",
   "execution_count": 78,
   "metadata": {
    "pycharm": {
     "name": "#%%\n"
    }
   },
   "outputs": [
    {
     "data": {
      "image/png": "[encoded data removed]",
      "text/plain": [
       "<matplotlib.figure.Figure at 0x7f9e28783048>"
      ]
     },
     "metadata": {
      "needs_background": "light"
     },
     "output_type": "display_data"
    }
   ],
   "source": [
    "#plot the distribution\n",
    "plt.figure(figsize = [10, 7])\n",
    "plt.scatter(non_churn_songs_hour[\"hour\"], non_churn_songs_hour[\"count\"], c='c')\n",
    "plt.xlim(-1, 25)\n",
    "plt.xlabel(\"Hour\")\n",
    "plt.ylabel(\"played songs\")\n",
    "plt.title(\"No. of Songs Played per Hour for Non Churn Users\");"
   ]
  },
  {
   "cell_type": "markdown",
   "metadata": {
    "pycharm": {
     "name": "#%% md\n"
    }
   },
   "source": [
    "From the above scatter plot, we can draw the following conclusions:\n",
    "- The songs start rising right from 8-9 am in the morning, gets to the peak in between 3-6pm and starts falling from 8pm onwards and remains lowest until next morning 7am."
   ]
  },
  {
   "cell_type": "code",
   "execution_count": 79,
   "metadata": {
    "pycharm": {
     "name": "#%%\n"
    }
   },
   "outputs": [],
   "source": [
    "# now we do the same analysis as above for the users who churned\n",
    "churn_songs_hour = filtered_df.filter((filtered_df.page == \"NextSong\") & (filtered_df.Churn == 1)).groupby(filtered_df.hour).count().orderBy(filtered_df.hour.cast(\"float\"))"
   ]
  },
  {
   "cell_type": "code",
   "execution_count": 80,
   "metadata": {
    "pycharm": {
     "name": "#%%\n"
    }
   },
   "outputs": [
    {
     "name": "stdout",
     "output_type": "stream",
     "text": [
      "+----+-----+\n",
      "|hour|count|\n",
      "+----+-----+\n",
      "|   0| 1535|\n",
      "|   1| 1353|\n",
      "|   2| 1322|\n",
      "|   3| 1292|\n",
      "|   4| 1233|\n",
      "|   5| 1218|\n",
      "|   6| 1218|\n",
      "|   7| 1218|\n",
      "|   8| 1230|\n",
      "|   9| 1230|\n",
      "|  10| 1380|\n",
      "|  11| 1390|\n",
      "|  12| 1408|\n",
      "|  13| 1571|\n",
      "|  14| 1702|\n",
      "|  15| 1892|\n",
      "|  16| 1915|\n",
      "|  17| 1996|\n",
      "|  18| 1978|\n",
      "|  19| 1818|\n",
      "+----+-----+\n",
      "only showing top 20 rows\n",
      "\n"
     ]
    }
   ],
   "source": [
    "churn_songs_hour.show()"
   ]
  },
  {
   "cell_type": "code",
   "execution_count": 81,
   "metadata": {
    "pycharm": {
     "name": "#%%\n"
    }
   },
   "outputs": [],
   "source": [
    "churn_songs_hour = churn_songs_hour.toPandas()\n",
    "churn_songs_hour.hour = pd.to_numeric(churn_songs_hour.hour)"
   ]
  },
  {
   "cell_type": "code",
   "execution_count": 82,
   "metadata": {
    "pycharm": {
     "name": "#%%\n"
    }
   },
   "outputs": [
    {
     "data": {
      "image/png": "[encoded data removed]",
      "text/plain": [
       "<matplotlib.figure.Figure at 0x7f9e24f69780>"
      ]
     },
     "metadata": {
      "needs_background": "light"
     },
     "output_type": "display_data"
    }
   ],
   "source": [
    "# songs distribution per hour for churned users\n",
    "plt.figure(figsize = [10, 7])\n",
    "plt.scatter(churn_songs_hour[\"hour\"], churn_songs_hour[\"count\"], c='y')\n",
    "plt.xlim(-1, 25)\n",
    "plt.xlabel(\"Hour\")\n",
    "plt.ylabel(\"played songs\")\n",
    "plt.title(\"No. of Songs Played per Hour for Churned Users\");"
   ]
  },
  {
   "cell_type": "markdown",
   "metadata": {
    "pycharm": {
     "name": "#%% md\n"
    }
   },
   "source": [
    "The song distribution and pattern remains the same for both churned and non curn users although the no. of songs played decreases by many folds. "
   ]
  },
  {
   "cell_type": "markdown",
   "metadata": {
    "pycharm": {
     "name": "#%% md\n"
    }
   },
   "source": [
    "### No. of Unique Artists the users listened to"
   ]
  },
  {
   "cell_type": "code",
   "execution_count": 83,
   "metadata": {
    "pycharm": {
     "name": "#%%\n"
    }
   },
   "outputs": [],
   "source": [
    "artist_df = filtered_df.select(\"artist\", \"userId\", \"Churn\").dropDuplicates().groupby(\"userId\", \"Churn\").count()"
   ]
  },
  {
   "cell_type": "code",
   "execution_count": 84,
   "metadata": {},
   "outputs": [
    {
     "name": "stdout",
     "output_type": "stream",
     "text": [
      "+------+-----+-----+\n",
      "|userId|Churn|count|\n",
      "+------+-----+-----+\n",
      "|100010|    0|  253|\n",
      "|200002|    0|  340|\n",
      "|   125|    1|    9|\n",
      "|   124|    0| 2233|\n",
      "|    51|    1| 1386|\n",
      "|     7|    0|  143|\n",
      "|    15|    0| 1303|\n",
      "|    54|    1| 1745|\n",
      "|   155|    0|  644|\n",
      "|100014|    1|  234|\n",
      "|   132|    0| 1300|\n",
      "|   154|    0|   79|\n",
      "|   101|    1| 1242|\n",
      "|    11|    0|  535|\n",
      "|   138|    0| 1333|\n",
      "|300017|    0| 2071|\n",
      "|100021|    1|  208|\n",
      "|    29|    1| 1805|\n",
      "|    69|    0|  866|\n",
      "|   112|    0|  196|\n",
      "+------+-----+-----+\n",
      "only showing top 20 rows\n",
      "\n"
     ]
    }
   ],
   "source": [
    "artist_df.show()"
   ]
  },
  {
   "cell_type": "code",
   "execution_count": 85,
   "metadata": {
    "pycharm": {
     "name": "#%%\n"
    }
   },
   "outputs": [
    {
     "name": "stdout",
     "output_type": "stream",
     "text": [
      "+-----+-----------------+\n",
      "|Churn|       avg(count)|\n",
      "+-----+-----------------+\n",
      "|    0|750.7803468208092|\n",
      "|    1|519.6923076923077|\n",
      "+-----+-----------------+\n",
      "\n"
     ]
    }
   ],
   "source": [
    "# average\n",
    "artist_df.groupby('Churn').agg({\"count\":\"avg\"}).show()"
   ]
  },
  {
   "cell_type": "code",
   "execution_count": 86,
   "metadata": {
    "pycharm": {
     "name": "#%%\n"
    }
   },
   "outputs": [],
   "source": [
    "artist_df = artist_df.toPandas()"
   ]
  },
  {
   "cell_type": "code",
   "execution_count": 87,
   "metadata": {},
   "outputs": [
    {
     "data": {
      "text/html": [
       "<div>\n",
       "<style scoped>\n",
       "    .dataframe tbody tr th:only-of-type {\n",
       "        vertical-align: middle;\n",
       "    }\n",
       "\n",
       "    .dataframe tbody tr th {\n",
       "        vertical-align: top;\n",
       "    }\n",
       "\n",
       "    .dataframe thead th {\n",
       "        text-align: right;\n",
       "    }\n",
       "</style>\n",
       "<table border=\"1\" class=\"dataframe\">\n",
       "  <thead>\n",
       "    <tr style=\"text-align: right;\">\n",
       "      <th></th>\n",
       "      <th>Churn</th>\n",
       "      <th>count</th>\n",
       "    </tr>\n",
       "  </thead>\n",
       "  <tbody>\n",
       "    <tr>\n",
       "      <th>count</th>\n",
       "      <td>225.000000</td>\n",
       "      <td>225.000000</td>\n",
       "    </tr>\n",
       "    <tr>\n",
       "      <th>mean</th>\n",
       "      <td>0.231111</td>\n",
       "      <td>697.373333</td>\n",
       "    </tr>\n",
       "    <tr>\n",
       "      <th>std</th>\n",
       "      <td>0.422483</td>\n",
       "      <td>603.956977</td>\n",
       "    </tr>\n",
       "    <tr>\n",
       "      <th>min</th>\n",
       "      <td>0.000000</td>\n",
       "      <td>4.000000</td>\n",
       "    </tr>\n",
       "    <tr>\n",
       "      <th>25%</th>\n",
       "      <td>0.000000</td>\n",
       "      <td>208.000000</td>\n",
       "    </tr>\n",
       "    <tr>\n",
       "      <th>50%</th>\n",
       "      <td>0.000000</td>\n",
       "      <td>556.000000</td>\n",
       "    </tr>\n",
       "    <tr>\n",
       "      <th>75%</th>\n",
       "      <td>0.000000</td>\n",
       "      <td>1099.000000</td>\n",
       "    </tr>\n",
       "    <tr>\n",
       "      <th>max</th>\n",
       "      <td>1.000000</td>\n",
       "      <td>3545.000000</td>\n",
       "    </tr>\n",
       "  </tbody>\n",
       "</table>\n",
       "</div>"
      ],
      "text/plain": [
       "            Churn        count\n",
       "count  225.000000   225.000000\n",
       "mean     0.231111   697.373333\n",
       "std      0.422483   603.956977\n",
       "min      0.000000     4.000000\n",
       "25%      0.000000   208.000000\n",
       "50%      0.000000   556.000000\n",
       "75%      0.000000  1099.000000\n",
       "max      1.000000  3545.000000"
      ]
     },
     "execution_count": 87,
     "metadata": {},
     "output_type": "execute_result"
    }
   ],
   "source": [
    "artist_df.describe()"
   ]
  },
  {
   "cell_type": "code",
   "execution_count": 88,
   "metadata": {
    "pycharm": {
     "name": "#%%\n"
    }
   },
   "outputs": [
    {
     "data": {
      "image/png": "[encoded data removed]",
      "text/plain": [
       "<matplotlib.figure.Figure at 0x7f9e31e654a8>"
      ]
     },
     "metadata": {
      "needs_background": "light"
     },
     "output_type": "display_data"
    }
   ],
   "source": [
    "# plot boxplot\n",
    "plt.figure(figsize = [10, 7])\n",
    "ax = sns.boxplot(data = artist_df, x = 'Churn', y='count', palette=['cyan', 'green'])\n",
    "plt.title(\"No. of Artists being listened on sparkify\");"
   ]
  },
  {
   "cell_type": "markdown",
   "metadata": {
    "pycharm": {
     "name": "#%% md\n"
    }
   },
   "source": [
    "As it can be seen from the box plot, the Non-churend users have listened to a wide varity of unique artists compared to the churned users."
   ]
  },
  {
   "cell_type": "markdown",
   "metadata": {},
   "source": [
    "### Session wise songs for the Churned & Non-churned users."
   ]
  },
  {
   "cell_type": "code",
   "execution_count": 89,
   "metadata": {},
   "outputs": [],
   "source": [
    "song_df = filtered_df.filter(filtered_df.page == \"NextSong\").dropDuplicates().groupBy('sessionId','Churn').count()"
   ]
  },
  {
   "cell_type": "code",
   "execution_count": 90,
   "metadata": {},
   "outputs": [
    {
     "name": "stdout",
     "output_type": "stream",
     "text": [
      "+-----+-----------------+\n",
      "|Churn|       avg(count)|\n",
      "+-----+-----------------+\n",
      "|    0| 93.3369036027264|\n",
      "|    1|79.81140350877193|\n",
      "+-----+-----------------+\n",
      "\n"
     ]
    }
   ],
   "source": [
    "song_df.groupby('Churn').agg({\"count\":\"avg\"}).show()"
   ]
  },
  {
   "cell_type": "code",
   "execution_count": 91,
   "metadata": {},
   "outputs": [],
   "source": [
    "song_df = song_df.groupby('Churn').agg({\"count\":\"avg\"})"
   ]
  },
  {
   "cell_type": "code",
   "execution_count": 92,
   "metadata": {},
   "outputs": [],
   "source": [
    "song_df = song_df.toPandas()"
   ]
  },
  {
   "cell_type": "code",
   "execution_count": 93,
   "metadata": {},
   "outputs": [
    {
     "data": {
      "image/png": "[encoded data removed]",
      "text/plain": [
       "<matplotlib.figure.Figure at 0x7f9e32a44240>"
      ]
     },
     "metadata": {
      "needs_background": "light"
     },
     "output_type": "display_data"
    }
   ],
   "source": [
    "# plot distribution\n",
    "plt.figure(figsize = [10, 8])\n",
    "ax = sns.barplot(data = song_df, x = 'Churn', y='avg(count)', palette=['y', 'r'])\n",
    "plt.ylabel(\"Avg. No. of songs per session\");"
   ]
  },
  {
   "cell_type": "markdown",
   "metadata": {
    "pycharm": {
     "name": "#%% md\n"
    }
   },
   "source": [
    "### Location Impact on churn"
   ]
  },
  {
   "cell_type": "markdown",
   "metadata": {
    "pycharm": {
     "name": "#%% md\n"
    }
   },
   "source": [
    "Now let's analyze if the location play any role in terms of churning."
   ]
  },
  {
   "cell_type": "code",
   "execution_count": 94,
   "metadata": {
    "pycharm": {
     "name": "#%%\n"
    }
   },
   "outputs": [
    {
     "name": "stdout",
     "output_type": "stream",
     "text": [
      "+--------------------+-----+\n",
      "|            location|count|\n",
      "+--------------------+-----+\n",
      "|     Gainesville, FL| 1229|\n",
      "|Atlantic City-Ham...| 2176|\n",
      "|Deltona-Daytona B...|   73|\n",
      "|San Diego-Carlsba...|  754|\n",
      "|Cleveland-Elyria, OH| 1392|\n",
      "|Kingsport-Bristol...| 1863|\n",
      "|New Haven-Milford...| 4007|\n",
      "|Birmingham-Hoover...|   75|\n",
      "|  Corpus Christi, TX|   11|\n",
      "|         Dubuque, IA|  651|\n",
      "|Las Vegas-Henders...| 2042|\n",
      "|Indianapolis-Carm...|  970|\n",
      "|Seattle-Tacoma-Be...|  246|\n",
      "|          Albany, OR|   23|\n",
      "|   Winston-Salem, NC|  819|\n",
      "|     Bakersfield, CA| 1775|\n",
      "|Los Angeles-Long ...|30131|\n",
      "|Minneapolis-St. P...| 2134|\n",
      "|San Francisco-Oak...| 2647|\n",
      "|Phoenix-Mesa-Scot...| 4846|\n",
      "+--------------------+-----+\n",
      "only showing top 20 rows\n",
      "\n"
     ]
    }
   ],
   "source": [
    "filtered_df.select(\"location\", \"userId\", \"Churn\").groupby(\"location\").count().show()"
   ]
  },
  {
   "cell_type": "code",
   "execution_count": 95,
   "metadata": {
    "pycharm": {
     "name": "#%%\n"
    }
   },
   "outputs": [],
   "source": [
    "# get last two characters from the location column\n",
    "state_code = udf(lambda x: x[-2:])"
   ]
  },
  {
   "cell_type": "code",
   "execution_count": 96,
   "metadata": {
    "pycharm": {
     "name": "#%%\n"
    }
   },
   "outputs": [],
   "source": [
    "# add 'state' column\n",
    "state_df = filtered_df.withColumn(\"state\", state_code(filtered_df.location))"
   ]
  },
  {
   "cell_type": "code",
   "execution_count": 97,
   "metadata": {
    "pycharm": {
     "name": "#%%\n"
    }
   },
   "outputs": [
    {
     "name": "stdout",
     "output_type": "stream",
     "text": [
      "+--------------------+---------+---------+------+-------------+---------+---------+-----+--------------------+------+-----------+-------------+---------+--------------------+------+-------------+--------------------+------+-----+----+-----+\n",
      "|              artist|     auth|firstName|gender|itemInSession| lastName|   length|level|            location|method|       page| registration|sessionId|                song|status|           ts|           userAgent|userId|Churn|hour|state|\n",
      "+--------------------+---------+---------+------+-------------+---------+---------+-----+--------------------+------+-----------+-------------+---------+--------------------+------+-------------+--------------------+------+-----+----+-----+\n",
      "|                null|Logged In| Darianna|     F|           34|Carpenter|     null| free|Bridgeport-Stamfo...|   PUT|     Logout|1538016340000|      187|                null|   307|1542823952000|\"Mozilla/5.0 (iPh...|100010|    0|  18|   CT|\n",
      "|          Lily Allen|Logged In| Darianna|     F|           33|Carpenter|185.25995| free|Bridgeport-Stamfo...|   PUT|   NextSong|1538016340000|      187|                  22|   200|1542823951000|\"Mozilla/5.0 (iPh...|100010|    0|  18|   CT|\n",
      "|          John Waite|Logged In| Darianna|     F|           32|Carpenter|269.76608| free|Bridgeport-Stamfo...|   PUT|   NextSong|1538016340000|      187|         Missing You|   200|1542823682000|\"Mozilla/5.0 (iPh...|100010|    0|  18|   CT|\n",
      "|             Hermano|Logged In| Darianna|     F|           31|Carpenter|115.90485| free|Bridgeport-Stamfo...|   PUT|   NextSong|1538016340000|      187| Letters From Madrid|   200|1542823567000|\"Mozilla/5.0 (iPh...|100010|    0|  18|   CT|\n",
      "|                null|Logged In| Darianna|     F|           30|Carpenter|     null| free|Bridgeport-Stamfo...|   GET|Roll Advert|1538016340000|      187|                null|   200|1542823257000|\"Mozilla/5.0 (iPh...|100010|    0|  18|   CT|\n",
      "|            Hot Chip|Logged In| Darianna|     F|           29|Carpenter|319.42485| free|Bridgeport-Stamfo...|   PUT|   NextSong|1538016340000|      187|          Alley Cats|   200|1542823248000|\"Mozilla/5.0 (iPh...|100010|    0|  18|   CT|\n",
      "|              Eminem|Logged In| Darianna|     F|           28|Carpenter|302.57587| free|Bridgeport-Stamfo...|   PUT|   NextSong|1538016340000|      187|      Taking My Ball|   200|1542822946000|\"Mozilla/5.0 (iPh...|100010|    0|  17|   CT|\n",
      "|          The Police|Logged In| Darianna|     F|           27|Carpenter|305.05751| free|Bridgeport-Stamfo...|   PUT|   NextSong|1538016340000|      187| Walking On The Moon|   200|1542822641000|\"Mozilla/5.0 (iPh...|100010|    0|  17|   CT|\n",
      "|               Ke$ha|Logged In| Darianna|     F|           26|Carpenter|207.64689| free|Bridgeport-Stamfo...|   PUT|   NextSong|1538016340000|      187|         Kiss N Tell|   200|1542822434000|\"Mozilla/5.0 (iPh...|100010|    0|  17|   CT|\n",
      "|        Gwen Stefani|Logged In| Darianna|     F|           25|Carpenter|264.93342| free|Bridgeport-Stamfo...|   PUT|   NextSong|1538016340000|      187|           Luxurious|   200|1542822170000|\"Mozilla/5.0 (iPh...|100010|    0|  17|   CT|\n",
      "|                null|Logged In| Darianna|     F|           24|Carpenter|     null| free|Bridgeport-Stamfo...|   PUT|  Thumbs Up|1538016340000|      187|                null|   307|1542821944000|\"Mozilla/5.0 (iPh...|100010|    0|  17|   CT|\n",
      "|           DJ Khaled|Logged In| Darianna|     F|           23|Carpenter|  227.082| free|Bridgeport-Stamfo...|   PUT|   NextSong|1538016340000|      187|All I Do Is Win (...|   200|1542821943000|\"Mozilla/5.0 (iPh...|100010|    0|  17|   CT|\n",
      "|      Kelly Clarkson|Logged In| Darianna|     F|           22|Carpenter| 281.5473| free|Bridgeport-Stamfo...|   PUT|   NextSong|1538016340000|      187|        Already Gone|   200|1542821662000|\"Mozilla/5.0 (iPh...|100010|    0|  17|   CT|\n",
      "|           Bob James|Logged In| Darianna|     F|           21|Carpenter|345.05098| free|Bridgeport-Stamfo...|   PUT|   NextSong|1538016340000|      187|Angela (Theme Fro...|   200|1542821317000|\"Mozilla/5.0 (iPh...|100010|    0|  17|   CT|\n",
      "|Nick Cave & The B...|Logged In| Darianna|     F|           20|Carpenter|367.15057| free|Bridgeport-Stamfo...|   PUT|   NextSong|1538016340000|      187|We Came Along Thi...|   200|1542820950000|\"Mozilla/5.0 (iPh...|100010|    0|  17|   CT|\n",
      "|                T.I.|Logged In| Darianna|     F|           19|Carpenter|299.75465| free|Bridgeport-Stamfo...|   PUT|   NextSong|1538016340000|      187|Dead And Gone [fe...|   200|1542820651000|\"Mozilla/5.0 (iPh...|100010|    0|  17|   CT|\n",
      "|          Sev Statik|Logged In| Darianna|     F|           18|Carpenter|214.80444| free|Bridgeport-Stamfo...|   PUT|   NextSong|1538016340000|      187|MIC (Speak Life A...|   200|1542820437000|\"Mozilla/5.0 (iPh...|100010|    0|  17|   CT|\n",
      "|                null|Logged In| Darianna|     F|           17|Carpenter|     null| free|Bridgeport-Stamfo...|   PUT|  Thumbs Up|1538016340000|      187|                null|   307|1542820180000|\"Mozilla/5.0 (iPh...|100010|    0|  17|   CT|\n",
      "|       Drowning Pool|Logged In| Darianna|     F|           16|Carpenter|258.16771| free|Bridgeport-Stamfo...|   PUT|   NextSong|1538016340000|      187|Up Side Down (Exp...|   200|1542820179000|\"Mozilla/5.0 (iPh...|100010|    0|  17|   CT|\n",
      "|                null|Logged In| Darianna|     F|           15|Carpenter|     null| free|Bridgeport-Stamfo...|   PUT|Thumbs Down|1538016340000|      187|                null|   307|1542819920000|\"Mozilla/5.0 (iPh...|100010|    0|  17|   CT|\n",
      "+--------------------+---------+---------+------+-------------+---------+---------+-----+--------------------+------+-----------+-------------+---------+--------------------+------+-------------+--------------------+------+-----+----+-----+\n",
      "only showing top 20 rows\n",
      "\n"
     ]
    }
   ],
   "source": [
    "state_df.show()"
   ]
  },
  {
   "cell_type": "code",
   "execution_count": 98,
   "metadata": {
    "pycharm": {
     "name": "#%%\n"
    }
   },
   "outputs": [],
   "source": [
    "state_df = state_df.select(\"state\", \"userId\", \"Churn\").dropDuplicates().groupby(\"state\", \"Churn\").count()"
   ]
  },
  {
   "cell_type": "code",
   "execution_count": 99,
   "metadata": {
    "pycharm": {
     "name": "#%%\n"
    }
   },
   "outputs": [
    {
     "data": {
      "text/html": [
       "<div>\n",
       "<style scoped>\n",
       "    .dataframe tbody tr th:only-of-type {\n",
       "        vertical-align: middle;\n",
       "    }\n",
       "\n",
       "    .dataframe tbody tr th {\n",
       "        vertical-align: top;\n",
       "    }\n",
       "\n",
       "    .dataframe thead th {\n",
       "        text-align: right;\n",
       "    }\n",
       "</style>\n",
       "<table border=\"1\" class=\"dataframe\">\n",
       "  <thead>\n",
       "    <tr style=\"text-align: right;\">\n",
       "      <th></th>\n",
       "      <th>state</th>\n",
       "      <th>Churn</th>\n",
       "      <th>count</th>\n",
       "    </tr>\n",
       "  </thead>\n",
       "  <tbody>\n",
       "    <tr>\n",
       "      <th>0</th>\n",
       "      <td>AL</td>\n",
       "      <td>0</td>\n",
       "      <td>4</td>\n",
       "    </tr>\n",
       "    <tr>\n",
       "      <th>1</th>\n",
       "      <td>IL</td>\n",
       "      <td>0</td>\n",
       "      <td>8</td>\n",
       "    </tr>\n",
       "    <tr>\n",
       "      <th>2</th>\n",
       "      <td>AZ</td>\n",
       "      <td>1</td>\n",
       "      <td>2</td>\n",
       "    </tr>\n",
       "    <tr>\n",
       "      <th>3</th>\n",
       "      <td>OH</td>\n",
       "      <td>0</td>\n",
       "      <td>1</td>\n",
       "    </tr>\n",
       "    <tr>\n",
       "      <th>4</th>\n",
       "      <td>AL</td>\n",
       "      <td>1</td>\n",
       "      <td>2</td>\n",
       "    </tr>\n",
       "    <tr>\n",
       "      <th>5</th>\n",
       "      <td>PA</td>\n",
       "      <td>0</td>\n",
       "      <td>13</td>\n",
       "    </tr>\n",
       "    <tr>\n",
       "      <th>6</th>\n",
       "      <td>NV</td>\n",
       "      <td>0</td>\n",
       "      <td>3</td>\n",
       "    </tr>\n",
       "    <tr>\n",
       "      <th>7</th>\n",
       "      <td>PA</td>\n",
       "      <td>1</td>\n",
       "      <td>5</td>\n",
       "    </tr>\n",
       "    <tr>\n",
       "      <th>8</th>\n",
       "      <td>OH</td>\n",
       "      <td>1</td>\n",
       "      <td>2</td>\n",
       "    </tr>\n",
       "    <tr>\n",
       "      <th>9</th>\n",
       "      <td>UT</td>\n",
       "      <td>0</td>\n",
       "      <td>1</td>\n",
       "    </tr>\n",
       "    <tr>\n",
       "      <th>10</th>\n",
       "      <td>FL</td>\n",
       "      <td>1</td>\n",
       "      <td>3</td>\n",
       "    </tr>\n",
       "    <tr>\n",
       "      <th>11</th>\n",
       "      <td>MO</td>\n",
       "      <td>1</td>\n",
       "      <td>1</td>\n",
       "    </tr>\n",
       "    <tr>\n",
       "      <th>12</th>\n",
       "      <td>MT</td>\n",
       "      <td>1</td>\n",
       "      <td>1</td>\n",
       "    </tr>\n",
       "    <tr>\n",
       "      <th>13</th>\n",
       "      <td>NC</td>\n",
       "      <td>0</td>\n",
       "      <td>7</td>\n",
       "    </tr>\n",
       "    <tr>\n",
       "      <th>14</th>\n",
       "      <td>IN</td>\n",
       "      <td>1</td>\n",
       "      <td>1</td>\n",
       "    </tr>\n",
       "    <tr>\n",
       "      <th>15</th>\n",
       "      <td>TX</td>\n",
       "      <td>1</td>\n",
       "      <td>3</td>\n",
       "    </tr>\n",
       "    <tr>\n",
       "      <th>16</th>\n",
       "      <td>MT</td>\n",
       "      <td>0</td>\n",
       "      <td>1</td>\n",
       "    </tr>\n",
       "    <tr>\n",
       "      <th>17</th>\n",
       "      <td>KY</td>\n",
       "      <td>0</td>\n",
       "      <td>1</td>\n",
       "    </tr>\n",
       "    <tr>\n",
       "      <th>18</th>\n",
       "      <td>KS</td>\n",
       "      <td>1</td>\n",
       "      <td>1</td>\n",
       "    </tr>\n",
       "    <tr>\n",
       "      <th>19</th>\n",
       "      <td>MA</td>\n",
       "      <td>0</td>\n",
       "      <td>2</td>\n",
       "    </tr>\n",
       "    <tr>\n",
       "      <th>20</th>\n",
       "      <td>LA</td>\n",
       "      <td>1</td>\n",
       "      <td>1</td>\n",
       "    </tr>\n",
       "    <tr>\n",
       "      <th>21</th>\n",
       "      <td>SC</td>\n",
       "      <td>0</td>\n",
       "      <td>7</td>\n",
       "    </tr>\n",
       "    <tr>\n",
       "      <th>22</th>\n",
       "      <td>GA</td>\n",
       "      <td>0</td>\n",
       "      <td>4</td>\n",
       "    </tr>\n",
       "    <tr>\n",
       "      <th>23</th>\n",
       "      <td>NH</td>\n",
       "      <td>0</td>\n",
       "      <td>7</td>\n",
       "    </tr>\n",
       "    <tr>\n",
       "      <th>24</th>\n",
       "      <td>AR</td>\n",
       "      <td>1</td>\n",
       "      <td>2</td>\n",
       "    </tr>\n",
       "    <tr>\n",
       "      <th>25</th>\n",
       "      <td>CO</td>\n",
       "      <td>1</td>\n",
       "      <td>2</td>\n",
       "    </tr>\n",
       "    <tr>\n",
       "      <th>26</th>\n",
       "      <td>WV</td>\n",
       "      <td>1</td>\n",
       "      <td>1</td>\n",
       "    </tr>\n",
       "    <tr>\n",
       "      <th>27</th>\n",
       "      <td>CA</td>\n",
       "      <td>0</td>\n",
       "      <td>27</td>\n",
       "    </tr>\n",
       "    <tr>\n",
       "      <th>28</th>\n",
       "      <td>WV</td>\n",
       "      <td>0</td>\n",
       "      <td>5</td>\n",
       "    </tr>\n",
       "    <tr>\n",
       "      <th>29</th>\n",
       "      <td>MS</td>\n",
       "      <td>1</td>\n",
       "      <td>2</td>\n",
       "    </tr>\n",
       "    <tr>\n",
       "      <th>...</th>\n",
       "      <td>...</td>\n",
       "      <td>...</td>\n",
       "      <td>...</td>\n",
       "    </tr>\n",
       "    <tr>\n",
       "      <th>32</th>\n",
       "      <td>AZ</td>\n",
       "      <td>0</td>\n",
       "      <td>5</td>\n",
       "    </tr>\n",
       "    <tr>\n",
       "      <th>33</th>\n",
       "      <td>IA</td>\n",
       "      <td>0</td>\n",
       "      <td>2</td>\n",
       "    </tr>\n",
       "    <tr>\n",
       "      <th>34</th>\n",
       "      <td>CA</td>\n",
       "      <td>1</td>\n",
       "      <td>6</td>\n",
       "    </tr>\n",
       "    <tr>\n",
       "      <th>35</th>\n",
       "      <td>MI</td>\n",
       "      <td>1</td>\n",
       "      <td>3</td>\n",
       "    </tr>\n",
       "    <tr>\n",
       "      <th>36</th>\n",
       "      <td>OK</td>\n",
       "      <td>0</td>\n",
       "      <td>1</td>\n",
       "    </tr>\n",
       "    <tr>\n",
       "      <th>37</th>\n",
       "      <td>WI</td>\n",
       "      <td>0</td>\n",
       "      <td>9</td>\n",
       "    </tr>\n",
       "    <tr>\n",
       "      <th>38</th>\n",
       "      <td>CO</td>\n",
       "      <td>0</td>\n",
       "      <td>2</td>\n",
       "    </tr>\n",
       "    <tr>\n",
       "      <th>39</th>\n",
       "      <td>AK</td>\n",
       "      <td>0</td>\n",
       "      <td>2</td>\n",
       "    </tr>\n",
       "    <tr>\n",
       "      <th>40</th>\n",
       "      <td>WI</td>\n",
       "      <td>1</td>\n",
       "      <td>1</td>\n",
       "    </tr>\n",
       "    <tr>\n",
       "      <th>41</th>\n",
       "      <td>WA</td>\n",
       "      <td>0</td>\n",
       "      <td>4</td>\n",
       "    </tr>\n",
       "    <tr>\n",
       "      <th>42</th>\n",
       "      <td>MI</td>\n",
       "      <td>0</td>\n",
       "      <td>2</td>\n",
       "    </tr>\n",
       "    <tr>\n",
       "      <th>43</th>\n",
       "      <td>KS</td>\n",
       "      <td>0</td>\n",
       "      <td>1</td>\n",
       "    </tr>\n",
       "    <tr>\n",
       "      <th>44</th>\n",
       "      <td>CT</td>\n",
       "      <td>0</td>\n",
       "      <td>7</td>\n",
       "    </tr>\n",
       "    <tr>\n",
       "      <th>45</th>\n",
       "      <td>VA</td>\n",
       "      <td>0</td>\n",
       "      <td>3</td>\n",
       "    </tr>\n",
       "    <tr>\n",
       "      <th>46</th>\n",
       "      <td>WA</td>\n",
       "      <td>1</td>\n",
       "      <td>2</td>\n",
       "    </tr>\n",
       "    <tr>\n",
       "      <th>47</th>\n",
       "      <td>LA</td>\n",
       "      <td>0</td>\n",
       "      <td>1</td>\n",
       "    </tr>\n",
       "    <tr>\n",
       "      <th>48</th>\n",
       "      <td>KY</td>\n",
       "      <td>1</td>\n",
       "      <td>2</td>\n",
       "    </tr>\n",
       "    <tr>\n",
       "      <th>49</th>\n",
       "      <td>IL</td>\n",
       "      <td>1</td>\n",
       "      <td>1</td>\n",
       "    </tr>\n",
       "    <tr>\n",
       "      <th>50</th>\n",
       "      <td>OR</td>\n",
       "      <td>1</td>\n",
       "      <td>1</td>\n",
       "    </tr>\n",
       "    <tr>\n",
       "      <th>51</th>\n",
       "      <td>ID</td>\n",
       "      <td>0</td>\n",
       "      <td>1</td>\n",
       "    </tr>\n",
       "    <tr>\n",
       "      <th>52</th>\n",
       "      <td>NC</td>\n",
       "      <td>1</td>\n",
       "      <td>2</td>\n",
       "    </tr>\n",
       "    <tr>\n",
       "      <th>53</th>\n",
       "      <td>SC</td>\n",
       "      <td>1</td>\n",
       "      <td>1</td>\n",
       "    </tr>\n",
       "    <tr>\n",
       "      <th>54</th>\n",
       "      <td>MD</td>\n",
       "      <td>0</td>\n",
       "      <td>4</td>\n",
       "    </tr>\n",
       "    <tr>\n",
       "      <th>55</th>\n",
       "      <td>MS</td>\n",
       "      <td>0</td>\n",
       "      <td>1</td>\n",
       "    </tr>\n",
       "    <tr>\n",
       "      <th>56</th>\n",
       "      <td>NJ</td>\n",
       "      <td>0</td>\n",
       "      <td>3</td>\n",
       "    </tr>\n",
       "    <tr>\n",
       "      <th>57</th>\n",
       "      <td>NY</td>\n",
       "      <td>0</td>\n",
       "      <td>4</td>\n",
       "    </tr>\n",
       "    <tr>\n",
       "      <th>58</th>\n",
       "      <td>TN</td>\n",
       "      <td>0</td>\n",
       "      <td>1</td>\n",
       "    </tr>\n",
       "    <tr>\n",
       "      <th>59</th>\n",
       "      <td>FL</td>\n",
       "      <td>0</td>\n",
       "      <td>11</td>\n",
       "    </tr>\n",
       "    <tr>\n",
       "      <th>60</th>\n",
       "      <td>NY</td>\n",
       "      <td>1</td>\n",
       "      <td>1</td>\n",
       "    </tr>\n",
       "    <tr>\n",
       "      <th>61</th>\n",
       "      <td>MD</td>\n",
       "      <td>1</td>\n",
       "      <td>3</td>\n",
       "    </tr>\n",
       "  </tbody>\n",
       "</table>\n",
       "<p>62 rows × 3 columns</p>\n",
       "</div>"
      ],
      "text/plain": [
       "   state  Churn  count\n",
       "0     AL      0      4\n",
       "1     IL      0      8\n",
       "2     AZ      1      2\n",
       "3     OH      0      1\n",
       "4     AL      1      2\n",
       "5     PA      0     13\n",
       "6     NV      0      3\n",
       "7     PA      1      5\n",
       "8     OH      1      2\n",
       "9     UT      0      1\n",
       "10    FL      1      3\n",
       "11    MO      1      1\n",
       "12    MT      1      1\n",
       "13    NC      0      7\n",
       "14    IN      1      1\n",
       "15    TX      1      3\n",
       "16    MT      0      1\n",
       "17    KY      0      1\n",
       "18    KS      1      1\n",
       "19    MA      0      2\n",
       "20    LA      1      1\n",
       "21    SC      0      7\n",
       "22    GA      0      4\n",
       "23    NH      0      7\n",
       "24    AR      1      2\n",
       "25    CO      1      2\n",
       "26    WV      1      1\n",
       "27    CA      0     27\n",
       "28    WV      0      5\n",
       "29    MS      1      2\n",
       "..   ...    ...    ...\n",
       "32    AZ      0      5\n",
       "33    IA      0      2\n",
       "34    CA      1      6\n",
       "35    MI      1      3\n",
       "36    OK      0      1\n",
       "37    WI      0      9\n",
       "38    CO      0      2\n",
       "39    AK      0      2\n",
       "40    WI      1      1\n",
       "41    WA      0      4\n",
       "42    MI      0      2\n",
       "43    KS      0      1\n",
       "44    CT      0      7\n",
       "45    VA      0      3\n",
       "46    WA      1      2\n",
       "47    LA      0      1\n",
       "48    KY      1      2\n",
       "49    IL      1      1\n",
       "50    OR      1      1\n",
       "51    ID      0      1\n",
       "52    NC      1      2\n",
       "53    SC      1      1\n",
       "54    MD      0      4\n",
       "55    MS      0      1\n",
       "56    NJ      0      3\n",
       "57    NY      0      4\n",
       "58    TN      0      1\n",
       "59    FL      0     11\n",
       "60    NY      1      1\n",
       "61    MD      1      3\n",
       "\n",
       "[62 rows x 3 columns]"
      ]
     },
     "execution_count": 99,
     "metadata": {},
     "output_type": "execute_result"
    }
   ],
   "source": [
    "state_df = state_df.toPandas()\n",
    "state_df"
   ]
  },
  {
   "cell_type": "code",
   "execution_count": 100,
   "metadata": {
    "pycharm": {
     "name": "#%%\n"
    }
   },
   "outputs": [
    {
     "data": {
      "text/plain": [
       "Text(0.5,1,'count of churned and non-churned Users ')"
      ]
     },
     "execution_count": 100,
     "metadata": {},
     "output_type": "execute_result"
    },
    {
     "data": {
      "image/png": "[encoded data removed]",
      "text/plain": [
       "<matplotlib.figure.Figure at 0x7f9e2b873e48>"
      ]
     },
     "metadata": {
      "needs_background": "light"
     },
     "output_type": "display_data"
    }
   ],
   "source": [
    "# distribution plot \n",
    "plt.figure(figsize=[25,15])\n",
    "sns.barplot(data = state_df, x = 'count', y = 'state', hue = 'Churn')\n",
    "plt.title('count of churned and non-churned Users ')"
   ]
  },
  {
   "cell_type": "markdown",
   "metadata": {
    "pycharm": {
     "name": "#%% md\n"
    }
   },
   "source": [
    "As we see the most number of users comes from CA, TX, FL PA states.Although this does not give any useful information about churning."
   ]
  },
  {
   "cell_type": "markdown",
   "metadata": {},
   "source": [
    "### Impact of old vs new user on churn"
   ]
  },
  {
   "cell_type": "markdown",
   "metadata": {},
   "source": [
    "Now, let's examin how the user's stay duration on the sparkify platform impacts the churn."
   ]
  },
  {
   "cell_type": "code",
   "execution_count": 101,
   "metadata": {},
   "outputs": [],
   "source": [
    "duration_df = filtered_df.select(['userId', 'registration', 'ts', 'Churn']).dropDuplicates().sort('userId')"
   ]
  },
  {
   "cell_type": "code",
   "execution_count": 102,
   "metadata": {},
   "outputs": [],
   "source": [
    "w = Window.partitionBy(\"userId\").orderBy(desc(\"ts\"))"
   ]
  },
  {
   "cell_type": "code",
   "execution_count": 103,
   "metadata": {},
   "outputs": [],
   "source": [
    "# rank with the most recent timestamp as rank 1\n",
    "duration_df = duration_df.withColumn(\"Rank\", dense_rank().over(w))"
   ]
  },
  {
   "cell_type": "code",
   "execution_count": 104,
   "metadata": {},
   "outputs": [
    {
     "name": "stdout",
     "output_type": "stream",
     "text": [
      "+------+-------------+-------------+-----+----+\n",
      "|userId| registration|           ts|Churn|Rank|\n",
      "+------+-------------+-------------+-----+----+\n",
      "|    10|1538159495000|1542631788000|    0|   1|\n",
      "|    10|1538159495000|1542631753000|    0|   2|\n",
      "|    10|1538159495000|1542631690000|    0|   3|\n",
      "|    10|1538159495000|1542631518000|    0|   4|\n",
      "|    10|1538159495000|1542631517000|    0|   5|\n",
      "|    10|1538159495000|1542631090000|    0|   6|\n",
      "|    10|1538159495000|1542630866000|    0|   7|\n",
      "|    10|1538159495000|1542630637000|    0|   8|\n",
      "|    10|1538159495000|1542630407000|    0|   9|\n",
      "|    10|1538159495000|1542630394000|    0|  10|\n",
      "|    10|1538159495000|1542630248000|    0|  11|\n",
      "|    10|1538159495000|1542630247000|    0|  12|\n",
      "|    10|1538159495000|1542630029000|    0|  13|\n",
      "|    10|1538159495000|1542629861000|    0|  14|\n",
      "|    10|1538159495000|1542629636000|    0|  15|\n",
      "|    10|1538159495000|1542629464000|    0|  16|\n",
      "|    10|1538159495000|1542629238000|    0|  17|\n",
      "|    10|1538159495000|1542629029000|    0|  18|\n",
      "|    10|1538159495000|1542629028000|    0|  19|\n",
      "|    10|1538159495000|1542628798000|    0|  20|\n",
      "+------+-------------+-------------+-----+----+\n",
      "only showing top 20 rows\n",
      "\n"
     ]
    }
   ],
   "source": [
    "duration_df.show()"
   ]
  },
  {
   "cell_type": "code",
   "execution_count": 105,
   "metadata": {},
   "outputs": [],
   "source": [
    "# users with a rank of 1 i.e the very first row\n",
    "duration_df = duration_df.filter(duration_df.Rank == 1).drop(duration_df.Rank)"
   ]
  },
  {
   "cell_type": "code",
   "execution_count": 106,
   "metadata": {},
   "outputs": [
    {
     "name": "stdout",
     "output_type": "stream",
     "text": [
      "+------+-------------+-------------+-----+\n",
      "|userId| registration|           ts|Churn|\n",
      "+------+-------------+-------------+-----+\n",
      "|    10|1538159495000|1542631788000|    0|\n",
      "|   100|1537982255000|1543587349000|    0|\n",
      "|100001|1534627466000|1538498205000|    1|\n",
      "|100002|1529934689000|1543799476000|    0|\n",
      "|100003|1537309344000|1539274781000|    1|\n",
      "|100004|1528560242000|1543459065000|    0|\n",
      "|100005|1532610926000|1539971825000|    1|\n",
      "|100006|1537964483000|1538753070000|    1|\n",
      "|100007|1533522419000|1543491909000|    1|\n",
      "|100008|1537440271000|1543335219000|    0|\n",
      "|100009|1537376437000|1540611104000|    1|\n",
      "|100010|1538016340000|1542823952000|    0|\n",
      "|100011|1537970819000|1538417085000|    1|\n",
      "|100012|1537381154000|1541100900000|    1|\n",
      "|100013|1537367773000|1541184816000|    1|\n",
      "|100014|1535389443000|1542740649000|    1|\n",
      "|100015|1537208989000|1543073753000|    1|\n",
      "|100016|1536854322000|1543335647000|    0|\n",
      "|100017|1533247234000|1540062847000|    1|\n",
      "|100018|1533812833000|1543378360000|    0|\n",
      "+------+-------------+-------------+-----+\n",
      "only showing top 20 rows\n",
      "\n"
     ]
    }
   ],
   "source": [
    "duration_df.show()"
   ]
  },
  {
   "cell_type": "code",
   "execution_count": 107,
   "metadata": {},
   "outputs": [],
   "source": [
    "# subtract the registration from ts \n",
    "duration_df = duration_df.withColumn(\"delta_days\", (duration_df['ts']) - (duration_df['registration']))"
   ]
  },
  {
   "cell_type": "code",
   "execution_count": 108,
   "metadata": {},
   "outputs": [
    {
     "name": "stdout",
     "output_type": "stream",
     "text": [
      "+------+-------------+-------------+-----+-----------+\n",
      "|userId| registration|           ts|Churn| delta_days|\n",
      "+------+-------------+-------------+-----+-----------+\n",
      "|    10|1538159495000|1542631788000|    0| 4472293000|\n",
      "|   100|1537982255000|1543587349000|    0| 5605094000|\n",
      "|100001|1534627466000|1538498205000|    1| 3870739000|\n",
      "|100002|1529934689000|1543799476000|    0|13864787000|\n",
      "|100003|1537309344000|1539274781000|    1| 1965437000|\n",
      "|100004|1528560242000|1543459065000|    0|14898823000|\n",
      "|100005|1532610926000|1539971825000|    1| 7360899000|\n",
      "|100006|1537964483000|1538753070000|    1|  788587000|\n",
      "|100007|1533522419000|1543491909000|    1| 9969490000|\n",
      "|100008|1537440271000|1543335219000|    0| 5894948000|\n",
      "|100009|1537376437000|1540611104000|    1| 3234667000|\n",
      "|100010|1538016340000|1542823952000|    0| 4807612000|\n",
      "|100011|1537970819000|1538417085000|    1|  446266000|\n",
      "|100012|1537381154000|1541100900000|    1| 3719746000|\n",
      "|100013|1537367773000|1541184816000|    1| 3817043000|\n",
      "|100014|1535389443000|1542740649000|    1| 7351206000|\n",
      "|100015|1537208989000|1543073753000|    1| 5864764000|\n",
      "|100016|1536854322000|1543335647000|    0| 6481325000|\n",
      "|100017|1533247234000|1540062847000|    1| 6815613000|\n",
      "|100018|1533812833000|1543378360000|    0| 9565527000|\n",
      "+------+-------------+-------------+-----+-----------+\n",
      "only showing top 20 rows\n",
      "\n"
     ]
    }
   ],
   "source": [
    "duration_df.show()"
   ]
  },
  {
   "cell_type": "code",
   "execution_count": 109,
   "metadata": {},
   "outputs": [],
   "source": [
    "duration_df = duration_df.withColumn('days',(duration_df['delta_days']/1000/3600/24))"
   ]
  },
  {
   "cell_type": "code",
   "execution_count": 110,
   "metadata": {},
   "outputs": [
    {
     "name": "stdout",
     "output_type": "stream",
     "text": [
      "+------+-------------+-------------+-----+-----------+------------------+\n",
      "|userId| registration|           ts|Churn| delta_days|              days|\n",
      "+------+-------------+-------------+-----+-----------+------------------+\n",
      "|    10|1538159495000|1542631788000|    0| 4472293000| 51.76265046296297|\n",
      "|   100|1537982255000|1543587349000|    0| 5605094000| 64.87377314814815|\n",
      "|100001|1534627466000|1538498205000|    1| 3870739000| 44.80021990740741|\n",
      "|100002|1529934689000|1543799476000|    0|13864787000|160.47207175925925|\n",
      "|100003|1537309344000|1539274781000|    1| 1965437000|22.748113425925926|\n",
      "|100004|1528560242000|1543459065000|    0|14898823000|172.44008101851853|\n",
      "|100005|1532610926000|1539971825000|    1| 7360899000| 85.19559027777778|\n",
      "|100006|1537964483000|1538753070000|    1|  788587000| 9.127164351851851|\n",
      "|100007|1533522419000|1543491909000|    1| 9969490000|115.38761574074074|\n",
      "|100008|1537440271000|1543335219000|    0| 5894948000| 68.22856481481482|\n",
      "|100009|1537376437000|1540611104000|    1| 3234667000| 37.43827546296296|\n",
      "|100010|1538016340000|1542823952000|    0| 4807612000|  55.6436574074074|\n",
      "|100011|1537970819000|1538417085000|    1|  446266000| 5.165115740740741|\n",
      "|100012|1537381154000|1541100900000|    1| 3719746000| 43.05261574074074|\n",
      "|100013|1537367773000|1541184816000|    1| 3817043000| 44.17873842592593|\n",
      "|100014|1535389443000|1542740649000|    1| 7351206000| 85.08340277777778|\n",
      "|100015|1537208989000|1543073753000|    1| 5864764000| 67.87921296296297|\n",
      "|100016|1536854322000|1543335647000|    0| 6481325000| 75.01533564814815|\n",
      "|100017|1533247234000|1540062847000|    1| 6815613000| 78.88440972222223|\n",
      "|100018|1533812833000|1543378360000|    0| 9565527000|110.71211805555555|\n",
      "+------+-------------+-------------+-----+-----------+------------------+\n",
      "only showing top 20 rows\n",
      "\n"
     ]
    }
   ],
   "source": [
    "duration_df.show()"
   ]
  },
  {
   "cell_type": "code",
   "execution_count": 111,
   "metadata": {},
   "outputs": [],
   "source": [
    "duration_df = duration_df.toPandas()"
   ]
  },
  {
   "cell_type": "code",
   "execution_count": 112,
   "metadata": {},
   "outputs": [
    {
     "data": {
      "image/png": "[encoded data removed]",
      "text/plain": [
       "<matplotlib.figure.Figure at 0x7f9e24d49710>"
      ]
     },
     "metadata": {
      "needs_background": "light"
     },
     "output_type": "display_data"
    }
   ],
   "source": [
    "# plot distribution\n",
    "plt.figure(figsize=[10, 7])\n",
    "sns.boxplot(data = duration_df, x = 'Churn', y ='days')\n",
    "plt.title('Churned vs Non-churned users')\n",
    "plt.ylabel(\"duration\");"
   ]
  },
  {
   "cell_type": "markdown",
   "metadata": {},
   "source": [
    "The users who has been using platform and services for long time mostly stays longer and are less likely to churn while the users who churn are mostly those stays on the platform for a short duration."
   ]
  },
  {
   "cell_type": "markdown",
   "metadata": {
    "pycharm": {
     "name": "#%% md\n"
    }
   },
   "source": [
    "### Effect of  OS & Browser on Churn"
   ]
  },
  {
   "cell_type": "markdown",
   "metadata": {
    "pycharm": {
     "name": "#%% md\n"
    }
   },
   "source": [
    "Let's now try to understand and see if the operating system and the browser the user is using has any impact on churning. The information about the OS and  browsers can be found in the column 'userAgent'."
   ]
  },
  {
   "cell_type": "code",
   "execution_count": 113,
   "metadata": {
    "pycharm": {
     "name": "#%%\n"
    }
   },
   "outputs": [],
   "source": [
    "OS_df = filtered_df.select(\"userId\", \"userAgent\", \"Churn\").dropDuplicates(['userId'])"
   ]
  },
  {
   "cell_type": "code",
   "execution_count": 114,
   "metadata": {
    "pycharm": {
     "name": "#%%\n"
    }
   },
   "outputs": [
    {
     "name": "stdout",
     "output_type": "stream",
     "text": [
      "+------+--------------------+-----+\n",
      "|userId|           userAgent|Churn|\n",
      "+------+--------------------+-----+\n",
      "|100010|\"Mozilla/5.0 (iPh...|    0|\n",
      "|200002|\"Mozilla/5.0 (iPh...|    0|\n",
      "|   125|\"Mozilla/5.0 (Mac...|    1|\n",
      "|   124|\"Mozilla/5.0 (Mac...|    0|\n",
      "|    51|\"Mozilla/5.0 (Win...|    1|\n",
      "|     7|Mozilla/5.0 (Wind...|    0|\n",
      "|    15|\"Mozilla/5.0 (Win...|    0|\n",
      "|    54|Mozilla/5.0 (Wind...|    1|\n",
      "|   155|\"Mozilla/5.0 (Win...|    0|\n",
      "|100014|\"Mozilla/5.0 (Win...|    1|\n",
      "|   132|\"Mozilla/5.0 (Mac...|    0|\n",
      "|   154|\"Mozilla/5.0 (Win...|    0|\n",
      "|   101|Mozilla/5.0 (Wind...|    1|\n",
      "|    11|Mozilla/5.0 (Wind...|    0|\n",
      "|   138|\"Mozilla/5.0 (iPa...|    0|\n",
      "|300017|\"Mozilla/5.0 (Mac...|    0|\n",
      "|100021|\"Mozilla/5.0 (Mac...|    1|\n",
      "|    29|\"Mozilla/5.0 (Mac...|    1|\n",
      "|    69|\"Mozilla/5.0 (Win...|    0|\n",
      "|   112|Mozilla/5.0 (Wind...|    0|\n",
      "+------+--------------------+-----+\n",
      "only showing top 20 rows\n",
      "\n"
     ]
    }
   ],
   "source": [
    "OS_df.show()"
   ]
  },
  {
   "cell_type": "code",
   "execution_count": 115,
   "metadata": {
    "pycharm": {
     "name": "#%%\n"
    }
   },
   "outputs": [],
   "source": [
    "OS_df = OS_df.toPandas()"
   ]
  },
  {
   "cell_type": "code",
   "execution_count": 116,
   "metadata": {},
   "outputs": [
    {
     "data": {
      "text/html": [
       "<div>\n",
       "<style scoped>\n",
       "    .dataframe tbody tr th:only-of-type {\n",
       "        vertical-align: middle;\n",
       "    }\n",
       "\n",
       "    .dataframe tbody tr th {\n",
       "        vertical-align: top;\n",
       "    }\n",
       "\n",
       "    .dataframe thead th {\n",
       "        text-align: right;\n",
       "    }\n",
       "</style>\n",
       "<table border=\"1\" class=\"dataframe\">\n",
       "  <thead>\n",
       "    <tr style=\"text-align: right;\">\n",
       "      <th></th>\n",
       "      <th>userId</th>\n",
       "      <th>userAgent</th>\n",
       "      <th>Churn</th>\n",
       "    </tr>\n",
       "  </thead>\n",
       "  <tbody>\n",
       "    <tr>\n",
       "      <th>0</th>\n",
       "      <td>100010</td>\n",
       "      <td>\"Mozilla/5.0 (iPhone; CPU iPhone OS 7_1_2 like...</td>\n",
       "      <td>0</td>\n",
       "    </tr>\n",
       "    <tr>\n",
       "      <th>1</th>\n",
       "      <td>200002</td>\n",
       "      <td>\"Mozilla/5.0 (iPhone; CPU iPhone OS 7_1 like M...</td>\n",
       "      <td>0</td>\n",
       "    </tr>\n",
       "    <tr>\n",
       "      <th>2</th>\n",
       "      <td>125</td>\n",
       "      <td>\"Mozilla/5.0 (Macintosh; Intel Mac OS X 10_9_4...</td>\n",
       "      <td>1</td>\n",
       "    </tr>\n",
       "    <tr>\n",
       "      <th>3</th>\n",
       "      <td>124</td>\n",
       "      <td>\"Mozilla/5.0 (Macintosh; Intel Mac OS X 10_9_4...</td>\n",
       "      <td>0</td>\n",
       "    </tr>\n",
       "    <tr>\n",
       "      <th>4</th>\n",
       "      <td>51</td>\n",
       "      <td>\"Mozilla/5.0 (Windows NT 6.1; WOW64) AppleWebK...</td>\n",
       "      <td>1</td>\n",
       "    </tr>\n",
       "    <tr>\n",
       "      <th>5</th>\n",
       "      <td>7</td>\n",
       "      <td>Mozilla/5.0 (Windows NT 6.1; rv:31.0) Gecko/20...</td>\n",
       "      <td>0</td>\n",
       "    </tr>\n",
       "    <tr>\n",
       "      <th>6</th>\n",
       "      <td>15</td>\n",
       "      <td>\"Mozilla/5.0 (Windows NT 6.1; WOW64) AppleWebK...</td>\n",
       "      <td>0</td>\n",
       "    </tr>\n",
       "    <tr>\n",
       "      <th>7</th>\n",
       "      <td>54</td>\n",
       "      <td>Mozilla/5.0 (Windows NT 6.1; WOW64; rv:32.0) G...</td>\n",
       "      <td>1</td>\n",
       "    </tr>\n",
       "    <tr>\n",
       "      <th>8</th>\n",
       "      <td>155</td>\n",
       "      <td>\"Mozilla/5.0 (Windows NT 6.1; WOW64) AppleWebK...</td>\n",
       "      <td>0</td>\n",
       "    </tr>\n",
       "    <tr>\n",
       "      <th>9</th>\n",
       "      <td>100014</td>\n",
       "      <td>\"Mozilla/5.0 (Windows NT 6.1; WOW64) AppleWebK...</td>\n",
       "      <td>1</td>\n",
       "    </tr>\n",
       "    <tr>\n",
       "      <th>10</th>\n",
       "      <td>132</td>\n",
       "      <td>\"Mozilla/5.0 (Macintosh; Intel Mac OS X 10_9_4...</td>\n",
       "      <td>0</td>\n",
       "    </tr>\n",
       "    <tr>\n",
       "      <th>11</th>\n",
       "      <td>154</td>\n",
       "      <td>\"Mozilla/5.0 (Windows NT 6.1; WOW64) AppleWebK...</td>\n",
       "      <td>0</td>\n",
       "    </tr>\n",
       "    <tr>\n",
       "      <th>12</th>\n",
       "      <td>101</td>\n",
       "      <td>Mozilla/5.0 (Windows NT 6.2; WOW64; rv:31.0) G...</td>\n",
       "      <td>1</td>\n",
       "    </tr>\n",
       "    <tr>\n",
       "      <th>13</th>\n",
       "      <td>11</td>\n",
       "      <td>Mozilla/5.0 (Windows NT 6.1; WOW64; Trident/7....</td>\n",
       "      <td>0</td>\n",
       "    </tr>\n",
       "    <tr>\n",
       "      <th>14</th>\n",
       "      <td>138</td>\n",
       "      <td>\"Mozilla/5.0 (iPad; CPU OS 7_1_1 like Mac OS X...</td>\n",
       "      <td>0</td>\n",
       "    </tr>\n",
       "    <tr>\n",
       "      <th>15</th>\n",
       "      <td>300017</td>\n",
       "      <td>\"Mozilla/5.0 (Macintosh; Intel Mac OS X 10_10)...</td>\n",
       "      <td>0</td>\n",
       "    </tr>\n",
       "    <tr>\n",
       "      <th>16</th>\n",
       "      <td>100021</td>\n",
       "      <td>\"Mozilla/5.0 (Macintosh; Intel Mac OS X 10_9_4...</td>\n",
       "      <td>1</td>\n",
       "    </tr>\n",
       "    <tr>\n",
       "      <th>17</th>\n",
       "      <td>29</td>\n",
       "      <td>\"Mozilla/5.0 (Macintosh; Intel Mac OS X 10_9_4...</td>\n",
       "      <td>1</td>\n",
       "    </tr>\n",
       "    <tr>\n",
       "      <th>18</th>\n",
       "      <td>69</td>\n",
       "      <td>\"Mozilla/5.0 (Windows NT 6.1; WOW64) AppleWebK...</td>\n",
       "      <td>0</td>\n",
       "    </tr>\n",
       "    <tr>\n",
       "      <th>19</th>\n",
       "      <td>112</td>\n",
       "      <td>Mozilla/5.0 (Windows NT 6.1; WOW64; rv:31.0) G...</td>\n",
       "      <td>0</td>\n",
       "    </tr>\n",
       "    <tr>\n",
       "      <th>20</th>\n",
       "      <td>42</td>\n",
       "      <td>\"Mozilla/5.0 (Windows NT 6.1) AppleWebKit/537....</td>\n",
       "      <td>0</td>\n",
       "    </tr>\n",
       "    <tr>\n",
       "      <th>21</th>\n",
       "      <td>73</td>\n",
       "      <td>Mozilla/5.0 (Windows NT 6.1; WOW64; rv:31.0) G...</td>\n",
       "      <td>1</td>\n",
       "    </tr>\n",
       "    <tr>\n",
       "      <th>22</th>\n",
       "      <td>87</td>\n",
       "      <td>\"Mozilla/5.0 (Windows NT 6.1; WOW64) AppleWebK...</td>\n",
       "      <td>1</td>\n",
       "    </tr>\n",
       "    <tr>\n",
       "      <th>23</th>\n",
       "      <td>200010</td>\n",
       "      <td>Mozilla/5.0 (X11; Ubuntu; Linux x86_64; rv:31....</td>\n",
       "      <td>0</td>\n",
       "    </tr>\n",
       "    <tr>\n",
       "      <th>24</th>\n",
       "      <td>64</td>\n",
       "      <td>\"Mozilla/5.0 (Macintosh; Intel Mac OS X 10_9_4...</td>\n",
       "      <td>0</td>\n",
       "    </tr>\n",
       "    <tr>\n",
       "      <th>25</th>\n",
       "      <td>3</td>\n",
       "      <td>\"Mozilla/5.0 (Windows NT 6.1; WOW64) AppleWebK...</td>\n",
       "      <td>1</td>\n",
       "    </tr>\n",
       "    <tr>\n",
       "      <th>26</th>\n",
       "      <td>113</td>\n",
       "      <td>\"Mozilla/5.0 (Macintosh; Intel Mac OS X 10_9_4...</td>\n",
       "      <td>0</td>\n",
       "    </tr>\n",
       "    <tr>\n",
       "      <th>27</th>\n",
       "      <td>30</td>\n",
       "      <td>Mozilla/5.0 (Windows NT 6.1; WOW64; rv:31.0) G...</td>\n",
       "      <td>0</td>\n",
       "    </tr>\n",
       "    <tr>\n",
       "      <th>28</th>\n",
       "      <td>34</td>\n",
       "      <td>\"Mozilla/5.0 (Macintosh; Intel Mac OS X 10_9_4...</td>\n",
       "      <td>0</td>\n",
       "    </tr>\n",
       "    <tr>\n",
       "      <th>29</th>\n",
       "      <td>133</td>\n",
       "      <td>\"Mozilla/5.0 (Windows NT 6.3; WOW64) AppleWebK...</td>\n",
       "      <td>0</td>\n",
       "    </tr>\n",
       "    <tr>\n",
       "      <th>...</th>\n",
       "      <td>...</td>\n",
       "      <td>...</td>\n",
       "      <td>...</td>\n",
       "    </tr>\n",
       "    <tr>\n",
       "      <th>195</th>\n",
       "      <td>83</td>\n",
       "      <td>\"Mozilla/5.0 (X11; Linux x86_64) AppleWebKit/5...</td>\n",
       "      <td>0</td>\n",
       "    </tr>\n",
       "    <tr>\n",
       "      <th>196</th>\n",
       "      <td>109</td>\n",
       "      <td>Mozilla/5.0 (Windows NT 6.1; WOW64; rv:31.0) G...</td>\n",
       "      <td>0</td>\n",
       "    </tr>\n",
       "    <tr>\n",
       "      <th>197</th>\n",
       "      <td>123</td>\n",
       "      <td>\"Mozilla/5.0 (iPhone; CPU iPhone OS 7_1 like M...</td>\n",
       "      <td>0</td>\n",
       "    </tr>\n",
       "    <tr>\n",
       "      <th>198</th>\n",
       "      <td>200022</td>\n",
       "      <td>\"Mozilla/5.0 (Macintosh; Intel Mac OS X 10_7_5...</td>\n",
       "      <td>0</td>\n",
       "    </tr>\n",
       "    <tr>\n",
       "      <th>199</th>\n",
       "      <td>13</td>\n",
       "      <td>\"Mozilla/5.0 (iPhone; CPU iPhone OS 7_1_2 like...</td>\n",
       "      <td>0</td>\n",
       "    </tr>\n",
       "    <tr>\n",
       "      <th>200</th>\n",
       "      <td>200019</td>\n",
       "      <td>\"Mozilla/5.0 (Macintosh; Intel Mac OS X 10_9_4...</td>\n",
       "      <td>0</td>\n",
       "    </tr>\n",
       "    <tr>\n",
       "      <th>201</th>\n",
       "      <td>14</td>\n",
       "      <td>Mozilla/5.0 (Macintosh; Intel Mac OS X 10.9; r...</td>\n",
       "      <td>0</td>\n",
       "    </tr>\n",
       "    <tr>\n",
       "      <th>202</th>\n",
       "      <td>21</td>\n",
       "      <td>Mozilla/5.0 (Windows NT 6.3; WOW64; rv:31.0) G...</td>\n",
       "      <td>0</td>\n",
       "    </tr>\n",
       "    <tr>\n",
       "      <th>203</th>\n",
       "      <td>66</td>\n",
       "      <td>Mozilla/5.0 (Windows NT 6.1; WOW64; rv:31.0) G...</td>\n",
       "      <td>0</td>\n",
       "    </tr>\n",
       "    <tr>\n",
       "      <th>204</th>\n",
       "      <td>91</td>\n",
       "      <td>Mozilla/5.0 (Windows NT 6.3; WOW64; rv:31.0) G...</td>\n",
       "      <td>0</td>\n",
       "    </tr>\n",
       "    <tr>\n",
       "      <th>205</th>\n",
       "      <td>94</td>\n",
       "      <td>\"Mozilla/5.0 (Windows NT 6.2; WOW64) AppleWebK...</td>\n",
       "      <td>0</td>\n",
       "    </tr>\n",
       "    <tr>\n",
       "      <th>206</th>\n",
       "      <td>137</td>\n",
       "      <td>\"Mozilla/5.0 (Macintosh; Intel Mac OS X 10_9_4...</td>\n",
       "      <td>0</td>\n",
       "    </tr>\n",
       "    <tr>\n",
       "      <th>207</th>\n",
       "      <td>72</td>\n",
       "      <td>\"Mozilla/5.0 (Macintosh; Intel Mac OS X 10_7_5...</td>\n",
       "      <td>0</td>\n",
       "    </tr>\n",
       "    <tr>\n",
       "      <th>208</th>\n",
       "      <td>74</td>\n",
       "      <td>\"Mozilla/5.0 (Macintosh; Intel Mac OS X 10_9_4...</td>\n",
       "      <td>0</td>\n",
       "    </tr>\n",
       "    <tr>\n",
       "      <th>209</th>\n",
       "      <td>300016</td>\n",
       "      <td>Mozilla/5.0 (Windows NT 6.1; rv:31.0) Gecko/20...</td>\n",
       "      <td>0</td>\n",
       "    </tr>\n",
       "    <tr>\n",
       "      <th>210</th>\n",
       "      <td>151</td>\n",
       "      <td>\"Mozilla/5.0 (Macintosh; Intel Mac OS X 10_9_4...</td>\n",
       "      <td>0</td>\n",
       "    </tr>\n",
       "    <tr>\n",
       "      <th>211</th>\n",
       "      <td>200015</td>\n",
       "      <td>\"Mozilla/5.0 (iPhone; CPU iPhone OS 7_1_2 like...</td>\n",
       "      <td>1</td>\n",
       "    </tr>\n",
       "    <tr>\n",
       "      <th>212</th>\n",
       "      <td>129</td>\n",
       "      <td>\"Mozilla/5.0 (Windows NT 6.3; WOW64) AppleWebK...</td>\n",
       "      <td>1</td>\n",
       "    </tr>\n",
       "    <tr>\n",
       "      <th>213</th>\n",
       "      <td>76</td>\n",
       "      <td>\"Mozilla/5.0 (Macintosh; Intel Mac OS X 10_9_4...</td>\n",
       "      <td>0</td>\n",
       "    </tr>\n",
       "    <tr>\n",
       "      <th>214</th>\n",
       "      <td>2</td>\n",
       "      <td>\"Mozilla/5.0 (Windows NT 6.1; WOW64) AppleWebK...</td>\n",
       "      <td>0</td>\n",
       "    </tr>\n",
       "    <tr>\n",
       "      <th>215</th>\n",
       "      <td>100002</td>\n",
       "      <td>Mozilla/5.0 (Windows NT 6.1; WOW64; rv:32.0) G...</td>\n",
       "      <td>0</td>\n",
       "    </tr>\n",
       "    <tr>\n",
       "      <th>216</th>\n",
       "      <td>100018</td>\n",
       "      <td>\"Mozilla/5.0 (Macintosh; Intel Mac OS X 10_10)...</td>\n",
       "      <td>0</td>\n",
       "    </tr>\n",
       "    <tr>\n",
       "      <th>217</th>\n",
       "      <td>80</td>\n",
       "      <td>\"Mozilla/5.0 (Macintosh; Intel Mac OS X 10_9_4...</td>\n",
       "      <td>0</td>\n",
       "    </tr>\n",
       "    <tr>\n",
       "      <th>218</th>\n",
       "      <td>145</td>\n",
       "      <td>\"Mozilla/5.0 (X11; Linux x86_64) AppleWebKit/5...</td>\n",
       "      <td>0</td>\n",
       "    </tr>\n",
       "    <tr>\n",
       "      <th>219</th>\n",
       "      <td>50</td>\n",
       "      <td>\"Mozilla/5.0 (Windows NT 6.1; WOW64) AppleWebK...</td>\n",
       "      <td>0</td>\n",
       "    </tr>\n",
       "    <tr>\n",
       "      <th>220</th>\n",
       "      <td>45</td>\n",
       "      <td>\"Mozilla/5.0 (Windows NT 6.3; WOW64) AppleWebK...</td>\n",
       "      <td>0</td>\n",
       "    </tr>\n",
       "    <tr>\n",
       "      <th>221</th>\n",
       "      <td>57</td>\n",
       "      <td>\"Mozilla/5.0 (Macintosh; Intel Mac OS X 10_9_4...</td>\n",
       "      <td>0</td>\n",
       "    </tr>\n",
       "    <tr>\n",
       "      <th>222</th>\n",
       "      <td>200021</td>\n",
       "      <td>Mozilla/5.0 (Macintosh; Intel Mac OS X 10.7; r...</td>\n",
       "      <td>1</td>\n",
       "    </tr>\n",
       "    <tr>\n",
       "      <th>223</th>\n",
       "      <td>119</td>\n",
       "      <td>\"Mozilla/5.0 (Windows NT 6.2; WOW64) AppleWebK...</td>\n",
       "      <td>0</td>\n",
       "    </tr>\n",
       "    <tr>\n",
       "      <th>224</th>\n",
       "      <td>100001</td>\n",
       "      <td>\"Mozilla/5.0 (Macintosh; Intel Mac OS X 10_6_8...</td>\n",
       "      <td>1</td>\n",
       "    </tr>\n",
       "  </tbody>\n",
       "</table>\n",
       "<p>225 rows × 3 columns</p>\n",
       "</div>"
      ],
      "text/plain": [
       "     userId                                          userAgent  Churn\n",
       "0    100010  \"Mozilla/5.0 (iPhone; CPU iPhone OS 7_1_2 like...      0\n",
       "1    200002  \"Mozilla/5.0 (iPhone; CPU iPhone OS 7_1 like M...      0\n",
       "2       125  \"Mozilla/5.0 (Macintosh; Intel Mac OS X 10_9_4...      1\n",
       "3       124  \"Mozilla/5.0 (Macintosh; Intel Mac OS X 10_9_4...      0\n",
       "4        51  \"Mozilla/5.0 (Windows NT 6.1; WOW64) AppleWebK...      1\n",
       "5         7  Mozilla/5.0 (Windows NT 6.1; rv:31.0) Gecko/20...      0\n",
       "6        15  \"Mozilla/5.0 (Windows NT 6.1; WOW64) AppleWebK...      0\n",
       "7        54  Mozilla/5.0 (Windows NT 6.1; WOW64; rv:32.0) G...      1\n",
       "8       155  \"Mozilla/5.0 (Windows NT 6.1; WOW64) AppleWebK...      0\n",
       "9    100014  \"Mozilla/5.0 (Windows NT 6.1; WOW64) AppleWebK...      1\n",
       "10      132  \"Mozilla/5.0 (Macintosh; Intel Mac OS X 10_9_4...      0\n",
       "11      154  \"Mozilla/5.0 (Windows NT 6.1; WOW64) AppleWebK...      0\n",
       "12      101  Mozilla/5.0 (Windows NT 6.2; WOW64; rv:31.0) G...      1\n",
       "13       11  Mozilla/5.0 (Windows NT 6.1; WOW64; Trident/7....      0\n",
       "14      138  \"Mozilla/5.0 (iPad; CPU OS 7_1_1 like Mac OS X...      0\n",
       "15   300017  \"Mozilla/5.0 (Macintosh; Intel Mac OS X 10_10)...      0\n",
       "16   100021  \"Mozilla/5.0 (Macintosh; Intel Mac OS X 10_9_4...      1\n",
       "17       29  \"Mozilla/5.0 (Macintosh; Intel Mac OS X 10_9_4...      1\n",
       "18       69  \"Mozilla/5.0 (Windows NT 6.1; WOW64) AppleWebK...      0\n",
       "19      112  Mozilla/5.0 (Windows NT 6.1; WOW64; rv:31.0) G...      0\n",
       "20       42  \"Mozilla/5.0 (Windows NT 6.1) AppleWebKit/537....      0\n",
       "21       73  Mozilla/5.0 (Windows NT 6.1; WOW64; rv:31.0) G...      1\n",
       "22       87  \"Mozilla/5.0 (Windows NT 6.1; WOW64) AppleWebK...      1\n",
       "23   200010  Mozilla/5.0 (X11; Ubuntu; Linux x86_64; rv:31....      0\n",
       "24       64  \"Mozilla/5.0 (Macintosh; Intel Mac OS X 10_9_4...      0\n",
       "25        3  \"Mozilla/5.0 (Windows NT 6.1; WOW64) AppleWebK...      1\n",
       "26      113  \"Mozilla/5.0 (Macintosh; Intel Mac OS X 10_9_4...      0\n",
       "27       30  Mozilla/5.0 (Windows NT 6.1; WOW64; rv:31.0) G...      0\n",
       "28       34  \"Mozilla/5.0 (Macintosh; Intel Mac OS X 10_9_4...      0\n",
       "29      133  \"Mozilla/5.0 (Windows NT 6.3; WOW64) AppleWebK...      0\n",
       "..      ...                                                ...    ...\n",
       "195      83  \"Mozilla/5.0 (X11; Linux x86_64) AppleWebKit/5...      0\n",
       "196     109  Mozilla/5.0 (Windows NT 6.1; WOW64; rv:31.0) G...      0\n",
       "197     123  \"Mozilla/5.0 (iPhone; CPU iPhone OS 7_1 like M...      0\n",
       "198  200022  \"Mozilla/5.0 (Macintosh; Intel Mac OS X 10_7_5...      0\n",
       "199      13  \"Mozilla/5.0 (iPhone; CPU iPhone OS 7_1_2 like...      0\n",
       "200  200019  \"Mozilla/5.0 (Macintosh; Intel Mac OS X 10_9_4...      0\n",
       "201      14  Mozilla/5.0 (Macintosh; Intel Mac OS X 10.9; r...      0\n",
       "202      21  Mozilla/5.0 (Windows NT 6.3; WOW64; rv:31.0) G...      0\n",
       "203      66  Mozilla/5.0 (Windows NT 6.1; WOW64; rv:31.0) G...      0\n",
       "204      91  Mozilla/5.0 (Windows NT 6.3; WOW64; rv:31.0) G...      0\n",
       "205      94  \"Mozilla/5.0 (Windows NT 6.2; WOW64) AppleWebK...      0\n",
       "206     137  \"Mozilla/5.0 (Macintosh; Intel Mac OS X 10_9_4...      0\n",
       "207      72  \"Mozilla/5.0 (Macintosh; Intel Mac OS X 10_7_5...      0\n",
       "208      74  \"Mozilla/5.0 (Macintosh; Intel Mac OS X 10_9_4...      0\n",
       "209  300016  Mozilla/5.0 (Windows NT 6.1; rv:31.0) Gecko/20...      0\n",
       "210     151  \"Mozilla/5.0 (Macintosh; Intel Mac OS X 10_9_4...      0\n",
       "211  200015  \"Mozilla/5.0 (iPhone; CPU iPhone OS 7_1_2 like...      1\n",
       "212     129  \"Mozilla/5.0 (Windows NT 6.3; WOW64) AppleWebK...      1\n",
       "213      76  \"Mozilla/5.0 (Macintosh; Intel Mac OS X 10_9_4...      0\n",
       "214       2  \"Mozilla/5.0 (Windows NT 6.1; WOW64) AppleWebK...      0\n",
       "215  100002  Mozilla/5.0 (Windows NT 6.1; WOW64; rv:32.0) G...      0\n",
       "216  100018  \"Mozilla/5.0 (Macintosh; Intel Mac OS X 10_10)...      0\n",
       "217      80  \"Mozilla/5.0 (Macintosh; Intel Mac OS X 10_9_4...      0\n",
       "218     145  \"Mozilla/5.0 (X11; Linux x86_64) AppleWebKit/5...      0\n",
       "219      50  \"Mozilla/5.0 (Windows NT 6.1; WOW64) AppleWebK...      0\n",
       "220      45  \"Mozilla/5.0 (Windows NT 6.3; WOW64) AppleWebK...      0\n",
       "221      57  \"Mozilla/5.0 (Macintosh; Intel Mac OS X 10_9_4...      0\n",
       "222  200021  Mozilla/5.0 (Macintosh; Intel Mac OS X 10.7; r...      1\n",
       "223     119  \"Mozilla/5.0 (Windows NT 6.2; WOW64) AppleWebK...      0\n",
       "224  100001  \"Mozilla/5.0 (Macintosh; Intel Mac OS X 10_6_8...      1\n",
       "\n",
       "[225 rows x 3 columns]"
      ]
     },
     "execution_count": 116,
     "metadata": {},
     "output_type": "execute_result"
    }
   ],
   "source": [
    "OS_df"
   ]
  },
  {
   "cell_type": "code",
   "execution_count": 117,
   "metadata": {},
   "outputs": [
    {
     "data": {
      "text/plain": [
       "56"
      ]
     },
     "execution_count": 117,
     "metadata": {},
     "output_type": "execute_result"
    }
   ],
   "source": [
    "# unique value or the unique combination of OS and browser\n",
    "OS_df.userAgent.nunique()"
   ]
  },
  {
   "cell_type": "code",
   "execution_count": 118,
   "metadata": {
    "pycharm": {
     "name": "#%%\n"
    }
   },
   "outputs": [
    {
     "data": {
      "text/plain": [
       "\"Mozilla/5.0 (Windows NT 6.1; WOW64) AppleWebKit/537.36 (KHTML, like Gecko) Chrome/36.0.1985.143 Safari/537.36\"                                24\n",
       "Mozilla/5.0 (Windows NT 6.1; WOW64; rv:31.0) Gecko/20100101 Firefox/31.0                                                                       18\n",
       "\"Mozilla/5.0 (Macintosh; Intel Mac OS X 10_9_4) AppleWebKit/537.36 (KHTML, like Gecko) Chrome/36.0.1985.125 Safari/537.36\"                     16\n",
       "\"Mozilla/5.0 (Macintosh; Intel Mac OS X 10_9_4) AppleWebKit/537.77.4 (KHTML, like Gecko) Version/7.0.5 Safari/537.77.4\"                        12\n",
       "\"Mozilla/5.0 (Macintosh; Intel Mac OS X 10_9_4) AppleWebKit/537.36 (KHTML, like Gecko) Chrome/36.0.1985.143 Safari/537.36\"                     12\n",
       "\"Mozilla/5.0 (Macintosh; Intel Mac OS X 10_9_4) AppleWebKit/537.78.2 (KHTML, like Gecko) Version/7.0.6 Safari/537.78.2\"                        10\n",
       "\"Mozilla/5.0 (Windows NT 6.1; WOW64) AppleWebKit/537.36 (KHTML, like Gecko) Chrome/36.0.1985.125 Safari/537.36\"                                10\n",
       "Mozilla/5.0 (Macintosh; Intel Mac OS X 10.9; rv:31.0) Gecko/20100101 Firefox/31.0                                                               9\n",
       "\"Mozilla/5.0 (iPhone; CPU iPhone OS 7_1_2 like Mac OS X) AppleWebKit/537.51.2 (KHTML, like Gecko) Version/7.0 Mobile/11D257 Safari/9537.53\"     8\n",
       "Mozilla/5.0 (Windows NT 6.1; WOW64; Trident/7.0; rv:11.0) like Gecko                                                                            7\n",
       "\"Mozilla/5.0 (Macintosh; Intel Mac OS X 10_9_4) AppleWebKit/537.36 (KHTML, like Gecko) Chrome/37.0.2062.94 Safari/537.36\"                       7\n",
       "\"Mozilla/5.0 (Windows NT 6.3; WOW64) AppleWebKit/537.36 (KHTML, like Gecko) Chrome/36.0.1985.143 Safari/537.36\"                                 7\n",
       "\"Mozilla/5.0 (Windows NT 6.3; WOW64) AppleWebKit/537.36 (KHTML, like Gecko) Chrome/36.0.1985.125 Safari/537.36\"                                 5\n",
       "\"Mozilla/5.0 (iPhone; CPU iPhone OS 7_1 like Mac OS X) AppleWebKit/537.51.2 (KHTML, like Gecko) Version/7.0 Mobile/11D167 Safari/9537.53\"       4\n",
       "\"Mozilla/5.0 (Windows NT 5.1) AppleWebKit/537.36 (KHTML, like Gecko) Chrome/36.0.1985.143 Safari/537.36\"                                        4\n",
       "Mozilla/5.0 (X11; Ubuntu; Linux x86_64; rv:31.0) Gecko/20100101 Firefox/31.0                                                                    4\n",
       "\"Mozilla/5.0 (Windows NT 6.1) AppleWebKit/537.36 (KHTML, like Gecko) Chrome/36.0.1985.143 Safari/537.36\"                                        4\n",
       "\"Mozilla/5.0 (Windows NT 6.1; WOW64) AppleWebKit/537.36 (KHTML, like Gecko) Chrome/37.0.2062.94 Safari/537.36\"                                  4\n",
       "Mozilla/5.0 (Windows NT 6.3; WOW64; rv:31.0) Gecko/20100101 Firefox/31.0                                                                        4\n",
       "\"Mozilla/5.0 (X11; Linux x86_64) AppleWebKit/537.36 (KHTML, like Gecko) Chrome/36.0.1985.143 Safari/537.36\"                                     4\n",
       "\"Mozilla/5.0 (Windows NT 6.1; WOW64) AppleWebKit/537.36 (KHTML, like Gecko) Chrome/37.0.2062.103 Safari/537.36\"                                 3\n",
       "Mozilla/5.0 (compatible; MSIE 9.0; Windows NT 6.1; WOW64; Trident/5.0)                                                                          3\n",
       "Mozilla/5.0 (Windows NT 6.1; rv:31.0) Gecko/20100101 Firefox/31.0                                                                               3\n",
       "\"Mozilla/5.0 (Macintosh; Intel Mac OS X 10_9_2) AppleWebKit/537.36 (KHTML, like Gecko) Chrome/36.0.1985.125 Safari/537.36\"                      2\n",
       "\"Mozilla/5.0 (Macintosh; Intel Mac OS X 10_7_5) AppleWebKit/537.77.4 (KHTML, like Gecko) Version/6.1.5 Safari/537.77.4\"                         2\n",
       "\"Mozilla/5.0 (Windows NT 6.1; WOW64) AppleWebKit/537.36 (KHTML, like Gecko) Chrome/35.0.1916.153 Safari/537.36\"                                 2\n",
       "\"Mozilla/5.0 (X11; Linux x86_64) AppleWebKit/537.36 (KHTML, like Gecko) Chrome/36.0.1985.125 Safari/537.36\"                                     2\n",
       "\"Mozilla/5.0 (Macintosh; Intel Mac OS X 10_9_4) AppleWebKit/537.36 (KHTML, like Gecko) Chrome/35.0.1916.153 Safari/537.36\"                      2\n",
       "\"Mozilla/5.0 (Macintosh; Intel Mac OS X 10_10) AppleWebKit/600.1.8 (KHTML, like Gecko) Version/8.0 Safari/600.1.8\"                              2\n",
       "Mozilla/5.0 (Macintosh; Intel Mac OS X 10.7; rv:31.0) Gecko/20100101 Firefox/31.0                                                               2\n",
       "\"Mozilla/5.0 (Windows NT 6.2; WOW64) AppleWebKit/537.36 (KHTML, like Gecko) Chrome/36.0.1985.143 Safari/537.36\"                                 2\n",
       "Mozilla/5.0 (Windows NT 6.1; WOW64; rv:32.0) Gecko/20100101 Firefox/32.0                                                                        2\n",
       "\"Mozilla/5.0 (iPad; CPU OS 7_1_2 like Mac OS X) AppleWebKit/537.51.2 (KHTML, like Gecko) Version/7.0 Mobile/11D257 Safari/9537.53\"              2\n",
       "Mozilla/5.0 (X11; Ubuntu; Linux i686; rv:31.0) Gecko/20100101 Firefox/31.0                                                                      1\n",
       "Mozilla/5.0 (Windows NT 6.2; WOW64; rv:31.0) Gecko/20100101 Firefox/31.0                                                                        1\n",
       "\"Mozilla/5.0 (Macintosh; Intel Mac OS X 10_9_2) AppleWebKit/537.75.14 (KHTML, like Gecko) Version/7.0.3 Safari/537.75.14\"                       1\n",
       "Mozilla/5.0 (Macintosh; Intel Mac OS X 10.6; rv:31.0) Gecko/20100101 Firefox/31.0                                                               1\n",
       "Mozilla/5.0 (Macintosh; Intel Mac OS X 10.8; rv:31.0) Gecko/20100101 Firefox/31.0                                                               1\n",
       "Mozilla/5.0 (compatible; MSIE 9.0; Windows NT 6.1; Trident/5.0)                                                                                 1\n",
       "Mozilla/5.0 (Windows NT 6.1; WOW64; rv:24.0) Gecko/20100101 Firefox/24.0                                                                        1\n",
       "\"Mozilla/5.0 (Windows NT 5.1) AppleWebKit/537.36 (KHTML, like Gecko) Chrome/36.0.1985.125 Safari/537.36\"                                        1\n",
       "\"Mozilla/5.0 (Macintosh; Intel Mac OS X 10_7_5) AppleWebKit/537.36 (KHTML, like Gecko) Chrome/36.0.1985.125 Safari/537.36\"                      1\n",
       "\"Mozilla/5.0 (Macintosh; Intel Mac OS X 10_9_3) AppleWebKit/537.76.4 (KHTML, like Gecko) Version/7.0.4 Safari/537.76.4\"                         1\n",
       "Mozilla/5.0 (X11; Linux x86_64; rv:31.0) Gecko/20100101 Firefox/31.0                                                                            1\n",
       "\"Mozilla/5.0 (Macintosh; Intel Mac OS X 10_8_5) AppleWebKit/537.36 (KHTML, like Gecko) Chrome/37.0.2062.94 Safari/537.36\"                       1\n",
       "\"Mozilla/5.0 (Macintosh; Intel Mac OS X 10_9_2) AppleWebKit/537.74.9 (KHTML, like Gecko) Version/7.0.2 Safari/537.74.9\"                         1\n",
       "\"Mozilla/5.0 (Windows NT 6.2; WOW64) AppleWebKit/537.36 (KHTML, like Gecko) Chrome/36.0.1985.125 Safari/537.36\"                                 1\n",
       "\"Mozilla/5.0 (Macintosh; Intel Mac OS X 10_6_8) AppleWebKit/537.36 (KHTML, like Gecko) Chrome/36.0.1985.143 Safari/537.36\"                      1\n",
       "Mozilla/5.0 (compatible; MSIE 10.0; Windows NT 6.1; WOW64; Trident/6.0)                                                                         1\n",
       "Mozilla/5.0 (Windows NT 6.1; WOW64; rv:30.0) Gecko/20100101 Firefox/30.0                                                                        1\n",
       "\"Mozilla/5.0 (iPad; CPU OS 7_1_1 like Mac OS X) AppleWebKit/537.51.2 (KHTML, like Gecko) Version/7.0 Mobile/11D201 Safari/9537.53\"              1\n",
       "\"Mozilla/5.0 (Windows NT 6.1) AppleWebKit/537.36 (KHTML, like Gecko) Chrome/36.0.1985.125 Safari/537.36\"                                        1\n",
       "\"Mozilla/5.0 (iPhone; CPU iPhone OS 7_1_1 like Mac OS X) AppleWebKit/537.51.2 (KHTML, like Gecko) Version/7.0 Mobile/11D201 Safari/9537.53\"     1\n",
       "Mozilla/5.0 (Windows NT 6.0; rv:31.0) Gecko/20100101 Firefox/31.0                                                                               1\n",
       "\"Mozilla/5.0 (Macintosh; Intel Mac OS X 10_10) AppleWebKit/600.1.3 (KHTML, like Gecko) Version/8.0 Safari/600.1.3\"                              1\n",
       "\"Mozilla/5.0 (Macintosh; Intel Mac OS X 10_8_5) AppleWebKit/537.36 (KHTML, like Gecko) Chrome/36.0.1985.143 Safari/537.36\"                      1\n",
       "Name: userAgent, dtype: int64"
      ]
     },
     "execution_count": 118,
     "metadata": {},
     "output_type": "execute_result"
    }
   ],
   "source": [
    "# possible list of operating systems\n",
    "OS_df.userAgent.value_counts()"
   ]
  },
  {
   "cell_type": "code",
   "execution_count": 119,
   "metadata": {
    "pycharm": {
     "name": "#%%\n"
    }
   },
   "outputs": [],
   "source": [
    "# list of operating systems\n",
    "os_list = [\"Windows\", \"Linux\", \"Mac\", \"iPhone\", \"iPad\"]"
   ]
  },
  {
   "cell_type": "code",
   "execution_count": 120,
   "metadata": {
    "pycharm": {
     "name": "#%%\n"
    }
   },
   "outputs": [],
   "source": [
    "# create an 'OS' column \n",
    "OS_df['OS'] = OS_df.userAgent.str.extract(f'(?i)({\"|\".join(os_list)})')"
   ]
  },
  {
   "cell_type": "code",
   "execution_count": 121,
   "metadata": {
    "pycharm": {
     "name": "#%%\n"
    }
   },
   "outputs": [
    {
     "data": {
      "text/html": [
       "<div>\n",
       "<style scoped>\n",
       "    .dataframe tbody tr th:only-of-type {\n",
       "        vertical-align: middle;\n",
       "    }\n",
       "\n",
       "    .dataframe tbody tr th {\n",
       "        vertical-align: top;\n",
       "    }\n",
       "\n",
       "    .dataframe thead th {\n",
       "        text-align: right;\n",
       "    }\n",
       "</style>\n",
       "<table border=\"1\" class=\"dataframe\">\n",
       "  <thead>\n",
       "    <tr style=\"text-align: right;\">\n",
       "      <th></th>\n",
       "      <th>userId</th>\n",
       "      <th>userAgent</th>\n",
       "      <th>Churn</th>\n",
       "      <th>OS</th>\n",
       "    </tr>\n",
       "  </thead>\n",
       "  <tbody>\n",
       "    <tr>\n",
       "      <th>0</th>\n",
       "      <td>100010</td>\n",
       "      <td>\"Mozilla/5.0 (iPhone; CPU iPhone OS 7_1_2 like...</td>\n",
       "      <td>0</td>\n",
       "      <td>iPhone</td>\n",
       "    </tr>\n",
       "    <tr>\n",
       "      <th>1</th>\n",
       "      <td>200002</td>\n",
       "      <td>\"Mozilla/5.0 (iPhone; CPU iPhone OS 7_1 like M...</td>\n",
       "      <td>0</td>\n",
       "      <td>iPhone</td>\n",
       "    </tr>\n",
       "    <tr>\n",
       "      <th>2</th>\n",
       "      <td>125</td>\n",
       "      <td>\"Mozilla/5.0 (Macintosh; Intel Mac OS X 10_9_4...</td>\n",
       "      <td>1</td>\n",
       "      <td>Mac</td>\n",
       "    </tr>\n",
       "    <tr>\n",
       "      <th>3</th>\n",
       "      <td>124</td>\n",
       "      <td>\"Mozilla/5.0 (Macintosh; Intel Mac OS X 10_9_4...</td>\n",
       "      <td>0</td>\n",
       "      <td>Mac</td>\n",
       "    </tr>\n",
       "    <tr>\n",
       "      <th>4</th>\n",
       "      <td>51</td>\n",
       "      <td>\"Mozilla/5.0 (Windows NT 6.1; WOW64) AppleWebK...</td>\n",
       "      <td>1</td>\n",
       "      <td>Windows</td>\n",
       "    </tr>\n",
       "    <tr>\n",
       "      <th>5</th>\n",
       "      <td>7</td>\n",
       "      <td>Mozilla/5.0 (Windows NT 6.1; rv:31.0) Gecko/20...</td>\n",
       "      <td>0</td>\n",
       "      <td>Windows</td>\n",
       "    </tr>\n",
       "    <tr>\n",
       "      <th>6</th>\n",
       "      <td>15</td>\n",
       "      <td>\"Mozilla/5.0 (Windows NT 6.1; WOW64) AppleWebK...</td>\n",
       "      <td>0</td>\n",
       "      <td>Windows</td>\n",
       "    </tr>\n",
       "    <tr>\n",
       "      <th>7</th>\n",
       "      <td>54</td>\n",
       "      <td>Mozilla/5.0 (Windows NT 6.1; WOW64; rv:32.0) G...</td>\n",
       "      <td>1</td>\n",
       "      <td>Windows</td>\n",
       "    </tr>\n",
       "    <tr>\n",
       "      <th>8</th>\n",
       "      <td>155</td>\n",
       "      <td>\"Mozilla/5.0 (Windows NT 6.1; WOW64) AppleWebK...</td>\n",
       "      <td>0</td>\n",
       "      <td>Windows</td>\n",
       "    </tr>\n",
       "    <tr>\n",
       "      <th>9</th>\n",
       "      <td>100014</td>\n",
       "      <td>\"Mozilla/5.0 (Windows NT 6.1; WOW64) AppleWebK...</td>\n",
       "      <td>1</td>\n",
       "      <td>Windows</td>\n",
       "    </tr>\n",
       "    <tr>\n",
       "      <th>10</th>\n",
       "      <td>132</td>\n",
       "      <td>\"Mozilla/5.0 (Macintosh; Intel Mac OS X 10_9_4...</td>\n",
       "      <td>0</td>\n",
       "      <td>Mac</td>\n",
       "    </tr>\n",
       "    <tr>\n",
       "      <th>11</th>\n",
       "      <td>154</td>\n",
       "      <td>\"Mozilla/5.0 (Windows NT 6.1; WOW64) AppleWebK...</td>\n",
       "      <td>0</td>\n",
       "      <td>Windows</td>\n",
       "    </tr>\n",
       "    <tr>\n",
       "      <th>12</th>\n",
       "      <td>101</td>\n",
       "      <td>Mozilla/5.0 (Windows NT 6.2; WOW64; rv:31.0) G...</td>\n",
       "      <td>1</td>\n",
       "      <td>Windows</td>\n",
       "    </tr>\n",
       "    <tr>\n",
       "      <th>13</th>\n",
       "      <td>11</td>\n",
       "      <td>Mozilla/5.0 (Windows NT 6.1; WOW64; Trident/7....</td>\n",
       "      <td>0</td>\n",
       "      <td>Windows</td>\n",
       "    </tr>\n",
       "    <tr>\n",
       "      <th>14</th>\n",
       "      <td>138</td>\n",
       "      <td>\"Mozilla/5.0 (iPad; CPU OS 7_1_1 like Mac OS X...</td>\n",
       "      <td>0</td>\n",
       "      <td>iPad</td>\n",
       "    </tr>\n",
       "    <tr>\n",
       "      <th>15</th>\n",
       "      <td>300017</td>\n",
       "      <td>\"Mozilla/5.0 (Macintosh; Intel Mac OS X 10_10)...</td>\n",
       "      <td>0</td>\n",
       "      <td>Mac</td>\n",
       "    </tr>\n",
       "    <tr>\n",
       "      <th>16</th>\n",
       "      <td>100021</td>\n",
       "      <td>\"Mozilla/5.0 (Macintosh; Intel Mac OS X 10_9_4...</td>\n",
       "      <td>1</td>\n",
       "      <td>Mac</td>\n",
       "    </tr>\n",
       "    <tr>\n",
       "      <th>17</th>\n",
       "      <td>29</td>\n",
       "      <td>\"Mozilla/5.0 (Macintosh; Intel Mac OS X 10_9_4...</td>\n",
       "      <td>1</td>\n",
       "      <td>Mac</td>\n",
       "    </tr>\n",
       "    <tr>\n",
       "      <th>18</th>\n",
       "      <td>69</td>\n",
       "      <td>\"Mozilla/5.0 (Windows NT 6.1; WOW64) AppleWebK...</td>\n",
       "      <td>0</td>\n",
       "      <td>Windows</td>\n",
       "    </tr>\n",
       "    <tr>\n",
       "      <th>19</th>\n",
       "      <td>112</td>\n",
       "      <td>Mozilla/5.0 (Windows NT 6.1; WOW64; rv:31.0) G...</td>\n",
       "      <td>0</td>\n",
       "      <td>Windows</td>\n",
       "    </tr>\n",
       "    <tr>\n",
       "      <th>20</th>\n",
       "      <td>42</td>\n",
       "      <td>\"Mozilla/5.0 (Windows NT 6.1) AppleWebKit/537....</td>\n",
       "      <td>0</td>\n",
       "      <td>Windows</td>\n",
       "    </tr>\n",
       "    <tr>\n",
       "      <th>21</th>\n",
       "      <td>73</td>\n",
       "      <td>Mozilla/5.0 (Windows NT 6.1; WOW64; rv:31.0) G...</td>\n",
       "      <td>1</td>\n",
       "      <td>Windows</td>\n",
       "    </tr>\n",
       "    <tr>\n",
       "      <th>22</th>\n",
       "      <td>87</td>\n",
       "      <td>\"Mozilla/5.0 (Windows NT 6.1; WOW64) AppleWebK...</td>\n",
       "      <td>1</td>\n",
       "      <td>Windows</td>\n",
       "    </tr>\n",
       "    <tr>\n",
       "      <th>23</th>\n",
       "      <td>200010</td>\n",
       "      <td>Mozilla/5.0 (X11; Ubuntu; Linux x86_64; rv:31....</td>\n",
       "      <td>0</td>\n",
       "      <td>Linux</td>\n",
       "    </tr>\n",
       "    <tr>\n",
       "      <th>24</th>\n",
       "      <td>64</td>\n",
       "      <td>\"Mozilla/5.0 (Macintosh; Intel Mac OS X 10_9_4...</td>\n",
       "      <td>0</td>\n",
       "      <td>Mac</td>\n",
       "    </tr>\n",
       "    <tr>\n",
       "      <th>25</th>\n",
       "      <td>3</td>\n",
       "      <td>\"Mozilla/5.0 (Windows NT 6.1; WOW64) AppleWebK...</td>\n",
       "      <td>1</td>\n",
       "      <td>Windows</td>\n",
       "    </tr>\n",
       "    <tr>\n",
       "      <th>26</th>\n",
       "      <td>113</td>\n",
       "      <td>\"Mozilla/5.0 (Macintosh; Intel Mac OS X 10_9_4...</td>\n",
       "      <td>0</td>\n",
       "      <td>Mac</td>\n",
       "    </tr>\n",
       "    <tr>\n",
       "      <th>27</th>\n",
       "      <td>30</td>\n",
       "      <td>Mozilla/5.0 (Windows NT 6.1; WOW64; rv:31.0) G...</td>\n",
       "      <td>0</td>\n",
       "      <td>Windows</td>\n",
       "    </tr>\n",
       "    <tr>\n",
       "      <th>28</th>\n",
       "      <td>34</td>\n",
       "      <td>\"Mozilla/5.0 (Macintosh; Intel Mac OS X 10_9_4...</td>\n",
       "      <td>0</td>\n",
       "      <td>Mac</td>\n",
       "    </tr>\n",
       "    <tr>\n",
       "      <th>29</th>\n",
       "      <td>133</td>\n",
       "      <td>\"Mozilla/5.0 (Windows NT 6.3; WOW64) AppleWebK...</td>\n",
       "      <td>0</td>\n",
       "      <td>Windows</td>\n",
       "    </tr>\n",
       "    <tr>\n",
       "      <th>...</th>\n",
       "      <td>...</td>\n",
       "      <td>...</td>\n",
       "      <td>...</td>\n",
       "      <td>...</td>\n",
       "    </tr>\n",
       "    <tr>\n",
       "      <th>195</th>\n",
       "      <td>83</td>\n",
       "      <td>\"Mozilla/5.0 (X11; Linux x86_64) AppleWebKit/5...</td>\n",
       "      <td>0</td>\n",
       "      <td>Linux</td>\n",
       "    </tr>\n",
       "    <tr>\n",
       "      <th>196</th>\n",
       "      <td>109</td>\n",
       "      <td>Mozilla/5.0 (Windows NT 6.1; WOW64; rv:31.0) G...</td>\n",
       "      <td>0</td>\n",
       "      <td>Windows</td>\n",
       "    </tr>\n",
       "    <tr>\n",
       "      <th>197</th>\n",
       "      <td>123</td>\n",
       "      <td>\"Mozilla/5.0 (iPhone; CPU iPhone OS 7_1 like M...</td>\n",
       "      <td>0</td>\n",
       "      <td>iPhone</td>\n",
       "    </tr>\n",
       "    <tr>\n",
       "      <th>198</th>\n",
       "      <td>200022</td>\n",
       "      <td>\"Mozilla/5.0 (Macintosh; Intel Mac OS X 10_7_5...</td>\n",
       "      <td>0</td>\n",
       "      <td>Mac</td>\n",
       "    </tr>\n",
       "    <tr>\n",
       "      <th>199</th>\n",
       "      <td>13</td>\n",
       "      <td>\"Mozilla/5.0 (iPhone; CPU iPhone OS 7_1_2 like...</td>\n",
       "      <td>0</td>\n",
       "      <td>iPhone</td>\n",
       "    </tr>\n",
       "    <tr>\n",
       "      <th>200</th>\n",
       "      <td>200019</td>\n",
       "      <td>\"Mozilla/5.0 (Macintosh; Intel Mac OS X 10_9_4...</td>\n",
       "      <td>0</td>\n",
       "      <td>Mac</td>\n",
       "    </tr>\n",
       "    <tr>\n",
       "      <th>201</th>\n",
       "      <td>14</td>\n",
       "      <td>Mozilla/5.0 (Macintosh; Intel Mac OS X 10.9; r...</td>\n",
       "      <td>0</td>\n",
       "      <td>Mac</td>\n",
       "    </tr>\n",
       "    <tr>\n",
       "      <th>202</th>\n",
       "      <td>21</td>\n",
       "      <td>Mozilla/5.0 (Windows NT 6.3; WOW64; rv:31.0) G...</td>\n",
       "      <td>0</td>\n",
       "      <td>Windows</td>\n",
       "    </tr>\n",
       "    <tr>\n",
       "      <th>203</th>\n",
       "      <td>66</td>\n",
       "      <td>Mozilla/5.0 (Windows NT 6.1; WOW64; rv:31.0) G...</td>\n",
       "      <td>0</td>\n",
       "      <td>Windows</td>\n",
       "    </tr>\n",
       "    <tr>\n",
       "      <th>204</th>\n",
       "      <td>91</td>\n",
       "      <td>Mozilla/5.0 (Windows NT 6.3; WOW64; rv:31.0) G...</td>\n",
       "      <td>0</td>\n",
       "      <td>Windows</td>\n",
       "    </tr>\n",
       "    <tr>\n",
       "      <th>205</th>\n",
       "      <td>94</td>\n",
       "      <td>\"Mozilla/5.0 (Windows NT 6.2; WOW64) AppleWebK...</td>\n",
       "      <td>0</td>\n",
       "      <td>Windows</td>\n",
       "    </tr>\n",
       "    <tr>\n",
       "      <th>206</th>\n",
       "      <td>137</td>\n",
       "      <td>\"Mozilla/5.0 (Macintosh; Intel Mac OS X 10_9_4...</td>\n",
       "      <td>0</td>\n",
       "      <td>Mac</td>\n",
       "    </tr>\n",
       "    <tr>\n",
       "      <th>207</th>\n",
       "      <td>72</td>\n",
       "      <td>\"Mozilla/5.0 (Macintosh; Intel Mac OS X 10_7_5...</td>\n",
       "      <td>0</td>\n",
       "      <td>Mac</td>\n",
       "    </tr>\n",
       "    <tr>\n",
       "      <th>208</th>\n",
       "      <td>74</td>\n",
       "      <td>\"Mozilla/5.0 (Macintosh; Intel Mac OS X 10_9_4...</td>\n",
       "      <td>0</td>\n",
       "      <td>Mac</td>\n",
       "    </tr>\n",
       "    <tr>\n",
       "      <th>209</th>\n",
       "      <td>300016</td>\n",
       "      <td>Mozilla/5.0 (Windows NT 6.1; rv:31.0) Gecko/20...</td>\n",
       "      <td>0</td>\n",
       "      <td>Windows</td>\n",
       "    </tr>\n",
       "    <tr>\n",
       "      <th>210</th>\n",
       "      <td>151</td>\n",
       "      <td>\"Mozilla/5.0 (Macintosh; Intel Mac OS X 10_9_4...</td>\n",
       "      <td>0</td>\n",
       "      <td>Mac</td>\n",
       "    </tr>\n",
       "    <tr>\n",
       "      <th>211</th>\n",
       "      <td>200015</td>\n",
       "      <td>\"Mozilla/5.0 (iPhone; CPU iPhone OS 7_1_2 like...</td>\n",
       "      <td>1</td>\n",
       "      <td>iPhone</td>\n",
       "    </tr>\n",
       "    <tr>\n",
       "      <th>212</th>\n",
       "      <td>129</td>\n",
       "      <td>\"Mozilla/5.0 (Windows NT 6.3; WOW64) AppleWebK...</td>\n",
       "      <td>1</td>\n",
       "      <td>Windows</td>\n",
       "    </tr>\n",
       "    <tr>\n",
       "      <th>213</th>\n",
       "      <td>76</td>\n",
       "      <td>\"Mozilla/5.0 (Macintosh; Intel Mac OS X 10_9_4...</td>\n",
       "      <td>0</td>\n",
       "      <td>Mac</td>\n",
       "    </tr>\n",
       "    <tr>\n",
       "      <th>214</th>\n",
       "      <td>2</td>\n",
       "      <td>\"Mozilla/5.0 (Windows NT 6.1; WOW64) AppleWebK...</td>\n",
       "      <td>0</td>\n",
       "      <td>Windows</td>\n",
       "    </tr>\n",
       "    <tr>\n",
       "      <th>215</th>\n",
       "      <td>100002</td>\n",
       "      <td>Mozilla/5.0 (Windows NT 6.1; WOW64; rv:32.0) G...</td>\n",
       "      <td>0</td>\n",
       "      <td>Windows</td>\n",
       "    </tr>\n",
       "    <tr>\n",
       "      <th>216</th>\n",
       "      <td>100018</td>\n",
       "      <td>\"Mozilla/5.0 (Macintosh; Intel Mac OS X 10_10)...</td>\n",
       "      <td>0</td>\n",
       "      <td>Mac</td>\n",
       "    </tr>\n",
       "    <tr>\n",
       "      <th>217</th>\n",
       "      <td>80</td>\n",
       "      <td>\"Mozilla/5.0 (Macintosh; Intel Mac OS X 10_9_4...</td>\n",
       "      <td>0</td>\n",
       "      <td>Mac</td>\n",
       "    </tr>\n",
       "    <tr>\n",
       "      <th>218</th>\n",
       "      <td>145</td>\n",
       "      <td>\"Mozilla/5.0 (X11; Linux x86_64) AppleWebKit/5...</td>\n",
       "      <td>0</td>\n",
       "      <td>Linux</td>\n",
       "    </tr>\n",
       "    <tr>\n",
       "      <th>219</th>\n",
       "      <td>50</td>\n",
       "      <td>\"Mozilla/5.0 (Windows NT 6.1; WOW64) AppleWebK...</td>\n",
       "      <td>0</td>\n",
       "      <td>Windows</td>\n",
       "    </tr>\n",
       "    <tr>\n",
       "      <th>220</th>\n",
       "      <td>45</td>\n",
       "      <td>\"Mozilla/5.0 (Windows NT 6.3; WOW64) AppleWebK...</td>\n",
       "      <td>0</td>\n",
       "      <td>Windows</td>\n",
       "    </tr>\n",
       "    <tr>\n",
       "      <th>221</th>\n",
       "      <td>57</td>\n",
       "      <td>\"Mozilla/5.0 (Macintosh; Intel Mac OS X 10_9_4...</td>\n",
       "      <td>0</td>\n",
       "      <td>Mac</td>\n",
       "    </tr>\n",
       "    <tr>\n",
       "      <th>222</th>\n",
       "      <td>200021</td>\n",
       "      <td>Mozilla/5.0 (Macintosh; Intel Mac OS X 10.7; r...</td>\n",
       "      <td>1</td>\n",
       "      <td>Mac</td>\n",
       "    </tr>\n",
       "    <tr>\n",
       "      <th>223</th>\n",
       "      <td>119</td>\n",
       "      <td>\"Mozilla/5.0 (Windows NT 6.2; WOW64) AppleWebK...</td>\n",
       "      <td>0</td>\n",
       "      <td>Windows</td>\n",
       "    </tr>\n",
       "    <tr>\n",
       "      <th>224</th>\n",
       "      <td>100001</td>\n",
       "      <td>\"Mozilla/5.0 (Macintosh; Intel Mac OS X 10_6_8...</td>\n",
       "      <td>1</td>\n",
       "      <td>Mac</td>\n",
       "    </tr>\n",
       "  </tbody>\n",
       "</table>\n",
       "<p>225 rows × 4 columns</p>\n",
       "</div>"
      ],
      "text/plain": [
       "     userId                                          userAgent  Churn       OS\n",
       "0    100010  \"Mozilla/5.0 (iPhone; CPU iPhone OS 7_1_2 like...      0   iPhone\n",
       "1    200002  \"Mozilla/5.0 (iPhone; CPU iPhone OS 7_1 like M...      0   iPhone\n",
       "2       125  \"Mozilla/5.0 (Macintosh; Intel Mac OS X 10_9_4...      1      Mac\n",
       "3       124  \"Mozilla/5.0 (Macintosh; Intel Mac OS X 10_9_4...      0      Mac\n",
       "4        51  \"Mozilla/5.0 (Windows NT 6.1; WOW64) AppleWebK...      1  Windows\n",
       "5         7  Mozilla/5.0 (Windows NT 6.1; rv:31.0) Gecko/20...      0  Windows\n",
       "6        15  \"Mozilla/5.0 (Windows NT 6.1; WOW64) AppleWebK...      0  Windows\n",
       "7        54  Mozilla/5.0 (Windows NT 6.1; WOW64; rv:32.0) G...      1  Windows\n",
       "8       155  \"Mozilla/5.0 (Windows NT 6.1; WOW64) AppleWebK...      0  Windows\n",
       "9    100014  \"Mozilla/5.0 (Windows NT 6.1; WOW64) AppleWebK...      1  Windows\n",
       "10      132  \"Mozilla/5.0 (Macintosh; Intel Mac OS X 10_9_4...      0      Mac\n",
       "11      154  \"Mozilla/5.0 (Windows NT 6.1; WOW64) AppleWebK...      0  Windows\n",
       "12      101  Mozilla/5.0 (Windows NT 6.2; WOW64; rv:31.0) G...      1  Windows\n",
       "13       11  Mozilla/5.0 (Windows NT 6.1; WOW64; Trident/7....      0  Windows\n",
       "14      138  \"Mozilla/5.0 (iPad; CPU OS 7_1_1 like Mac OS X...      0     iPad\n",
       "15   300017  \"Mozilla/5.0 (Macintosh; Intel Mac OS X 10_10)...      0      Mac\n",
       "16   100021  \"Mozilla/5.0 (Macintosh; Intel Mac OS X 10_9_4...      1      Mac\n",
       "17       29  \"Mozilla/5.0 (Macintosh; Intel Mac OS X 10_9_4...      1      Mac\n",
       "18       69  \"Mozilla/5.0 (Windows NT 6.1; WOW64) AppleWebK...      0  Windows\n",
       "19      112  Mozilla/5.0 (Windows NT 6.1; WOW64; rv:31.0) G...      0  Windows\n",
       "20       42  \"Mozilla/5.0 (Windows NT 6.1) AppleWebKit/537....      0  Windows\n",
       "21       73  Mozilla/5.0 (Windows NT 6.1; WOW64; rv:31.0) G...      1  Windows\n",
       "22       87  \"Mozilla/5.0 (Windows NT 6.1; WOW64) AppleWebK...      1  Windows\n",
       "23   200010  Mozilla/5.0 (X11; Ubuntu; Linux x86_64; rv:31....      0    Linux\n",
       "24       64  \"Mozilla/5.0 (Macintosh; Intel Mac OS X 10_9_4...      0      Mac\n",
       "25        3  \"Mozilla/5.0 (Windows NT 6.1; WOW64) AppleWebK...      1  Windows\n",
       "26      113  \"Mozilla/5.0 (Macintosh; Intel Mac OS X 10_9_4...      0      Mac\n",
       "27       30  Mozilla/5.0 (Windows NT 6.1; WOW64; rv:31.0) G...      0  Windows\n",
       "28       34  \"Mozilla/5.0 (Macintosh; Intel Mac OS X 10_9_4...      0      Mac\n",
       "29      133  \"Mozilla/5.0 (Windows NT 6.3; WOW64) AppleWebK...      0  Windows\n",
       "..      ...                                                ...    ...      ...\n",
       "195      83  \"Mozilla/5.0 (X11; Linux x86_64) AppleWebKit/5...      0    Linux\n",
       "196     109  Mozilla/5.0 (Windows NT 6.1; WOW64; rv:31.0) G...      0  Windows\n",
       "197     123  \"Mozilla/5.0 (iPhone; CPU iPhone OS 7_1 like M...      0   iPhone\n",
       "198  200022  \"Mozilla/5.0 (Macintosh; Intel Mac OS X 10_7_5...      0      Mac\n",
       "199      13  \"Mozilla/5.0 (iPhone; CPU iPhone OS 7_1_2 like...      0   iPhone\n",
       "200  200019  \"Mozilla/5.0 (Macintosh; Intel Mac OS X 10_9_4...      0      Mac\n",
       "201      14  Mozilla/5.0 (Macintosh; Intel Mac OS X 10.9; r...      0      Mac\n",
       "202      21  Mozilla/5.0 (Windows NT 6.3; WOW64; rv:31.0) G...      0  Windows\n",
       "203      66  Mozilla/5.0 (Windows NT 6.1; WOW64; rv:31.0) G...      0  Windows\n",
       "204      91  Mozilla/5.0 (Windows NT 6.3; WOW64; rv:31.0) G...      0  Windows\n",
       "205      94  \"Mozilla/5.0 (Windows NT 6.2; WOW64) AppleWebK...      0  Windows\n",
       "206     137  \"Mozilla/5.0 (Macintosh; Intel Mac OS X 10_9_4...      0      Mac\n",
       "207      72  \"Mozilla/5.0 (Macintosh; Intel Mac OS X 10_7_5...      0      Mac\n",
       "208      74  \"Mozilla/5.0 (Macintosh; Intel Mac OS X 10_9_4...      0      Mac\n",
       "209  300016  Mozilla/5.0 (Windows NT 6.1; rv:31.0) Gecko/20...      0  Windows\n",
       "210     151  \"Mozilla/5.0 (Macintosh; Intel Mac OS X 10_9_4...      0      Mac\n",
       "211  200015  \"Mozilla/5.0 (iPhone; CPU iPhone OS 7_1_2 like...      1   iPhone\n",
       "212     129  \"Mozilla/5.0 (Windows NT 6.3; WOW64) AppleWebK...      1  Windows\n",
       "213      76  \"Mozilla/5.0 (Macintosh; Intel Mac OS X 10_9_4...      0      Mac\n",
       "214       2  \"Mozilla/5.0 (Windows NT 6.1; WOW64) AppleWebK...      0  Windows\n",
       "215  100002  Mozilla/5.0 (Windows NT 6.1; WOW64; rv:32.0) G...      0  Windows\n",
       "216  100018  \"Mozilla/5.0 (Macintosh; Intel Mac OS X 10_10)...      0      Mac\n",
       "217      80  \"Mozilla/5.0 (Macintosh; Intel Mac OS X 10_9_4...      0      Mac\n",
       "218     145  \"Mozilla/5.0 (X11; Linux x86_64) AppleWebKit/5...      0    Linux\n",
       "219      50  \"Mozilla/5.0 (Windows NT 6.1; WOW64) AppleWebK...      0  Windows\n",
       "220      45  \"Mozilla/5.0 (Windows NT 6.3; WOW64) AppleWebK...      0  Windows\n",
       "221      57  \"Mozilla/5.0 (Macintosh; Intel Mac OS X 10_9_4...      0      Mac\n",
       "222  200021  Mozilla/5.0 (Macintosh; Intel Mac OS X 10.7; r...      1      Mac\n",
       "223     119  \"Mozilla/5.0 (Windows NT 6.2; WOW64) AppleWebK...      0  Windows\n",
       "224  100001  \"Mozilla/5.0 (Macintosh; Intel Mac OS X 10_6_8...      1      Mac\n",
       "\n",
       "[225 rows x 4 columns]"
      ]
     },
     "execution_count": 121,
     "metadata": {},
     "output_type": "execute_result"
    }
   ],
   "source": [
    "OS_df"
   ]
  },
  {
   "cell_type": "code",
   "execution_count": 122,
   "metadata": {
    "pycharm": {
     "name": "#%%\n"
    }
   },
   "outputs": [
    {
     "data": {
      "text/plain": [
       "Windows    111\n",
       "Mac         86\n",
       "iPhone      13\n",
       "Linux       12\n",
       "iPad         3\n",
       "Name: OS, dtype: int64"
      ]
     },
     "execution_count": 122,
     "metadata": {},
     "output_type": "execute_result"
    }
   ],
   "source": [
    "OS_df['OS'].value_counts()"
   ]
  },
  {
   "cell_type": "code",
   "execution_count": 123,
   "metadata": {
    "pycharm": {
     "name": "#%%\n"
    }
   },
   "outputs": [
    {
     "data": {
      "image/png": "[encoded data removed]",
      "text/plain": [
       "<matplotlib.figure.Figure at 0x7f9e243b5278>"
      ]
     },
     "metadata": {
      "needs_background": "light"
     },
     "output_type": "display_data"
    }
   ],
   "source": [
    "# plot count for churn and non churn users\n",
    "plt.figure(figsize=[10,8])\n",
    "sns.countplot(data = OS_df, x = 'OS', hue ='Churn', palette=['c', 'b'])\n",
    "plt.title('churned vs non-churned users based on OS')\n",
    "plt.legend(loc = 1, ncol = 2, framealpha =1, title = 'level');"
   ]
  },
  {
   "cell_type": "markdown",
   "metadata": {
    "pycharm": {
     "name": "#%% md\n"
    }
   },
   "source": [
    "This might not be effective in terms of making any impact on churn but as we can see the most users is on Windows and least uses iPad."
   ]
  },
  {
   "cell_type": "markdown",
   "metadata": {
    "pycharm": {
     "name": "#%% md\n"
    }
   },
   "source": [
    "Like OS, we can also check for the browser's impact on the churn if any."
   ]
  },
  {
   "cell_type": "code",
   "execution_count": 124,
   "metadata": {
    "pycharm": {
     "name": "#%%\n"
    }
   },
   "outputs": [],
   "source": [
    "browser_list = [\"Chrome\", \"Firefox\", \"Safari\", \"Trident\"]"
   ]
  },
  {
   "cell_type": "code",
   "execution_count": 125,
   "metadata": {
    "pycharm": {
     "name": "#%%\n"
    }
   },
   "outputs": [],
   "source": [
    "OS_df['browser'] = OS_df.userAgent.str.extract(f'(?i)({\"|\".join(browser_list)})')"
   ]
  },
  {
   "cell_type": "code",
   "execution_count": 126,
   "metadata": {
    "pycharm": {
     "name": "#%%\n"
    }
   },
   "outputs": [
    {
     "data": {
      "text/plain": [
       "Chrome     117\n",
       "Firefox     50\n",
       "Safari      46\n",
       "Trident     12\n",
       "Name: browser, dtype: int64"
      ]
     },
     "execution_count": 126,
     "metadata": {},
     "output_type": "execute_result"
    }
   ],
   "source": [
    "OS_df['browser'].value_counts()"
   ]
  },
  {
   "cell_type": "markdown",
   "metadata": {
    "pycharm": {
     "name": "#%% md\n"
    }
   },
   "source": [
    "Trident is an Internet Explorer software.So change it to 'Internet Explorer'."
   ]
  },
  {
   "cell_type": "code",
   "execution_count": 127,
   "metadata": {
    "pycharm": {
     "name": "#%%\n"
    }
   },
   "outputs": [],
   "source": [
    "OS_df['browser'].replace({\"Trident\":\"Internet Explorer\"}, inplace = True)"
   ]
  },
  {
   "cell_type": "code",
   "execution_count": 128,
   "metadata": {
    "pycharm": {
     "name": "#%%\n"
    }
   },
   "outputs": [
    {
     "data": {
      "image/png": "[encoded data removed]",
      "text/plain": [
       "<matplotlib.figure.Figure at 0x7f9e3118f320>"
      ]
     },
     "metadata": {
      "needs_background": "light"
     },
     "output_type": "display_data"
    }
   ],
   "source": [
    "plt.figure(figsize=[10,8])\n",
    "sns.countplot(data = OS_df, x = 'browser', hue ='Churn', palette=['g', 'k'])\n",
    "plt.title('Churned vs. Non churned Users by Browser')\n",
    "plt.legend(loc = 1, ncol = 2, framealpha =1, title = 'level');"
   ]
  },
  {
   "cell_type": "markdown",
   "metadata": {
    "pycharm": {
     "name": "#%% md\n"
    }
   },
   "source": [
    "few points can be drawn from the above chart such as, chrome is widely the most popular and used browser. Internet Explorer is least used browser and firefox is the browser with highest churning rate. Although it's not very clear about its impact on the churn overall . So this won't be coonsidered for modelling."
   ]
  },
  {
   "cell_type": "markdown",
   "metadata": {
    "pycharm": {
     "name": "#%% md\n"
    }
   },
   "source": [
    "# Feature Engineering\n",
    "<a class=\"anchor\" id=\"eng\"></a>\n",
    "\n",
    "Now that we have completed the EDA esction, we can build on top of those features that seem the most effective to train our model for best results."
   ]
  },
  {
   "cell_type": "markdown",
   "metadata": {
    "pycharm": {
     "name": "#%% md\n"
    }
   },
   "source": [
    "The features we'll work on building out are:\n",
    "- Categorical:\n",
    " - gender\n",
    " - level\n",
    "\n",
    "- Numerical:\n",
    " - number of songs per session\n",
    " - number of rollads action\n",
    " - number of thumbs-down action\n",
    " - number of thumbs-up action\n",
    " - number of friends that have been added\n",
    " - number of songs added to the playlist\n",
    " - number of different artists listened to on Sparkify\n",
    " - number of days on the app\n",
    " \n",
    "We then add a churn label and join these all together to create the final dataframe with each row representing all the information regarding every individual."
   ]
  },
  {
   "cell_type": "markdown",
   "metadata": {
    "pycharm": {
     "name": "#%% md\n"
    }
   },
   "source": [
    "Let's work on the categorical features first and convert them into numeric variables."
   ]
  },
  {
   "cell_type": "markdown",
   "metadata": {
    "pycharm": {
     "name": "#%% md\n"
    }
   },
   "source": [
    "### Gender"
   ]
  },
  {
   "cell_type": "markdown",
   "metadata": {
    "pycharm": {
     "name": "#%% md\n"
    }
   },
   "source": [
    "Assign a 1 for 'female' and a 0 for 'male'."
   ]
  },
  {
   "cell_type": "code",
   "execution_count": 129,
   "metadata": {
    "pycharm": {
     "name": "#%%\n"
    }
   },
   "outputs": [],
   "source": [
    "df1_gender = filtered_df.select(['userId', 'gender']).dropDuplicates()"
   ]
  },
  {
   "cell_type": "code",
   "execution_count": 130,
   "metadata": {
    "pycharm": {
     "name": "#%%\n"
    }
   },
   "outputs": [],
   "source": [
    "# add a gender column \n",
    "df1_gender = df1_gender.withColumn('gender', when(col('gender') == 'F', 1).otherwise(0))"
   ]
  },
  {
   "cell_type": "code",
   "execution_count": 131,
   "metadata": {
    "pycharm": {
     "name": "#%%\n"
    }
   },
   "outputs": [
    {
     "data": {
      "text/plain": [
       "225"
      ]
     },
     "execution_count": 131,
     "metadata": {},
     "output_type": "execute_result"
    }
   ],
   "source": [
    "df1_gender.count()"
   ]
  },
  {
   "cell_type": "code",
   "execution_count": 132,
   "metadata": {
    "pycharm": {
     "name": "#%%\n"
    }
   },
   "outputs": [
    {
     "name": "stdout",
     "output_type": "stream",
     "text": [
      "+------+------+\n",
      "|userId|gender|\n",
      "+------+------+\n",
      "|    44|     1|\n",
      "|    46|     1|\n",
      "|    41|     1|\n",
      "|    72|     1|\n",
      "|300023|     1|\n",
      "|    39|     1|\n",
      "|100010|     1|\n",
      "|    40|     1|\n",
      "|    94|     1|\n",
      "|    35|     1|\n",
      "|    75|     1|\n",
      "|   116|     1|\n",
      "|200001|     0|\n",
      "|200020|     0|\n",
      "|100008|     1|\n",
      "|200015|     0|\n",
      "|   100|     0|\n",
      "|100006|     1|\n",
      "|300005|     1|\n",
      "|    25|     1|\n",
      "+------+------+\n",
      "only showing top 20 rows\n",
      "\n"
     ]
    }
   ],
   "source": [
    "df1_gender.show()"
   ]
  },
  {
   "cell_type": "code",
   "execution_count": 133,
   "metadata": {},
   "outputs": [
    {
     "data": {
      "text/plain": [
       "DataFrame[summary: string, userId: string, gender: string]"
      ]
     },
     "execution_count": 133,
     "metadata": {},
     "output_type": "execute_result"
    }
   ],
   "source": [
    "df1_gender.describe()"
   ]
  },
  {
   "cell_type": "markdown",
   "metadata": {
    "pycharm": {
     "name": "#%% md\n"
    }
   },
   "source": [
    "### Level"
   ]
  },
  {
   "cell_type": "markdown",
   "metadata": {
    "pycharm": {
     "name": "#%% md\n"
    }
   },
   "source": [
    "the level column has 2 values either paid or free and level can change. therefore we'll only consider the most recent one."
   ]
  },
  {
   "cell_type": "code",
   "execution_count": 134,
   "metadata": {
    "pycharm": {
     "name": "#%%\n"
    }
   },
   "outputs": [],
   "source": [
    "df2_level = filtered_df.select(['userId', 'level', 'ts']).dropDuplicates().sort('userId')"
   ]
  },
  {
   "cell_type": "code",
   "execution_count": 135,
   "metadata": {
    "pycharm": {
     "name": "#%%\n"
    }
   },
   "outputs": [],
   "source": [
    "w = Window.partitionBy(\"userId\").orderBy(desc(\"ts\"))"
   ]
  },
  {
   "cell_type": "code",
   "execution_count": 136,
   "metadata": {
    "pycharm": {
     "name": "#%%\n"
    }
   },
   "outputs": [],
   "source": [
    "df2_level = df2_level.withColumn(\"Rank\", dense_rank().over(w))"
   ]
  },
  {
   "cell_type": "code",
   "execution_count": 137,
   "metadata": {
    "pycharm": {
     "name": "#%%\n"
    }
   },
   "outputs": [
    {
     "name": "stdout",
     "output_type": "stream",
     "text": [
      "+------+-----+-------------+----+\n",
      "|userId|level|           ts|Rank|\n",
      "+------+-----+-------------+----+\n",
      "|    10| paid|1542631788000|   1|\n",
      "|    10| paid|1542631753000|   2|\n",
      "|    10| paid|1542631690000|   3|\n",
      "|    10| paid|1542631518000|   4|\n",
      "|    10| paid|1542631517000|   5|\n",
      "|    10| paid|1542631090000|   6|\n",
      "|    10| paid|1542630866000|   7|\n",
      "|    10| paid|1542630637000|   8|\n",
      "|    10| paid|1542630407000|   9|\n",
      "|    10| paid|1542630394000|  10|\n",
      "|    10| paid|1542630248000|  11|\n",
      "|    10| paid|1542630247000|  12|\n",
      "|    10| paid|1542630029000|  13|\n",
      "|    10| paid|1542629861000|  14|\n",
      "|    10| paid|1542629636000|  15|\n",
      "|    10| paid|1542629464000|  16|\n",
      "|    10| paid|1542629238000|  17|\n",
      "|    10| paid|1542629029000|  18|\n",
      "|    10| paid|1542629028000|  19|\n",
      "|    10| paid|1542628798000|  20|\n",
      "+------+-----+-------------+----+\n",
      "only showing top 20 rows\n",
      "\n"
     ]
    }
   ],
   "source": [
    "df2_level.show()"
   ]
  },
  {
   "cell_type": "code",
   "execution_count": 138,
   "metadata": {
    "pycharm": {
     "name": "#%%\n"
    }
   },
   "outputs": [],
   "source": [
    "df2_level = df2_level.filter(df2_level.Rank == 1).drop(df2_level.Rank)"
   ]
  },
  {
   "cell_type": "code",
   "execution_count": 139,
   "metadata": {
    "pycharm": {
     "name": "#%%\n"
    }
   },
   "outputs": [],
   "source": [
    "df2_level = df2_level.drop('ts')"
   ]
  },
  {
   "cell_type": "code",
   "execution_count": 140,
   "metadata": {
    "pycharm": {
     "name": "#%%\n"
    }
   },
   "outputs": [],
   "source": [
    "df2_level = df2_level.withColumn('level', when(col('level') == 'paid', 1).otherwise(0))"
   ]
  },
  {
   "cell_type": "code",
   "execution_count": 141,
   "metadata": {
    "pycharm": {
     "name": "#%%\n"
    }
   },
   "outputs": [
    {
     "data": {
      "text/plain": [
       "225"
      ]
     },
     "execution_count": 141,
     "metadata": {},
     "output_type": "execute_result"
    }
   ],
   "source": [
    "df2_level.count()"
   ]
  },
  {
   "cell_type": "code",
   "execution_count": 142,
   "metadata": {
    "pycharm": {
     "name": "#%%\n"
    }
   },
   "outputs": [
    {
     "name": "stdout",
     "output_type": "stream",
     "text": [
      "+------+-----+\n",
      "|userId|level|\n",
      "+------+-----+\n",
      "|    10|    1|\n",
      "|   100|    1|\n",
      "|100001|    0|\n",
      "|100002|    1|\n",
      "|100003|    0|\n",
      "|100004|    1|\n",
      "|100005|    0|\n",
      "|100006|    0|\n",
      "|100007|    1|\n",
      "|100008|    0|\n",
      "|100009|    0|\n",
      "|100010|    0|\n",
      "|100011|    0|\n",
      "|100012|    0|\n",
      "|100013|    1|\n",
      "|100014|    1|\n",
      "|100015|    1|\n",
      "|100016|    0|\n",
      "|100017|    0|\n",
      "|100018|    0|\n",
      "+------+-----+\n",
      "only showing top 20 rows\n",
      "\n"
     ]
    }
   ],
   "source": [
    "df2_level.show()"
   ]
  },
  {
   "cell_type": "code",
   "execution_count": 143,
   "metadata": {},
   "outputs": [
    {
     "data": {
      "text/html": [
       "<div>\n",
       "<style scoped>\n",
       "    .dataframe tbody tr th:only-of-type {\n",
       "        vertical-align: middle;\n",
       "    }\n",
       "\n",
       "    .dataframe tbody tr th {\n",
       "        vertical-align: top;\n",
       "    }\n",
       "\n",
       "    .dataframe thead th {\n",
       "        text-align: right;\n",
       "    }\n",
       "</style>\n",
       "<table border=\"1\" class=\"dataframe\">\n",
       "  <thead>\n",
       "    <tr style=\"text-align: right;\">\n",
       "      <th></th>\n",
       "      <th>userId</th>\n",
       "      <th>level</th>\n",
       "    </tr>\n",
       "  </thead>\n",
       "  <tbody>\n",
       "    <tr>\n",
       "      <th>0</th>\n",
       "      <td>10</td>\n",
       "      <td>1</td>\n",
       "    </tr>\n",
       "    <tr>\n",
       "      <th>1</th>\n",
       "      <td>100</td>\n",
       "      <td>1</td>\n",
       "    </tr>\n",
       "    <tr>\n",
       "      <th>2</th>\n",
       "      <td>100001</td>\n",
       "      <td>0</td>\n",
       "    </tr>\n",
       "    <tr>\n",
       "      <th>3</th>\n",
       "      <td>100002</td>\n",
       "      <td>1</td>\n",
       "    </tr>\n",
       "    <tr>\n",
       "      <th>4</th>\n",
       "      <td>100003</td>\n",
       "      <td>0</td>\n",
       "    </tr>\n",
       "    <tr>\n",
       "      <th>5</th>\n",
       "      <td>100004</td>\n",
       "      <td>1</td>\n",
       "    </tr>\n",
       "    <tr>\n",
       "      <th>6</th>\n",
       "      <td>100005</td>\n",
       "      <td>0</td>\n",
       "    </tr>\n",
       "    <tr>\n",
       "      <th>7</th>\n",
       "      <td>100006</td>\n",
       "      <td>0</td>\n",
       "    </tr>\n",
       "    <tr>\n",
       "      <th>8</th>\n",
       "      <td>100007</td>\n",
       "      <td>1</td>\n",
       "    </tr>\n",
       "    <tr>\n",
       "      <th>9</th>\n",
       "      <td>100008</td>\n",
       "      <td>0</td>\n",
       "    </tr>\n",
       "    <tr>\n",
       "      <th>10</th>\n",
       "      <td>100009</td>\n",
       "      <td>0</td>\n",
       "    </tr>\n",
       "    <tr>\n",
       "      <th>11</th>\n",
       "      <td>100010</td>\n",
       "      <td>0</td>\n",
       "    </tr>\n",
       "    <tr>\n",
       "      <th>12</th>\n",
       "      <td>100011</td>\n",
       "      <td>0</td>\n",
       "    </tr>\n",
       "    <tr>\n",
       "      <th>13</th>\n",
       "      <td>100012</td>\n",
       "      <td>0</td>\n",
       "    </tr>\n",
       "    <tr>\n",
       "      <th>14</th>\n",
       "      <td>100013</td>\n",
       "      <td>1</td>\n",
       "    </tr>\n",
       "    <tr>\n",
       "      <th>15</th>\n",
       "      <td>100014</td>\n",
       "      <td>1</td>\n",
       "    </tr>\n",
       "    <tr>\n",
       "      <th>16</th>\n",
       "      <td>100015</td>\n",
       "      <td>1</td>\n",
       "    </tr>\n",
       "    <tr>\n",
       "      <th>17</th>\n",
       "      <td>100016</td>\n",
       "      <td>0</td>\n",
       "    </tr>\n",
       "    <tr>\n",
       "      <th>18</th>\n",
       "      <td>100017</td>\n",
       "      <td>0</td>\n",
       "    </tr>\n",
       "    <tr>\n",
       "      <th>19</th>\n",
       "      <td>100018</td>\n",
       "      <td>0</td>\n",
       "    </tr>\n",
       "    <tr>\n",
       "      <th>20</th>\n",
       "      <td>100019</td>\n",
       "      <td>0</td>\n",
       "    </tr>\n",
       "    <tr>\n",
       "      <th>21</th>\n",
       "      <td>100021</td>\n",
       "      <td>0</td>\n",
       "    </tr>\n",
       "    <tr>\n",
       "      <th>22</th>\n",
       "      <td>100022</td>\n",
       "      <td>0</td>\n",
       "    </tr>\n",
       "    <tr>\n",
       "      <th>23</th>\n",
       "      <td>100023</td>\n",
       "      <td>1</td>\n",
       "    </tr>\n",
       "    <tr>\n",
       "      <th>24</th>\n",
       "      <td>100024</td>\n",
       "      <td>0</td>\n",
       "    </tr>\n",
       "    <tr>\n",
       "      <th>25</th>\n",
       "      <td>100025</td>\n",
       "      <td>0</td>\n",
       "    </tr>\n",
       "    <tr>\n",
       "      <th>26</th>\n",
       "      <td>101</td>\n",
       "      <td>1</td>\n",
       "    </tr>\n",
       "    <tr>\n",
       "      <th>27</th>\n",
       "      <td>102</td>\n",
       "      <td>0</td>\n",
       "    </tr>\n",
       "    <tr>\n",
       "      <th>28</th>\n",
       "      <td>103</td>\n",
       "      <td>1</td>\n",
       "    </tr>\n",
       "    <tr>\n",
       "      <th>29</th>\n",
       "      <td>104</td>\n",
       "      <td>1</td>\n",
       "    </tr>\n",
       "    <tr>\n",
       "      <th>...</th>\n",
       "      <td>...</td>\n",
       "      <td>...</td>\n",
       "    </tr>\n",
       "    <tr>\n",
       "      <th>195</th>\n",
       "      <td>72</td>\n",
       "      <td>0</td>\n",
       "    </tr>\n",
       "    <tr>\n",
       "      <th>196</th>\n",
       "      <td>73</td>\n",
       "      <td>1</td>\n",
       "    </tr>\n",
       "    <tr>\n",
       "      <th>197</th>\n",
       "      <td>74</td>\n",
       "      <td>1</td>\n",
       "    </tr>\n",
       "    <tr>\n",
       "      <th>198</th>\n",
       "      <td>75</td>\n",
       "      <td>1</td>\n",
       "    </tr>\n",
       "    <tr>\n",
       "      <th>199</th>\n",
       "      <td>76</td>\n",
       "      <td>0</td>\n",
       "    </tr>\n",
       "    <tr>\n",
       "      <th>200</th>\n",
       "      <td>77</td>\n",
       "      <td>1</td>\n",
       "    </tr>\n",
       "    <tr>\n",
       "      <th>201</th>\n",
       "      <td>78</td>\n",
       "      <td>0</td>\n",
       "    </tr>\n",
       "    <tr>\n",
       "      <th>202</th>\n",
       "      <td>79</td>\n",
       "      <td>1</td>\n",
       "    </tr>\n",
       "    <tr>\n",
       "      <th>203</th>\n",
       "      <td>8</td>\n",
       "      <td>0</td>\n",
       "    </tr>\n",
       "    <tr>\n",
       "      <th>204</th>\n",
       "      <td>80</td>\n",
       "      <td>0</td>\n",
       "    </tr>\n",
       "    <tr>\n",
       "      <th>205</th>\n",
       "      <td>81</td>\n",
       "      <td>1</td>\n",
       "    </tr>\n",
       "    <tr>\n",
       "      <th>206</th>\n",
       "      <td>82</td>\n",
       "      <td>1</td>\n",
       "    </tr>\n",
       "    <tr>\n",
       "      <th>207</th>\n",
       "      <td>83</td>\n",
       "      <td>1</td>\n",
       "    </tr>\n",
       "    <tr>\n",
       "      <th>208</th>\n",
       "      <td>84</td>\n",
       "      <td>0</td>\n",
       "    </tr>\n",
       "    <tr>\n",
       "      <th>209</th>\n",
       "      <td>85</td>\n",
       "      <td>1</td>\n",
       "    </tr>\n",
       "    <tr>\n",
       "      <th>210</th>\n",
       "      <td>86</td>\n",
       "      <td>1</td>\n",
       "    </tr>\n",
       "    <tr>\n",
       "      <th>211</th>\n",
       "      <td>87</td>\n",
       "      <td>1</td>\n",
       "    </tr>\n",
       "    <tr>\n",
       "      <th>212</th>\n",
       "      <td>88</td>\n",
       "      <td>1</td>\n",
       "    </tr>\n",
       "    <tr>\n",
       "      <th>213</th>\n",
       "      <td>89</td>\n",
       "      <td>1</td>\n",
       "    </tr>\n",
       "    <tr>\n",
       "      <th>214</th>\n",
       "      <td>9</td>\n",
       "      <td>1</td>\n",
       "    </tr>\n",
       "    <tr>\n",
       "      <th>215</th>\n",
       "      <td>90</td>\n",
       "      <td>0</td>\n",
       "    </tr>\n",
       "    <tr>\n",
       "      <th>216</th>\n",
       "      <td>91</td>\n",
       "      <td>1</td>\n",
       "    </tr>\n",
       "    <tr>\n",
       "      <th>217</th>\n",
       "      <td>92</td>\n",
       "      <td>0</td>\n",
       "    </tr>\n",
       "    <tr>\n",
       "      <th>218</th>\n",
       "      <td>93</td>\n",
       "      <td>1</td>\n",
       "    </tr>\n",
       "    <tr>\n",
       "      <th>219</th>\n",
       "      <td>94</td>\n",
       "      <td>0</td>\n",
       "    </tr>\n",
       "    <tr>\n",
       "      <th>220</th>\n",
       "      <td>95</td>\n",
       "      <td>0</td>\n",
       "    </tr>\n",
       "    <tr>\n",
       "      <th>221</th>\n",
       "      <td>96</td>\n",
       "      <td>1</td>\n",
       "    </tr>\n",
       "    <tr>\n",
       "      <th>222</th>\n",
       "      <td>97</td>\n",
       "      <td>1</td>\n",
       "    </tr>\n",
       "    <tr>\n",
       "      <th>223</th>\n",
       "      <td>98</td>\n",
       "      <td>1</td>\n",
       "    </tr>\n",
       "    <tr>\n",
       "      <th>224</th>\n",
       "      <td>99</td>\n",
       "      <td>1</td>\n",
       "    </tr>\n",
       "  </tbody>\n",
       "</table>\n",
       "<p>225 rows × 2 columns</p>\n",
       "</div>"
      ],
      "text/plain": [
       "     userId  level\n",
       "0        10      1\n",
       "1       100      1\n",
       "2    100001      0\n",
       "3    100002      1\n",
       "4    100003      0\n",
       "5    100004      1\n",
       "6    100005      0\n",
       "7    100006      0\n",
       "8    100007      1\n",
       "9    100008      0\n",
       "10   100009      0\n",
       "11   100010      0\n",
       "12   100011      0\n",
       "13   100012      0\n",
       "14   100013      1\n",
       "15   100014      1\n",
       "16   100015      1\n",
       "17   100016      0\n",
       "18   100017      0\n",
       "19   100018      0\n",
       "20   100019      0\n",
       "21   100021      0\n",
       "22   100022      0\n",
       "23   100023      1\n",
       "24   100024      0\n",
       "25   100025      0\n",
       "26      101      1\n",
       "27      102      0\n",
       "28      103      1\n",
       "29      104      1\n",
       "..      ...    ...\n",
       "195      72      0\n",
       "196      73      1\n",
       "197      74      1\n",
       "198      75      1\n",
       "199      76      0\n",
       "200      77      1\n",
       "201      78      0\n",
       "202      79      1\n",
       "203       8      0\n",
       "204      80      0\n",
       "205      81      1\n",
       "206      82      1\n",
       "207      83      1\n",
       "208      84      0\n",
       "209      85      1\n",
       "210      86      1\n",
       "211      87      1\n",
       "212      88      1\n",
       "213      89      1\n",
       "214       9      1\n",
       "215      90      0\n",
       "216      91      1\n",
       "217      92      0\n",
       "218      93      1\n",
       "219      94      0\n",
       "220      95      0\n",
       "221      96      1\n",
       "222      97      1\n",
       "223      98      1\n",
       "224      99      1\n",
       "\n",
       "[225 rows x 2 columns]"
      ]
     },
     "execution_count": 143,
     "metadata": {},
     "output_type": "execute_result"
    }
   ],
   "source": [
    "\n",
    "df2_level.toPandas()"
   ]
  },
  {
   "cell_type": "markdown",
   "metadata": {
    "pycharm": {
     "name": "#%% md\n"
    }
   },
   "source": [
    "### Avg. Number of songs per session"
   ]
  },
  {
   "cell_type": "code",
   "execution_count": 144,
   "metadata": {
    "pycharm": {
     "name": "#%%\n"
    }
   },
   "outputs": [],
   "source": [
    "df3_song = filtered_df.filter(filtered_df.page == \"NextSong\").groupBy('userId','sessionId').count()"
   ]
  },
  {
   "cell_type": "code",
   "execution_count": 145,
   "metadata": {
    "pycharm": {
     "name": "#%%\n"
    }
   },
   "outputs": [
    {
     "name": "stdout",
     "output_type": "stream",
     "text": [
      "+------+---------+-----+\n",
      "|userId|sessionId|count|\n",
      "+------+---------+-----+\n",
      "|    92|      358|   57|\n",
      "|    42|      433|   16|\n",
      "|   101|      635|  708|\n",
      "|   120|      627|  236|\n",
      "|   140|      798|    3|\n",
      "|   122|      691|    6|\n",
      "|    29|     1030|   13|\n",
      "|     8|     1200|   11|\n",
      "|    96|     1653|  133|\n",
      "|   153|     1794|   62|\n",
      "|    97|     2019|   70|\n",
      "|    35|     2270|   10|\n",
      "|   110|     1776|   18|\n",
      "|300011|       60|   27|\n",
      "|   137|      136|    6|\n",
      "|    40|      484|   61|\n",
      "|    35|      544|   13|\n",
      "|    24|      620|    5|\n",
      "|    47|       46|    3|\n",
      "|    85|     1098|   73|\n",
      "+------+---------+-----+\n",
      "only showing top 20 rows\n",
      "\n"
     ]
    }
   ],
   "source": [
    "filtered_df.filter(filtered_df.page == \"NextSong\").groupBy('userId','sessionId').count().show(\n",
    ")"
   ]
  },
  {
   "cell_type": "code",
   "execution_count": 146,
   "metadata": {
    "pycharm": {
     "name": "#%%\n"
    }
   },
   "outputs": [],
   "source": [
    "df3_song = df3_song.groupby('userId').agg({\"count\":\"avg\"})"
   ]
  },
  {
   "cell_type": "code",
   "execution_count": 147,
   "metadata": {
    "pycharm": {
     "name": "#%%\n"
    }
   },
   "outputs": [],
   "source": [
    "df3_song = df3_song.withColumnRenamed(\"avg(count)\", \"avg_song\")"
   ]
  },
  {
   "cell_type": "code",
   "execution_count": 148,
   "metadata": {
    "pycharm": {
     "name": "#%%\n"
    }
   },
   "outputs": [
    {
     "data": {
      "text/plain": [
       "225"
      ]
     },
     "execution_count": 148,
     "metadata": {},
     "output_type": "execute_result"
    }
   ],
   "source": [
    "df3_song.count()"
   ]
  },
  {
   "cell_type": "code",
   "execution_count": 149,
   "metadata": {
    "pycharm": {
     "name": "#%%\n"
    }
   },
   "outputs": [
    {
     "name": "stdout",
     "output_type": "stream",
     "text": [
      "+------+------------------+\n",
      "|userId|          avg_song|\n",
      "+------+------------------+\n",
      "|100010|39.285714285714285|\n",
      "|200002|              64.5|\n",
      "|   125|               8.0|\n",
      "|    51|             211.1|\n",
      "|   124|145.67857142857142|\n",
      "|     7|21.428571428571427|\n",
      "|    54| 81.17142857142858|\n",
      "|    15|136.71428571428572|\n",
      "|   155|136.66666666666666|\n",
      "|100014|42.833333333333336|\n",
      "|   132|             120.5|\n",
      "|   154|              28.0|\n",
      "|   101|             179.7|\n",
      "|    11|           40.4375|\n",
      "|300017|59.540983606557376|\n",
      "|   138|             138.0|\n",
      "|    29| 89.05882352941177|\n",
      "|    69|             125.0|\n",
      "|100021|              46.0|\n",
      "|    42| 87.14634146341463|\n",
      "+------+------------------+\n",
      "only showing top 20 rows\n",
      "\n"
     ]
    }
   ],
   "source": [
    "df3_song.show()"
   ]
  },
  {
   "cell_type": "markdown",
   "metadata": {
    "pycharm": {
     "name": "#%% md\n"
    }
   },
   "source": [
    "### Number of rollads action\n"
   ]
  },
  {
   "cell_type": "markdown",
   "metadata": {
    "pycharm": {
     "name": "#%% md\n"
    }
   },
   "source": [
    "higher number of roll-ad count for churned users since free users are shown ads whereas paid subscribers aren't shown ads."
   ]
  },
  {
   "cell_type": "code",
   "execution_count": 150,
   "metadata": {
    "pycharm": {
     "name": "#%%\n"
    }
   },
   "outputs": [],
   "source": [
    "df4_rollad = filtered_df.select([\"userId\", \"page\"])"
   ]
  },
  {
   "cell_type": "code",
   "execution_count": 151,
   "metadata": {
    "pycharm": {
     "name": "#%%\n"
    }
   },
   "outputs": [],
   "source": [
    "rollad_func = udf(lambda x: 1 if x == \"Roll Advert\" else 0, IntegerType())"
   ]
  },
  {
   "cell_type": "code",
   "execution_count": 152,
   "metadata": {
    "pycharm": {
     "name": "#%%\n"
    }
   },
   "outputs": [],
   "source": [
    "# add a rollad column\n",
    "df4_rollad = df4_rollad.withColumn(\"rollad\", rollad_func(\"page\"))"
   ]
  },
  {
   "cell_type": "code",
   "execution_count": 153,
   "metadata": {
    "pycharm": {
     "name": "#%%\n"
    }
   },
   "outputs": [],
   "source": [
    "df4_rollad = df4_rollad.groupby('userId').sum(\"rollad\")"
   ]
  },
  {
   "cell_type": "code",
   "execution_count": 154,
   "metadata": {
    "pycharm": {
     "name": "#%%\n"
    }
   },
   "outputs": [],
   "source": [
    "df4_rollad = df4_rollad.withColumnRenamed(\"sum(rollad)\", \"roll-ad\")"
   ]
  },
  {
   "cell_type": "code",
   "execution_count": 155,
   "metadata": {
    "pycharm": {
     "name": "#%%\n"
    }
   },
   "outputs": [
    {
     "data": {
      "text/plain": [
       "225"
      ]
     },
     "execution_count": 155,
     "metadata": {},
     "output_type": "execute_result"
    }
   ],
   "source": [
    "df4_rollad.count()"
   ]
  },
  {
   "cell_type": "code",
   "execution_count": 156,
   "metadata": {
    "pycharm": {
     "name": "#%%\n"
    }
   },
   "outputs": [
    {
     "name": "stdout",
     "output_type": "stream",
     "text": [
      "+------+-------+\n",
      "|userId|roll-ad|\n",
      "+------+-------+\n",
      "|100010|     52|\n",
      "|200002|      7|\n",
      "|   125|      1|\n",
      "|    51|      0|\n",
      "|   124|      4|\n",
      "|     7|     16|\n",
      "|    54|     47|\n",
      "|    15|      1|\n",
      "|   155|      8|\n",
      "|   132|      2|\n",
      "|   154|     10|\n",
      "|100014|      2|\n",
      "|   101|      8|\n",
      "|    11|     39|\n",
      "|   138|     17|\n",
      "|300017|     11|\n",
      "|    29|     22|\n",
      "|    69|      3|\n",
      "|100021|     30|\n",
      "|    42|     10|\n",
      "+------+-------+\n",
      "only showing top 20 rows\n",
      "\n"
     ]
    }
   ],
   "source": [
    "df4_rollad.show()"
   ]
  },
  {
   "cell_type": "markdown",
   "metadata": {
    "pycharm": {
     "name": "#%% md\n"
    }
   },
   "source": [
    "### Number of thumbs-down action\n"
   ]
  },
  {
   "cell_type": "markdown",
   "metadata": {
    "pycharm": {
     "name": "#%% md\n"
    }
   },
   "source": [
    "It's pretty obvious that those users who churned in the past had performed more thumbs down actions compared to those who stayed with the service. "
   ]
  },
  {
   "cell_type": "code",
   "execution_count": 157,
   "metadata": {
    "pycharm": {
     "name": "#%%\n"
    }
   },
   "outputs": [],
   "source": [
    "df5_thumbsdown = filtered_df.select([\"userId\", \"page\"])"
   ]
  },
  {
   "cell_type": "code",
   "execution_count": 158,
   "metadata": {
    "pycharm": {
     "name": "#%%\n"
    }
   },
   "outputs": [],
   "source": [
    "thumdsdown_func = udf(lambda x: 1 if x == \"Thumbs Down\" else 0, IntegerType())"
   ]
  },
  {
   "cell_type": "code",
   "execution_count": 159,
   "metadata": {
    "pycharm": {
     "name": "#%%\n"
    }
   },
   "outputs": [],
   "source": [
    "df5_thumbsdown = df5_thumbsdown.withColumn(\"Thumbs Down\", thumdsdown_func(\"page\"))"
   ]
  },
  {
   "cell_type": "code",
   "execution_count": 160,
   "metadata": {
    "pycharm": {
     "name": "#%%\n"
    }
   },
   "outputs": [],
   "source": [
    "df5_thumbsdown = df5_thumbsdown.groupby('userId').sum(\"Thumbs Down\")"
   ]
  },
  {
   "cell_type": "code",
   "execution_count": 161,
   "metadata": {
    "pycharm": {
     "name": "#%%\n"
    }
   },
   "outputs": [],
   "source": [
    "df5_thumbsdown = df5_thumbsdown.withColumnRenamed(\"sum(Thumbs Down)\", \"thumbs_down\")"
   ]
  },
  {
   "cell_type": "code",
   "execution_count": 162,
   "metadata": {
    "pycharm": {
     "name": "#%%\n"
    }
   },
   "outputs": [
    {
     "data": {
      "text/plain": [
       "225"
      ]
     },
     "execution_count": 162,
     "metadata": {},
     "output_type": "execute_result"
    }
   ],
   "source": [
    "df5_thumbsdown.count()"
   ]
  },
  {
   "cell_type": "code",
   "execution_count": 163,
   "metadata": {
    "pycharm": {
     "name": "#%%\n"
    }
   },
   "outputs": [
    {
     "name": "stdout",
     "output_type": "stream",
     "text": [
      "+------+-----------+\n",
      "|userId|thumbs_down|\n",
      "+------+-----------+\n",
      "|100010|          5|\n",
      "|200002|          6|\n",
      "|   125|          0|\n",
      "|    51|         21|\n",
      "|   124|         41|\n",
      "|     7|          1|\n",
      "|    54|         29|\n",
      "|    15|         14|\n",
      "|   155|          3|\n",
      "|   132|         17|\n",
      "|   154|          0|\n",
      "|100014|          3|\n",
      "|   101|         16|\n",
      "|    11|          9|\n",
      "|   138|         24|\n",
      "|300017|         28|\n",
      "|    29|         22|\n",
      "|    69|          9|\n",
      "|100021|          5|\n",
      "|    42|         25|\n",
      "+------+-----------+\n",
      "only showing top 20 rows\n",
      "\n"
     ]
    }
   ],
   "source": [
    "df5_thumbsdown.show()"
   ]
  },
  {
   "cell_type": "markdown",
   "metadata": {
    "pycharm": {
     "name": "#%% md\n"
    }
   },
   "source": [
    "### Number of thumbs-up action\n"
   ]
  },
  {
   "cell_type": "markdown",
   "metadata": {
    "pycharm": {
     "name": "#%% md\n"
    }
   },
   "source": [
    "More thumbs-up leads to longer stay and non-churn, similarly less thumbs-up leads to more churn."
   ]
  },
  {
   "cell_type": "code",
   "execution_count": 164,
   "metadata": {
    "pycharm": {
     "name": "#%%\n"
    }
   },
   "outputs": [],
   "source": [
    "df6_thumbsup = filtered_df.select([\"userId\", \"page\"])"
   ]
  },
  {
   "cell_type": "code",
   "execution_count": 165,
   "metadata": {
    "pycharm": {
     "name": "#%%\n"
    }
   },
   "outputs": [],
   "source": [
    "thumbsup_func = udf(lambda x: 1 if x == \"Thumbs Up\" else 0, IntegerType())"
   ]
  },
  {
   "cell_type": "code",
   "execution_count": 166,
   "metadata": {
    "pycharm": {
     "name": "#%%\n"
    }
   },
   "outputs": [],
   "source": [
    "df6_thumbsup = df6_thumbsup.withColumn(\"Thumbs Up\", thumbsup_func(\"page\"))"
   ]
  },
  {
   "cell_type": "code",
   "execution_count": 167,
   "metadata": {
    "pycharm": {
     "name": "#%%\n"
    }
   },
   "outputs": [],
   "source": [
    "df6_thumbsup = df6_thumbsup.groupby('userId').sum(\"Thumbs Up\")"
   ]
  },
  {
   "cell_type": "code",
   "execution_count": 168,
   "metadata": {
    "pycharm": {
     "name": "#%%\n"
    }
   },
   "outputs": [],
   "source": [
    "df6_thumbsup = df6_thumbsup.withColumnRenamed(\"sum(Thumbs Up)\", \"thumbs_up\")"
   ]
  },
  {
   "cell_type": "code",
   "execution_count": 169,
   "metadata": {
    "pycharm": {
     "name": "#%%\n"
    }
   },
   "outputs": [
    {
     "data": {
      "text/plain": [
       "225"
      ]
     },
     "execution_count": 169,
     "metadata": {},
     "output_type": "execute_result"
    }
   ],
   "source": [
    "df6_thumbsup.count()"
   ]
  },
  {
   "cell_type": "code",
   "execution_count": 170,
   "metadata": {
    "pycharm": {
     "name": "#%%\n"
    }
   },
   "outputs": [
    {
     "name": "stdout",
     "output_type": "stream",
     "text": [
      "+------+---------+\n",
      "|userId|thumbs_up|\n",
      "+------+---------+\n",
      "|100010|       17|\n",
      "|200002|       21|\n",
      "|   125|        0|\n",
      "|    51|      100|\n",
      "|   124|      171|\n",
      "|     7|        7|\n",
      "|    54|      163|\n",
      "|    15|       81|\n",
      "|   155|       58|\n",
      "|   132|       96|\n",
      "|   154|       11|\n",
      "|100014|       17|\n",
      "|   101|       86|\n",
      "|    11|       40|\n",
      "|   138|       95|\n",
      "|300017|      303|\n",
      "|    29|      154|\n",
      "|    69|       72|\n",
      "|100021|       11|\n",
      "|    42|      166|\n",
      "+------+---------+\n",
      "only showing top 20 rows\n",
      "\n"
     ]
    }
   ],
   "source": [
    "df6_thumbsup.show()"
   ]
  },
  {
   "cell_type": "markdown",
   "metadata": {
    "pycharm": {
     "name": "#%% md\n"
    }
   },
   "source": [
    "### Number of friends that have been added\n"
   ]
  },
  {
   "cell_type": "markdown",
   "metadata": {
    "pycharm": {
     "name": "#%% md\n"
    }
   },
   "source": [
    "If a user is about to churn, that user will unlikely to add or have more friends in its list and vice-versa."
   ]
  },
  {
   "cell_type": "code",
   "execution_count": 171,
   "metadata": {
    "pycharm": {
     "name": "#%%\n"
    }
   },
   "outputs": [],
   "source": [
    "df7_friend = filtered_df.select([\"userId\", \"page\"])"
   ]
  },
  {
   "cell_type": "code",
   "execution_count": 172,
   "metadata": {
    "pycharm": {
     "name": "#%%\n"
    }
   },
   "outputs": [],
   "source": [
    "add_friends = udf(lambda x: 1 if x == \"Add Friend\" else 0, IntegerType())"
   ]
  },
  {
   "cell_type": "code",
   "execution_count": 173,
   "metadata": {
    "pycharm": {
     "name": "#%%\n"
    }
   },
   "outputs": [],
   "source": [
    "df7_friend = df7_friend.withColumn(\"add_friend\", add_friends(\"page\"))"
   ]
  },
  {
   "cell_type": "code",
   "execution_count": 174,
   "metadata": {
    "pycharm": {
     "name": "#%%\n"
    }
   },
   "outputs": [],
   "source": [
    "df7_friend = df7_friend.groupby('userId').sum(\"add_friend\")"
   ]
  },
  {
   "cell_type": "code",
   "execution_count": 175,
   "metadata": {
    "pycharm": {
     "name": "#%%\n"
    }
   },
   "outputs": [],
   "source": [
    "df7_friend = df7_friend.withColumnRenamed(\"sum(add_friend)\", \"add_friend\")"
   ]
  },
  {
   "cell_type": "code",
   "execution_count": 176,
   "metadata": {
    "pycharm": {
     "name": "#%%\n"
    }
   },
   "outputs": [
    {
     "data": {
      "text/plain": [
       "225"
      ]
     },
     "execution_count": 176,
     "metadata": {},
     "output_type": "execute_result"
    }
   ],
   "source": [
    "df7_friend.count()"
   ]
  },
  {
   "cell_type": "code",
   "execution_count": 177,
   "metadata": {
    "pycharm": {
     "name": "#%%\n"
    }
   },
   "outputs": [
    {
     "name": "stdout",
     "output_type": "stream",
     "text": [
      "+------+----------+\n",
      "|userId|add_friend|\n",
      "+------+----------+\n",
      "|100010|         4|\n",
      "|200002|         4|\n",
      "|   125|         0|\n",
      "|    51|        28|\n",
      "|   124|        74|\n",
      "|     7|         1|\n",
      "|    54|        33|\n",
      "|    15|        31|\n",
      "|   155|        11|\n",
      "|   132|        41|\n",
      "|   154|         3|\n",
      "|100014|         6|\n",
      "|   101|        29|\n",
      "|    11|         6|\n",
      "|   138|        41|\n",
      "|300017|        63|\n",
      "|    29|        47|\n",
      "|    69|        12|\n",
      "|100021|         7|\n",
      "|    42|        52|\n",
      "+------+----------+\n",
      "only showing top 20 rows\n",
      "\n"
     ]
    }
   ],
   "source": [
    "df7_friend.show()"
   ]
  },
  {
   "cell_type": "markdown",
   "metadata": {
    "pycharm": {
     "name": "#%% md\n"
    }
   },
   "source": [
    "### Number of songs added to playlist"
   ]
  },
  {
   "cell_type": "markdown",
   "metadata": {
    "pycharm": {
     "name": "#%% md\n"
    }
   },
   "source": [
    "If a user likes the platform and services provided, he/she will more likely add more songs to the playlist and less likely to churn and vice-versa."
   ]
  },
  {
   "cell_type": "code",
   "execution_count": 178,
   "metadata": {
    "pycharm": {
     "name": "#%%\n"
    }
   },
   "outputs": [],
   "source": [
    "df8_playlist = filtered_df.select([\"userId\", \"page\"])"
   ]
  },
  {
   "cell_type": "code",
   "execution_count": 179,
   "metadata": {
    "pycharm": {
     "name": "#%%\n"
    }
   },
   "outputs": [],
   "source": [
    "add_playlist = udf(lambda p: 1 if p == \"Add to Playlist\" else 0, IntegerType())"
   ]
  },
  {
   "cell_type": "code",
   "execution_count": 180,
   "metadata": {
    "pycharm": {
     "name": "#%%\n"
    }
   },
   "outputs": [],
   "source": [
    "df8_playlist = df8_playlist.withColumn(\"Playlist\", add_playlist(\"page\"))"
   ]
  },
  {
   "cell_type": "code",
   "execution_count": 181,
   "metadata": {
    "pycharm": {
     "name": "#%%\n"
    }
   },
   "outputs": [],
   "source": [
    "df8_playlist = df8_playlist.groupby('userId').sum(\"Playlist\")"
   ]
  },
  {
   "cell_type": "code",
   "execution_count": 182,
   "metadata": {
    "pycharm": {
     "name": "#%%\n"
    }
   },
   "outputs": [],
   "source": [
    "df8_playlist = df8_playlist.withColumnRenamed(\"sum(Playlist)\", \"playlist\")"
   ]
  },
  {
   "cell_type": "code",
   "execution_count": 183,
   "metadata": {
    "pycharm": {
     "name": "#%%\n"
    }
   },
   "outputs": [
    {
     "data": {
      "text/plain": [
       "225"
      ]
     },
     "execution_count": 183,
     "metadata": {},
     "output_type": "execute_result"
    }
   ],
   "source": [
    "df8_playlist.count()"
   ]
  },
  {
   "cell_type": "code",
   "execution_count": 184,
   "metadata": {
    "pycharm": {
     "name": "#%%\n"
    }
   },
   "outputs": [
    {
     "name": "stdout",
     "output_type": "stream",
     "text": [
      "+------+--------+\n",
      "|userId|playlist|\n",
      "+------+--------+\n",
      "|100010|       7|\n",
      "|200002|       8|\n",
      "|   125|       0|\n",
      "|    51|      52|\n",
      "|   124|     118|\n",
      "|     7|       5|\n",
      "|    54|      72|\n",
      "|    15|      59|\n",
      "|   155|      24|\n",
      "|   132|      38|\n",
      "|   154|       1|\n",
      "|100014|       7|\n",
      "|   101|      61|\n",
      "|    11|      20|\n",
      "|   138|      67|\n",
      "|300017|     113|\n",
      "|    29|      89|\n",
      "|    69|      33|\n",
      "|100021|       7|\n",
      "|    42|     104|\n",
      "+------+--------+\n",
      "only showing top 20 rows\n",
      "\n"
     ]
    }
   ],
   "source": [
    "df8_playlist.show()"
   ]
  },
  {
   "cell_type": "markdown",
   "metadata": {
    "pycharm": {
     "name": "#%% md\n"
    }
   },
   "source": [
    "### Number of different Artists Listened to on Sparkify"
   ]
  },
  {
   "cell_type": "markdown",
   "metadata": {
    "pycharm": {
     "name": "#%% md\n"
    }
   },
   "source": [
    "The users who have explored diverse artist are more likely to stay longer. thus less likely to churn."
   ]
  },
  {
   "cell_type": "code",
   "execution_count": 185,
   "metadata": {
    "pycharm": {
     "name": "#%%\n"
    }
   },
   "outputs": [],
   "source": [
    "df9_artist = filtered_df.select(\"userId\", \"artist\").dropDuplicates().groupby(\"userId\").count()"
   ]
  },
  {
   "cell_type": "code",
   "execution_count": 186,
   "metadata": {
    "pycharm": {
     "name": "#%%\n"
    }
   },
   "outputs": [],
   "source": [
    "df9_artist = df9_artist.withColumnRenamed(\"count\", \"num_artist\")"
   ]
  },
  {
   "cell_type": "code",
   "execution_count": 187,
   "metadata": {
    "pycharm": {
     "name": "#%%\n"
    }
   },
   "outputs": [
    {
     "data": {
      "text/plain": [
       "225"
      ]
     },
     "execution_count": 187,
     "metadata": {},
     "output_type": "execute_result"
    }
   ],
   "source": [
    "df9_artist.count()"
   ]
  },
  {
   "cell_type": "code",
   "execution_count": 188,
   "metadata": {
    "pycharm": {
     "name": "#%%\n"
    }
   },
   "outputs": [
    {
     "name": "stdout",
     "output_type": "stream",
     "text": [
      "+------+----------+\n",
      "|userId|num_artist|\n",
      "+------+----------+\n",
      "|100010|       253|\n",
      "|200002|       340|\n",
      "|   125|         9|\n",
      "|    51|      1386|\n",
      "|   124|      2233|\n",
      "|     7|       143|\n",
      "|    15|      1303|\n",
      "|    54|      1745|\n",
      "|   155|       644|\n",
      "|   132|      1300|\n",
      "|   154|        79|\n",
      "|100014|       234|\n",
      "|   101|      1242|\n",
      "|    11|       535|\n",
      "|   138|      1333|\n",
      "|300017|      2071|\n",
      "|    29|      1805|\n",
      "|    69|       866|\n",
      "|100021|       208|\n",
      "|    42|      2074|\n",
      "+------+----------+\n",
      "only showing top 20 rows\n",
      "\n"
     ]
    }
   ],
   "source": [
    "df9_artist.show()"
   ]
  },
  {
   "cell_type": "markdown",
   "metadata": {
    "pycharm": {
     "name": "#%% md\n"
    }
   },
   "source": [
    "### number of days on the app"
   ]
  },
  {
   "cell_type": "markdown",
   "metadata": {
    "pycharm": {
     "name": "#%% md\n"
    }
   },
   "source": [
    "As we have seen in the EDA, old users are more likely to stay while the churned users are mostly those who have spent less days on the platform. "
   ]
  },
  {
   "cell_type": "code",
   "execution_count": 189,
   "metadata": {},
   "outputs": [
    {
     "data": {
      "text/html": [
       "<div>\n",
       "<style scoped>\n",
       "    .dataframe tbody tr th:only-of-type {\n",
       "        vertical-align: middle;\n",
       "    }\n",
       "\n",
       "    .dataframe tbody tr th {\n",
       "        vertical-align: top;\n",
       "    }\n",
       "\n",
       "    .dataframe thead th {\n",
       "        text-align: right;\n",
       "    }\n",
       "</style>\n",
       "<table border=\"1\" class=\"dataframe\">\n",
       "  <thead>\n",
       "    <tr style=\"text-align: right;\">\n",
       "      <th></th>\n",
       "      <th>userId</th>\n",
       "      <th>registration</th>\n",
       "      <th>ts</th>\n",
       "      <th>Churn</th>\n",
       "      <th>delta_days</th>\n",
       "      <th>days</th>\n",
       "    </tr>\n",
       "  </thead>\n",
       "  <tbody>\n",
       "    <tr>\n",
       "      <th>0</th>\n",
       "      <td>10</td>\n",
       "      <td>1538159495000</td>\n",
       "      <td>1542631788000</td>\n",
       "      <td>0</td>\n",
       "      <td>4472293000</td>\n",
       "      <td>51.762650</td>\n",
       "    </tr>\n",
       "    <tr>\n",
       "      <th>1</th>\n",
       "      <td>100</td>\n",
       "      <td>1537982255000</td>\n",
       "      <td>1543587349000</td>\n",
       "      <td>0</td>\n",
       "      <td>5605094000</td>\n",
       "      <td>64.873773</td>\n",
       "    </tr>\n",
       "    <tr>\n",
       "      <th>2</th>\n",
       "      <td>100001</td>\n",
       "      <td>1534627466000</td>\n",
       "      <td>1538498205000</td>\n",
       "      <td>1</td>\n",
       "      <td>3870739000</td>\n",
       "      <td>44.800220</td>\n",
       "    </tr>\n",
       "    <tr>\n",
       "      <th>3</th>\n",
       "      <td>100002</td>\n",
       "      <td>1529934689000</td>\n",
       "      <td>1543799476000</td>\n",
       "      <td>0</td>\n",
       "      <td>13864787000</td>\n",
       "      <td>160.472072</td>\n",
       "    </tr>\n",
       "    <tr>\n",
       "      <th>4</th>\n",
       "      <td>100003</td>\n",
       "      <td>1537309344000</td>\n",
       "      <td>1539274781000</td>\n",
       "      <td>1</td>\n",
       "      <td>1965437000</td>\n",
       "      <td>22.748113</td>\n",
       "    </tr>\n",
       "  </tbody>\n",
       "</table>\n",
       "</div>"
      ],
      "text/plain": [
       "   userId   registration             ts  Churn   delta_days        days\n",
       "0      10  1538159495000  1542631788000      0   4472293000   51.762650\n",
       "1     100  1537982255000  1543587349000      0   5605094000   64.873773\n",
       "2  100001  1534627466000  1538498205000      1   3870739000   44.800220\n",
       "3  100002  1529934689000  1543799476000      0  13864787000  160.472072\n",
       "4  100003  1537309344000  1539274781000      1   1965437000   22.748113"
      ]
     },
     "execution_count": 189,
     "metadata": {},
     "output_type": "execute_result"
    }
   ],
   "source": [
    "duration_df.head()"
   ]
  },
  {
   "cell_type": "code",
   "execution_count": 190,
   "metadata": {
    "pycharm": {
     "name": "#%%\n"
    }
   },
   "outputs": [],
   "source": [
    "df10_duration = duration_df[[\"userId\", \"days\"]]\n",
    "df10_duration = spark.createDataFrame(df10_duration)"
   ]
  },
  {
   "cell_type": "code",
   "execution_count": 191,
   "metadata": {
    "pycharm": {
     "name": "#%%\n"
    }
   },
   "outputs": [
    {
     "data": {
      "text/plain": [
       "225"
      ]
     },
     "execution_count": 191,
     "metadata": {},
     "output_type": "execute_result"
    }
   ],
   "source": [
    "df10_duration.count()"
   ]
  },
  {
   "cell_type": "markdown",
   "metadata": {
    "pycharm": {
     "name": "#%% md\n"
    }
   },
   "source": [
    "### Label or the target feature"
   ]
  },
  {
   "cell_type": "markdown",
   "metadata": {
    "pycharm": {
     "name": "#%% md\n"
    }
   },
   "source": [
    "Here, we add the target label column for indicating if the users has churned or not. And the value under this column will be 1 for churn and 0 for non-churn."
   ]
  },
  {
   "cell_type": "code",
   "execution_count": 192,
   "metadata": {
    "pycharm": {
     "name": "#%%\n"
    }
   },
   "outputs": [],
   "source": [
    "label = filtered_df.select(\"userId\", \"Churn\").dropDuplicates().groupby(\"userId\", \"Churn\").count()"
   ]
  },
  {
   "cell_type": "code",
   "execution_count": 193,
   "metadata": {
    "pycharm": {
     "name": "#%%\n"
    }
   },
   "outputs": [],
   "source": [
    "# drop the count column\n",
    "label = label.drop('count')"
   ]
  },
  {
   "cell_type": "code",
   "execution_count": 194,
   "metadata": {
    "pycharm": {
     "name": "#%%\n"
    }
   },
   "outputs": [
    {
     "data": {
      "text/plain": [
       "225"
      ]
     },
     "execution_count": 194,
     "metadata": {},
     "output_type": "execute_result"
    }
   ],
   "source": [
    "label.count()"
   ]
  },
  {
   "cell_type": "code",
   "execution_count": 195,
   "metadata": {
    "pycharm": {
     "name": "#%%\n"
    }
   },
   "outputs": [],
   "source": [
    "# rename the churn to label\n",
    "label = label.withColumnRenamed(\"Churn\", \"label\")"
   ]
  },
  {
   "cell_type": "code",
   "execution_count": 196,
   "metadata": {
    "pycharm": {
     "name": "#%%\n"
    }
   },
   "outputs": [
    {
     "name": "stdout",
     "output_type": "stream",
     "text": [
      "+------+-----+\n",
      "|userId|label|\n",
      "+------+-----+\n",
      "|100010|    0|\n",
      "|200002|    0|\n",
      "|   125|    1|\n",
      "|   124|    0|\n",
      "|    51|    1|\n",
      "|     7|    0|\n",
      "|    15|    0|\n",
      "|    54|    1|\n",
      "|   155|    0|\n",
      "|100014|    1|\n",
      "|   132|    0|\n",
      "|   154|    0|\n",
      "|   101|    1|\n",
      "|    11|    0|\n",
      "|   138|    0|\n",
      "|300017|    0|\n",
      "|100021|    1|\n",
      "|    29|    1|\n",
      "|    69|    0|\n",
      "|   112|    0|\n",
      "+------+-----+\n",
      "only showing top 20 rows\n",
      "\n"
     ]
    }
   ],
   "source": [
    "label.show()"
   ]
  },
  {
   "cell_type": "markdown",
   "metadata": {
    "pycharm": {
     "name": "#%% md\n"
    }
   },
   "source": [
    "### Create the Features Dataset"
   ]
  },
  {
   "cell_type": "markdown",
   "metadata": {
    "pycharm": {
     "name": "#%% md\n"
    }
   },
   "source": [
    "We now join all the derived features together with `userId`."
   ]
  },
  {
   "cell_type": "code",
   "execution_count": 197,
   "metadata": {
    "pycharm": {
     "name": "#%%\n"
    }
   },
   "outputs": [],
   "source": [
    "feature_df = df1_gender.join(df2_level, [\"userId\"]).join(df3_song, [\"userId\"]).join(df4_rollad, [\"userId\"]).join(df5_thumbsdown, [\"userId\"]).join(df6_thumbsup, [\"userId\"]).join(df7_friend, [\"userId\"]).join(df8_playlist, [\"userId\"]).join(df9_artist, [\"userId\"]).join(df10_duration, [\"userId\"]).join(label, [\"userId\"])"
   ]
  },
  {
   "cell_type": "code",
   "execution_count": 198,
   "metadata": {
    "pycharm": {
     "name": "#%%\n"
    }
   },
   "outputs": [
    {
     "name": "stdout",
     "output_type": "stream",
     "text": [
      "+------+------+-----+------------------+-------+-----------+---------+----------+--------+----------+------------------+-----+\n",
      "|userId|gender|level|          avg_song|roll-ad|thumbs_down|thumbs_up|add_friend|playlist|num_artist|              days|label|\n",
      "+------+------+-----+------------------+-------+-----------+---------+----------+--------+----------+------------------+-----+\n",
      "|100010|     1|    0|39.285714285714285|     52|          5|       17|         4|       7|       253|  55.6436574074074|    0|\n",
      "|200002|     0|    1|              64.5|      7|          6|       21|         4|       8|       340| 70.07462962962963|    0|\n",
      "|   125|     0|    0|               8.0|      1|          0|        0|         0|       0|         9| 71.31688657407408|    1|\n",
      "|   124|     1|    1|145.67857142857142|      4|         41|      171|        74|     118|      2233|131.55591435185184|    0|\n",
      "|    51|     0|    1|             211.1|      0|         21|      100|        28|      52|      1386|19.455844907407407|    1|\n",
      "|     7|     0|    0|21.428571428571427|     16|          1|        7|         1|       5|       143| 72.77818287037037|    0|\n",
      "|    15|     0|    1|136.71428571428572|      1|         14|       81|        31|      59|      1303|56.513576388888886|    0|\n",
      "|    54|     1|    1| 81.17142857142858|     47|         29|      163|        33|      72|      1745|110.75168981481481|    1|\n",
      "|   155|     1|    1|136.66666666666666|      8|          3|       58|        11|      24|       644|23.556018518518517|    0|\n",
      "|100014|     0|    1|42.833333333333336|      2|          3|       17|         6|       7|       234| 85.08340277777778|    1|\n",
      "|   132|     1|    1|             120.5|      2|         17|       96|        41|      38|      1300|  66.8891087962963|    0|\n",
      "|   154|     1|    0|              28.0|     10|          0|       11|         3|       1|        79|23.872037037037035|    0|\n",
      "|   101|     0|    1|             179.7|      8|         16|       86|        29|      61|      1242|53.965937499999995|    1|\n",
      "|    11|     1|    1|           40.4375|     39|          9|       40|         6|      20|       535|124.47825231481481|    0|\n",
      "|   138|     0|    1|             138.0|     17|         24|       95|        41|      67|      1333| 66.62668981481481|    0|\n",
      "|300017|     1|    1|59.540983606557376|     11|         28|      303|        63|     113|      2071| 74.35851851851852|    0|\n",
      "|100021|     0|    0|              46.0|     30|          5|       11|         7|       7|       208| 64.73886574074074|    1|\n",
      "|    29|     0|    1| 89.05882352941177|     22|         22|      154|        47|      89|      1805|60.104050925925925|    1|\n",
      "|    69|     1|    1|             125.0|      3|          9|       72|        12|      33|       866| 71.42444444444445|    0|\n",
      "|   112|     0|    0| 23.88888888888889|     21|          3|        9|         7|       7|       196| 87.46262731481481|    0|\n",
      "+------+------+-----+------------------+-------+-----------+---------+----------+--------+----------+------------------+-----+\n",
      "only showing top 20 rows\n",
      "\n"
     ]
    }
   ],
   "source": [
    "feature_df.show()"
   ]
  },
  {
   "cell_type": "code",
   "execution_count": 199,
   "metadata": {
    "pycharm": {
     "name": "#%%\n"
    }
   },
   "outputs": [],
   "source": [
    "feature_df = feature_df.drop('userId')"
   ]
  },
  {
   "cell_type": "code",
   "execution_count": 200,
   "metadata": {
    "pycharm": {
     "name": "#%%\n"
    }
   },
   "outputs": [
    {
     "name": "stdout",
     "output_type": "stream",
     "text": [
      "+------+-----+------------------+-------+-----------+---------+----------+--------+----------+------------------+-----+\n",
      "|gender|level|          avg_song|roll-ad|thumbs_down|thumbs_up|add_friend|playlist|num_artist|              days|label|\n",
      "+------+-----+------------------+-------+-----------+---------+----------+--------+----------+------------------+-----+\n",
      "|     1|    0|39.285714285714285|     52|          5|       17|         4|       7|       253|  55.6436574074074|    0|\n",
      "|     0|    1|              64.5|      7|          6|       21|         4|       8|       340| 70.07462962962963|    0|\n",
      "|     0|    0|               8.0|      1|          0|        0|         0|       0|         9| 71.31688657407408|    1|\n",
      "|     1|    1|145.67857142857142|      4|         41|      171|        74|     118|      2233|131.55591435185184|    0|\n",
      "|     0|    1|             211.1|      0|         21|      100|        28|      52|      1386|19.455844907407407|    1|\n",
      "|     0|    0|21.428571428571427|     16|          1|        7|         1|       5|       143| 72.77818287037037|    0|\n",
      "|     0|    1|136.71428571428572|      1|         14|       81|        31|      59|      1303|56.513576388888886|    0|\n",
      "|     1|    1| 81.17142857142858|     47|         29|      163|        33|      72|      1745|110.75168981481481|    1|\n",
      "|     1|    1|136.66666666666666|      8|          3|       58|        11|      24|       644|23.556018518518517|    0|\n",
      "|     0|    1|42.833333333333336|      2|          3|       17|         6|       7|       234| 85.08340277777778|    1|\n",
      "|     1|    1|             120.5|      2|         17|       96|        41|      38|      1300|  66.8891087962963|    0|\n",
      "|     1|    0|              28.0|     10|          0|       11|         3|       1|        79|23.872037037037035|    0|\n",
      "|     0|    1|             179.7|      8|         16|       86|        29|      61|      1242|53.965937499999995|    1|\n",
      "|     1|    1|           40.4375|     39|          9|       40|         6|      20|       535|124.47825231481481|    0|\n",
      "|     0|    1|             138.0|     17|         24|       95|        41|      67|      1333| 66.62668981481481|    0|\n",
      "|     1|    1|59.540983606557376|     11|         28|      303|        63|     113|      2071| 74.35851851851852|    0|\n",
      "|     0|    0|              46.0|     30|          5|       11|         7|       7|       208| 64.73886574074074|    1|\n",
      "|     0|    1| 89.05882352941177|     22|         22|      154|        47|      89|      1805|60.104050925925925|    1|\n",
      "|     1|    1|             125.0|      3|          9|       72|        12|      33|       866| 71.42444444444445|    0|\n",
      "|     0|    0| 23.88888888888889|     21|          3|        9|         7|       7|       196| 87.46262731481481|    0|\n",
      "+------+-----+------------------+-------+-----------+---------+----------+--------+----------+------------------+-----+\n",
      "only showing top 20 rows\n",
      "\n"
     ]
    }
   ],
   "source": [
    "feature_df.show()"
   ]
  },
  {
   "cell_type": "markdown",
   "metadata": {
    "pycharm": {
     "name": "#%% md\n"
    }
   },
   "source": [
    "## Preprocessing"
   ]
  },
  {
   "cell_type": "markdown",
   "metadata": {},
   "source": [
    "finally we have out dataframe with all the features. Before we feed this to our model, we need to do some preprocessing on top of this."
   ]
  },
  {
   "cell_type": "code",
   "execution_count": 201,
   "metadata": {
    "pycharm": {
     "name": "#%%\n"
    }
   },
   "outputs": [
    {
     "name": "stdout",
     "output_type": "stream",
     "text": [
      "root\n",
      " |-- gender: integer (nullable = false)\n",
      " |-- level: integer (nullable = false)\n",
      " |-- avg_song: double (nullable = true)\n",
      " |-- roll-ad: long (nullable = true)\n",
      " |-- thumbs_down: long (nullable = true)\n",
      " |-- thumbs_up: long (nullable = true)\n",
      " |-- add_friend: long (nullable = true)\n",
      " |-- playlist: long (nullable = true)\n",
      " |-- num_artist: long (nullable = false)\n",
      " |-- days: double (nullable = true)\n",
      " |-- label: long (nullable = true)\n",
      "\n"
     ]
    }
   ],
   "source": [
    "feature_df.printSchema()"
   ]
  },
  {
   "cell_type": "markdown",
   "metadata": {
    "pycharm": {
     "name": "#%% md\n"
    }
   },
   "source": [
    "convert these columns into the numerical datatype for the model: integer and float."
   ]
  },
  {
   "cell_type": "code",
   "execution_count": 202,
   "metadata": {
    "pycharm": {
     "name": "#%%\n"
    }
   },
   "outputs": [],
   "source": [
    "for f_col in feature_df.columns:\n",
    "    feature_df = feature_df.withColumn(f_col, feature_df[f_col].cast('float'))"
   ]
  },
  {
   "cell_type": "code",
   "execution_count": 203,
   "metadata": {
    "pycharm": {
     "name": "#%%\n"
    }
   },
   "outputs": [
    {
     "name": "stdout",
     "output_type": "stream",
     "text": [
      "root\n",
      " |-- gender: float (nullable = false)\n",
      " |-- level: float (nullable = false)\n",
      " |-- avg_song: float (nullable = true)\n",
      " |-- roll-ad: float (nullable = true)\n",
      " |-- thumbs_down: float (nullable = true)\n",
      " |-- thumbs_up: float (nullable = true)\n",
      " |-- add_friend: float (nullable = true)\n",
      " |-- playlist: float (nullable = true)\n",
      " |-- num_artist: float (nullable = false)\n",
      " |-- days: float (nullable = true)\n",
      " |-- label: float (nullable = true)\n",
      "\n"
     ]
    }
   ],
   "source": [
    "feature_df.printSchema()"
   ]
  },
  {
   "cell_type": "markdown",
   "metadata": {
    "pycharm": {
     "name": "#%% md\n"
    }
   },
   "source": [
    "Next, we vectorise the features."
   ]
  },
  {
   "cell_type": "markdown",
   "metadata": {
    "pycharm": {
     "name": "#%% md\n"
    }
   },
   "source": [
    "### Vector Assembler"
   ]
  },
  {
   "cell_type": "markdown",
   "metadata": {
    "pycharm": {
     "name": "#%% md\n"
    }
   },
   "source": [
    "vector assembler tranforms the features into a vector. This vector is standardised and can then be used for the seleted algorithms."
   ]
  },
  {
   "cell_type": "code",
   "execution_count": 204,
   "metadata": {
    "pycharm": {
     "name": "#%%\n"
    }
   },
   "outputs": [],
   "source": [
    "v_assembler = VectorAssembler(inputCols = [\"gender\", \"level\", \"avg_song\", \"roll-ad\", \"thumbs_down\", \"thumbs_up\", \"add_friend\", \"playlist\", \"num_artist\", \"days\"], outputCol = \"vec_features\")"
   ]
  },
  {
   "cell_type": "code",
   "execution_count": 205,
   "metadata": {
    "pycharm": {
     "name": "#%%\n"
    }
   },
   "outputs": [],
   "source": [
    "feature_df = v_assembler.transform(feature_df)"
   ]
  },
  {
   "cell_type": "code",
   "execution_count": 206,
   "metadata": {
    "pycharm": {
     "name": "#%%\n"
    }
   },
   "outputs": [
    {
     "name": "stdout",
     "output_type": "stream",
     "text": [
      "+------+-----+---------+-------+-----------+---------+----------+--------+----------+----------+-----+--------------------+\n",
      "|gender|level| avg_song|roll-ad|thumbs_down|thumbs_up|add_friend|playlist|num_artist|      days|label|        vec_features|\n",
      "+------+-----+---------+-------+-----------+---------+----------+--------+----------+----------+-----+--------------------+\n",
      "|   1.0|  0.0|39.285713|   52.0|        5.0|     17.0|       4.0|     7.0|     253.0| 55.643658|  0.0|[1.0,0.0,39.28571...|\n",
      "|   0.0|  1.0|     64.5|    7.0|        6.0|     21.0|       4.0|     8.0|     340.0|  70.07463|  0.0|[0.0,1.0,64.5,7.0...|\n",
      "|   0.0|  0.0|      8.0|    1.0|        0.0|      0.0|       0.0|     0.0|       9.0|  71.31689|  1.0|(10,[2,3,8,9],[8....|\n",
      "|   1.0|  1.0|145.67857|    4.0|       41.0|    171.0|      74.0|   118.0|    2233.0| 131.55591|  0.0|[1.0,1.0,145.6785...|\n",
      "|   0.0|  1.0|    211.1|    0.0|       21.0|    100.0|      28.0|    52.0|    1386.0| 19.455845|  1.0|[0.0,1.0,211.1000...|\n",
      "|   0.0|  0.0|21.428572|   16.0|        1.0|      7.0|       1.0|     5.0|     143.0|  72.77818|  0.0|[0.0,0.0,21.42857...|\n",
      "|   0.0|  1.0|136.71428|    1.0|       14.0|     81.0|      31.0|    59.0|    1303.0| 56.513577|  0.0|[0.0,1.0,136.7142...|\n",
      "|   1.0|  1.0|81.171425|   47.0|       29.0|    163.0|      33.0|    72.0|    1745.0|110.751686|  1.0|[1.0,1.0,81.17142...|\n",
      "|   1.0|  1.0|136.66667|    8.0|        3.0|     58.0|      11.0|    24.0|     644.0| 23.556019|  0.0|[1.0,1.0,136.6666...|\n",
      "|   0.0|  1.0|42.833332|    2.0|        3.0|     17.0|       6.0|     7.0|     234.0| 85.083405|  1.0|[0.0,1.0,42.83333...|\n",
      "|   1.0|  1.0|    120.5|    2.0|       17.0|     96.0|      41.0|    38.0|    1300.0|  66.88911|  0.0|[1.0,1.0,120.5,2....|\n",
      "|   1.0|  0.0|     28.0|   10.0|        0.0|     11.0|       3.0|     1.0|      79.0| 23.872038|  0.0|[1.0,0.0,28.0,10....|\n",
      "|   0.0|  1.0|    179.7|    8.0|       16.0|     86.0|      29.0|    61.0|    1242.0|  53.96594|  1.0|[0.0,1.0,179.6999...|\n",
      "|   1.0|  1.0|  40.4375|   39.0|        9.0|     40.0|       6.0|    20.0|     535.0| 124.47825|  0.0|[1.0,1.0,40.4375,...|\n",
      "|   0.0|  1.0|    138.0|   17.0|       24.0|     95.0|      41.0|    67.0|    1333.0| 66.626686|  0.0|[0.0,1.0,138.0,17...|\n",
      "|   1.0|  1.0|59.540985|   11.0|       28.0|    303.0|      63.0|   113.0|    2071.0|  74.35852|  0.0|[1.0,1.0,59.54098...|\n",
      "|   0.0|  0.0|     46.0|   30.0|        5.0|     11.0|       7.0|     7.0|     208.0|  64.73887|  1.0|[0.0,0.0,46.0,30....|\n",
      "|   0.0|  1.0| 89.05882|   22.0|       22.0|    154.0|      47.0|    89.0|    1805.0|  60.10405|  1.0|[0.0,1.0,89.05882...|\n",
      "|   1.0|  1.0|    125.0|    3.0|        9.0|     72.0|      12.0|    33.0|     866.0| 71.424446|  0.0|[1.0,1.0,125.0,3....|\n",
      "|   0.0|  0.0| 23.88889|   21.0|        3.0|      9.0|       7.0|     7.0|     196.0|  87.46262|  0.0|[0.0,0.0,23.88888...|\n",
      "+------+-----+---------+-------+-----------+---------+----------+--------+----------+----------+-----+--------------------+\n",
      "only showing top 20 rows\n",
      "\n"
     ]
    }
   ],
   "source": [
    "feature_df.show()"
   ]
  },
  {
   "cell_type": "markdown",
   "metadata": {
    "pycharm": {
     "name": "#%% md\n"
    }
   },
   "source": [
    "### Standardization"
   ]
  },
  {
   "cell_type": "markdown",
   "metadata": {
    "pycharm": {
     "name": "#%% md\n"
    }
   },
   "source": [
    "Standardization is performed to prevent features with wider ranges from dominating the distance metric and values are shifted and rescaled so that they end up ranging between 0 and 1."
   ]
  },
  {
   "cell_type": "code",
   "execution_count": 207,
   "metadata": {
    "pycharm": {
     "name": "#%%\n"
    }
   },
   "outputs": [],
   "source": [
    "stand_scaler = StandardScaler(inputCol=\"vec_features\", outputCol=\"features\", withStd=True)"
   ]
  },
  {
   "cell_type": "code",
   "execution_count": 208,
   "metadata": {
    "pycharm": {
     "name": "#%%\n"
    }
   },
   "outputs": [],
   "source": [
    "scaler_model = stand_scaler.fit(feature_df)"
   ]
  },
  {
   "cell_type": "code",
   "execution_count": 209,
   "metadata": {
    "pycharm": {
     "name": "#%%\n"
    }
   },
   "outputs": [],
   "source": [
    "feature_df = scaler_model.transform(feature_df)"
   ]
  },
  {
   "cell_type": "code",
   "execution_count": 210,
   "metadata": {
    "pycharm": {
     "name": "#%%\n"
    }
   },
   "outputs": [
    {
     "data": {
      "text/plain": [
       "Row(gender=1.0, level=0.0, avg_song=39.28571319580078, roll-ad=52.0, thumbs_down=5.0, thumbs_up=17.0, add_friend=4.0, playlist=7.0, num_artist=253.0, days=55.64365768432617, label=0.0, vec_features=DenseVector([1.0, 0.0, 39.2857, 52.0, 5.0, 17.0, 4.0, 7.0, 253.0, 55.6437]), features=DenseVector([2.0013, 0.0, 0.9219, 2.413, 0.3823, 0.2596, 0.1943, 0.214, 0.4189, 1.4775]))"
      ]
     },
     "execution_count": 210,
     "metadata": {},
     "output_type": "execute_result"
    }
   ],
   "source": [
    "feature_df.head()"
   ]
  },
  {
   "cell_type": "markdown",
   "metadata": {
    "pycharm": {
     "name": "#%% md\n"
    }
   },
   "source": [
    "## Split the dataset into  Train, Test, Validation"
   ]
  },
  {
   "cell_type": "code",
   "execution_count": 216,
   "metadata": {
    "pycharm": {
     "name": "#%%\n"
    }
   },
   "outputs": [
    {
     "name": "stdout",
     "output_type": "stream",
     "text": [
      "+-----+-----+\n",
      "|label|count|\n",
      "+-----+-----+\n",
      "|  1.0|   52|\n",
      "|  0.0|  173|\n",
      "+-----+-----+\n",
      "\n"
     ]
    }
   ],
   "source": [
    "feature_df.groupby('label').count().show()"
   ]
  },
  {
   "cell_type": "markdown",
   "metadata": {
    "pycharm": {
     "name": "#%% md\n"
    }
   },
   "source": [
    "As per the standard ratio, we use a 60:20:20 split."
   ]
  },
  {
   "cell_type": "code",
   "execution_count": 217,
   "metadata": {
    "pycharm": {
     "name": "#%%\n"
    }
   },
   "outputs": [
    {
     "name": "stdout",
     "output_type": "stream",
     "text": [
      "training dataset: 130\n",
      "test dataset: 47\n",
      "validation dataset: 48\n"
     ]
    }
   ],
   "source": [
    "train, test, valid = feature_df.randomSplit([0.6, 0.2, 0.2], seed = 90)\n",
    "print(f\"training dataset: {train.count()}\")\n",
    "print(f\"test dataset: {test.count()}\")\n",
    "print(f\"validation dataset: {valid.count()}\")"
   ]
  },
  {
   "cell_type": "markdown",
   "metadata": {
    "pycharm": {
     "name": "#%% md\n"
    }
   },
   "source": [
    "# Modeling\n",
    "<a class=\"anchor\" id=\"model\"></a>\n",
    "\n",
    "After creating feature dataFrame and splitting the dataset into train, test, and validation sets. We will now apply different machine learning classification algorithms which are as below:\n",
    " - Logistic Regression\n",
    " - Random Forest Classifier\n",
    " - Gradient-Boosted tree Classifier\n",
    " - Linear SVM classifier\n",
    " - Naive Bayes classifier\n",
    " \n",
    "\n",
    "### Metrics\n",
    "We will evaluate the accuracy of the various models, tuning parameters as necessary. We will finally determine the vest model based on test accuracy and report results on the validation set. Since the churned users are a fairly small subset, we will use F1 score as the metric to optimize. F1 is a measure of the model's accuracy on a dataset and is used to evaluate binary classification systems."
   ]
  },
  {
   "cell_type": "markdown",
   "metadata": {
    "pycharm": {
     "name": "#%% md\n"
    }
   },
   "source": [
    "We can start modeling .For the model with the best F-1 score, accuracy and time, we'll fine-tune the model."
   ]
  },
  {
   "cell_type": "code",
   "execution_count": 218,
   "metadata": {
    "pycharm": {
     "name": "#%%\n"
    }
   },
   "outputs": [],
   "source": [
    "# various models\n",
    "log_reg = LogisticRegression(featuresCol = 'features', labelCol = 'label', maxIter=10)\n",
    "ran_for = RandomForestClassifier(featuresCol = 'features', labelCol = 'label', seed=90)\n",
    "gb_tree = GBTClassifier(featuresCol = 'features', labelCol = 'label', maxIter=10, seed=90)\n",
    "nb = NaiveBayes(featuresCol = 'features', labelCol = 'label')"
   ]
  },
  {
   "cell_type": "code",
   "execution_count": 219,
   "metadata": {
    "pycharm": {
     "name": "#%%\n"
    }
   },
   "outputs": [],
   "source": [
    "# multiclass classification evaluator to get the F1 score\n",
    "evaluator = MulticlassClassificationEvaluator(labelCol = 'label', predictionCol='prediction')"
   ]
  },
  {
   "cell_type": "code",
   "execution_count": 220,
   "metadata": {
    "pycharm": {
     "name": "#%%\n"
    }
   },
   "outputs": [
    {
     "name": "stdout",
     "output_type": "stream",
     "text": [
      "LogisticRegression training started...\n",
      "LogisticRegression training ended.\n",
      "training time for LogisticRegression : 91.3670654296875 sec\n",
      "LogisticRegression prediction starts\n",
      "LogisticRegression prediction ended\n",
      "F1 score for LogisticRegression is: 0.7708333333333334\n",
      "The accuracy of the LogisticRegression model is: 0.7916666666666666\n",
      "\n",
      "RandomForestClassifier training started...\n",
      "RandomForestClassifier training ended.\n",
      "training time for RandomForestClassifier : 150.11567878723145 sec\n",
      "RandomForestClassifier prediction starts\n",
      "RandomForestClassifier prediction ended\n",
      "F1 score for RandomForestClassifier is: 0.6791666666666666\n",
      "The accuracy of the RandomForestClassifier model is: 0.7083333333333334\n",
      "\n",
      "GBTClassifier training started...\n",
      "GBTClassifier training ended.\n",
      "training time for GBTClassifier : 218.40079832077026 sec\n",
      "GBTClassifier prediction starts\n",
      "GBTClassifier prediction ended\n",
      "F1 score for GBTClassifier is: 0.6089743589743589\n",
      "The accuracy of the GBTClassifier model is: 0.625\n",
      "\n",
      "NaiveBayes training started...\n",
      "NaiveBayes training ended.\n",
      "training time for NaiveBayes : 102.53151154518127 sec\n",
      "NaiveBayes prediction starts\n",
      "NaiveBayes prediction ended\n",
      "F1 score for NaiveBayes is: 0.6996124031007752\n",
      "The accuracy of the NaiveBayes model is: 0.7916666666666666\n",
      "\n"
     ]
    }
   ],
   "source": [
    "# interate over all the models\n",
    "for model in [log_reg, ran_for, gb_tree, nb]:\n",
    "    #model name \n",
    "    model_name = model.__class__.__name__\n",
    "    \n",
    "    print(model_name, 'training started...')\n",
    "    \n",
    "    # start time\n",
    "    start = time.time()\n",
    "    \n",
    "    # fit the model\n",
    "    model = model.fit(train)\n",
    "    \n",
    "    # end time\n",
    "    end = time.time()\n",
    "     \n",
    "    # print training ended\n",
    "    print(model_name, 'training ended.')\n",
    "    \n",
    "    # training time\n",
    "    print(f'training time for {model_name} : {end-start} sec')\n",
    "    \n",
    "    # predict\n",
    "    print(model_name, 'prediction starts')\n",
    "    predictions = model.transform(valid)\n",
    "    print(model_name, 'prediction ended')\n",
    "    \n",
    "    print(f'F1 score for {model_name} is: {evaluator.evaluate(predictions, {evaluator.metricName: \"f1\"})}')\n",
    "    # accuracy\n",
    "    accuracy = predictions.filter(predictions.label == predictions.prediction).count() / (predictions.count())\n",
    "    print(f\"The accuracy of the {model_name} model is: {accuracy}\\n\")"
   ]
  },
  {
   "cell_type": "markdown",
   "metadata": {
    "pycharm": {
     "name": "#%% md\n"
    }
   },
   "source": [
    "As we can see that the logistic regression classifier model is by far the best in all aspect, training time, F1 score and also the accuracy. So we pick the logistic regression algorithm to further fine tune it."
   ]
  },
  {
   "cell_type": "markdown",
   "metadata": {
    "pycharm": {
     "name": "#%% md\n"
    }
   },
   "source": [
    "## Model Tuning for Best Models:"
   ]
  },
  {
   "cell_type": "markdown",
   "metadata": {
    "pycharm": {
     "name": "#%% md\n"
    }
   },
   "source": [
    "### LogisticRegression"
   ]
  },
  {
   "cell_type": "code",
   "execution_count": 221,
   "metadata": {
    "pycharm": {
     "name": "#%%\n"
    }
   },
   "outputs": [
    {
     "name": "stdout",
     "output_type": "stream",
     "text": [
      "aggregationDepth: suggested depth for treeAggregate (>= 2). (default: 2)\n",
      "elasticNetParam: the ElasticNet mixing parameter, in range [0, 1]. For alpha = 0, the penalty is an L2 penalty. For alpha = 1, it is an L1 penalty. (default: 0.0)\n",
      "family: The name of family which is a description of the label distribution to be used in the model. Supported options: auto, binomial, multinomial (default: auto)\n",
      "featuresCol: features column name. (default: features, current: features)\n",
      "fitIntercept: whether to fit an intercept term. (default: True)\n",
      "labelCol: label column name. (default: label, current: label)\n",
      "lowerBoundsOnCoefficients: The lower bounds on coefficients if fitting under bound constrained optimization. The bound matrix must be compatible with the shape (1, number of features) for binomial regression, or (number of classes, number of features) for multinomial regression. (undefined)\n",
      "lowerBoundsOnIntercepts: The lower bounds on intercepts if fitting under bound constrained optimization. The bounds vector size must beequal with 1 for binomial regression, or the number oflasses for multinomial regression. (undefined)\n",
      "maxIter: max number of iterations (>= 0). (default: 100, current: 10)\n",
      "predictionCol: prediction column name. (default: prediction)\n",
      "probabilityCol: Column name for predicted class conditional probabilities. Note: Not all models output well-calibrated probability estimates! These probabilities should be treated as confidences, not precise probabilities. (default: probability)\n",
      "rawPredictionCol: raw prediction (a.k.a. confidence) column name. (default: rawPrediction)\n",
      "regParam: regularization parameter (>= 0). (default: 0.0)\n",
      "standardization: whether to standardize the training features before fitting the model. (default: True)\n",
      "threshold: Threshold in binary classification prediction, in range [0, 1]. If threshold and thresholds are both set, they must match.e.g. if threshold is p, then thresholds must be equal to [1-p, p]. (default: 0.5)\n",
      "thresholds: Thresholds in multi-class classification to adjust the probability of predicting each class. Array must have length equal to the number of classes, with values > 0, excepting that at most one value may be 0. The class with largest value p/t is predicted, where p is the original probability of that class and t is the class's threshold. (undefined)\n",
      "tol: the convergence tolerance for iterative algorithms (>= 0). (default: 1e-06)\n",
      "upperBoundsOnCoefficients: The upper bounds on coefficients if fitting under bound constrained optimization. The bound matrix must be compatible with the shape (1, number of features) for binomial regression, or (number of classes, number of features) for multinomial regression. (undefined)\n",
      "upperBoundsOnIntercepts: The upper bounds on intercepts if fitting under bound constrained optimization. The bound vector size must be equal with 1 for binomial regression, or the number of classes for multinomial regression. (undefined)\n",
      "weightCol: weight column name. If this is not set or empty, we treat all instance weights as 1.0. (undefined)\n"
     ]
    }
   ],
   "source": [
    "# tunable parameters\n",
    "print(log_reg.explainParams())"
   ]
  },
  {
   "cell_type": "markdown",
   "metadata": {
    "pycharm": {
     "name": "#%% md\n"
    }
   },
   "source": [
    "## Parameters\n",
    "\n",
    "Let's tune the LR model upon theses parameters. \n",
    "- **maxIter**:  max number of iterations (>= 0). (default: 100, current: 10).\n",
    "- **regParam**: regularization parameter (>= 0). (default: 0.0).\n"
   ]
  },
  {
   "cell_type": "code",
   "execution_count": 222,
   "metadata": {
    "pycharm": {
     "name": "#%%\n"
    }
   },
   "outputs": [],
   "source": [
    "param_grid = ParamGridBuilder() \\\n",
    "    .addGrid(log_reg.maxIter,[10, 20, 50]) \\\n",
    "    .addGrid(log_reg.regParam,[0.0, 0.2, 0.3]) \\\n",
    "    .build()\n",
    "\n",
    "\n",
    "crossval = CrossValidator(estimator=log_reg,\n",
    "                          estimatorParamMaps=param_grid,\n",
    "                          evaluator=MulticlassClassificationEvaluator(metricName = \"f1\"),\n",
    "                          numFolds=3)"
   ]
  },
  {
   "cell_type": "code",
   "execution_count": 223,
   "metadata": {
    "pycharm": {
     "name": "#%%\n"
    }
   },
   "outputs": [
    {
     "name": "stdout",
     "output_type": "stream",
     "text": [
      "CPU times: user 19.5 s, sys: 5.4 s, total: 24.9 s\n",
      "Wall time: 30min 50s\n"
     ]
    }
   ],
   "source": [
    "%%time\n",
    "cvModel = crossval.fit(train)"
   ]
  },
  {
   "cell_type": "code",
   "execution_count": 224,
   "metadata": {
    "pycharm": {
     "name": "#%%\n"
    }
   },
   "outputs": [
    {
     "data": {
      "text/plain": [
       "[0.770887296928774,\n",
       " 0.6552063280124997,\n",
       " 0.6552063280124997,\n",
       " 0.7569047380731323,\n",
       " 0.6552063280124997,\n",
       " 0.6552063280124997,\n",
       " 0.7488702485571613,\n",
       " 0.6552063280124997,\n",
       " 0.6552063280124997]"
      ]
     },
     "execution_count": 224,
     "metadata": {},
     "output_type": "execute_result"
    }
   ],
   "source": [
    "cvModel.avgMetrics"
   ]
  },
  {
   "cell_type": "markdown",
   "metadata": {
    "pycharm": {
     "name": "#%% md\n"
    }
   },
   "source": [
    "### Best Model Performance:"
   ]
  },
  {
   "cell_type": "code",
   "execution_count": 225,
   "metadata": {
    "pycharm": {
     "name": "#%%\n"
    }
   },
   "outputs": [],
   "source": [
    "final_result = cvModel.transform(valid)"
   ]
  },
  {
   "cell_type": "code",
   "execution_count": 226,
   "metadata": {
    "pycharm": {
     "name": "#%%\n"
    }
   },
   "outputs": [],
   "source": [
    "accuracy = final_result.filter(final_result.label == final_result.prediction).count() / (final_result.count())"
   ]
  },
  {
   "cell_type": "code",
   "execution_count": 227,
   "metadata": {
    "pycharm": {
     "name": "#%%\n"
    }
   },
   "outputs": [],
   "source": [
    "best_model = cvModel.bestModel"
   ]
  },
  {
   "cell_type": "code",
   "execution_count": 229,
   "metadata": {
    "pycharm": {
     "name": "#%%\n"
    }
   },
   "outputs": [
    {
     "name": "stdout",
     "output_type": "stream",
     "text": [
      "the Best Parameter (maxIter): 10\n",
      "the Best Parameter (regParam): 0.0\n"
     ]
    }
   ],
   "source": [
    "print (f\"the Best Parameter (maxIter): {best_model._java_obj.getMaxIter()}\")\n",
    "print (f\"the Best Parameter (regParam): { best_model._java_obj.getRegParam()}\")"
   ]
  },
  {
   "cell_type": "code",
   "execution_count": 230,
   "metadata": {
    "pycharm": {
     "name": "#%%\n"
    }
   },
   "outputs": [
    {
     "name": "stdout",
     "output_type": "stream",
     "text": [
      "the F1 for the best model : 0.6996124031007752\n"
     ]
    }
   ],
   "source": [
    "print(f'the F1 for the best model : {evaluator.evaluate(predictions, {evaluator.metricName: \"f1\"})}')"
   ]
  },
  {
   "cell_type": "code",
   "execution_count": 231,
   "metadata": {
    "pycharm": {
     "name": "#%%\n"
    }
   },
   "outputs": [
    {
     "name": "stdout",
     "output_type": "stream",
     "text": [
      "Accuracy for our best model is: 0.7916666666666666\n"
     ]
    }
   ],
   "source": [
    "print(f'Accuracy for our best model is: {evaluator.evaluate(predictions, {evaluator.metricName: \"accuracy\"})}')"
   ]
  },
  {
   "cell_type": "markdown",
   "metadata": {
    "pycharm": {
     "name": "#%% md\n"
    }
   },
   "source": [
    "# Conclusions\n",
    "<a class=\"anchor\" id=\"con\"></a>"
   ]
  },
  {
   "cell_type": "markdown",
   "metadata": {
    "pycharm": {
     "name": "#%% md\n"
    }
   },
   "source": [
    "We've started this project on a small dataset of 128MB and 225 unique customers. After performing EDA which includes loading and cleaning the data and deriving the useful features from the dataset so that with these derived features we can precisely make the prediction about whether the user is likely to churn or not. Then we preprocessed these and used the features with many machine learning algorithms.\n",
    "\n",
    "### Impact on Business :\n",
    "\n",
    "Now, Sparkify can use this algorithm to reach out to those customers who are at the brink of churn and offer them some attractive incentives to keep using the platform, thus saving and increasing Sparkify's revenue and getting the customer a nice deal. Since we found that newer customers are more likely to churn, we could target them with a nice free trial of the premium service without those pesky ads! Sparkify could also work on a music recommendation system so they can recommend songs that users will enjoy more and thumbs down less.\n"
   ]
  },
  {
   "cell_type": "markdown",
   "metadata": {
    "pycharm": {
     "name": "#%% md\n"
    }
   },
   "source": [
    "## References"
   ]
  },
  {
   "cell_type": "markdown",
   "metadata": {
    "pycharm": {
     "name": "#%% md\n"
    }
   },
   "source": [
    "https://stackoverflow.com/questions/21702342/creating-a-new-column-based-on-if-elif-else-condition   https://sparkbyexamples.com/pyspark/pyspark-sparkcontext-explained/\n",
    "https://sparkbyexamples.com/pyspark/pyspark-what-is-sparksession/\n",
    "https://stackoverflow.com/questions/46921465/extract-substring-from-text-in-a-pandas-dataframe-as-new-column     \n",
    "https://developers.whatismybrowser.com/useragents/explore/layout_engine_name/trident/     \n",
    "https://sparkbyexamples.com/pyspark/pyspark-when-otherwise/     \n",
    "https://stackoverflow.com/questions/52943627/convert-a-pandas-dataframe-to-a-pyspark-dataframe     \n",
    "https://stackoverflow.com/questions/29600673/how-to-delete-columns-in-pyspark-dataframe      \n",
    "https://stackoverflow.com/questions/48738354/having-troubles-joining-3-dataframes-pyspark     \n",
    "https://stackoverflow.com/questions/59886143/spark-dataframe-how-to-keep-only-latest-record-for-each-group-based-on-id-and    \n",
    "https://stackoverflow.com/questions/46956026/how-to-convert-column-with-string-type-to-int-form-in-pyspark-data-frame    \n",
    "https://sparkbyexamples.com/pyspark-rdd\n",
    "https://spark.apache.org/docs/latest/api/python/    \n",
    "https://sparkbyexamples.com/pyspark/pyspark-udf-user-defined-function/\n",
    "https://towardsdatascience.com/machine-learning-with-pyspark-and-mllib-solving-a-binary-classification-problem-96396065d2aa     \n",
    "https://spark.apache.org/docs/latest/ml-classification-regression.html#logistic-regression     \n",
    "https://stackoverflow.com/questions/60772315/how-to-evaluate-a-classifier-with-apache-spark-2-4-5-and-pyspark-python    \n",
    "https://spark.apache.org/docs/latest/api/python/getting_started/quickstart_df.html\n",
    "https://sparkbyexamples.com/pyspark/pyspark-where-filter/\n",
    "https://spark.apache.org/docs/2.2.0/ml-classification-regression.html    \n",
    "https://scikit-learn.org/stable/modules/generated/sklearn.preprocessing.StandardScaler.html      \n",
    "https://stackoverflow.com/questions/32565829/simple-way-to-measure-cell-execution-time-in-ipython-notebook     \n",
    "https://sparkbyexamples.com/pyspark/pyspark-rename-dataframe-column/\n",
    "https://www.silect.is/blog/random-forest-models-in-spark-ml/     \n",
    "https://spark.apache.org/docs/latest/api/python/reference/api/pyspark.ml.evaluation.MulticlassClassificationEvaluator.html"
   ]
  },
  {
   "cell_type": "code",
   "execution_count": null,
   "metadata": {
    "pycharm": {
     "name": "#%%\n"
    }
   },
   "outputs": [],
   "source": []
  }
 ],
 "metadata": {
  "kernelspec": {
   "display_name": "Python 3",
   "language": "python",
   "name": "python3"
  },
  "language_info": {
   "codemirror_mode": {
    "name": "ipython",
    "version": 3
   },
   "file_extension": ".py",
   "mimetype": "text/x-python",
   "name": "python",
   "nbconvert_exporter": "python",
   "pygments_lexer": "ipython3",
   "version": "3.6.3"
  }
 },
 "nbformat": 4,
 "nbformat_minor": 2
}
